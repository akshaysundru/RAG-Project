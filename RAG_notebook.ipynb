{
 "cells": [
  {
   "cell_type": "markdown",
   "id": "23ebaf35",
   "metadata": {},
   "source": [
    "# Basic RAG Pipeline Modularised\n",
    "\n",
    "This notebook contains a modularised version of the codecamp tutorial code, contained under one callable function that starts the model."
   ]
  },
  {
   "cell_type": "code",
   "execution_count": 1,
   "id": "9eb2f1e4",
   "metadata": {},
   "outputs": [],
   "source": [
    "from langchain_community.document_loaders import PyPDFLoader\n",
    "from langchain.text_splitter import RecursiveCharacterTextSplitter\n",
    "from langchain_huggingface import HuggingFaceEmbeddings\n",
    "from langchain_ollama import OllamaLLM\n",
    "import faiss\n",
    "from langchain_community.docstore.in_memory import InMemoryDocstore\n",
    "from langchain_community.vectorstores import FAISS\n",
    "from langchain.prompts import PromptTemplate\n",
    "import os\n",
    "import numpy as np\n",
    "from langchain_community.retrievers import BM25Retriever\n",
    "from langchain.retrievers import EnsembleRetriever"
   ]
  },
  {
   "cell_type": "code",
   "execution_count": 77,
   "id": "4552afa4",
   "metadata": {},
   "outputs": [],
   "source": [
    "from chat_memory import InSessionMemoryHistory, ChatHistory\n",
    "from datetime import datetime\n",
    "import uuid\n",
    "from langchain.chains import create_history_aware_retriever, create_retrieval_chain\n",
    "from langchain_core.prompts import ChatPromptTemplate, MessagesPlaceholder\n",
    "from langchain.chains.combine_documents import create_stuff_documents_chain\n",
    "from langchain_core.chat_history import BaseChatMessageHistory\n",
    "from langchain_core.runnables.history import RunnableWithMessageHistory\n",
    "from langchain_core.messages import HumanMessage, AIMessage\n",
    "import sqlite3"
   ]
  },
  {
   "cell_type": "code",
   "execution_count": 75,
   "id": "4d1645cb",
   "metadata": {},
   "outputs": [],
   "source": [
    "MODEL_NAME = \"llama3.2\"\n",
    "llm = OllamaLLM(model= MODEL_NAME)\n",
    "DB_PATH = \"sessionstorage.db\""
   ]
  },
  {
   "cell_type": "markdown",
   "id": "42ae6a67",
   "metadata": {},
   "source": [
    "I have created a function to start a model, this will be updated to include our vector store of embedded data when the model is started."
   ]
  },
  {
   "cell_type": "code",
   "execution_count": 4,
   "id": "d7f8c318",
   "metadata": {},
   "outputs": [],
   "source": [
    "def load_docs():\n",
    "    \n",
    "    document_loader = []\n",
    "\n",
    "    for root, dirs, files in os.walk(\".\"):\n",
    "        # Skip chroma_db folder\n",
    "        if \"faiss\" in root or \"git\" in root:\n",
    "            continue\n",
    "        for file in files:\n",
    "            if file.endswith(\".pdf\"):\n",
    "                document_loader.append(file)\n",
    "\n",
    "    return document_loader"
   ]
  },
  {
   "cell_type": "code",
   "execution_count": 5,
   "id": "afcce31a",
   "metadata": {},
   "outputs": [
    {
     "data": {
      "text/plain": [
       "['ENSC3016_Course_Notes_Part_1_Electromagnetism_Transformers.pdf',\n",
       " 'ENSC3016_Course_Notes_Part_2_Electric_Machines.pdf',\n",
       " 'Electric Machinery Fundamentals Textbook -- Chapman.pdf',\n",
       " 'ENSC3016 Study Guide 1-Review of Circuit Fundamentals.pdf',\n",
       " 'Three Phase Power System Fundamentals.pdf']"
      ]
     },
     "execution_count": 5,
     "metadata": {},
     "output_type": "execute_result"
    }
   ],
   "source": [
    "document_loader = load_docs()\n",
    "document_loader"
   ]
  },
  {
   "cell_type": "code",
   "execution_count": 6,
   "id": "f56235b4",
   "metadata": {},
   "outputs": [],
   "source": [
    "embedding_model =\"sentence-transformers/all-MiniLM-L6-v2\" #embedding matrix model\n",
    "\n",
    "def embed_splitting(document_loader, embedding_model):\n",
    "    embeddings = HuggingFaceEmbeddings(model = embedding_model, encode_kwargs={'normalize_embeddings': True})\n",
    "\n",
    "    doc_store = []\n",
    "    for file in document_loader:\n",
    "        loader = PyPDFLoader(file)\n",
    "        doc = loader.load()\n",
    "        doc_store += doc\n",
    "\n",
    "    text_splitter = RecursiveCharacterTextSplitter.from_tiktoken_encoder(\n",
    "        chunk_size = 400,\n",
    "        chunk_overlap = 64\n",
    "        )\n",
    "    \n",
    "    #Make splits\n",
    "    splits = text_splitter.split_documents(doc_store)\n",
    "\n",
    "    return embeddings, splits\n"
   ]
  },
  {
   "cell_type": "code",
   "execution_count": 7,
   "id": "cb6b167b",
   "metadata": {},
   "outputs": [],
   "source": [
    "embeddings, splits = embed_splitting(document_loader, embedding_model)"
   ]
  },
  {
   "cell_type": "code",
   "execution_count": 8,
   "id": "2932919d",
   "metadata": {},
   "outputs": [
    {
     "data": {
      "text/plain": [
       "HuggingFaceEmbeddings(model_name='sentence-transformers/all-MiniLM-L6-v2', cache_folder=None, model_kwargs={}, encode_kwargs={'normalize_embeddings': True}, query_encode_kwargs={}, multi_process=False, show_progress=False)"
      ]
     },
     "execution_count": 8,
     "metadata": {},
     "output_type": "execute_result"
    }
   ],
   "source": [
    "embeddings"
   ]
  },
  {
   "cell_type": "code",
   "execution_count": 9,
   "id": "fc7a4dc3",
   "metadata": {},
   "outputs": [
    {
     "data": {
      "text/plain": [
       "402"
      ]
     },
     "execution_count": 9,
     "metadata": {},
     "output_type": "execute_result"
    }
   ],
   "source": [
    "len(splits)"
   ]
  },
  {
   "cell_type": "code",
   "execution_count": 10,
   "id": "f8fff133",
   "metadata": {},
   "outputs": [],
   "source": [
    "def cosine_similarity(input):\n",
    "\n",
    "    input_vec = embeddings.embed_query(input)\n",
    "    texts = [doc.page_content for doc in splits]\n",
    "    vectors = embeddings.embed_documents(texts)\n",
    "\n",
    "    mag_ivec = np.linalg.norm(input_vec)\n",
    "\n",
    "    dot_product = []\n",
    "    mag_ovec = []\n",
    "\n",
    "    for context_vec in vectors:\n",
    "        dot_product.append(np.dot(input_vec, context_vec))\n",
    "        mag_ovec.append(np.linalg.norm(context_vec))\n",
    "\n",
    "    cos_sim = []\n",
    "    for i in range(len(mag_ovec)):\n",
    "        mag_ovec[i] *= mag_ivec\n",
    "        cos_sim.append(dot_product[i]/mag_ovec[i])\n",
    "\n",
    "    cossim_sort = list(enumerate(cos_sim))\n",
    "    cossim_sort.sort(key=lambda x: x[1], reverse=True)\n",
    "\n",
    "    return cossim_sort\n"
   ]
  },
  {
   "cell_type": "code",
   "execution_count": 11,
   "id": "185c93ae",
   "metadata": {},
   "outputs": [
    {
     "name": "stdout",
     "output_type": "stream",
     "text": [
      "[(106, 0.5388659022778391), (104, 0.500932552907889), (108, 0.4869626486402548), (115, 0.4810365954142485), (144, 0.4785985428899976)]\n"
     ]
    }
   ],
   "source": [
    "cossim_sort = cosine_similarity(\"Explain transformers\")\n",
    "print(cossim_sort[:5])"
   ]
  },
  {
   "cell_type": "code",
   "execution_count": 12,
   "id": "42c79aa4",
   "metadata": {},
   "outputs": [
    {
     "name": "stdout",
     "output_type": "stream",
     "text": [
      "The number 1 document is the 106 chunk, and reads the following: \n",
      "\n",
      "Transformer 52 \n",
      " \n",
      " \n",
      " \n",
      "   Figure 6-3 Shell-type transformers. \n",
      " \n",
      " \n",
      " \n",
      "Figure 6-4 Flux plot: shell-type transformer \n",
      " \n",
      " \n",
      "Toroidal transformers exploit the remarkable properties of toroidal coils described in section 3.6. \n",
      "Although they are more expensive than shell-type transformers, the performance is better. They are used \n",
      "in high -quality electronic equipment and for instrument transformers (see section 6.3) where \n",
      "measurement accuracy is important. Typical toroidal transformers are shown in figure 6-5. \n",
      " \n",
      "Figure 6-5 Toroidal transformers.\n",
      " \n",
      " \n",
      " \n",
      "6.2 Transformer Principle: \n",
      "The action of a transformer is most easily understood if the two coils are wound on opposite sides of a \n",
      "magnetic core, as shown in the model of figure 6 -6. This form is used for some low -cost transformers, \n",
      "but the magnetic coupling is not as good as with the shell-type construction. \n",
      " \n",
      " \n",
      "Figure 6-6  Core-type transformer \n",
      " \n",
      " \n",
      " \n",
      "Figure 6 -7 is a schematic representation of the transformer. It will be assumed that the coupling is \n",
      "perfect: the same magnetic flux  passes through each turn of each coil. The coil connected to the source \n",
      "is termed the primary, and the coil connected to the load is termed the secondary. It is usual to refer to \n",
      "the coils as windings.\n",
      "\n",
      "The number 2 document is the 104 chunk, and reads the following: \n",
      "\n",
      "51 Electrical Machines and Systems                                                                                                            \n",
      " \n",
      "6 Transformer \n",
      "6.1 Introduction: \n",
      "A transformer is a practical application of magnetically coupled coils. Usually the purpose is to transfer \n",
      "energy from one coil to the other, as in figure 6-1 where energy is transferred from the AC source to the \n",
      "lamp through the space between the coils. \n",
      " \n",
      "Figure 6-1 Transformer principle \n",
      "Transformers are essentially AC devices, because there has to be a change of flux to give an induced \n",
      "voltage in a coil. There are two main reasons for transferring energy in this way: \n",
      " To provide electrical isolation between the source and the load. \n",
      " To change the voltage and current levels. \n",
      "The coils are usually placed on a common magnetic core to improve the coupling. Figure 6-2 shows the \n",
      "flux plots for two coupled coils (a) without a core, (b) with an open core, (c) with a closed core \n",
      " \n",
      "Figure 6-2 Effect of a magnetic core: \n",
      "6.1.2 Practical aspects: \n",
      "The cores for high -frequency transformers are often made from magnetically soft ferrites, which are \n",
      "electrical insulators. For power frequencies, the cores are made from an iron alloy such as silicon steel.\n",
      "\n",
      "The number 3 document is the 108 chunk, and reads the following: \n",
      "\n",
      "𝑑𝜙\n",
      "𝑑𝑡        (6 − 3) \n",
      "𝑣2 = 𝑅2𝑖2 + 𝑁2\n",
      "𝑑𝜙\n",
      "𝑑𝑡                               (6 − 4) \n",
      "The sign difference arises from the reference directions for current in the two windings. \n",
      "If the resistances R1 and R2 are negligible, then equations 6-3 and 6-4 become: \n",
      "𝑣1 ≈ 𝑁1\n",
      "𝑑𝜙\n",
      "𝑑𝑡          (6 − 5) \n",
      "𝑣2 ≈ 𝑁2\n",
      "𝑑𝜙\n",
      "𝑑𝑡         (6 − 6) \n",
      "Dividing these equations gives the important result: \n",
      "𝑣1\n",
      "𝑣2\n",
      "≈ 𝑁1\n",
      "𝑁2\n",
      "        (6 − 7) \n",
      "Thus, the secondary voltage can be made larger or smaller than the primary voltage by changing the \n",
      "ratio of the numbers of turns on the two windings. Voltage transformation is one of the most common \n",
      "uses of transformers, on a large scale in electrical power transmission and distribution, and on a small \n",
      "scale in the power supplies for electronic equipment. \n",
      "6.2.2 Sinusoidal operation: \n",
      "If the voltage source is sinusoidal, then the core flux will also be sinusoidal, so we may put:\n",
      "\n"
     ]
    }
   ],
   "source": [
    "i = 0\n",
    "while i < 3:\n",
    "    print(f\"The number {i+1} document is the {cossim_sort[i][0]} chunk, and reads the following: \\n\\n{splits[cossim_sort[i][0]].page_content}\\n\")\n",
    "    i += 1"
   ]
  },
  {
   "cell_type": "code",
   "execution_count": 13,
   "id": "76ee2d15",
   "metadata": {},
   "outputs": [
    {
     "name": "stdout",
     "output_type": "stream",
     "text": [
      "Loading FAISS index from disk...\n"
     ]
    }
   ],
   "source": [
    "dim = len(embeddings.embed_query(\"test sentence\"))\n",
    "index = faiss.IndexFlatL2(dim)\n",
    "\n",
    "if os.path.exists(\"faiss_index\"):\n",
    "    print(\"Loading FAISS index from disk...\")\n",
    "    vector_store = FAISS.load_local(\"faiss_index\", embeddings=embeddings, allow_dangerous_deserialization=True)\n",
    "else:\n",
    "    print(\"Building FAISS index from scratch...\")\n",
    "    dim = len(embeddings.embed_query(\"test sentence\"))\n",
    "    index = faiss.IndexFlatL2(dim)\n",
    "    vector_store = FAISS(\n",
    "        embedding_function=embeddings,\n",
    "        index=index,\n",
    "        docstore=InMemoryDocstore(),\n",
    "        index_to_docstore_id={},\n",
    "    )\n",
    "    vector_store.add_documents(splits)\n",
    "    vector_store.save_local(\"faiss_index\")"
   ]
  },
  {
   "cell_type": "code",
   "execution_count": 14,
   "id": "4dedad5b",
   "metadata": {},
   "outputs": [],
   "source": [
    "# create the retriever object once\n",
    "semantic_retriever = vector_store.as_retriever(search_kwargs={'k': 4})\n",
    "\n",
    "# define your function to query it\n",
    "def semantic_search(retriever_obj, input_context: str):\n",
    "    return retriever_obj.invoke(input_context)\n",
    "\n",
    "# call the function with retriever and query string\n",
    "results = semantic_search(semantic_retriever, \"Explain transformers\")"
   ]
  },
  {
   "cell_type": "code",
   "execution_count": 15,
   "id": "9af291a6",
   "metadata": {},
   "outputs": [
    {
     "data": {
      "text/plain": [
       "VectorStoreRetriever(tags=['FAISS', 'HuggingFaceEmbeddings'], vectorstore=<langchain_community.vectorstores.faiss.FAISS object at 0x31032cbd0>, search_kwargs={'k': 4})"
      ]
     },
     "execution_count": 15,
     "metadata": {},
     "output_type": "execute_result"
    }
   ],
   "source": [
    "semantic_retriever"
   ]
  },
  {
   "cell_type": "code",
   "execution_count": 16,
   "id": "10049fde",
   "metadata": {},
   "outputs": [
    {
     "data": {
      "text/plain": [
       "[Document(id='78c4065f-9450-4b15-b158-c366692f3a31', metadata={'producer': 'Microsoft® Word 2013', 'creator': 'Microsoft® Word 2013', 'creationdate': '2019-07-27T15:04:48+08:00', 'author': 'Ali Kharrazi', 'moddate': '2019-07-27T15:04:48+08:00', 'source': 'ENSC3016_Course_Notes_Part_1_Electromagnetism_Transformers.pdf', 'total_pages': 76, 'page': 51, 'page_label': '52'}, page_content='Transformer 52 \\n \\n \\n \\n   Figure 6-3 Shell-type transformers. \\n \\n \\n \\nFigure 6-4 Flux plot: shell-type transformer \\n \\n \\nToroidal transformers exploit the remarkable properties of toroidal coils described in section 3.6. \\nAlthough they are more expensive than shell-type transformers, the performance is better. They are used \\nin high -quality electronic equipment and for instrument transformers (see section 6.3) where \\nmeasurement accuracy is important. Typical toroidal transformers are shown in figure 6-5. \\n \\nFigure 6-5 Toroidal transformers.\\uf020\\n \\n \\n \\n6.2 Transformer Principle: \\nThe action of a transformer is most easily understood if the two coils are wound on opposite sides of a \\nmagnetic core, as shown in the model of figure 6 -6. This form is used for some low -cost transformers, \\nbut the magnetic coupling is not as good as with the shell-type construction. \\n \\n \\nFigure 6-6  Core-type transformer \\n \\n \\n \\nFigure 6 -7 is a schematic representation of the transformer. It will be assumed that the coupling is \\nperfect: the same magnetic flux \\uf066 passes through each turn of each coil. The coil connected to the source \\nis termed the primary, and the coil connected to the load is termed the secondary. It is usual to refer to \\nthe coils as windings.'),\n",
       " Document(id='b2da4223-8d3a-4a96-b509-ad6f7d8b6e28', metadata={'producer': 'Microsoft® Word 2013', 'creator': 'Microsoft® Word 2013', 'creationdate': '2019-07-27T15:04:48+08:00', 'author': 'Ali Kharrazi', 'moddate': '2019-07-27T15:04:48+08:00', 'source': 'ENSC3016_Course_Notes_Part_1_Electromagnetism_Transformers.pdf', 'total_pages': 76, 'page': 50, 'page_label': '51'}, page_content='51 Electrical Machines and Systems                                                                                                            \\n \\n6 Transformer \\n6.1 Introduction: \\nA transformer is a practical application of magnetically coupled coils. Usually the purpose is to transfer \\nenergy from one coil to the other, as in figure 6-1 where energy is transferred from the AC source to the \\nlamp through the space between the coils. \\n \\nFigure 6-1 Transformer principle \\nTransformers are essentially AC devices, because there has to be a change of flux to give an induced \\nvoltage in a coil. There are two main reasons for transferring energy in this way: \\n\\uf0b7 To provide electrical isolation between the source and the load. \\n\\uf0b7 To change the voltage and current levels. \\nThe coils are usually placed on a common magnetic core to improve the coupling. Figure 6-2 shows the \\nflux plots for two coupled coils (a) without a core, (b) with an open core, (c) with a closed core \\n \\nFigure 6-2 Effect of a magnetic core: \\n6.1.2 Practical aspects: \\nThe cores for high -frequency transformers are often made from magnetically soft ferrites, which are \\nelectrical insulators. For power frequencies, the cores are made from an iron alloy such as silicon steel.'),\n",
       " Document(id='0d31b3a9-e37a-4b27-b49c-09046a8fb804', metadata={'producer': 'Microsoft® Word 2013', 'creator': 'Microsoft® Word 2013', 'creationdate': '2019-07-27T15:04:48+08:00', 'author': 'Ali Kharrazi', 'moddate': '2019-07-27T15:04:48+08:00', 'source': 'ENSC3016_Course_Notes_Part_1_Electromagnetism_Transformers.pdf', 'total_pages': 76, 'page': 52, 'page_label': '53'}, page_content='𝑑𝜙\\n𝑑𝑡        (6 − 3) \\n𝑣2 = 𝑅2𝑖2 + 𝑁2\\n𝑑𝜙\\n𝑑𝑡                               (6 − 4) \\nThe sign difference arises from the reference directions for current in the two windings. \\nIf the resistances R1 and R2 are negligible, then equations 6-3 and 6-4 become: \\n𝑣1 ≈ 𝑁1\\n𝑑𝜙\\n𝑑𝑡          (6 − 5) \\n𝑣2 ≈ 𝑁2\\n𝑑𝜙\\n𝑑𝑡         (6 − 6) \\nDividing these equations gives the important result: \\n𝑣1\\n𝑣2\\n≈ 𝑁1\\n𝑁2\\n        (6 − 7) \\nThus, the secondary voltage can be made larger or smaller than the primary voltage by changing the \\nratio of the numbers of turns on the two windings. Voltage transformation is one of the most common \\nuses of transformers, on a large scale in electrical power transmission and distribution, and on a small \\nscale in the power supplies for electronic equipment. \\n6.2.2 Sinusoidal operation: \\nIf the voltage source is sinusoidal, then the core flux will also be sinusoidal, so we may put:'),\n",
       " Document(id='598a8ce9-7c46-43c6-8cbc-60fa4f83dae9', metadata={'producer': 'Microsoft® Word 2013', 'creator': 'Microsoft® Word 2013', 'creationdate': '2019-07-27T15:04:48+08:00', 'author': 'Ali Kharrazi', 'moddate': '2019-07-27T15:04:48+08:00', 'source': 'ENSC3016_Course_Notes_Part_1_Electromagnetism_Transformers.pdf', 'total_pages': 76, 'page': 55, 'page_label': '56'}, page_content='𝑽𝒔 = 𝑽𝟏 + 𝑽𝟐 = 𝟐𝑽𝟐 = 𝟐𝑽𝑳        (6 − 22) \\n𝑰𝑳 = 𝑰𝟏 + 𝑰𝟐 = 𝟐𝑰𝟏 = 𝟐𝑰𝑳            (6 − 23) \\nWhere VL is the voltage across the load and IS is the current supplied by the source. This auto-wound \\ntransformer behaves as a step-down transformer with a ratio of 2:1, and the current in each winding is \\nequal to half of the load current. \\nAn elegant application of the auto-wound transformer principle is the variable transformer, which has a \\nsingle-layer coil wound on a toroidal core. The output is taken from a carbon brush that makes contact \\nwith the surface of the coil; the brush can be moved smoothly from one end of the coil to the other, thus \\nvarying the output voltage. Examples of variable transformers are shown in figure 6-10. \\n \\n     \\n      Figure 6-10 Variable transformers. \\n \\n \\n \\n6.3.2 3 Phase Transformer: \\nIn 3 -phase systems, it is common practice to use sets of three single -phase transformers. It is also \\npossible, however, to make 3 -phase transformers with three sets of windings on three limbs of a core, \\nas shown in figure 6-11. \\n \\nFigure 6-11 3-phase transformer model')]"
      ]
     },
     "execution_count": 16,
     "metadata": {},
     "output_type": "execute_result"
    }
   ],
   "source": [
    "results"
   ]
  },
  {
   "cell_type": "code",
   "execution_count": null,
   "id": "fde33313",
   "metadata": {},
   "outputs": [],
   "source": [
    "for i, doc in enumerate(results):\n",
    "    print(i+1, \"\\n\")\n",
    "    print(doc.page_content, \"\\n\")"
   ]
  },
  {
   "cell_type": "code",
   "execution_count": 17,
   "id": "f0ce75a9",
   "metadata": {},
   "outputs": [],
   "source": [
    "bm25_retriever = BM25Retriever.from_documents(splits)\n",
    "bm25_retriever.k = 4\n",
    "\n",
    "def bm25_keyword_search_lc(query):\n",
    "    return bm25_retriever.invoke(query)"
   ]
  },
  {
   "cell_type": "code",
   "execution_count": 18,
   "id": "8ceb8704",
   "metadata": {},
   "outputs": [
    {
     "name": "stdout",
     "output_type": "stream",
     "text": [
      "Document 1:\n",
      "65 Electrical Machines and Systems                                                                                                            \n",
      "6.8 Current Transformers \n",
      "Instrument transformers are special transformers for extending the range of measur ing instruments. \n",
      "There are two basic types: voltage transformers for measuring high voltages, and current transformers \n",
      "for measuring high currents. Using transformers for voltage measurement is similar in principle to the \n",
      "ordinary use of transformers to ch ange voltage levels, so it will not be considered further. Current \n",
      "transformers, on the other hand, need special consideration. These are usually toroidal transformers with \n",
      "high-quality core material. \n",
      "Figure 6-25 shows a load connected to a source. The primary of a current transformer is in series with \n",
      "the load, and the secondary is connected to a meter \n",
      "  \n",
      "Figure 6-25 Use of a current transformer \n",
      " \n",
      " \n",
      "Equation 6-19 gives: \n",
      "𝐼𝑀 ≈ 𝑁1\n",
      "𝑁2\n",
      "𝐼𝐿     𝑜𝑟  𝐼𝐿 ≈ 𝑁1\n",
      "𝑁2\n",
      "𝐼𝑀           (6 − 53)\n",
      "\n",
      "Document 2:\n",
      "Transformer 52 \n",
      " \n",
      " \n",
      " \n",
      "   Figure 6-3 Shell-type transformers. \n",
      " \n",
      " \n",
      " \n",
      "Figure 6-4 Flux plot: shell-type transformer \n",
      " \n",
      " \n",
      "Toroidal transformers exploit the remarkable properties of toroidal coils described in section 3.6. \n",
      "Although they are more expensive than shell-type transformers, the performance is better. They are used \n",
      "in high -quality electronic equipment and for instrument transformers (see section 6.3) where \n",
      "measurement accuracy is important. Typical toroidal transformers are shown in figure 6-5. \n",
      " \n",
      "Figure 6-5 Toroidal transformers.\n",
      " \n",
      " \n",
      " \n",
      "6.2 Transformer Principle: \n",
      "The action of a transformer is most easily understood if the two coils are wound on opposite sides of a \n",
      "magnetic core, as shown in the model of figure 6 -6. This form is used for some low -cost transformers, \n",
      "but the magnetic coupling is not as good as with the shell-type construction. \n",
      " \n",
      " \n",
      "Figure 6-6  Core-type transformer \n",
      " \n",
      " \n",
      " \n",
      "Figure 6 -7 is a schematic representation of the transformer. It will be assumed that the coupling is \n",
      "perfect: the same magnetic flux  passes through each turn of each coil. The coil connected to the source \n",
      "is termed the primary, and the coil connected to the load is termed the secondary. It is usual to refer to \n",
      "the coils as windings.\n",
      "\n",
      "Document 3:\n",
      "6.1.2 Practical aspects: \n",
      "The cores for high -frequency transformers are often made from magnetically soft ferrites, which are \n",
      "electrical insulators. For power frequencies, the cores are made from an iron alloy such as silicon steel. \n",
      "These materials have better magnetic properties than ferrites, but they are also electrical conductors. If \n",
      "the core were made of solid steel, currents – known as eddy currents – would be induced in the core by \n",
      "the alternating magnetic flux.  Steel transformer cores are therefore made from thin laminations, \n",
      "insulated from one another, to minimise eddy currents [1, 6]. \n",
      "Small power transformers are commonly made with the shell -type construction shown in figure 6 -3, \n",
      "where the coils are wound on the central limb of the core, and the two outer limbs provide symmetrical \n",
      "flux return paths. The centre limb is twice the width of the outer limbs because it carries twice the flux, \n",
      "as shown by the flux plot in figure 6-4.\n",
      "\n",
      "Document 4:\n",
      "31. \n",
      " \n",
      " \n",
      " \n",
      " \n",
      "Figure 6-31 E I laminations \n",
      "The center limb is twice the width of the outer limbs because it carries twice the flux, as shown by \n",
      "the flux plot in figure 6-32. \n",
      " \n",
      "Figure 6-32  Flux Plot: Shell type transformer \n",
      "The coils are wound on a bobbin that fits the center limb of the core, and the core is assembled \n",
      "by inserting E laminations alternately from each side and adding matching I laminations. \n",
      "Dimensions are chosen so that two E and two I laminations can be punched from a rectangular steel \n",
      "sheet without any waste. Current flowing in the resistance of the transformer windings will produce \n",
      "heat, which must escape through the surface of the windings. In addition, there will be power loss in \n",
      "the core, which also appears as heat. \n",
      "The power output from a given size of transformer is governed by the rate at which heat can be \n",
      "removed. Large transformers are usually cooled by circulating oil, but small transformers rely on\n",
      "\n"
     ]
    }
   ],
   "source": [
    "keyword_results = bm25_keyword_search_lc(\"Explan transformers\")\n",
    "for i, doc in enumerate(keyword_results):\n",
    "    print(f\"Document {i+1}:\\n{doc.page_content}\\n\")"
   ]
  },
  {
   "cell_type": "code",
   "execution_count": 19,
   "id": "e35c700e",
   "metadata": {},
   "outputs": [],
   "source": [
    "ensemble_retriever = EnsembleRetriever(retrievers= [semantic_retriever, bm25_retriever], weights = [0.67, 0.33], search_kwargs={\"k\": 3})\n",
    "\n",
    "def hybrid_search(retriever_obj, input_context: str):\n",
    "    return retriever_obj.invoke(input_context)\n",
    "\n",
    "hybrid_results = hybrid_search(ensemble_retriever, \"Explain transformers\")"
   ]
  },
  {
   "cell_type": "code",
   "execution_count": 20,
   "id": "6acfdbfb",
   "metadata": {},
   "outputs": [
    {
     "data": {
      "text/plain": [
       "7"
      ]
     },
     "execution_count": 20,
     "metadata": {},
     "output_type": "execute_result"
    }
   ],
   "source": [
    "len(hybrid_results)"
   ]
  },
  {
   "cell_type": "code",
   "execution_count": 21,
   "id": "95e446ca",
   "metadata": {},
   "outputs": [
    {
     "name": "stdout",
     "output_type": "stream",
     "text": [
      "Document 1:\n",
      "Transformer 52 \n",
      " \n",
      " \n",
      " \n",
      "   Figure 6-3 Shell-type transformers. \n",
      " \n",
      " \n",
      " \n",
      "Figure 6-4 Flux plot: shell-type transformer \n",
      " \n",
      " \n",
      "Toroidal transformers exploit the remarkable properties of toroidal coils described in section 3.6. \n",
      "Although they are more expensive than shell-type transformers, the performance is better. They are used \n",
      "in high -quality electronic equipment and for instrument transformers (see section 6.3) where \n",
      "measurement accuracy is important. Typical toroidal transformers are shown in figure 6-5. \n",
      " \n",
      "Figure 6-5 Toroidal transformers.\n",
      " \n",
      " \n",
      " \n",
      "6.2 Transformer Principle: \n",
      "The action of a transformer is most easily understood if the two coils are wound on opposite sides of a \n",
      "magnetic core, as shown in the model of figure 6 -6. This form is used for some low -cost transformers, \n",
      "but the magnetic coupling is not as good as with the shell-type construction. \n",
      " \n",
      " \n",
      "Figure 6-6  Core-type transformer \n",
      " \n",
      " \n",
      " \n",
      "Figure 6 -7 is a schematic representation of the transformer. It will be assumed that the coupling is \n",
      "perfect: the same magnetic flux  passes through each turn of each coil. The coil connected to the source \n",
      "is termed the primary, and the coil connected to the load is termed the secondary. It is usual to refer to \n",
      "the coils as windings.\n",
      "\n",
      "Document 2:\n",
      "51 Electrical Machines and Systems                                                                                                            \n",
      " \n",
      "6 Transformer \n",
      "6.1 Introduction: \n",
      "A transformer is a practical application of magnetically coupled coils. Usually the purpose is to transfer \n",
      "energy from one coil to the other, as in figure 6-1 where energy is transferred from the AC source to the \n",
      "lamp through the space between the coils. \n",
      " \n",
      "Figure 6-1 Transformer principle \n",
      "Transformers are essentially AC devices, because there has to be a change of flux to give an induced \n",
      "voltage in a coil. There are two main reasons for transferring energy in this way: \n",
      " To provide electrical isolation between the source and the load. \n",
      " To change the voltage and current levels. \n",
      "The coils are usually placed on a common magnetic core to improve the coupling. Figure 6-2 shows the \n",
      "flux plots for two coupled coils (a) without a core, (b) with an open core, (c) with a closed core \n",
      " \n",
      "Figure 6-2 Effect of a magnetic core: \n",
      "6.1.2 Practical aspects: \n",
      "The cores for high -frequency transformers are often made from magnetically soft ferrites, which are \n",
      "electrical insulators. For power frequencies, the cores are made from an iron alloy such as silicon steel.\n",
      "\n",
      "Document 3:\n",
      "𝑑𝜙\n",
      "𝑑𝑡        (6 − 3) \n",
      "𝑣2 = 𝑅2𝑖2 + 𝑁2\n",
      "𝑑𝜙\n",
      "𝑑𝑡                               (6 − 4) \n",
      "The sign difference arises from the reference directions for current in the two windings. \n",
      "If the resistances R1 and R2 are negligible, then equations 6-3 and 6-4 become: \n",
      "𝑣1 ≈ 𝑁1\n",
      "𝑑𝜙\n",
      "𝑑𝑡          (6 − 5) \n",
      "𝑣2 ≈ 𝑁2\n",
      "𝑑𝜙\n",
      "𝑑𝑡         (6 − 6) \n",
      "Dividing these equations gives the important result: \n",
      "𝑣1\n",
      "𝑣2\n",
      "≈ 𝑁1\n",
      "𝑁2\n",
      "        (6 − 7) \n",
      "Thus, the secondary voltage can be made larger or smaller than the primary voltage by changing the \n",
      "ratio of the numbers of turns on the two windings. Voltage transformation is one of the most common \n",
      "uses of transformers, on a large scale in electrical power transmission and distribution, and on a small \n",
      "scale in the power supplies for electronic equipment. \n",
      "6.2.2 Sinusoidal operation: \n",
      "If the voltage source is sinusoidal, then the core flux will also be sinusoidal, so we may put:\n",
      "\n",
      "Document 4:\n",
      "𝑽𝒔 = 𝑽𝟏 + 𝑽𝟐 = 𝟐𝑽𝟐 = 𝟐𝑽𝑳        (6 − 22) \n",
      "𝑰𝑳 = 𝑰𝟏 + 𝑰𝟐 = 𝟐𝑰𝟏 = 𝟐𝑰𝑳            (6 − 23) \n",
      "Where VL is the voltage across the load and IS is the current supplied by the source. This auto-wound \n",
      "transformer behaves as a step-down transformer with a ratio of 2:1, and the current in each winding is \n",
      "equal to half of the load current. \n",
      "An elegant application of the auto-wound transformer principle is the variable transformer, which has a \n",
      "single-layer coil wound on a toroidal core. The output is taken from a carbon brush that makes contact \n",
      "with the surface of the coil; the brush can be moved smoothly from one end of the coil to the other, thus \n",
      "varying the output voltage. Examples of variable transformers are shown in figure 6-10. \n",
      " \n",
      "     \n",
      "      Figure 6-10 Variable transformers. \n",
      " \n",
      " \n",
      " \n",
      "6.3.2 3 Phase Transformer: \n",
      "In 3 -phase systems, it is common practice to use sets of three single -phase transformers. It is also \n",
      "possible, however, to make 3 -phase transformers with three sets of windings on three limbs of a core, \n",
      "as shown in figure 6-11. \n",
      " \n",
      "Figure 6-11 3-phase transformer model\n",
      "\n",
      "Document 5:\n",
      "65 Electrical Machines and Systems                                                                                                            \n",
      "6.8 Current Transformers \n",
      "Instrument transformers are special transformers for extending the range of measur ing instruments. \n",
      "There are two basic types: voltage transformers for measuring high voltages, and current transformers \n",
      "for measuring high currents. Using transformers for voltage measurement is similar in principle to the \n",
      "ordinary use of transformers to ch ange voltage levels, so it will not be considered further. Current \n",
      "transformers, on the other hand, need special consideration. These are usually toroidal transformers with \n",
      "high-quality core material. \n",
      "Figure 6-25 shows a load connected to a source. The primary of a current transformer is in series with \n",
      "the load, and the secondary is connected to a meter \n",
      "  \n",
      "Figure 6-25 Use of a current transformer \n",
      " \n",
      " \n",
      "Equation 6-19 gives: \n",
      "𝐼𝑀 ≈ 𝑁1\n",
      "𝑁2\n",
      "𝐼𝐿     𝑜𝑟  𝐼𝐿 ≈ 𝑁1\n",
      "𝑁2\n",
      "𝐼𝑀           (6 − 53)\n",
      "\n",
      "Document 6:\n",
      "6.1.2 Practical aspects: \n",
      "The cores for high -frequency transformers are often made from magnetically soft ferrites, which are \n",
      "electrical insulators. For power frequencies, the cores are made from an iron alloy such as silicon steel. \n",
      "These materials have better magnetic properties than ferrites, but they are also electrical conductors. If \n",
      "the core were made of solid steel, currents – known as eddy currents – would be induced in the core by \n",
      "the alternating magnetic flux.  Steel transformer cores are therefore made from thin laminations, \n",
      "insulated from one another, to minimise eddy currents [1, 6]. \n",
      "Small power transformers are commonly made with the shell -type construction shown in figure 6 -3, \n",
      "where the coils are wound on the central limb of the core, and the two outer limbs provide symmetrical \n",
      "flux return paths. The centre limb is twice the width of the outer limbs because it carries twice the flux, \n",
      "as shown by the flux plot in figure 6-4.\n",
      "\n",
      "Document 7:\n",
      "31. \n",
      " \n",
      " \n",
      " \n",
      " \n",
      "Figure 6-31 E I laminations \n",
      "The center limb is twice the width of the outer limbs because it carries twice the flux, as shown by \n",
      "the flux plot in figure 6-32. \n",
      " \n",
      "Figure 6-32  Flux Plot: Shell type transformer \n",
      "The coils are wound on a bobbin that fits the center limb of the core, and the core is assembled \n",
      "by inserting E laminations alternately from each side and adding matching I laminations. \n",
      "Dimensions are chosen so that two E and two I laminations can be punched from a rectangular steel \n",
      "sheet without any waste. Current flowing in the resistance of the transformer windings will produce \n",
      "heat, which must escape through the surface of the windings. In addition, there will be power loss in \n",
      "the core, which also appears as heat. \n",
      "The power output from a given size of transformer is governed by the rate at which heat can be \n",
      "removed. Large transformers are usually cooled by circulating oil, but small transformers rely on\n",
      "\n"
     ]
    }
   ],
   "source": [
    "for i, doc in enumerate(hybrid_results):\n",
    "    print(f\"Document {i+1}:\\n{doc.page_content}\\n\")"
   ]
  },
  {
   "cell_type": "code",
   "execution_count": null,
   "id": "1ea09020",
   "metadata": {},
   "outputs": [],
   "source": [
    "#We need to create functions that create embeddings, load documents and split text"
   ]
  },
  {
   "cell_type": "code",
   "execution_count": null,
   "id": "cc012361",
   "metadata": {},
   "outputs": [],
   "source": [
    "input_template = \"\"\"You are an expert assistant answering based only on the provided context.\n",
    "\n",
    "    Here are 3 relevant document chunks retrieved:\n",
    "\n",
    "    Chunk 1:\n",
    "    {chunk1}\n",
    "\n",
    "    Chunk 2:\n",
    "    {chunk2}\n",
    "\n",
    "    Chunk 3:\n",
    "    {chunk3}\n",
    "    \n",
    "    Chunk 4:\n",
    "    {chunk4}\n",
    "    \n",
    "    Use all relevant information above to answer the question below. If the answer isn't found in the chunks, say:\n",
    "    \"I cannot answer this question because the necessary information was not found in the provided documents.\"\n",
    "\n",
    "    When answering, cite the **source file name** and **slide/page number** if available.\n",
    "\n",
    "    Question: {question}\n",
    "    \"\"\""
   ]
  },
  {
   "cell_type": "code",
   "execution_count": null,
   "id": "31368c98",
   "metadata": {},
   "outputs": [],
   "source": [
    "def database_storage(db_path):\n",
    "    database = sqlite3.connect(db_path)\n",
    "    print(\"Session History database loaded\")\n",
    "    return database\n",
    "\n",
    "def create_tables(database):   \n",
    "    cursor = database.cursor()\n",
    "\n",
    "    cursor.execute(\"\"\"CREATE TABLE IF NOT EXISTS chat_history (\n",
    "                   id INTEGER PRIMARY KEY AUTOINCREMENT,\n",
    "                   session_id TEXT NOT NULL,\n",
    "                   timestamp TEXT NOT NULL,\n",
    "                   turn_number INTEGER NOT NULL,\n",
    "                   role TEXT NOT NULL,\n",
    "                   message TEXT NOT NULL\n",
    "                   )\"\"\")\n",
    "    \n",
    "    database.commit()\n",
    "\n",
    "    print(\"Session history table successfully created\")\n",
    "\n",
    "def insert_message(database, session_id, turn_number, role, message):\n",
    "    timestamp = datetime.now().strftime(\"%Y-%m-%d %H:%M:%S\")\n",
    "\n",
    "    database.execute(\"\"\"\n",
    "            INSERT INTO chat_history (session_id, timestamp, turn_number, role, message)\n",
    "            VALUES (?, ?, ?, ?, ?)\n",
    "            \"\"\", (session_id, timestamp, turn_number, role, message))\n",
    "    \n",
    "    database.commit()\n",
    "\n",
    "def load_session_messages(database, session_id):\n",
    "    cursor = database.cursor()\n",
    "    cursor.execute(\"\"\"\n",
    "        SELECT role, message FROM chat_history\n",
    "        WHERE session_id = ?\n",
    "        ORDER BY id ASC\n",
    "        \"\"\", (session_id,))\n",
    "    rows = cursor.fetchall()\n",
    "\n",
    "    messages = []\n",
    "    for role, content in rows:\n",
    "        if role == \"human\":\n",
    "            messages.append(HumanMessage(content=content))\n",
    "        elif role == \"ai\":\n",
    "            messages.append(AIMessage(content=content))\n",
    "    return messages\n",
    "\n",
    "def close(database):\n",
    "    database.close()\n",
    "    "
   ]
  },
  {
   "cell_type": "code",
   "execution_count": null,
   "id": "99e99b3c",
   "metadata": {},
   "outputs": [],
   "source": [
    "def pipeline_combined(model_name = MODEL_NAME, prompt_template = input_template):\n",
    "\n",
    "    llm = OllamaLLM(model = model_name)\n",
    "\n",
    "    prompt = PromptTemplate.from_template(prompt_template)\n",
    "    chain = prompt | llm\n",
    "    print(f\"\\n Model {model_name} has been initiated. Please feel free to ask any questions or type 'exit' to end this session\")\n",
    "    \n",
    "    while True:\n",
    "        user_input = input(\"You:\")\n",
    "        if user_input.lower() in ['exit', 'quit']:\n",
    "            print(\"Have a good day.\")\n",
    "            break\n",
    "\n",
    "        context_docs = hybrid_search(ensemble_retriever, user_input)[:4]\n",
    "\n",
    "        # Pass context and question into the chain\n",
    "        chunks = [\n",
    "            f\"Source: {doc.metadata.get('source', 'unknown')}, Page: {doc.metadata.get('page', 'unknown')}\\n{doc.page_content}\"\n",
    "            for doc in context_docs\n",
    "        ]\n",
    "\n",
    "        response = chain.invoke({\n",
    "            \"chunk1\": chunks[0],\n",
    "            \"chunk2\": chunks[1],\n",
    "            \"chunk3\": chunks[2],\n",
    "            \"chunk4\": chunks[3],\n",
    "            \"question\": user_input\n",
    "        })\n",
    "\n",
    "        print(f\"LLM: {response}\\n\")"
   ]
  },
  {
   "cell_type": "code",
   "execution_count": null,
   "id": "4e3abfef",
   "metadata": {},
   "outputs": [
    {
     "name": "stdout",
     "output_type": "stream",
     "text": [
      "\n",
      "Session ID: 30f7a969\n",
      "\n",
      " Model llama3.2 has been initiated with memory. Please feel free to ask any questions or type 'exit' to end this session\n"
     ]
    },
    {
     "ename": "KeyError",
     "evalue": "\"Input to ChatPromptTemplate is missing variables {'chat_history'}.  Expected: ['chat_history', 'context', 'input'] Received: ['input', 'context']\\nNote: if you intended {chat_history} to be part of the string and not a variable, please escape it with double curly braces like: '{{chat_history}}'.\\nFor troubleshooting, visit: https://python.langchain.com/docs/troubleshooting/errors/INVALID_PROMPT_INPUT \"",
     "output_type": "error",
     "traceback": [
      "\u001b[31m---------------------------------------------------------------------------\u001b[39m",
      "\u001b[31mKeyError\u001b[39m                                  Traceback (most recent call last)",
      "\u001b[36mCell\u001b[39m\u001b[36m \u001b[39m\u001b[32mIn[88]\u001b[39m\u001b[32m, line 1\u001b[39m\n\u001b[32m----> \u001b[39m\u001b[32m1\u001b[39m \u001b[43mpipeline_combined\u001b[49m\u001b[43m(\u001b[49m\u001b[43m)\u001b[49m\n",
      "\u001b[36mCell\u001b[39m\u001b[36m \u001b[39m\u001b[32mIn[87]\u001b[39m\u001b[32m, line 17\u001b[39m, in \u001b[36mpipeline_combined\u001b[39m\u001b[34m()\u001b[39m\n\u001b[32m     13\u001b[39m     \u001b[38;5;28;01mbreak\u001b[39;00m\n\u001b[32m     15\u001b[39m insert_message(session_history, session_id, turn_number, \u001b[33m\"\u001b[39m\u001b[33mhuman\u001b[39m\u001b[33m\"\u001b[39m, user_input)\n\u001b[32m---> \u001b[39m\u001b[32m17\u001b[39m response = \u001b[43mrag_chain\u001b[49m\u001b[43m.\u001b[49m\u001b[43minvoke\u001b[49m\u001b[43m(\u001b[49m\n\u001b[32m     18\u001b[39m \u001b[43m    \u001b[49m\u001b[43m{\u001b[49m\u001b[33;43m\"\u001b[39;49m\u001b[33;43minput\u001b[39;49m\u001b[33;43m\"\u001b[39;49m\u001b[43m:\u001b[49m\u001b[43m \u001b[49m\u001b[43muser_input\u001b[49m\u001b[43m}\u001b[49m\u001b[43m,\u001b[49m\n\u001b[32m     19\u001b[39m \u001b[43m    \u001b[49m\u001b[43mconfig\u001b[49m\u001b[43m=\u001b[49m\u001b[43m{\u001b[49m\u001b[33;43m\"\u001b[39;49m\u001b[33;43mconfigurable\u001b[39;49m\u001b[33;43m\"\u001b[39;49m\u001b[43m:\u001b[49m\u001b[43m \u001b[49m\u001b[43m{\u001b[49m\u001b[33;43m\"\u001b[39;49m\u001b[33;43msession_id\u001b[39;49m\u001b[33;43m\"\u001b[39;49m\u001b[43m:\u001b[49m\u001b[43m \u001b[49m\u001b[43msession_id\u001b[49m\u001b[43m}\u001b[49m\u001b[43m}\u001b[49m\u001b[43m,\u001b[49m\n\u001b[32m     20\u001b[39m \u001b[43m\u001b[49m\u001b[43m)\u001b[49m\n\u001b[32m     21\u001b[39m \u001b[38;5;28mprint\u001b[39m(\u001b[33mf\u001b[39m\u001b[33m\"\u001b[39m\u001b[33mLLM: \u001b[39m\u001b[38;5;132;01m{\u001b[39;00mresponse[\u001b[33m'\u001b[39m\u001b[33manswer\u001b[39m\u001b[33m'\u001b[39m]\u001b[38;5;132;01m}\u001b[39;00m\u001b[38;5;130;01m\\n\u001b[39;00m\u001b[33m\"\u001b[39m)\n\u001b[32m     23\u001b[39m insert_message(session_history, session_id, turn_number, \u001b[33m\"\u001b[39m\u001b[33mai\u001b[39m\u001b[33m\"\u001b[39m, response)\n",
      "\u001b[36mFile \u001b[39m\u001b[32m~/miniconda3/envs/LLM_Train/lib/python3.11/site-packages/langchain_core/runnables/base.py:5430\u001b[39m, in \u001b[36mRunnableBindingBase.invoke\u001b[39m\u001b[34m(self, input, config, **kwargs)\u001b[39m\n\u001b[32m   5423\u001b[39m \u001b[38;5;129m@override\u001b[39m\n\u001b[32m   5424\u001b[39m \u001b[38;5;28;01mdef\u001b[39;00m\u001b[38;5;250m \u001b[39m\u001b[34minvoke\u001b[39m(\n\u001b[32m   5425\u001b[39m     \u001b[38;5;28mself\u001b[39m,\n\u001b[32m   (...)\u001b[39m\u001b[32m   5428\u001b[39m     **kwargs: Optional[Any],\n\u001b[32m   5429\u001b[39m ) -> Output:\n\u001b[32m-> \u001b[39m\u001b[32m5430\u001b[39m     \u001b[38;5;28;01mreturn\u001b[39;00m \u001b[38;5;28;43mself\u001b[39;49m\u001b[43m.\u001b[49m\u001b[43mbound\u001b[49m\u001b[43m.\u001b[49m\u001b[43minvoke\u001b[49m\u001b[43m(\u001b[49m\n\u001b[32m   5431\u001b[39m \u001b[43m        \u001b[49m\u001b[38;5;28;43minput\u001b[39;49m\u001b[43m,\u001b[49m\n\u001b[32m   5432\u001b[39m \u001b[43m        \u001b[49m\u001b[38;5;28;43mself\u001b[39;49m\u001b[43m.\u001b[49m\u001b[43m_merge_configs\u001b[49m\u001b[43m(\u001b[49m\u001b[43mconfig\u001b[49m\u001b[43m)\u001b[49m\u001b[43m,\u001b[49m\n\u001b[32m   5433\u001b[39m \u001b[43m        \u001b[49m\u001b[43m*\u001b[49m\u001b[43m*\u001b[49m\u001b[43m{\u001b[49m\u001b[43m*\u001b[49m\u001b[43m*\u001b[49m\u001b[38;5;28;43mself\u001b[39;49m\u001b[43m.\u001b[49m\u001b[43mkwargs\u001b[49m\u001b[43m,\u001b[49m\u001b[43m \u001b[49m\u001b[43m*\u001b[49m\u001b[43m*\u001b[49m\u001b[43mkwargs\u001b[49m\u001b[43m}\u001b[49m\u001b[43m,\u001b[49m\n\u001b[32m   5434\u001b[39m \u001b[43m    \u001b[49m\u001b[43m)\u001b[49m\n",
      "\u001b[36mFile \u001b[39m\u001b[32m~/miniconda3/envs/LLM_Train/lib/python3.11/site-packages/langchain_core/runnables/base.py:3047\u001b[39m, in \u001b[36mRunnableSequence.invoke\u001b[39m\u001b[34m(self, input, config, **kwargs)\u001b[39m\n\u001b[32m   3045\u001b[39m                 input_ = context.run(step.invoke, input_, config, **kwargs)\n\u001b[32m   3046\u001b[39m             \u001b[38;5;28;01melse\u001b[39;00m:\n\u001b[32m-> \u001b[39m\u001b[32m3047\u001b[39m                 input_ = \u001b[43mcontext\u001b[49m\u001b[43m.\u001b[49m\u001b[43mrun\u001b[49m\u001b[43m(\u001b[49m\u001b[43mstep\u001b[49m\u001b[43m.\u001b[49m\u001b[43minvoke\u001b[49m\u001b[43m,\u001b[49m\u001b[43m \u001b[49m\u001b[43minput_\u001b[49m\u001b[43m,\u001b[49m\u001b[43m \u001b[49m\u001b[43mconfig\u001b[49m\u001b[43m)\u001b[49m\n\u001b[32m   3048\u001b[39m \u001b[38;5;66;03m# finish the root run\u001b[39;00m\n\u001b[32m   3049\u001b[39m \u001b[38;5;28;01mexcept\u001b[39;00m \u001b[38;5;167;01mBaseException\u001b[39;00m \u001b[38;5;28;01mas\u001b[39;00m e:\n",
      "\u001b[36mFile \u001b[39m\u001b[32m~/miniconda3/envs/LLM_Train/lib/python3.11/site-packages/langchain_core/runnables/passthrough.py:511\u001b[39m, in \u001b[36mRunnableAssign.invoke\u001b[39m\u001b[34m(self, input, config, **kwargs)\u001b[39m\n\u001b[32m    504\u001b[39m \u001b[38;5;129m@override\u001b[39m\n\u001b[32m    505\u001b[39m \u001b[38;5;28;01mdef\u001b[39;00m\u001b[38;5;250m \u001b[39m\u001b[34minvoke\u001b[39m(\n\u001b[32m    506\u001b[39m     \u001b[38;5;28mself\u001b[39m,\n\u001b[32m   (...)\u001b[39m\u001b[32m    509\u001b[39m     **kwargs: Any,\n\u001b[32m    510\u001b[39m ) -> \u001b[38;5;28mdict\u001b[39m[\u001b[38;5;28mstr\u001b[39m, Any]:\n\u001b[32m--> \u001b[39m\u001b[32m511\u001b[39m     \u001b[38;5;28;01mreturn\u001b[39;00m \u001b[38;5;28;43mself\u001b[39;49m\u001b[43m.\u001b[49m\u001b[43m_call_with_config\u001b[49m\u001b[43m(\u001b[49m\u001b[38;5;28;43mself\u001b[39;49m\u001b[43m.\u001b[49m\u001b[43m_invoke\u001b[49m\u001b[43m,\u001b[49m\u001b[43m \u001b[49m\u001b[38;5;28;43minput\u001b[39;49m\u001b[43m,\u001b[49m\u001b[43m \u001b[49m\u001b[43mconfig\u001b[49m\u001b[43m,\u001b[49m\u001b[43m \u001b[49m\u001b[43m*\u001b[49m\u001b[43m*\u001b[49m\u001b[43mkwargs\u001b[49m\u001b[43m)\u001b[49m\n",
      "\u001b[36mFile \u001b[39m\u001b[32m~/miniconda3/envs/LLM_Train/lib/python3.11/site-packages/langchain_core/runnables/base.py:1940\u001b[39m, in \u001b[36mRunnable._call_with_config\u001b[39m\u001b[34m(self, func, input_, config, run_type, serialized, **kwargs)\u001b[39m\n\u001b[32m   1936\u001b[39m     child_config = patch_config(config, callbacks=run_manager.get_child())\n\u001b[32m   1937\u001b[39m     \u001b[38;5;28;01mwith\u001b[39;00m set_config_context(child_config) \u001b[38;5;28;01mas\u001b[39;00m context:\n\u001b[32m   1938\u001b[39m         output = cast(\n\u001b[32m   1939\u001b[39m             \u001b[33m\"\u001b[39m\u001b[33mOutput\u001b[39m\u001b[33m\"\u001b[39m,\n\u001b[32m-> \u001b[39m\u001b[32m1940\u001b[39m             \u001b[43mcontext\u001b[49m\u001b[43m.\u001b[49m\u001b[43mrun\u001b[49m\u001b[43m(\u001b[49m\n\u001b[32m   1941\u001b[39m \u001b[43m                \u001b[49m\u001b[43mcall_func_with_variable_args\u001b[49m\u001b[43m,\u001b[49m\u001b[43m  \u001b[49m\u001b[38;5;66;43;03m# type: ignore[arg-type]\u001b[39;49;00m\n\u001b[32m   1942\u001b[39m \u001b[43m                \u001b[49m\u001b[43mfunc\u001b[49m\u001b[43m,\u001b[49m\n\u001b[32m   1943\u001b[39m \u001b[43m                \u001b[49m\u001b[43minput_\u001b[49m\u001b[43m,\u001b[49m\n\u001b[32m   1944\u001b[39m \u001b[43m                \u001b[49m\u001b[43mconfig\u001b[49m\u001b[43m,\u001b[49m\n\u001b[32m   1945\u001b[39m \u001b[43m                \u001b[49m\u001b[43mrun_manager\u001b[49m\u001b[43m,\u001b[49m\n\u001b[32m   1946\u001b[39m \u001b[43m                \u001b[49m\u001b[43m*\u001b[49m\u001b[43m*\u001b[49m\u001b[43mkwargs\u001b[49m\u001b[43m,\u001b[49m\n\u001b[32m   1947\u001b[39m \u001b[43m            \u001b[49m\u001b[43m)\u001b[49m,\n\u001b[32m   1948\u001b[39m         )\n\u001b[32m   1949\u001b[39m \u001b[38;5;28;01mexcept\u001b[39;00m \u001b[38;5;167;01mBaseException\u001b[39;00m \u001b[38;5;28;01mas\u001b[39;00m e:\n\u001b[32m   1950\u001b[39m     run_manager.on_chain_error(e)\n",
      "\u001b[36mFile \u001b[39m\u001b[32m~/miniconda3/envs/LLM_Train/lib/python3.11/site-packages/langchain_core/runnables/config.py:428\u001b[39m, in \u001b[36mcall_func_with_variable_args\u001b[39m\u001b[34m(func, input, config, run_manager, **kwargs)\u001b[39m\n\u001b[32m    426\u001b[39m \u001b[38;5;28;01mif\u001b[39;00m run_manager \u001b[38;5;129;01mis\u001b[39;00m \u001b[38;5;129;01mnot\u001b[39;00m \u001b[38;5;28;01mNone\u001b[39;00m \u001b[38;5;129;01mand\u001b[39;00m accepts_run_manager(func):\n\u001b[32m    427\u001b[39m     kwargs[\u001b[33m\"\u001b[39m\u001b[33mrun_manager\u001b[39m\u001b[33m\"\u001b[39m] = run_manager\n\u001b[32m--> \u001b[39m\u001b[32m428\u001b[39m \u001b[38;5;28;01mreturn\u001b[39;00m \u001b[43mfunc\u001b[49m\u001b[43m(\u001b[49m\u001b[38;5;28;43minput\u001b[39;49m\u001b[43m,\u001b[49m\u001b[43m \u001b[49m\u001b[43m*\u001b[49m\u001b[43m*\u001b[49m\u001b[43mkwargs\u001b[49m\u001b[43m)\u001b[49m\n",
      "\u001b[36mFile \u001b[39m\u001b[32m~/miniconda3/envs/LLM_Train/lib/python3.11/site-packages/langchain_core/runnables/passthrough.py:497\u001b[39m, in \u001b[36mRunnableAssign._invoke\u001b[39m\u001b[34m(self, value, run_manager, config, **kwargs)\u001b[39m\n\u001b[32m    492\u001b[39m     msg = \u001b[33m\"\u001b[39m\u001b[33mThe input to RunnablePassthrough.assign() must be a dict.\u001b[39m\u001b[33m\"\u001b[39m\n\u001b[32m    493\u001b[39m     \u001b[38;5;28;01mraise\u001b[39;00m \u001b[38;5;167;01mValueError\u001b[39;00m(msg)  \u001b[38;5;66;03m# noqa: TRY004\u001b[39;00m\n\u001b[32m    495\u001b[39m \u001b[38;5;28;01mreturn\u001b[39;00m {\n\u001b[32m    496\u001b[39m     **value,\n\u001b[32m--> \u001b[39m\u001b[32m497\u001b[39m     **\u001b[38;5;28;43mself\u001b[39;49m\u001b[43m.\u001b[49m\u001b[43mmapper\u001b[49m\u001b[43m.\u001b[49m\u001b[43minvoke\u001b[49m\u001b[43m(\u001b[49m\n\u001b[32m    498\u001b[39m \u001b[43m        \u001b[49m\u001b[43mvalue\u001b[49m\u001b[43m,\u001b[49m\n\u001b[32m    499\u001b[39m \u001b[43m        \u001b[49m\u001b[43mpatch_config\u001b[49m\u001b[43m(\u001b[49m\u001b[43mconfig\u001b[49m\u001b[43m,\u001b[49m\u001b[43m \u001b[49m\u001b[43mcallbacks\u001b[49m\u001b[43m=\u001b[49m\u001b[43mrun_manager\u001b[49m\u001b[43m.\u001b[49m\u001b[43mget_child\u001b[49m\u001b[43m(\u001b[49m\u001b[43m)\u001b[49m\u001b[43m)\u001b[49m\u001b[43m,\u001b[49m\n\u001b[32m    500\u001b[39m \u001b[43m        \u001b[49m\u001b[43m*\u001b[49m\u001b[43m*\u001b[49m\u001b[43mkwargs\u001b[49m\u001b[43m,\u001b[49m\n\u001b[32m    501\u001b[39m \u001b[43m    \u001b[49m\u001b[43m)\u001b[49m,\n\u001b[32m    502\u001b[39m }\n",
      "\u001b[36mFile \u001b[39m\u001b[32m~/miniconda3/envs/LLM_Train/lib/python3.11/site-packages/langchain_core/runnables/base.py:3774\u001b[39m, in \u001b[36mRunnableParallel.invoke\u001b[39m\u001b[34m(self, input, config, **kwargs)\u001b[39m\n\u001b[32m   3769\u001b[39m     \u001b[38;5;28;01mwith\u001b[39;00m get_executor_for_config(config) \u001b[38;5;28;01mas\u001b[39;00m executor:\n\u001b[32m   3770\u001b[39m         futures = [\n\u001b[32m   3771\u001b[39m             executor.submit(_invoke_step, step, \u001b[38;5;28minput\u001b[39m, config, key)\n\u001b[32m   3772\u001b[39m             \u001b[38;5;28;01mfor\u001b[39;00m key, step \u001b[38;5;129;01min\u001b[39;00m steps.items()\n\u001b[32m   3773\u001b[39m         ]\n\u001b[32m-> \u001b[39m\u001b[32m3774\u001b[39m         output = \u001b[43m{\u001b[49m\u001b[43mkey\u001b[49m\u001b[43m:\u001b[49m\u001b[43m \u001b[49m\u001b[43mfuture\u001b[49m\u001b[43m.\u001b[49m\u001b[43mresult\u001b[49m\u001b[43m(\u001b[49m\u001b[43m)\u001b[49m\u001b[43m \u001b[49m\u001b[38;5;28;43;01mfor\u001b[39;49;00m\u001b[43m \u001b[49m\u001b[43mkey\u001b[49m\u001b[43m,\u001b[49m\u001b[43m \u001b[49m\u001b[43mfuture\u001b[49m\u001b[43m \u001b[49m\u001b[38;5;129;43;01min\u001b[39;49;00m\u001b[43m \u001b[49m\u001b[38;5;28;43mzip\u001b[39;49m\u001b[43m(\u001b[49m\u001b[43msteps\u001b[49m\u001b[43m,\u001b[49m\u001b[43m \u001b[49m\u001b[43mfutures\u001b[49m\u001b[43m)\u001b[49m\u001b[43m}\u001b[49m\n\u001b[32m   3775\u001b[39m \u001b[38;5;66;03m# finish the root run\u001b[39;00m\n\u001b[32m   3776\u001b[39m \u001b[38;5;28;01mexcept\u001b[39;00m \u001b[38;5;167;01mBaseException\u001b[39;00m \u001b[38;5;28;01mas\u001b[39;00m e:\n",
      "\u001b[36mFile \u001b[39m\u001b[32m~/miniconda3/envs/LLM_Train/lib/python3.11/site-packages/langchain_core/runnables/base.py:3774\u001b[39m, in \u001b[36m<dictcomp>\u001b[39m\u001b[34m(.0)\u001b[39m\n\u001b[32m   3769\u001b[39m     \u001b[38;5;28;01mwith\u001b[39;00m get_executor_for_config(config) \u001b[38;5;28;01mas\u001b[39;00m executor:\n\u001b[32m   3770\u001b[39m         futures = [\n\u001b[32m   3771\u001b[39m             executor.submit(_invoke_step, step, \u001b[38;5;28minput\u001b[39m, config, key)\n\u001b[32m   3772\u001b[39m             \u001b[38;5;28;01mfor\u001b[39;00m key, step \u001b[38;5;129;01min\u001b[39;00m steps.items()\n\u001b[32m   3773\u001b[39m         ]\n\u001b[32m-> \u001b[39m\u001b[32m3774\u001b[39m         output = {key: \u001b[43mfuture\u001b[49m\u001b[43m.\u001b[49m\u001b[43mresult\u001b[49m\u001b[43m(\u001b[49m\u001b[43m)\u001b[49m \u001b[38;5;28;01mfor\u001b[39;00m key, future \u001b[38;5;129;01min\u001b[39;00m \u001b[38;5;28mzip\u001b[39m(steps, futures)}\n\u001b[32m   3775\u001b[39m \u001b[38;5;66;03m# finish the root run\u001b[39;00m\n\u001b[32m   3776\u001b[39m \u001b[38;5;28;01mexcept\u001b[39;00m \u001b[38;5;167;01mBaseException\u001b[39;00m \u001b[38;5;28;01mas\u001b[39;00m e:\n",
      "\u001b[36mFile \u001b[39m\u001b[32m~/miniconda3/envs/LLM_Train/lib/python3.11/concurrent/futures/_base.py:456\u001b[39m, in \u001b[36mFuture.result\u001b[39m\u001b[34m(self, timeout)\u001b[39m\n\u001b[32m    454\u001b[39m     \u001b[38;5;28;01mraise\u001b[39;00m CancelledError()\n\u001b[32m    455\u001b[39m \u001b[38;5;28;01melif\u001b[39;00m \u001b[38;5;28mself\u001b[39m._state == FINISHED:\n\u001b[32m--> \u001b[39m\u001b[32m456\u001b[39m     \u001b[38;5;28;01mreturn\u001b[39;00m \u001b[38;5;28;43mself\u001b[39;49m\u001b[43m.\u001b[49m\u001b[43m__get_result\u001b[49m\u001b[43m(\u001b[49m\u001b[43m)\u001b[49m\n\u001b[32m    457\u001b[39m \u001b[38;5;28;01melse\u001b[39;00m:\n\u001b[32m    458\u001b[39m     \u001b[38;5;28;01mraise\u001b[39;00m \u001b[38;5;167;01mTimeoutError\u001b[39;00m()\n",
      "\u001b[36mFile \u001b[39m\u001b[32m~/miniconda3/envs/LLM_Train/lib/python3.11/concurrent/futures/_base.py:401\u001b[39m, in \u001b[36mFuture.__get_result\u001b[39m\u001b[34m(self)\u001b[39m\n\u001b[32m    399\u001b[39m \u001b[38;5;28;01mif\u001b[39;00m \u001b[38;5;28mself\u001b[39m._exception:\n\u001b[32m    400\u001b[39m     \u001b[38;5;28;01mtry\u001b[39;00m:\n\u001b[32m--> \u001b[39m\u001b[32m401\u001b[39m         \u001b[38;5;28;01mraise\u001b[39;00m \u001b[38;5;28mself\u001b[39m._exception\n\u001b[32m    402\u001b[39m     \u001b[38;5;28;01mfinally\u001b[39;00m:\n\u001b[32m    403\u001b[39m         \u001b[38;5;66;03m# Break a reference cycle with the exception in self._exception\u001b[39;00m\n\u001b[32m    404\u001b[39m         \u001b[38;5;28mself\u001b[39m = \u001b[38;5;28;01mNone\u001b[39;00m\n",
      "\u001b[36mFile \u001b[39m\u001b[32m~/miniconda3/envs/LLM_Train/lib/python3.11/concurrent/futures/thread.py:58\u001b[39m, in \u001b[36m_WorkItem.run\u001b[39m\u001b[34m(self)\u001b[39m\n\u001b[32m     55\u001b[39m     \u001b[38;5;28;01mreturn\u001b[39;00m\n\u001b[32m     57\u001b[39m \u001b[38;5;28;01mtry\u001b[39;00m:\n\u001b[32m---> \u001b[39m\u001b[32m58\u001b[39m     result = \u001b[38;5;28;43mself\u001b[39;49m\u001b[43m.\u001b[49m\u001b[43mfn\u001b[49m\u001b[43m(\u001b[49m\u001b[43m*\u001b[49m\u001b[38;5;28;43mself\u001b[39;49m\u001b[43m.\u001b[49m\u001b[43margs\u001b[49m\u001b[43m,\u001b[49m\u001b[43m \u001b[49m\u001b[43m*\u001b[49m\u001b[43m*\u001b[49m\u001b[38;5;28;43mself\u001b[39;49m\u001b[43m.\u001b[49m\u001b[43mkwargs\u001b[49m\u001b[43m)\u001b[49m\n\u001b[32m     59\u001b[39m \u001b[38;5;28;01mexcept\u001b[39;00m \u001b[38;5;167;01mBaseException\u001b[39;00m \u001b[38;5;28;01mas\u001b[39;00m exc:\n\u001b[32m     60\u001b[39m     \u001b[38;5;28mself\u001b[39m.future.set_exception(exc)\n",
      "\u001b[36mFile \u001b[39m\u001b[32m~/miniconda3/envs/LLM_Train/lib/python3.11/site-packages/langchain_core/runnables/base.py:3758\u001b[39m, in \u001b[36mRunnableParallel.invoke.<locals>._invoke_step\u001b[39m\u001b[34m(step, input_, config, key)\u001b[39m\n\u001b[32m   3752\u001b[39m child_config = patch_config(\n\u001b[32m   3753\u001b[39m     config,\n\u001b[32m   3754\u001b[39m     \u001b[38;5;66;03m# mark each step as a child run\u001b[39;00m\n\u001b[32m   3755\u001b[39m     callbacks=run_manager.get_child(\u001b[33mf\u001b[39m\u001b[33m\"\u001b[39m\u001b[33mmap:key:\u001b[39m\u001b[38;5;132;01m{\u001b[39;00mkey\u001b[38;5;132;01m}\u001b[39;00m\u001b[33m\"\u001b[39m),\n\u001b[32m   3756\u001b[39m )\n\u001b[32m   3757\u001b[39m \u001b[38;5;28;01mwith\u001b[39;00m set_config_context(child_config) \u001b[38;5;28;01mas\u001b[39;00m context:\n\u001b[32m-> \u001b[39m\u001b[32m3758\u001b[39m     \u001b[38;5;28;01mreturn\u001b[39;00m \u001b[43mcontext\u001b[49m\u001b[43m.\u001b[49m\u001b[43mrun\u001b[49m\u001b[43m(\u001b[49m\n\u001b[32m   3759\u001b[39m \u001b[43m        \u001b[49m\u001b[43mstep\u001b[49m\u001b[43m.\u001b[49m\u001b[43minvoke\u001b[49m\u001b[43m,\u001b[49m\n\u001b[32m   3760\u001b[39m \u001b[43m        \u001b[49m\u001b[43minput_\u001b[49m\u001b[43m,\u001b[49m\n\u001b[32m   3761\u001b[39m \u001b[43m        \u001b[49m\u001b[43mchild_config\u001b[49m\u001b[43m,\u001b[49m\n\u001b[32m   3762\u001b[39m \u001b[43m    \u001b[49m\u001b[43m)\u001b[49m\n",
      "\u001b[36mFile \u001b[39m\u001b[32m~/miniconda3/envs/LLM_Train/lib/python3.11/site-packages/langchain_core/runnables/base.py:5430\u001b[39m, in \u001b[36mRunnableBindingBase.invoke\u001b[39m\u001b[34m(self, input, config, **kwargs)\u001b[39m\n\u001b[32m   5423\u001b[39m \u001b[38;5;129m@override\u001b[39m\n\u001b[32m   5424\u001b[39m \u001b[38;5;28;01mdef\u001b[39;00m\u001b[38;5;250m \u001b[39m\u001b[34minvoke\u001b[39m(\n\u001b[32m   5425\u001b[39m     \u001b[38;5;28mself\u001b[39m,\n\u001b[32m   (...)\u001b[39m\u001b[32m   5428\u001b[39m     **kwargs: Optional[Any],\n\u001b[32m   5429\u001b[39m ) -> Output:\n\u001b[32m-> \u001b[39m\u001b[32m5430\u001b[39m     \u001b[38;5;28;01mreturn\u001b[39;00m \u001b[38;5;28;43mself\u001b[39;49m\u001b[43m.\u001b[49m\u001b[43mbound\u001b[49m\u001b[43m.\u001b[49m\u001b[43minvoke\u001b[49m\u001b[43m(\u001b[49m\n\u001b[32m   5431\u001b[39m \u001b[43m        \u001b[49m\u001b[38;5;28;43minput\u001b[39;49m\u001b[43m,\u001b[49m\n\u001b[32m   5432\u001b[39m \u001b[43m        \u001b[49m\u001b[38;5;28;43mself\u001b[39;49m\u001b[43m.\u001b[49m\u001b[43m_merge_configs\u001b[49m\u001b[43m(\u001b[49m\u001b[43mconfig\u001b[49m\u001b[43m)\u001b[49m\u001b[43m,\u001b[49m\n\u001b[32m   5433\u001b[39m \u001b[43m        \u001b[49m\u001b[43m*\u001b[49m\u001b[43m*\u001b[49m\u001b[43m{\u001b[49m\u001b[43m*\u001b[49m\u001b[43m*\u001b[49m\u001b[38;5;28;43mself\u001b[39;49m\u001b[43m.\u001b[49m\u001b[43mkwargs\u001b[49m\u001b[43m,\u001b[49m\u001b[43m \u001b[49m\u001b[43m*\u001b[49m\u001b[43m*\u001b[49m\u001b[43mkwargs\u001b[49m\u001b[43m}\u001b[49m\u001b[43m,\u001b[49m\n\u001b[32m   5434\u001b[39m \u001b[43m    \u001b[49m\u001b[43m)\u001b[49m\n",
      "\u001b[36mFile \u001b[39m\u001b[32m~/miniconda3/envs/LLM_Train/lib/python3.11/site-packages/langchain_core/runnables/base.py:3047\u001b[39m, in \u001b[36mRunnableSequence.invoke\u001b[39m\u001b[34m(self, input, config, **kwargs)\u001b[39m\n\u001b[32m   3045\u001b[39m                 input_ = context.run(step.invoke, input_, config, **kwargs)\n\u001b[32m   3046\u001b[39m             \u001b[38;5;28;01melse\u001b[39;00m:\n\u001b[32m-> \u001b[39m\u001b[32m3047\u001b[39m                 input_ = \u001b[43mcontext\u001b[49m\u001b[43m.\u001b[49m\u001b[43mrun\u001b[49m\u001b[43m(\u001b[49m\u001b[43mstep\u001b[49m\u001b[43m.\u001b[49m\u001b[43minvoke\u001b[49m\u001b[43m,\u001b[49m\u001b[43m \u001b[49m\u001b[43minput_\u001b[49m\u001b[43m,\u001b[49m\u001b[43m \u001b[49m\u001b[43mconfig\u001b[49m\u001b[43m)\u001b[49m\n\u001b[32m   3048\u001b[39m \u001b[38;5;66;03m# finish the root run\u001b[39;00m\n\u001b[32m   3049\u001b[39m \u001b[38;5;28;01mexcept\u001b[39;00m \u001b[38;5;167;01mBaseException\u001b[39;00m \u001b[38;5;28;01mas\u001b[39;00m e:\n",
      "\u001b[36mFile \u001b[39m\u001b[32m~/miniconda3/envs/LLM_Train/lib/python3.11/site-packages/langchain_core/prompts/base.py:216\u001b[39m, in \u001b[36mBasePromptTemplate.invoke\u001b[39m\u001b[34m(self, input, config, **kwargs)\u001b[39m\n\u001b[32m    214\u001b[39m \u001b[38;5;28;01mif\u001b[39;00m \u001b[38;5;28mself\u001b[39m.tags:\n\u001b[32m    215\u001b[39m     config[\u001b[33m\"\u001b[39m\u001b[33mtags\u001b[39m\u001b[33m\"\u001b[39m] = config[\u001b[33m\"\u001b[39m\u001b[33mtags\u001b[39m\u001b[33m\"\u001b[39m] + \u001b[38;5;28mself\u001b[39m.tags\n\u001b[32m--> \u001b[39m\u001b[32m216\u001b[39m \u001b[38;5;28;01mreturn\u001b[39;00m \u001b[38;5;28;43mself\u001b[39;49m\u001b[43m.\u001b[49m\u001b[43m_call_with_config\u001b[49m\u001b[43m(\u001b[49m\n\u001b[32m    217\u001b[39m \u001b[43m    \u001b[49m\u001b[38;5;28;43mself\u001b[39;49m\u001b[43m.\u001b[49m\u001b[43m_format_prompt_with_error_handling\u001b[49m\u001b[43m,\u001b[49m\n\u001b[32m    218\u001b[39m \u001b[43m    \u001b[49m\u001b[38;5;28;43minput\u001b[39;49m\u001b[43m,\u001b[49m\n\u001b[32m    219\u001b[39m \u001b[43m    \u001b[49m\u001b[43mconfig\u001b[49m\u001b[43m,\u001b[49m\n\u001b[32m    220\u001b[39m \u001b[43m    \u001b[49m\u001b[43mrun_type\u001b[49m\u001b[43m=\u001b[49m\u001b[33;43m\"\u001b[39;49m\u001b[33;43mprompt\u001b[39;49m\u001b[33;43m\"\u001b[39;49m\u001b[43m,\u001b[49m\n\u001b[32m    221\u001b[39m \u001b[43m    \u001b[49m\u001b[43mserialized\u001b[49m\u001b[43m=\u001b[49m\u001b[38;5;28;43mself\u001b[39;49m\u001b[43m.\u001b[49m\u001b[43m_serialized\u001b[49m\u001b[43m,\u001b[49m\n\u001b[32m    222\u001b[39m \u001b[43m\u001b[49m\u001b[43m)\u001b[49m\n",
      "\u001b[36mFile \u001b[39m\u001b[32m~/miniconda3/envs/LLM_Train/lib/python3.11/site-packages/langchain_core/runnables/base.py:1940\u001b[39m, in \u001b[36mRunnable._call_with_config\u001b[39m\u001b[34m(self, func, input_, config, run_type, serialized, **kwargs)\u001b[39m\n\u001b[32m   1936\u001b[39m     child_config = patch_config(config, callbacks=run_manager.get_child())\n\u001b[32m   1937\u001b[39m     \u001b[38;5;28;01mwith\u001b[39;00m set_config_context(child_config) \u001b[38;5;28;01mas\u001b[39;00m context:\n\u001b[32m   1938\u001b[39m         output = cast(\n\u001b[32m   1939\u001b[39m             \u001b[33m\"\u001b[39m\u001b[33mOutput\u001b[39m\u001b[33m\"\u001b[39m,\n\u001b[32m-> \u001b[39m\u001b[32m1940\u001b[39m             \u001b[43mcontext\u001b[49m\u001b[43m.\u001b[49m\u001b[43mrun\u001b[49m\u001b[43m(\u001b[49m\n\u001b[32m   1941\u001b[39m \u001b[43m                \u001b[49m\u001b[43mcall_func_with_variable_args\u001b[49m\u001b[43m,\u001b[49m\u001b[43m  \u001b[49m\u001b[38;5;66;43;03m# type: ignore[arg-type]\u001b[39;49;00m\n\u001b[32m   1942\u001b[39m \u001b[43m                \u001b[49m\u001b[43mfunc\u001b[49m\u001b[43m,\u001b[49m\n\u001b[32m   1943\u001b[39m \u001b[43m                \u001b[49m\u001b[43minput_\u001b[49m\u001b[43m,\u001b[49m\n\u001b[32m   1944\u001b[39m \u001b[43m                \u001b[49m\u001b[43mconfig\u001b[49m\u001b[43m,\u001b[49m\n\u001b[32m   1945\u001b[39m \u001b[43m                \u001b[49m\u001b[43mrun_manager\u001b[49m\u001b[43m,\u001b[49m\n\u001b[32m   1946\u001b[39m \u001b[43m                \u001b[49m\u001b[43m*\u001b[49m\u001b[43m*\u001b[49m\u001b[43mkwargs\u001b[49m\u001b[43m,\u001b[49m\n\u001b[32m   1947\u001b[39m \u001b[43m            \u001b[49m\u001b[43m)\u001b[49m,\n\u001b[32m   1948\u001b[39m         )\n\u001b[32m   1949\u001b[39m \u001b[38;5;28;01mexcept\u001b[39;00m \u001b[38;5;167;01mBaseException\u001b[39;00m \u001b[38;5;28;01mas\u001b[39;00m e:\n\u001b[32m   1950\u001b[39m     run_manager.on_chain_error(e)\n",
      "\u001b[36mFile \u001b[39m\u001b[32m~/miniconda3/envs/LLM_Train/lib/python3.11/site-packages/langchain_core/runnables/config.py:428\u001b[39m, in \u001b[36mcall_func_with_variable_args\u001b[39m\u001b[34m(func, input, config, run_manager, **kwargs)\u001b[39m\n\u001b[32m    426\u001b[39m \u001b[38;5;28;01mif\u001b[39;00m run_manager \u001b[38;5;129;01mis\u001b[39;00m \u001b[38;5;129;01mnot\u001b[39;00m \u001b[38;5;28;01mNone\u001b[39;00m \u001b[38;5;129;01mand\u001b[39;00m accepts_run_manager(func):\n\u001b[32m    427\u001b[39m     kwargs[\u001b[33m\"\u001b[39m\u001b[33mrun_manager\u001b[39m\u001b[33m\"\u001b[39m] = run_manager\n\u001b[32m--> \u001b[39m\u001b[32m428\u001b[39m \u001b[38;5;28;01mreturn\u001b[39;00m \u001b[43mfunc\u001b[49m\u001b[43m(\u001b[49m\u001b[38;5;28;43minput\u001b[39;49m\u001b[43m,\u001b[49m\u001b[43m \u001b[49m\u001b[43m*\u001b[49m\u001b[43m*\u001b[49m\u001b[43mkwargs\u001b[49m\u001b[43m)\u001b[49m\n",
      "\u001b[36mFile \u001b[39m\u001b[32m~/miniconda3/envs/LLM_Train/lib/python3.11/site-packages/langchain_core/prompts/base.py:189\u001b[39m, in \u001b[36mBasePromptTemplate._format_prompt_with_error_handling\u001b[39m\u001b[34m(self, inner_input)\u001b[39m\n\u001b[32m    188\u001b[39m \u001b[38;5;28;01mdef\u001b[39;00m\u001b[38;5;250m \u001b[39m\u001b[34m_format_prompt_with_error_handling\u001b[39m(\u001b[38;5;28mself\u001b[39m, inner_input: \u001b[38;5;28mdict\u001b[39m) -> PromptValue:\n\u001b[32m--> \u001b[39m\u001b[32m189\u001b[39m     _inner_input = \u001b[38;5;28;43mself\u001b[39;49m\u001b[43m.\u001b[49m\u001b[43m_validate_input\u001b[49m\u001b[43m(\u001b[49m\u001b[43minner_input\u001b[49m\u001b[43m)\u001b[49m\n\u001b[32m    190\u001b[39m     \u001b[38;5;28;01mreturn\u001b[39;00m \u001b[38;5;28mself\u001b[39m.format_prompt(**_inner_input)\n",
      "\u001b[36mFile \u001b[39m\u001b[32m~/miniconda3/envs/LLM_Train/lib/python3.11/site-packages/langchain_core/prompts/base.py:183\u001b[39m, in \u001b[36mBasePromptTemplate._validate_input\u001b[39m\u001b[34m(self, inner_input)\u001b[39m\n\u001b[32m    177\u001b[39m     example_key = missing.pop()\n\u001b[32m    178\u001b[39m     msg += (\n\u001b[32m    179\u001b[39m         \u001b[33mf\u001b[39m\u001b[33m\"\u001b[39m\u001b[38;5;130;01m\\n\u001b[39;00m\u001b[33mNote: if you intended \u001b[39m\u001b[38;5;130;01m{{\u001b[39;00m\u001b[38;5;132;01m{\u001b[39;00mexample_key\u001b[38;5;132;01m}\u001b[39;00m\u001b[38;5;130;01m}}\u001b[39;00m\u001b[33m to be part of the string\u001b[39m\u001b[33m\"\u001b[39m\n\u001b[32m    180\u001b[39m         \u001b[33m\"\u001b[39m\u001b[33m and not a variable, please escape it with double curly braces like: \u001b[39m\u001b[33m\"\u001b[39m\n\u001b[32m    181\u001b[39m         \u001b[33mf\u001b[39m\u001b[33m\"\u001b[39m\u001b[33m'\u001b[39m\u001b[38;5;130;01m{{\u001b[39;00m\u001b[38;5;130;01m{{\u001b[39;00m\u001b[38;5;132;01m{\u001b[39;00mexample_key\u001b[38;5;132;01m}\u001b[39;00m\u001b[38;5;130;01m}}\u001b[39;00m\u001b[38;5;130;01m}}\u001b[39;00m\u001b[33m'\u001b[39m\u001b[33m.\u001b[39m\u001b[33m\"\u001b[39m\n\u001b[32m    182\u001b[39m     )\n\u001b[32m--> \u001b[39m\u001b[32m183\u001b[39m     \u001b[38;5;28;01mraise\u001b[39;00m \u001b[38;5;167;01mKeyError\u001b[39;00m(\n\u001b[32m    184\u001b[39m         create_message(message=msg, error_code=ErrorCode.INVALID_PROMPT_INPUT)\n\u001b[32m    185\u001b[39m     )\n\u001b[32m    186\u001b[39m \u001b[38;5;28;01mreturn\u001b[39;00m inner_input\n",
      "\u001b[31mKeyError\u001b[39m: \"Input to ChatPromptTemplate is missing variables {'chat_history'}.  Expected: ['chat_history', 'context', 'input'] Received: ['input', 'context']\\nNote: if you intended {chat_history} to be part of the string and not a variable, please escape it with double curly braces like: '{{chat_history}}'.\\nFor troubleshooting, visit: https://python.langchain.com/docs/troubleshooting/errors/INVALID_PROMPT_INPUT \""
     ]
    }
   ],
   "source": [
    "pipeline_combined()"
   ]
  }
 ],
 "metadata": {
  "kernelspec": {
   "display_name": "LLM_Train",
   "language": "python",
   "name": "python3"
  },
  "language_info": {
   "codemirror_mode": {
    "name": "ipython",
    "version": 3
   },
   "file_extension": ".py",
   "mimetype": "text/x-python",
   "name": "python",
   "nbconvert_exporter": "python",
   "pygments_lexer": "ipython3",
   "version": "3.11.8"
  }
 },
 "nbformat": 4,
 "nbformat_minor": 5
}
