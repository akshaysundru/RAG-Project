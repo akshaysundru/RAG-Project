{
 "cells": [
  {
   "cell_type": "code",
   "execution_count": 1,
   "id": "5bc87311",
   "metadata": {},
   "outputs": [
    {
     "name": "stdout",
     "output_type": "stream",
     "text": [
      "Hello world\n"
     ]
    }
   ],
   "source": [
    "print(\"Hello world\")"
   ]
  },
  {
   "cell_type": "code",
   "execution_count": null,
   "id": "df70013d",
   "metadata": {},
   "outputs": [],
   "source": [
    "import pandas as pd\n",
    "import ollama # type: ignore\n"
   ]
  },
  {
   "cell_type": "code",
   "execution_count": 3,
   "id": "70fc45d1",
   "metadata": {},
   "outputs": [
    {
     "name": "stdout",
     "output_type": "stream",
     "text": [
      "Quantum computing is a new way of processing information that's different from the computers we use today.\n",
      "\n",
      "**Classical Computers**\n",
      "\n",
      "Our current computers use something called \"bits\" to store and process information. A bit can be either 0 or 1, like a light switch that's either on or off. When you combine these bits, you get binary code that our brains can understand.\n",
      "\n",
      "**Quantum Computers**\n",
      "\n",
      "A quantum computer uses something called \"qubits\" (quantum bits). Qubits are special because they can be both 0 and 1 at the same time! It's like a light switch that can be on and off simultaneously. This means qubits can process many possibilities simultaneously, making them super fast.\n",
      "\n",
      "Imagine trying to find a specific book in a huge library. A classical computer would look through each book one by one, saying \"is this it?\" while a quantum computer could instantly check all the books at once, using its qubits to explore every possibility simultaneously!\n",
      "\n",
      "**How It Works**\n",
      "\n",
      "Quantum computers use something called superposition, entanglement, and interference to process information. Here's a simplified explanation:\n",
      "\n",
      "1. **Superposition**: Qubits can exist in multiple states (0 or 1) at the same time.\n",
      "2. **Entanglement**: Qubits can be connected in such a way that their states are linked, even when they're far apart.\n",
      "3. **Interference**: When qubits interact with each other or their environment, they can create patterns of probability that reveal hidden information.\n",
      "\n",
      "**What Does It Mean?**\n",
      "\n",
      "Quantum computing has the potential to solve problems that are too complex or time-consuming for classical computers. Some examples include:\n",
      "\n",
      "* Breaking encryption codes\n",
      "* Simulating complex systems (like molecules)\n",
      "* Optimizing logistics and supply chains\n",
      "\n",
      "In simple terms, quantum computing is a new way of processing information that's faster and more powerful than our current computers.\n",
      "\n",
      "Would you like to know more about the specifics or how it works?\n"
     ]
    }
   ],
   "source": [
    "# Run a prompt using the 'mistral' model\n",
    "response = ollama.chat(\n",
    "    model='llama3.2',\n",
    "    messages=[\n",
    "        {'role': 'user', 'content': 'Explain quantum computing in simple terms.'}\n",
    "    ]\n",
    ")\n",
    "\n",
    "print(response['message']['content'])\n"
   ]
  },
  {
   "cell_type": "code",
   "execution_count": null,
   "id": "b9f9820c",
   "metadata": {},
   "outputs": [],
   "source": []
  }
 ],
 "metadata": {
  "kernelspec": {
   "display_name": "Python 3",
   "language": "python",
   "name": "python3"
  },
  "language_info": {
   "codemirror_mode": {
    "name": "ipython",
    "version": 3
   },
   "file_extension": ".py",
   "mimetype": "text/x-python",
   "name": "python",
   "nbconvert_exporter": "python",
   "pygments_lexer": "ipython3",
   "version": "3.11.11"
  }
 },
 "nbformat": 4,
 "nbformat_minor": 5
}
