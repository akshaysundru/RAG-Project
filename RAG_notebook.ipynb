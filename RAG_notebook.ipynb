{
 "cells": [
  {
   "cell_type": "code",
   "execution_count": 1,
   "id": "5bc87311",
   "metadata": {},
   "outputs": [
    {
     "name": "stdout",
     "output_type": "stream",
     "text": [
      "Hello world\n"
     ]
    }
   ],
   "source": [
    "print(\"Hello world\")"
   ]
  },
  {
   "cell_type": "code",
   "execution_count": 5,
   "id": "df70013d",
   "metadata": {},
   "outputs": [],
   "source": [
    "import pandas as pd\n",
    "import ollama # type: ignore\n",
    "import torch # type: ignore"
   ]
  },
  {
   "cell_type": "code",
   "execution_count": 19,
   "id": "7e8fade0",
   "metadata": {},
   "outputs": [],
   "source": [
    "import getpass\n",
    "import os\n",
    "\n",
    "os.environ[\"LANGSMITH_TRACING\"] = \"true\"\n",
    "os.environ[\"LANGSMITH_API_KEY\"] = getpass.getpass()"
   ]
  },
  {
   "cell_type": "code",
   "execution_count": null,
   "id": "5bcb9fdb",
   "metadata": {},
   "outputs": [],
   "source": [
    "from langchain_ollama import OllamaLLM, OllamaEmbeddings\n",
    "from langchain_core.vectorstores import InMemoryVectorStore\n",
    "import faiss\n",
    "from langchain_community.vectorstores import InMemoryVectorStore"
   ]
  },
  {
   "cell_type": "code",
   "execution_count": 22,
   "id": "b3ff46e6",
   "metadata": {},
   "outputs": [],
   "source": [
    "llm = OllamaLLM(model = \"llama3.2\")\n",
    "\n",
    "embeddings = OllamaEmbeddings(model='llama3')\n",
    "\n",
    "vector_store = InMemoryVectorStore(embeddings)"
   ]
  },
  {
   "cell_type": "code",
   "execution_count": 23,
   "id": "6c13d67d",
   "metadata": {},
   "outputs": [
    {
     "data": {
      "text/plain": [
       "<langchain_core.vectorstores.in_memory.InMemoryVectorStore at 0x122913890>"
      ]
     },
     "execution_count": 23,
     "metadata": {},
     "output_type": "execute_result"
    }
   ],
   "source": [
    "vector_store"
   ]
  },
  {
   "cell_type": "code",
   "execution_count": 16,
   "id": "7bfc51c4",
   "metadata": {},
   "outputs": [
    {
     "data": {
      "text/plain": [
       "OllamaLLM(model='llama3.2')"
      ]
     },
     "execution_count": 16,
     "metadata": {},
     "output_type": "execute_result"
    }
   ],
   "source": [
    "llm"
   ]
  },
  {
   "cell_type": "code",
   "execution_count": 6,
   "id": "70fc45d1",
   "metadata": {},
   "outputs": [
    {
     "name": "stdout",
     "output_type": "stream",
     "text": [
      "Quantum computing is a new way of processing information that's different from the way regular computers work.\n",
      "\n",
      "**Regular Computers**\n",
      "\n",
      "Regular computers use \"bits\" to store and process information. A bit can be either 0 or 1, like a coin that's either heads or tails. When you perform calculations on a regular computer, it uses these bits to solve problems by comparing them with each other.\n",
      "\n",
      "**Quantum Computers**\n",
      "\n",
      "Quantum computers, on the other hand, use \"qubits\" (quantum bits) instead of bits. Qubits can be both 0 and 1 at the same time, like a coin that's simultaneously heads AND tails! This means they can process multiple possibilities all at once, rather than having to compare individual options.\n",
      "\n",
      "**How it Works**\n",
      "\n",
      "Imagine you're trying to find a specific book in a library with millions of books. A regular computer would have to look through each book one by one, comparing the title and author to find the right one. A quantum computer, however, could use its qubits to look at all possible combinations of titles and authors simultaneously. This makes it much faster than a regular computer for certain types of calculations.\n",
      "\n",
      "**The Catch**\n",
      "\n",
      "There's a big catch: qubits are very sensitive to their environment and can easily get \"mixed up\" if they're not handled carefully. Scientists are still working on ways to build stable, reliable quantum computers that can perform complex calculations accurately.\n",
      "\n",
      "**What Can Quantum Computing Do?**\n",
      "\n",
      "Quantum computing has the potential to revolutionize many fields, such as:\n",
      "\n",
      "* Cryptography (secure online transactions)\n",
      "* Materials science (designing new materials with unique properties)\n",
      "* Optimization problems (finding the most efficient solutions for complex systems)\n",
      "\n",
      "In summary, quantum computing uses qubits that can be both 0 and 1 at the same time to process multiple possibilities all at once. This makes it much faster than regular computers for certain types of calculations, but also poses significant technical challenges to build stable and reliable quantum computers.\n"
     ]
    }
   ],
   "source": [
    "# Run a prompt using the 'mistral' model\n",
    "response = ollama.chat(\n",
    "    model='llama3.2',\n",
    "    messages=[\n",
    "        {'role': 'user', 'content': 'Explain quantum computing in simple terms.'}\n",
    "    ]\n",
    ")\n",
    "\n",
    "print(response['message']['content'])\n"
   ]
  }
 ],
 "metadata": {
  "kernelspec": {
   "display_name": "Python 3",
   "language": "python",
   "name": "python3"
  },
  "language_info": {
   "codemirror_mode": {
    "name": "ipython",
    "version": 3
   },
   "file_extension": ".py",
   "mimetype": "text/x-python",
   "name": "python",
   "nbconvert_exporter": "python",
   "pygments_lexer": "ipython3",
   "version": "3.11.11"
  }
 },
 "nbformat": 4,
 "nbformat_minor": 5
}
