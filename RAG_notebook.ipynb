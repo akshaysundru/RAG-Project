{
 "cells": [
  {
   "cell_type": "markdown",
   "id": "23ebaf35",
   "metadata": {},
   "source": [
    "# Basic RAG Pipeline Modularised\n",
    "\n",
    "This notebook contains a modularised version of the codecamp tutorial code, contained under one callable function that starts the model."
   ]
  },
  {
   "cell_type": "code",
   "execution_count": 2,
   "id": "9eb2f1e4",
   "metadata": {},
   "outputs": [],
   "source": [
    "from langchain_community.document_loaders import PyPDFLoader\n",
    "from langchain.text_splitter import RecursiveCharacterTextSplitter\n",
    "from langchain_huggingface import HuggingFaceEmbeddings\n",
    "import ollama\n",
    "from langchain_ollama import OllamaLLM\n",
    "from langchain_chroma import Chroma\n",
    "from langchain.prompts import PromptTemplate\n",
    "import os"
   ]
  },
  {
   "cell_type": "code",
   "execution_count": null,
   "id": "4d1645cb",
   "metadata": {},
   "outputs": [],
   "source": [
    "MODEL_NAME = \"llama3.2\""
   ]
  },
  {
   "cell_type": "markdown",
   "id": "42ae6a67",
   "metadata": {},
   "source": [
    "I have created a function to start a model, this will be updated to include our vector store of embedded data when the model is started."
   ]
  },
  {
   "cell_type": "code",
   "execution_count": 3,
   "id": "d7f8c318",
   "metadata": {},
   "outputs": [],
   "source": [
    "def load_docs():\n",
    "    \n",
    "    document_loader = []\n",
    "\n",
    "    for root, dirs, files in os.walk(\".\"):\n",
    "        # Skip chroma_db folder\n",
    "        if \"chroma_db\" in root or \"git\" in root:\n",
    "            continue\n",
    "        for file in files:\n",
    "            if file.endswith(\".pdf\"):\n",
    "                document_loader.append(file)\n",
    "\n",
    "    return document_loader"
   ]
  },
  {
   "cell_type": "code",
   "execution_count": 4,
   "id": "afcce31a",
   "metadata": {},
   "outputs": [
    {
     "data": {
      "text/plain": [
       "['Lecture 4 Faraday’s law and induction.pdf',\n",
       " 'Lecture 1 Magnetic fields and magnetic force.pdf']"
      ]
     },
     "execution_count": 4,
     "metadata": {},
     "output_type": "execute_result"
    }
   ],
   "source": [
    "document_loader = load_docs()\n",
    "document_loader"
   ]
  },
  {
   "cell_type": "code",
   "execution_count": 5,
   "id": "f56235b4",
   "metadata": {},
   "outputs": [],
   "source": [
    "embedding_model =\"sentence-transformers/all-MiniLM-L6-v2\" #embedding matrix model\n",
    "\n",
    "def embed_splitting(document_loader, embedding_model):\n",
    "    embeddings = HuggingFaceEmbeddings(model = embedding_model, encode_kwargs={'normalize_embeddings': True})\n",
    "\n",
    "    doc_store = []\n",
    "    for file in document_loader:\n",
    "        loader = PyPDFLoader(file)\n",
    "        doc = loader.load()\n",
    "        doc_store += doc\n",
    "\n",
    "    text_splitter = RecursiveCharacterTextSplitter.from_tiktoken_encoder(\n",
    "        chunk_size = 400,\n",
    "        chunk_overlap = 64\n",
    "        )\n",
    "    \n",
    "    #Make splits\n",
    "    splits = text_splitter.split_documents(doc_store)\n",
    "\n",
    "    return embeddings, splits"
   ]
  },
  {
   "cell_type": "code",
   "execution_count": 6,
   "id": "a6f5241a",
   "metadata": {},
   "outputs": [],
   "source": [
    "embeddings, splits = embed_splitting(document_loader, embedding_model)\n",
    "\n",
    "vectorstore = Chroma.from_documents(\n",
    "        documents=splits,  # these are already LangChain `Document` objects\n",
    "        embedding=embeddings,\n",
    "        collection_name=\"circuit_docs\",\n",
    "        persist_directory=\"./chroma_db\"\n",
    "    )\n"
   ]
  },
  {
   "cell_type": "code",
   "execution_count": 7,
   "id": "4dedad5b",
   "metadata": {},
   "outputs": [],
   "source": [
    "# create the retriever object once\n",
    "retriever = vectorstore.as_retriever(search_kwargs={'k': 3})\n",
    "\n",
    "# define your function to query it\n",
    "def context_retriever(retriever_obj, input_context: str):\n",
    "    return retriever_obj.invoke(input_context)\n",
    "\n",
    "# call the function with retriever and query string\n",
    "results = context_retriever(retriever, \"Explain Faraday's and Lenz's law\")"
   ]
  },
  {
   "cell_type": "code",
   "execution_count": 8,
   "id": "4abd227e",
   "metadata": {},
   "outputs": [
    {
     "name": "stdout",
     "output_type": "stream",
     "text": [
      "[Document(id='7f428148-0968-4f8d-9913-8cf3bac1cca1', metadata={'total_pages': 10, 'page': 0, 'creationdate': \"D:20230224061645Z00'00'\", 'moddate': \"D:20230311062840Z00'00'\", 'author': 'David Gozzard', 'creator': 'Microsoft® Word 2016', 'source': 'Lecture 4 Faraday’s law and induction.pdf', 'page_label': '1', 'producer': 'macOS Version 12.5 (Build 21G72) Quartz PDFContext, AppendMode 1.1'}, page_content='PHYS2003: Physics for Electrical Engineers, semester 1 2023 \\nLecture 4 \\n1 \\n \\nLecture 4: Faraday’s law and induction \\nLearning outcomes \\nAssessable \\n• Use Faraday’s law and Lenz’s law to calculate induced current and emf. \\n• Calculate energy transfer due to induction. \\nUnderstanding \\n• Visualize and conceptually explain induced currents and electric fields. \\n1. Summary \\nThis lecture will cover Faraday’s law, Lenz’s law, and induction and energy transfer. \\nConsider a loop of conducting wire connected to an ammeter. If we move a bar magnet \\ntowards the loop, we will observe: \\n1. A current appears only when the magnetic is moving relative to the loop. \\n2. Faster movement causes a greater current. \\n3. The direction of current differs depending on whether the north or south pole of the \\nmagnet is towards the loop. \\nThe current produced in the loop is called induced current. The work done per unit charge \\nto produce the current is called the induced emf.  \\nIf we use a second loop of conducting wire connected to a current source (battery) to \\ngenerate a magnetic dipole near the loop connected to the ammeter, we observe the same \\nactions as above with the addition that: \\n4. A current is only observed in the first loop when during brief periods when the \\ncurrent in the second loop is switch on an off. No induced current is observed in the \\nfirst loop when the current in the second loop is in a steady state. \\n \\nFigure 1: A bar magnetic being used to induced a current in a coil. [Image: All About Circuits]'), Document(id='9f37e5b4-ddba-40d8-9a0e-3271eedb9f3d', metadata={'author': 'David Gozzard', 'producer': 'macOS Version 12.5 (Build 21G72) Quartz PDFContext, AppendMode 1.1', 'source': 'Lecture 4 Faraday’s law and induction.pdf', 'page_label': '2', 'moddate': \"D:20230311062840Z00'00'\", 'total_pages': 10, 'page': 1, 'creationdate': \"D:20230224061645Z00'00'\", 'creator': 'Microsoft® Word 2016'}, page_content='Formally, we write Faraday’s law as: \\n  ℰ = −\\n𝑑𝛷𝐵\\n𝑑𝑡  (4.4) \\nThe minus sign indicated that the induced emf acts to oppose the change of flux in the \\nloop. \\nIn an ideal (closely packed) coil of 𝑁 turns, the equation becomes: \\n  ℰ = −𝑁\\n𝑑𝛷𝐵\\n𝑑𝑡  (4.5) \\nThere are many ways to change the flux through a coil, including: \\n1. Change the magnitude of 𝐵, \\n2. Change the area of the coil, or the region of the coil exposed to the magnetic field, \\nand \\n3. Change the angle of the plane of the coil relative to 𝐵⃗ . \\n \\nIn other units, you may see electric flux defined similarly as: \\n𝛷𝐸 = ∫𝐸⃗ ∙ 𝑑𝐴  \\nFaraday’s law of induction: \\nThe magnitude of emf ℰ induced in a conducting loop is equal to the rate at which the \\nmagnetic flux 𝛷𝐵 through the loop changes with time.'), Document(id='b99a1bdc-2c44-4f75-a5e8-5468753ab6ad', metadata={'page_label': '2', 'creationdate': \"D:20230224061645Z00'00'\", 'moddate': \"D:20230311062840Z00'00'\", 'author': 'David Gozzard', 'creator': 'Microsoft® Word 2016', 'source': 'Lecture 4 Faraday’s law and induction.pdf', 'page': 1, 'total_pages': 10, 'producer': 'macOS Version 12.5 (Build 21G72) Quartz PDFContext, AppendMode 1.1'}, page_content='PHYS2003: Physics for Electrical Engineers, semester 1 2023 \\nLecture 4 \\n2 \\n \\n2. Faraday’s law of induction \\nInduced emf and current is caused by changing the amount of magnetic field passing \\nthrough the conducting loop. This is Faraday’s law of induction. \\nWe refer to the amount of magnetic field as magnetic flux which is defined as: \\n  𝛷𝐵 = ∫𝐵⃗ ∙ 𝑑𝐴  (4.1) \\nwhere 𝐵⃗  is the magnetic field enclosed by a conducting loop of area 𝐴. \\n \\nIn the case where the magnetic field is perpendicular to the plane of the loop, we can write \\nthe dot product as 𝐵 𝑑𝐴 cos0 = 𝐵 𝑑𝐴. If the magnetic field is uniform, then 𝐵⃗  can be \\nbrought out the front of the integral and we get: \\n  𝛷𝐵 = 𝐵𝐴 (4.2) \\nFrom eqtn 4.2 we can see that the unit of magnetic flux must be tesla-square metres, which \\nis also called weber. \\n  1 𝑤𝑒𝑏𝑒𝑟 = 1 𝑊𝑏 = 1 𝑇 ∙ 𝑚2 (4.3) \\n \\nFormally, we write Faraday’s law as: \\n  ℰ = −\\n𝑑𝛷𝐵\\n𝑑𝑡  (4.4)')]\n"
     ]
    }
   ],
   "source": [
    "print(results)"
   ]
  },
  {
   "cell_type": "code",
   "execution_count": null,
   "id": "1ea09020",
   "metadata": {},
   "outputs": [],
   "source": [
    "#We need to create functions that create embeddings, load documents and split text"
   ]
  },
  {
   "cell_type": "code",
   "execution_count": null,
   "id": "99e99b3c",
   "metadata": {},
   "outputs": [],
   "source": [
    "def pipeline_combined(model_name = MODEL_NAME):\n",
    "\n",
    "    llm = OllamaLLM(model = MODEL_NAME)\n",
    "\n",
    "    template = \"\"\"Answer the following question only using the following context:\n",
    "    {context}\n",
    "\n",
    "    If the answer is not contained in the context, respond with:\n",
    "    \"I cannot answer this question because the necessary information was not found in the provided documents.\"\n",
    "\n",
    "    When answering, include the **source file name** and **slide/page number** if available.\n",
    "\n",
    "    Question: {question}\n",
    "    \"\"\"\n",
    "\n",
    "    prompt = PromptTemplate.from_template(template)\n",
    "    chain = prompt | llm\n",
    "    print(f\"\\n Model {model_name} has been initiated. Please feel free to ask any questions or type 'exit' to end this session\")\n",
    "    \n",
    "    while True:\n",
    "        user_input = input(\"You:\")\n",
    "        if user_input.lower() in ['exit', 'quit']:\n",
    "            print(\"Have a good day.\")\n",
    "            break\n",
    "\n",
    "        context_docs = context_retriever(retriever, user_input)\n",
    "\n",
    "        context = \"\\n\\n\".join(\n",
    "        f\"Source: {doc.metadata.get('source', 'unknown')}, Page: {doc.metadata.get('page', 'unknown')}\\n{doc.page_content}\"\n",
    "        for doc in context_docs\n",
    "        )\n",
    "\n",
    "        # Pass context and question into the chain\n",
    "        response = chain.invoke({\n",
    "            \"context\": context,\n",
    "            \"question\": user_input\n",
    "        })\n",
    "\n",
    "        print(f\"LLM: {response}\\n\")"
   ]
  },
  {
   "cell_type": "code",
   "execution_count": null,
   "id": "9670c90e",
   "metadata": {},
   "outputs": [],
   "source": [
    "pipeline_combined()"
   ]
  }
 ],
 "metadata": {
  "kernelspec": {
   "display_name": "LLM_Train",
   "language": "python",
   "name": "python3"
  },
  "language_info": {
   "codemirror_mode": {
    "name": "ipython",
    "version": 3
   },
   "file_extension": ".py",
   "mimetype": "text/x-python",
   "name": "python",
   "nbconvert_exporter": "python",
   "pygments_lexer": "ipython3",
   "version": "3.11.8"
  }
 },
 "nbformat": 4,
 "nbformat_minor": 5
}
