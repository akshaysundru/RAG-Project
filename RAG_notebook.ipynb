{
 "cells": [
  {
   "cell_type": "markdown",
   "id": "23ebaf35",
   "metadata": {},
   "source": [
    "# Basic RAG Pipeline Modularised\n",
    "\n",
    "This notebook contains a modularised version of the codecamp tutorial code, contained under one callable function that starts the model."
   ]
  },
  {
   "cell_type": "code",
   "execution_count": 1,
   "id": "9eb2f1e4",
   "metadata": {},
   "outputs": [],
   "source": [
    "from langchain_community.document_loaders import PyPDFLoader\n",
    "from langchain.text_splitter import RecursiveCharacterTextSplitter\n",
    "from langchain_huggingface import HuggingFaceEmbeddings\n",
    "from langchain_ollama import OllamaLLM\n",
    "import faiss\n",
    "from langchain_community.docstore.in_memory import InMemoryDocstore\n",
    "from langchain_community.vectorstores import FAISS\n",
    "from langchain.prompts import PromptTemplate\n",
    "import os\n",
    "import numpy as np"
   ]
  },
  {
   "cell_type": "code",
   "execution_count": 2,
   "id": "b15d6991",
   "metadata": {},
   "outputs": [],
   "source": [
    "from langchain_community.retrievers import BM25Retriever\n",
    "from langchain.retrievers import EnsembleRetriever"
   ]
  },
  {
   "cell_type": "code",
   "execution_count": 4,
   "id": "4d1645cb",
   "metadata": {},
   "outputs": [],
   "source": [
    "MODEL_NAME = \"llama3.2\""
   ]
  },
  {
   "cell_type": "markdown",
   "id": "42ae6a67",
   "metadata": {},
   "source": [
    "I have created a function to start a model, this will be updated to include our vector store of embedded data when the model is started."
   ]
  },
  {
   "cell_type": "code",
   "execution_count": 5,
   "id": "d7f8c318",
   "metadata": {},
   "outputs": [],
   "source": [
    "def load_docs():\n",
    "    \n",
    "    document_loader = []\n",
    "\n",
    "    for root, dirs, files in os.walk(\".\"):\n",
    "        # Skip chroma_db folder\n",
    "        if \"faiss\" in root or \"git\" in root:\n",
    "            continue\n",
    "        for file in files:\n",
    "            if file.endswith(\".pdf\"):\n",
    "                document_loader.append(file)\n",
    "\n",
    "    return document_loader"
   ]
  },
  {
   "cell_type": "code",
   "execution_count": 6,
   "id": "afcce31a",
   "metadata": {},
   "outputs": [
    {
     "data": {
      "text/plain": [
       "['ENSC3016_Course_Notes_Part_1_Electromagnetism_Transformers.pdf',\n",
       " 'ENSC3016_Course_Notes_Part_2_Electric_Machines.pdf',\n",
       " 'Electric Machinery Fundamentals Textbook -- Chapman.pdf',\n",
       " 'ENSC3016 Study Guide 1-Review of Circuit Fundamentals.pdf',\n",
       " 'Three Phase Power System Fundamentals.pdf']"
      ]
     },
     "execution_count": 6,
     "metadata": {},
     "output_type": "execute_result"
    }
   ],
   "source": [
    "document_loader = load_docs()\n",
    "document_loader"
   ]
  },
  {
   "cell_type": "code",
   "execution_count": 7,
   "id": "f56235b4",
   "metadata": {},
   "outputs": [],
   "source": [
    "embedding_model =\"sentence-transformers/all-MiniLM-L6-v2\" #embedding matrix model\n",
    "\n",
    "def embed_splitting(document_loader, embedding_model):\n",
    "    embeddings = HuggingFaceEmbeddings(model = embedding_model, encode_kwargs={'normalize_embeddings': True})\n",
    "\n",
    "    doc_store = []\n",
    "    for file in document_loader:\n",
    "        loader = PyPDFLoader(file)\n",
    "        doc = loader.load()\n",
    "        doc_store += doc\n",
    "\n",
    "    text_splitter = RecursiveCharacterTextSplitter.from_tiktoken_encoder(\n",
    "        chunk_size = 400,\n",
    "        chunk_overlap = 64\n",
    "        )\n",
    "    \n",
    "    #Make splits\n",
    "    splits = text_splitter.split_documents(doc_store)\n",
    "\n",
    "    return embeddings, splits\n"
   ]
  },
  {
   "cell_type": "code",
   "execution_count": 8,
   "id": "cb6b167b",
   "metadata": {},
   "outputs": [],
   "source": [
    "embeddings, splits = embed_splitting(document_loader, embedding_model)"
   ]
  },
  {
   "cell_type": "code",
   "execution_count": 9,
   "id": "2932919d",
   "metadata": {},
   "outputs": [
    {
     "data": {
      "text/plain": [
       "HuggingFaceEmbeddings(model_name='sentence-transformers/all-MiniLM-L6-v2', cache_folder=None, model_kwargs={}, encode_kwargs={'normalize_embeddings': True}, query_encode_kwargs={}, multi_process=False, show_progress=False)"
      ]
     },
     "execution_count": 9,
     "metadata": {},
     "output_type": "execute_result"
    }
   ],
   "source": [
    "embeddings"
   ]
  },
  {
   "cell_type": "code",
   "execution_count": 10,
   "id": "fc7a4dc3",
   "metadata": {},
   "outputs": [
    {
     "data": {
      "text/plain": [
       "402"
      ]
     },
     "execution_count": 10,
     "metadata": {},
     "output_type": "execute_result"
    }
   ],
   "source": [
    "len(splits)"
   ]
  },
  {
   "cell_type": "code",
   "execution_count": 11,
   "id": "f8fff133",
   "metadata": {},
   "outputs": [],
   "source": [
    "def cosine_similarity(input):\n",
    "\n",
    "    input_vec = embeddings.embed_query(input)\n",
    "    texts = [doc.page_content for doc in splits]\n",
    "    vectors = embeddings.embed_documents(texts)\n",
    "\n",
    "    mag_ivec = np.linalg.norm(input_vec)\n",
    "\n",
    "    dot_product = []\n",
    "    mag_ovec = []\n",
    "\n",
    "    for context_vec in vectors:\n",
    "        dot_product.append(np.dot(input_vec, context_vec))\n",
    "        mag_ovec.append(np.linalg.norm(context_vec))\n",
    "\n",
    "    cos_sim = []\n",
    "    for i in range(len(mag_ovec)):\n",
    "        mag_ovec[i] *= mag_ivec\n",
    "        cos_sim.append(dot_product[i]/mag_ovec[i])\n",
    "\n",
    "    cossim_sort = list(enumerate(cos_sim))\n",
    "    cossim_sort.sort(key=lambda x: x[1], reverse=True)\n",
    "\n",
    "    return cossim_sort\n"
   ]
  },
  {
   "cell_type": "code",
   "execution_count": 12,
   "id": "185c93ae",
   "metadata": {},
   "outputs": [],
   "source": [
    "cossim_sort = cosine_similarity(\"Explain transformers\")"
   ]
  },
  {
   "cell_type": "code",
   "execution_count": 13,
   "id": "6f055de7",
   "metadata": {},
   "outputs": [
    {
     "name": "stdout",
     "output_type": "stream",
     "text": [
      "The number 1 document is the 106 chunk, and reads the following: \n",
      "\n",
      "Transformer 52 \n",
      " \n",
      " \n",
      " \n",
      "   Figure 6-3 Shell-type transformers. \n",
      " \n",
      " \n",
      " \n",
      "Figure 6-4 Flux plot: shell-type transformer \n",
      " \n",
      " \n",
      "Toroidal transformers exploit the remarkable properties of toroidal coils described in section 3.6. \n",
      "Although they are more expensive than shell-type transformers, the performance is better. They are used \n",
      "in high -quality electronic equipment and for instrument transformers (see section 6.3) where \n",
      "measurement accuracy is important. Typical toroidal transformers are shown in figure 6-5. \n",
      " \n",
      "Figure 6-5 Toroidal transformers.\n",
      " \n",
      " \n",
      " \n",
      "6.2 Transformer Principle: \n",
      "The action of a transformer is most easily understood if the two coils are wound on opposite sides of a \n",
      "magnetic core, as shown in the model of figure 6 -6. This form is used for some low -cost transformers, \n",
      "but the magnetic coupling is not as good as with the shell-type construction. \n",
      " \n",
      " \n",
      "Figure 6-6  Core-type transformer \n",
      " \n",
      " \n",
      " \n",
      "Figure 6 -7 is a schematic representation of the transformer. It will be assumed that the coupling is \n",
      "perfect: the same magnetic flux  passes through each turn of each coil. The coil connected to the source \n",
      "is termed the primary, and the coil connected to the load is termed the secondary. It is usual to refer to \n",
      "the coils as windings.\n",
      "\n",
      "The number 2 document is the 104 chunk, and reads the following: \n",
      "\n",
      "51 Electrical Machines and Systems                                                                                                            \n",
      " \n",
      "6 Transformer \n",
      "6.1 Introduction: \n",
      "A transformer is a practical application of magnetically coupled coils. Usually the purpose is to transfer \n",
      "energy from one coil to the other, as in figure 6-1 where energy is transferred from the AC source to the \n",
      "lamp through the space between the coils. \n",
      " \n",
      "Figure 6-1 Transformer principle \n",
      "Transformers are essentially AC devices, because there has to be a change of flux to give an induced \n",
      "voltage in a coil. There are two main reasons for transferring energy in this way: \n",
      " To provide electrical isolation between the source and the load. \n",
      " To change the voltage and current levels. \n",
      "The coils are usually placed on a common magnetic core to improve the coupling. Figure 6-2 shows the \n",
      "flux plots for two coupled coils (a) without a core, (b) with an open core, (c) with a closed core \n",
      " \n",
      "Figure 6-2 Effect of a magnetic core: \n",
      "6.1.2 Practical aspects: \n",
      "The cores for high -frequency transformers are often made from magnetically soft ferrites, which are \n",
      "electrical insulators. For power frequencies, the cores are made from an iron alloy such as silicon steel.\n",
      "\n",
      "The number 3 document is the 108 chunk, and reads the following: \n",
      "\n",
      "𝑑𝜙\n",
      "𝑑𝑡        (6 − 3) \n",
      "𝑣2 = 𝑅2𝑖2 + 𝑁2\n",
      "𝑑𝜙\n",
      "𝑑𝑡                               (6 − 4) \n",
      "The sign difference arises from the reference directions for current in the two windings. \n",
      "If the resistances R1 and R2 are negligible, then equations 6-3 and 6-4 become: \n",
      "𝑣1 ≈ 𝑁1\n",
      "𝑑𝜙\n",
      "𝑑𝑡          (6 − 5) \n",
      "𝑣2 ≈ 𝑁2\n",
      "𝑑𝜙\n",
      "𝑑𝑡         (6 − 6) \n",
      "Dividing these equations gives the important result: \n",
      "𝑣1\n",
      "𝑣2\n",
      "≈ 𝑁1\n",
      "𝑁2\n",
      "        (6 − 7) \n",
      "Thus, the secondary voltage can be made larger or smaller than the primary voltage by changing the \n",
      "ratio of the numbers of turns on the two windings. Voltage transformation is one of the most common \n",
      "uses of transformers, on a large scale in electrical power transmission and distribution, and on a small \n",
      "scale in the power supplies for electronic equipment. \n",
      "6.2.2 Sinusoidal operation: \n",
      "If the voltage source is sinusoidal, then the core flux will also be sinusoidal, so we may put:\n",
      "\n"
     ]
    }
   ],
   "source": [
    "i = 0\n",
    "while i < 3:\n",
    "    print(f\"The number {i+1} document is the {cossim_sort[i][0]} chunk, and reads the following: \\n\\n{splits[cossim_sort[i][0]].page_content}\\n\")\n",
    "    i += 1"
   ]
  },
  {
   "cell_type": "code",
   "execution_count": 14,
   "id": "76ee2d15",
   "metadata": {},
   "outputs": [
    {
     "name": "stdout",
     "output_type": "stream",
     "text": [
      "Loading FAISS index from disk...\n"
     ]
    }
   ],
   "source": [
    "dim = len(embeddings.embed_query(\"test sentence\"))\n",
    "index = faiss.IndexFlatL2(dim)\n",
    "\n",
    "if os.path.exists(\"faiss_index\"):\n",
    "    print(\"Loading FAISS index from disk...\")\n",
    "    vector_store = FAISS.load_local(\"faiss_index\", embeddings=embeddings, allow_dangerous_deserialization=True)\n",
    "else:\n",
    "    print(\"Building FAISS index from scratch...\")\n",
    "    dim = len(embeddings.embed_query(\"test sentence\"))\n",
    "    index = faiss.IndexFlatL2(dim)\n",
    "    vector_store = FAISS(\n",
    "        embedding_function=embeddings,\n",
    "        index=index,\n",
    "        docstore=InMemoryDocstore(),\n",
    "        index_to_docstore_id={},\n",
    "    )\n",
    "    vector_store.add_documents(splits)\n",
    "    vector_store.save_local(\"faiss_index\")"
   ]
  },
  {
   "cell_type": "code",
   "execution_count": null,
   "id": "4dedad5b",
   "metadata": {},
   "outputs": [
    {
     "ename": "AttributeError",
     "evalue": "'function' object has no attribute 'invoke'",
     "output_type": "error",
     "traceback": [
      "\u001b[31m---------------------------------------------------------------------------\u001b[39m",
      "\u001b[31mAttributeError\u001b[39m                            Traceback (most recent call last)",
      "\u001b[36mCell\u001b[39m\u001b[36m \u001b[39m\u001b[32mIn[28]\u001b[39m\u001b[32m, line 9\u001b[39m\n\u001b[32m      6\u001b[39m     \u001b[38;5;28;01mreturn\u001b[39;00m retriever_obj.invoke(input_context)\n\u001b[32m      8\u001b[39m \u001b[38;5;66;03m# call the function with retriever and query string\u001b[39;00m\n\u001b[32m----> \u001b[39m\u001b[32m9\u001b[39m results = \u001b[43msemantic_retriever\u001b[49m\u001b[43m(\u001b[49m\u001b[43msemantic_retriever\u001b[49m\u001b[43m,\u001b[49m\u001b[43m \u001b[49m\u001b[33;43m\"\u001b[39;49m\u001b[33;43mExplain transformers\u001b[39;49m\u001b[33;43m\"\u001b[39;49m\u001b[43m)\u001b[49m\n",
      "\u001b[36mCell\u001b[39m\u001b[36m \u001b[39m\u001b[32mIn[28]\u001b[39m\u001b[32m, line 6\u001b[39m, in \u001b[36msemantic_retriever\u001b[39m\u001b[34m(retriever_obj, input_context)\u001b[39m\n\u001b[32m      5\u001b[39m \u001b[38;5;28;01mdef\u001b[39;00m\u001b[38;5;250m \u001b[39m\u001b[34msemantic_retriever\u001b[39m(retriever_obj, input_context: \u001b[38;5;28mstr\u001b[39m):\n\u001b[32m----> \u001b[39m\u001b[32m6\u001b[39m     \u001b[38;5;28;01mreturn\u001b[39;00m \u001b[43mretriever_obj\u001b[49m\u001b[43m.\u001b[49m\u001b[43minvoke\u001b[49m(input_context)\n",
      "\u001b[31mAttributeError\u001b[39m: 'function' object has no attribute 'invoke'"
     ]
    }
   ],
   "source": [
    "# create the retriever object once\n",
    "semantic_retriever = vector_store.as_retriever(search_kwargs={'k': 4})\n",
    "\n",
    "# define your function to query it\n",
    "def semantic_search(retriever_obj, input_context: str):\n",
    "    return retriever_obj.invoke(input_context)\n",
    "\n",
    "# call the function with retriever and query string\n",
    "results = semantic_search(semantic_retriever, \"Explain transformers\")"
   ]
  },
  {
   "cell_type": "code",
   "execution_count": 16,
   "id": "9af291a6",
   "metadata": {},
   "outputs": [
    {
     "data": {
      "text/plain": [
       "VectorStoreRetriever(tags=['FAISS', 'HuggingFaceEmbeddings'], vectorstore=<langchain_community.vectorstores.faiss.FAISS object at 0x312e6b310>, search_kwargs={'k': 4})"
      ]
     },
     "execution_count": 16,
     "metadata": {},
     "output_type": "execute_result"
    }
   ],
   "source": [
    "semantic_retriever"
   ]
  },
  {
   "cell_type": "code",
   "execution_count": 17,
   "id": "10049fde",
   "metadata": {},
   "outputs": [
    {
     "data": {
      "text/plain": [
       "[Document(id='065ed451-14c6-4500-8de0-d852bce2b40a', metadata={'producer': 'Microsoft® Word 2013', 'creator': 'Microsoft® Word 2013', 'creationdate': '2019-07-27T15:04:48+08:00', 'author': 'Ali Kharrazi', 'moddate': '2019-07-27T15:04:48+08:00', 'source': 'ENSC3016_Course_Notes_Part_1_Electromagnetism_Transformers.pdf', 'total_pages': 76, 'page': 51, 'page_label': '52'}, page_content='Transformer 52 \\n \\n \\n \\n   Figure 6-3 Shell-type transformers. \\n \\n \\n \\nFigure 6-4 Flux plot: shell-type transformer \\n \\n \\nToroidal transformers exploit the remarkable properties of toroidal coils described in section 3.6. \\nAlthough they are more expensive than shell-type transformers, the performance is better. They are used \\nin high -quality electronic equipment and for instrument transformers (see section 6.3) where \\nmeasurement accuracy is important. Typical toroidal transformers are shown in figure 6-5. \\n \\nFigure 6-5 Toroidal transformers.\\uf020\\n \\n \\n \\n6.2 Transformer Principle: \\nThe action of a transformer is most easily understood if the two coils are wound on opposite sides of a \\nmagnetic core, as shown in the model of figure 6 -6. This form is used for some low -cost transformers, \\nbut the magnetic coupling is not as good as with the shell-type construction. \\n \\n \\nFigure 6-6  Core-type transformer \\n \\n \\n \\nFigure 6 -7 is a schematic representation of the transformer. It will be assumed that the coupling is \\nperfect: the same magnetic flux \\uf066 passes through each turn of each coil. The coil connected to the source \\nis termed the primary, and the coil connected to the load is termed the secondary. It is usual to refer to \\nthe coils as windings.'),\n",
       " Document(id='7af74421-2394-4f47-a3a7-a7b5d62dd448', metadata={'producer': 'Microsoft® Word 2013', 'creator': 'Microsoft® Word 2013', 'creationdate': '2019-07-27T15:04:48+08:00', 'author': 'Ali Kharrazi', 'moddate': '2019-07-27T15:04:48+08:00', 'source': 'ENSC3016_Course_Notes_Part_1_Electromagnetism_Transformers.pdf', 'total_pages': 76, 'page': 50, 'page_label': '51'}, page_content='51 Electrical Machines and Systems                                                                                                            \\n \\n6 Transformer \\n6.1 Introduction: \\nA transformer is a practical application of magnetically coupled coils. Usually the purpose is to transfer \\nenergy from one coil to the other, as in figure 6-1 where energy is transferred from the AC source to the \\nlamp through the space between the coils. \\n \\nFigure 6-1 Transformer principle \\nTransformers are essentially AC devices, because there has to be a change of flux to give an induced \\nvoltage in a coil. There are two main reasons for transferring energy in this way: \\n\\uf0b7 To provide electrical isolation between the source and the load. \\n\\uf0b7 To change the voltage and current levels. \\nThe coils are usually placed on a common magnetic core to improve the coupling. Figure 6-2 shows the \\nflux plots for two coupled coils (a) without a core, (b) with an open core, (c) with a closed core \\n \\nFigure 6-2 Effect of a magnetic core: \\n6.1.2 Practical aspects: \\nThe cores for high -frequency transformers are often made from magnetically soft ferrites, which are \\nelectrical insulators. For power frequencies, the cores are made from an iron alloy such as silicon steel.'),\n",
       " Document(id='037a3f33-3b03-4ec2-9a14-4bc18959a378', metadata={'producer': 'Microsoft® Word 2013', 'creator': 'Microsoft® Word 2013', 'creationdate': '2019-07-27T15:04:48+08:00', 'author': 'Ali Kharrazi', 'moddate': '2019-07-27T15:04:48+08:00', 'source': 'ENSC3016_Course_Notes_Part_1_Electromagnetism_Transformers.pdf', 'total_pages': 76, 'page': 52, 'page_label': '53'}, page_content='𝑑𝜙\\n𝑑𝑡        (6 − 3) \\n𝑣2 = 𝑅2𝑖2 + 𝑁2\\n𝑑𝜙\\n𝑑𝑡                               (6 − 4) \\nThe sign difference arises from the reference directions for current in the two windings. \\nIf the resistances R1 and R2 are negligible, then equations 6-3 and 6-4 become: \\n𝑣1 ≈ 𝑁1\\n𝑑𝜙\\n𝑑𝑡          (6 − 5) \\n𝑣2 ≈ 𝑁2\\n𝑑𝜙\\n𝑑𝑡         (6 − 6) \\nDividing these equations gives the important result: \\n𝑣1\\n𝑣2\\n≈ 𝑁1\\n𝑁2\\n        (6 − 7) \\nThus, the secondary voltage can be made larger or smaller than the primary voltage by changing the \\nratio of the numbers of turns on the two windings. Voltage transformation is one of the most common \\nuses of transformers, on a large scale in electrical power transmission and distribution, and on a small \\nscale in the power supplies for electronic equipment. \\n6.2.2 Sinusoidal operation: \\nIf the voltage source is sinusoidal, then the core flux will also be sinusoidal, so we may put:'),\n",
       " Document(id='075b050a-e479-422d-ac4f-5d6f70982fcb', metadata={'producer': 'Microsoft® Word 2013', 'creator': 'Microsoft® Word 2013', 'creationdate': '2019-07-27T15:04:48+08:00', 'author': 'Ali Kharrazi', 'moddate': '2019-07-27T15:04:48+08:00', 'source': 'ENSC3016_Course_Notes_Part_1_Electromagnetism_Transformers.pdf', 'total_pages': 76, 'page': 55, 'page_label': '56'}, page_content='𝑽𝒔 = 𝑽𝟏 + 𝑽𝟐 = 𝟐𝑽𝟐 = 𝟐𝑽𝑳        (6 − 22) \\n𝑰𝑳 = 𝑰𝟏 + 𝑰𝟐 = 𝟐𝑰𝟏 = 𝟐𝑰𝑳            (6 − 23) \\nWhere VL is the voltage across the load and IS is the current supplied by the source. This auto-wound \\ntransformer behaves as a step-down transformer with a ratio of 2:1, and the current in each winding is \\nequal to half of the load current. \\nAn elegant application of the auto-wound transformer principle is the variable transformer, which has a \\nsingle-layer coil wound on a toroidal core. The output is taken from a carbon brush that makes contact \\nwith the surface of the coil; the brush can be moved smoothly from one end of the coil to the other, thus \\nvarying the output voltage. Examples of variable transformers are shown in figure 6-10. \\n \\n     \\n      Figure 6-10 Variable transformers. \\n \\n \\n \\n6.3.2 3 Phase Transformer: \\nIn 3 -phase systems, it is common practice to use sets of three single -phase transformers. It is also \\npossible, however, to make 3 -phase transformers with three sets of windings on three limbs of a core, \\nas shown in figure 6-11. \\n \\nFigure 6-11 3-phase transformer model')]"
      ]
     },
     "execution_count": 17,
     "metadata": {},
     "output_type": "execute_result"
    }
   ],
   "source": [
    "results"
   ]
  },
  {
   "cell_type": "code",
   "execution_count": 18,
   "id": "4abd227e",
   "metadata": {},
   "outputs": [
    {
     "name": "stdout",
     "output_type": "stream",
     "text": [
      "1 \n",
      "\n",
      "Transformer 52 \n",
      " \n",
      " \n",
      " \n",
      "   Figure 6-3 Shell-type transformers. \n",
      " \n",
      " \n",
      " \n",
      "Figure 6-4 Flux plot: shell-type transformer \n",
      " \n",
      " \n",
      "Toroidal transformers exploit the remarkable properties of toroidal coils described in section 3.6. \n",
      "Although they are more expensive than shell-type transformers, the performance is better. They are used \n",
      "in high -quality electronic equipment and for instrument transformers (see section 6.3) where \n",
      "measurement accuracy is important. Typical toroidal transformers are shown in figure 6-5. \n",
      " \n",
      "Figure 6-5 Toroidal transformers.\n",
      " \n",
      " \n",
      " \n",
      "6.2 Transformer Principle: \n",
      "The action of a transformer is most easily understood if the two coils are wound on opposite sides of a \n",
      "magnetic core, as shown in the model of figure 6 -6. This form is used for some low -cost transformers, \n",
      "but the magnetic coupling is not as good as with the shell-type construction. \n",
      " \n",
      " \n",
      "Figure 6-6  Core-type transformer \n",
      " \n",
      " \n",
      " \n",
      "Figure 6 -7 is a schematic representation of the transformer. It will be assumed that the coupling is \n",
      "perfect: the same magnetic flux  passes through each turn of each coil. The coil connected to the source \n",
      "is termed the primary, and the coil connected to the load is termed the secondary. It is usual to refer to \n",
      "the coils as windings. \n",
      "\n",
      "2 \n",
      "\n",
      "51 Electrical Machines and Systems                                                                                                            \n",
      " \n",
      "6 Transformer \n",
      "6.1 Introduction: \n",
      "A transformer is a practical application of magnetically coupled coils. Usually the purpose is to transfer \n",
      "energy from one coil to the other, as in figure 6-1 where energy is transferred from the AC source to the \n",
      "lamp through the space between the coils. \n",
      " \n",
      "Figure 6-1 Transformer principle \n",
      "Transformers are essentially AC devices, because there has to be a change of flux to give an induced \n",
      "voltage in a coil. There are two main reasons for transferring energy in this way: \n",
      " To provide electrical isolation between the source and the load. \n",
      " To change the voltage and current levels. \n",
      "The coils are usually placed on a common magnetic core to improve the coupling. Figure 6-2 shows the \n",
      "flux plots for two coupled coils (a) without a core, (b) with an open core, (c) with a closed core \n",
      " \n",
      "Figure 6-2 Effect of a magnetic core: \n",
      "6.1.2 Practical aspects: \n",
      "The cores for high -frequency transformers are often made from magnetically soft ferrites, which are \n",
      "electrical insulators. For power frequencies, the cores are made from an iron alloy such as silicon steel. \n",
      "\n",
      "3 \n",
      "\n",
      "𝑑𝜙\n",
      "𝑑𝑡        (6 − 3) \n",
      "𝑣2 = 𝑅2𝑖2 + 𝑁2\n",
      "𝑑𝜙\n",
      "𝑑𝑡                               (6 − 4) \n",
      "The sign difference arises from the reference directions for current in the two windings. \n",
      "If the resistances R1 and R2 are negligible, then equations 6-3 and 6-4 become: \n",
      "𝑣1 ≈ 𝑁1\n",
      "𝑑𝜙\n",
      "𝑑𝑡          (6 − 5) \n",
      "𝑣2 ≈ 𝑁2\n",
      "𝑑𝜙\n",
      "𝑑𝑡         (6 − 6) \n",
      "Dividing these equations gives the important result: \n",
      "𝑣1\n",
      "𝑣2\n",
      "≈ 𝑁1\n",
      "𝑁2\n",
      "        (6 − 7) \n",
      "Thus, the secondary voltage can be made larger or smaller than the primary voltage by changing the \n",
      "ratio of the numbers of turns on the two windings. Voltage transformation is one of the most common \n",
      "uses of transformers, on a large scale in electrical power transmission and distribution, and on a small \n",
      "scale in the power supplies for electronic equipment. \n",
      "6.2.2 Sinusoidal operation: \n",
      "If the voltage source is sinusoidal, then the core flux will also be sinusoidal, so we may put: \n",
      "\n",
      "4 \n",
      "\n",
      "𝑽𝒔 = 𝑽𝟏 + 𝑽𝟐 = 𝟐𝑽𝟐 = 𝟐𝑽𝑳        (6 − 22) \n",
      "𝑰𝑳 = 𝑰𝟏 + 𝑰𝟐 = 𝟐𝑰𝟏 = 𝟐𝑰𝑳            (6 − 23) \n",
      "Where VL is the voltage across the load and IS is the current supplied by the source. This auto-wound \n",
      "transformer behaves as a step-down transformer with a ratio of 2:1, and the current in each winding is \n",
      "equal to half of the load current. \n",
      "An elegant application of the auto-wound transformer principle is the variable transformer, which has a \n",
      "single-layer coil wound on a toroidal core. The output is taken from a carbon brush that makes contact \n",
      "with the surface of the coil; the brush can be moved smoothly from one end of the coil to the other, thus \n",
      "varying the output voltage. Examples of variable transformers are shown in figure 6-10. \n",
      " \n",
      "     \n",
      "      Figure 6-10 Variable transformers. \n",
      " \n",
      " \n",
      " \n",
      "6.3.2 3 Phase Transformer: \n",
      "In 3 -phase systems, it is common practice to use sets of three single -phase transformers. It is also \n",
      "possible, however, to make 3 -phase transformers with three sets of windings on three limbs of a core, \n",
      "as shown in figure 6-11. \n",
      " \n",
      "Figure 6-11 3-phase transformer model \n",
      "\n"
     ]
    }
   ],
   "source": [
    "for i, doc in enumerate(results):\n",
    "    print(i+1, \"\\n\")\n",
    "    print(doc.page_content, \"\\n\")"
   ]
  },
  {
   "cell_type": "code",
   "execution_count": 19,
   "id": "f0ce75a9",
   "metadata": {},
   "outputs": [],
   "source": [
    "bm25_retriever = BM25Retriever.from_documents(splits)\n",
    "bm25_retriever.k = 4\n",
    "\n",
    "def bm25_keyword_search_lc(query):\n",
    "    return bm25_retriever.invoke(query)"
   ]
  },
  {
   "cell_type": "code",
   "execution_count": 20,
   "id": "1a04f5ea",
   "metadata": {},
   "outputs": [
    {
     "name": "stdout",
     "output_type": "stream",
     "text": [
      "Document 1:\n",
      "65 Electrical Machines and Systems                                                                                                            \n",
      "6.8 Current Transformers \n",
      "Instrument transformers are special transformers for extending the range of measur ing instruments. \n",
      "There are two basic types: voltage transformers for measuring high voltages, and current transformers \n",
      "for measuring high currents. Using transformers for voltage measurement is similar in principle to the \n",
      "ordinary use of transformers to ch ange voltage levels, so it will not be considered further. Current \n",
      "transformers, on the other hand, need special consideration. These are usually toroidal transformers with \n",
      "high-quality core material. \n",
      "Figure 6-25 shows a load connected to a source. The primary of a current transformer is in series with \n",
      "the load, and the secondary is connected to a meter \n",
      "  \n",
      "Figure 6-25 Use of a current transformer \n",
      " \n",
      " \n",
      "Equation 6-19 gives: \n",
      "𝐼𝑀 ≈ 𝑁1\n",
      "𝑁2\n",
      "𝐼𝐿     𝑜𝑟  𝐼𝐿 ≈ 𝑁1\n",
      "𝑁2\n",
      "𝐼𝑀           (6 − 53)\n",
      "\n",
      "Document 2:\n",
      "Transformer 52 \n",
      " \n",
      " \n",
      " \n",
      "   Figure 6-3 Shell-type transformers. \n",
      " \n",
      " \n",
      " \n",
      "Figure 6-4 Flux plot: shell-type transformer \n",
      " \n",
      " \n",
      "Toroidal transformers exploit the remarkable properties of toroidal coils described in section 3.6. \n",
      "Although they are more expensive than shell-type transformers, the performance is better. They are used \n",
      "in high -quality electronic equipment and for instrument transformers (see section 6.3) where \n",
      "measurement accuracy is important. Typical toroidal transformers are shown in figure 6-5. \n",
      " \n",
      "Figure 6-5 Toroidal transformers.\n",
      " \n",
      " \n",
      " \n",
      "6.2 Transformer Principle: \n",
      "The action of a transformer is most easily understood if the two coils are wound on opposite sides of a \n",
      "magnetic core, as shown in the model of figure 6 -6. This form is used for some low -cost transformers, \n",
      "but the magnetic coupling is not as good as with the shell-type construction. \n",
      " \n",
      " \n",
      "Figure 6-6  Core-type transformer \n",
      " \n",
      " \n",
      " \n",
      "Figure 6 -7 is a schematic representation of the transformer. It will be assumed that the coupling is \n",
      "perfect: the same magnetic flux  passes through each turn of each coil. The coil connected to the source \n",
      "is termed the primary, and the coil connected to the load is termed the secondary. It is usual to refer to \n",
      "the coils as windings.\n",
      "\n",
      "Document 3:\n",
      "6.1.2 Practical aspects: \n",
      "The cores for high -frequency transformers are often made from magnetically soft ferrites, which are \n",
      "electrical insulators. For power frequencies, the cores are made from an iron alloy such as silicon steel. \n",
      "These materials have better magnetic properties than ferrites, but they are also electrical conductors. If \n",
      "the core were made of solid steel, currents – known as eddy currents – would be induced in the core by \n",
      "the alternating magnetic flux.  Steel transformer cores are therefore made from thin laminations, \n",
      "insulated from one another, to minimise eddy currents [1, 6]. \n",
      "Small power transformers are commonly made with the shell -type construction shown in figure 6 -3, \n",
      "where the coils are wound on the central limb of the core, and the two outer limbs provide symmetrical \n",
      "flux return paths. The centre limb is twice the width of the outer limbs because it carries twice the flux, \n",
      "as shown by the flux plot in figure 6-4.\n",
      "\n",
      "Document 4:\n",
      "31. \n",
      " \n",
      " \n",
      " \n",
      " \n",
      "Figure 6-31 E I laminations \n",
      "The center limb is twice the width of the outer limbs because it carries twice the flux, as shown by \n",
      "the flux plot in figure 6-32. \n",
      " \n",
      "Figure 6-32  Flux Plot: Shell type transformer \n",
      "The coils are wound on a bobbin that fits the center limb of the core, and the core is assembled \n",
      "by inserting E laminations alternately from each side and adding matching I laminations. \n",
      "Dimensions are chosen so that two E and two I laminations can be punched from a rectangular steel \n",
      "sheet without any waste. Current flowing in the resistance of the transformer windings will produce \n",
      "heat, which must escape through the surface of the windings. In addition, there will be power loss in \n",
      "the core, which also appears as heat. \n",
      "The power output from a given size of transformer is governed by the rate at which heat can be \n",
      "removed. Large transformers are usually cooled by circulating oil, but small transformers rely on\n",
      "\n"
     ]
    }
   ],
   "source": [
    "keyword_results = bm25_keyword_search_lc(\"Explan transformers\")\n",
    "for i, doc in enumerate(keyword_results):\n",
    "    print(f\"Document {i+1}:\\n{doc.page_content}\\n\")"
   ]
  },
  {
   "cell_type": "code",
   "execution_count": 21,
   "id": "9dcab85e",
   "metadata": {},
   "outputs": [
    {
     "data": {
      "text/plain": [
       "[Document(metadata={'producer': 'Microsoft® Word 2013', 'creator': 'Microsoft® Word 2013', 'creationdate': '2019-07-27T15:04:48+08:00', 'author': 'Ali Kharrazi', 'moddate': '2019-07-27T15:04:48+08:00', 'source': 'ENSC3016_Course_Notes_Part_1_Electromagnetism_Transformers.pdf', 'total_pages': 76, 'page': 64, 'page_label': '65'}, page_content='65 Electrical Machines and Systems                                                                                                            \\n6.8 Current Transformers \\nInstrument transformers are special transformers for extending the range of measur ing instruments. \\nThere are two basic types: voltage transformers for measuring high voltages, and current transformers \\nfor measuring high currents. Using transformers for voltage measurement is similar in principle to the \\nordinary use of transformers to ch ange voltage levels, so it will not be considered further. Current \\ntransformers, on the other hand, need special consideration. These are usually toroidal transformers with \\nhigh-quality core material. \\nFigure 6-25 shows a load connected to a source. The primary of a current transformer is in series with \\nthe load, and the secondary is connected to a meter \\n  \\nFigure 6-25 Use of a current transformer \\n \\n \\nEquation 6-19 gives: \\n𝐼𝑀 ≈ 𝑁1\\n𝑁2\\n𝐼𝐿     𝑜𝑟  𝐼𝐿 ≈ 𝑁1\\n𝑁2\\n𝐼𝑀           (6 − 53)'),\n",
       " Document(metadata={'producer': 'Microsoft® Word 2013', 'creator': 'Microsoft® Word 2013', 'creationdate': '2019-07-27T15:04:48+08:00', 'author': 'Ali Kharrazi', 'moddate': '2019-07-27T15:04:48+08:00', 'source': 'ENSC3016_Course_Notes_Part_1_Electromagnetism_Transformers.pdf', 'total_pages': 76, 'page': 51, 'page_label': '52'}, page_content='Transformer 52 \\n \\n \\n \\n   Figure 6-3 Shell-type transformers. \\n \\n \\n \\nFigure 6-4 Flux plot: shell-type transformer \\n \\n \\nToroidal transformers exploit the remarkable properties of toroidal coils described in section 3.6. \\nAlthough they are more expensive than shell-type transformers, the performance is better. They are used \\nin high -quality electronic equipment and for instrument transformers (see section 6.3) where \\nmeasurement accuracy is important. Typical toroidal transformers are shown in figure 6-5. \\n \\nFigure 6-5 Toroidal transformers.\\uf020\\n \\n \\n \\n6.2 Transformer Principle: \\nThe action of a transformer is most easily understood if the two coils are wound on opposite sides of a \\nmagnetic core, as shown in the model of figure 6 -6. This form is used for some low -cost transformers, \\nbut the magnetic coupling is not as good as with the shell-type construction. \\n \\n \\nFigure 6-6  Core-type transformer \\n \\n \\n \\nFigure 6 -7 is a schematic representation of the transformer. It will be assumed that the coupling is \\nperfect: the same magnetic flux \\uf066 passes through each turn of each coil. The coil connected to the source \\nis termed the primary, and the coil connected to the load is termed the secondary. It is usual to refer to \\nthe coils as windings.'),\n",
       " Document(metadata={'producer': 'Microsoft® Word 2013', 'creator': 'Microsoft® Word 2013', 'creationdate': '2019-07-27T15:04:48+08:00', 'author': 'Ali Kharrazi', 'moddate': '2019-07-27T15:04:48+08:00', 'source': 'ENSC3016_Course_Notes_Part_1_Electromagnetism_Transformers.pdf', 'total_pages': 76, 'page': 50, 'page_label': '51'}, page_content='6.1.2 Practical aspects: \\nThe cores for high -frequency transformers are often made from magnetically soft ferrites, which are \\nelectrical insulators. For power frequencies, the cores are made from an iron alloy such as silicon steel. \\nThese materials have better magnetic properties than ferrites, but they are also electrical conductors. If \\nthe core were made of solid steel, currents – known as eddy currents – would be induced in the core by \\nthe alternating magnetic flux.  Steel transformer cores are therefore made from thin laminations, \\ninsulated from one another, to minimise eddy currents [1, 6]. \\nSmall power transformers are commonly made with the shell -type construction shown in figure 6 -3, \\nwhere the coils are wound on the central limb of the core, and the two outer limbs provide symmetrical \\nflux return paths. The centre limb is twice the width of the outer limbs because it carries twice the flux, \\nas shown by the flux plot in figure 6-4.'),\n",
       " Document(metadata={'producer': 'Microsoft® Word 2013', 'creator': 'Microsoft® Word 2013', 'creationdate': '2019-07-27T15:04:48+08:00', 'author': 'Ali Kharrazi', 'moddate': '2019-07-27T15:04:48+08:00', 'source': 'ENSC3016_Course_Notes_Part_1_Electromagnetism_Transformers.pdf', 'total_pages': 76, 'page': 68, 'page_label': '69'}, page_content='31. \\n \\n \\n \\n \\nFigure 6-31 E I laminations \\nThe center limb is twice the width of the outer limbs because it carries twice the flux, as shown by \\nthe flux plot in figure 6-32. \\n \\nFigure 6-32  Flux Plot: Shell type transformer \\nThe coils are wound on a bobbin that fits the center limb of the core, and the core is assembled \\nby inserting E laminations alternately from each side and adding matching I laminations. \\nDimensions are chosen so that two E and two I laminations can be punched from a rectangular steel \\nsheet without any waste. Current flowing in the resistance of the transformer windings will produce \\nheat, which must escape through the surface of the windings. In addition, there will be power loss in \\nthe core, which also appears as heat. \\nThe power output from a given size of transformer is governed by the rate at which heat can be \\nremoved. Large transformers are usually cooled by circulating oil, but small transformers rely on')]"
      ]
     },
     "execution_count": 21,
     "metadata": {},
     "output_type": "execute_result"
    }
   ],
   "source": [
    "keyword_results"
   ]
  },
  {
   "cell_type": "code",
   "execution_count": 22,
   "id": "e35c700e",
   "metadata": {},
   "outputs": [],
   "source": [
    "ensemble_retriever = EnsembleRetriever(retrievers= [semantic_retriever, bm25_retriever], weights = [0.67, 0.33], search_kwargs={\"k\": 3})\n",
    "\n",
    "def hybrid_search(retriever_obj, input_context: str):\n",
    "    return retriever_obj.invoke(input_context)\n",
    "\n",
    "hybrid_results = hybrid_search(ensemble_retriever, \"Explain transformers\")"
   ]
  },
  {
   "cell_type": "code",
   "execution_count": 23,
   "id": "6acfdbfb",
   "metadata": {},
   "outputs": [
    {
     "data": {
      "text/plain": [
       "7"
      ]
     },
     "execution_count": 23,
     "metadata": {},
     "output_type": "execute_result"
    }
   ],
   "source": [
    "len(hybrid_results)"
   ]
  },
  {
   "cell_type": "code",
   "execution_count": 24,
   "id": "680dce09",
   "metadata": {},
   "outputs": [
    {
     "name": "stdout",
     "output_type": "stream",
     "text": [
      "Document 1:\n",
      "Transformer 52 \n",
      " \n",
      " \n",
      " \n",
      "   Figure 6-3 Shell-type transformers. \n",
      " \n",
      " \n",
      " \n",
      "Figure 6-4 Flux plot: shell-type transformer \n",
      " \n",
      " \n",
      "Toroidal transformers exploit the remarkable properties of toroidal coils described in section 3.6. \n",
      "Although they are more expensive than shell-type transformers, the performance is better. They are used \n",
      "in high -quality electronic equipment and for instrument transformers (see section 6.3) where \n",
      "measurement accuracy is important. Typical toroidal transformers are shown in figure 6-5. \n",
      " \n",
      "Figure 6-5 Toroidal transformers.\n",
      " \n",
      " \n",
      " \n",
      "6.2 Transformer Principle: \n",
      "The action of a transformer is most easily understood if the two coils are wound on opposite sides of a \n",
      "magnetic core, as shown in the model of figure 6 -6. This form is used for some low -cost transformers, \n",
      "but the magnetic coupling is not as good as with the shell-type construction. \n",
      " \n",
      " \n",
      "Figure 6-6  Core-type transformer \n",
      " \n",
      " \n",
      " \n",
      "Figure 6 -7 is a schematic representation of the transformer. It will be assumed that the coupling is \n",
      "perfect: the same magnetic flux  passes through each turn of each coil. The coil connected to the source \n",
      "is termed the primary, and the coil connected to the load is termed the secondary. It is usual to refer to \n",
      "the coils as windings.\n",
      "\n",
      "Document 2:\n",
      "51 Electrical Machines and Systems                                                                                                            \n",
      " \n",
      "6 Transformer \n",
      "6.1 Introduction: \n",
      "A transformer is a practical application of magnetically coupled coils. Usually the purpose is to transfer \n",
      "energy from one coil to the other, as in figure 6-1 where energy is transferred from the AC source to the \n",
      "lamp through the space between the coils. \n",
      " \n",
      "Figure 6-1 Transformer principle \n",
      "Transformers are essentially AC devices, because there has to be a change of flux to give an induced \n",
      "voltage in a coil. There are two main reasons for transferring energy in this way: \n",
      " To provide electrical isolation between the source and the load. \n",
      " To change the voltage and current levels. \n",
      "The coils are usually placed on a common magnetic core to improve the coupling. Figure 6-2 shows the \n",
      "flux plots for two coupled coils (a) without a core, (b) with an open core, (c) with a closed core \n",
      " \n",
      "Figure 6-2 Effect of a magnetic core: \n",
      "6.1.2 Practical aspects: \n",
      "The cores for high -frequency transformers are often made from magnetically soft ferrites, which are \n",
      "electrical insulators. For power frequencies, the cores are made from an iron alloy such as silicon steel.\n",
      "\n",
      "Document 3:\n",
      "𝑑𝜙\n",
      "𝑑𝑡        (6 − 3) \n",
      "𝑣2 = 𝑅2𝑖2 + 𝑁2\n",
      "𝑑𝜙\n",
      "𝑑𝑡                               (6 − 4) \n",
      "The sign difference arises from the reference directions for current in the two windings. \n",
      "If the resistances R1 and R2 are negligible, then equations 6-3 and 6-4 become: \n",
      "𝑣1 ≈ 𝑁1\n",
      "𝑑𝜙\n",
      "𝑑𝑡          (6 − 5) \n",
      "𝑣2 ≈ 𝑁2\n",
      "𝑑𝜙\n",
      "𝑑𝑡         (6 − 6) \n",
      "Dividing these equations gives the important result: \n",
      "𝑣1\n",
      "𝑣2\n",
      "≈ 𝑁1\n",
      "𝑁2\n",
      "        (6 − 7) \n",
      "Thus, the secondary voltage can be made larger or smaller than the primary voltage by changing the \n",
      "ratio of the numbers of turns on the two windings. Voltage transformation is one of the most common \n",
      "uses of transformers, on a large scale in electrical power transmission and distribution, and on a small \n",
      "scale in the power supplies for electronic equipment. \n",
      "6.2.2 Sinusoidal operation: \n",
      "If the voltage source is sinusoidal, then the core flux will also be sinusoidal, so we may put:\n",
      "\n",
      "Document 4:\n",
      "𝑽𝒔 = 𝑽𝟏 + 𝑽𝟐 = 𝟐𝑽𝟐 = 𝟐𝑽𝑳        (6 − 22) \n",
      "𝑰𝑳 = 𝑰𝟏 + 𝑰𝟐 = 𝟐𝑰𝟏 = 𝟐𝑰𝑳            (6 − 23) \n",
      "Where VL is the voltage across the load and IS is the current supplied by the source. This auto-wound \n",
      "transformer behaves as a step-down transformer with a ratio of 2:1, and the current in each winding is \n",
      "equal to half of the load current. \n",
      "An elegant application of the auto-wound transformer principle is the variable transformer, which has a \n",
      "single-layer coil wound on a toroidal core. The output is taken from a carbon brush that makes contact \n",
      "with the surface of the coil; the brush can be moved smoothly from one end of the coil to the other, thus \n",
      "varying the output voltage. Examples of variable transformers are shown in figure 6-10. \n",
      " \n",
      "     \n",
      "      Figure 6-10 Variable transformers. \n",
      " \n",
      " \n",
      " \n",
      "6.3.2 3 Phase Transformer: \n",
      "In 3 -phase systems, it is common practice to use sets of three single -phase transformers. It is also \n",
      "possible, however, to make 3 -phase transformers with three sets of windings on three limbs of a core, \n",
      "as shown in figure 6-11. \n",
      " \n",
      "Figure 6-11 3-phase transformer model\n",
      "\n",
      "Document 5:\n",
      "65 Electrical Machines and Systems                                                                                                            \n",
      "6.8 Current Transformers \n",
      "Instrument transformers are special transformers for extending the range of measur ing instruments. \n",
      "There are two basic types: voltage transformers for measuring high voltages, and current transformers \n",
      "for measuring high currents. Using transformers for voltage measurement is similar in principle to the \n",
      "ordinary use of transformers to ch ange voltage levels, so it will not be considered further. Current \n",
      "transformers, on the other hand, need special consideration. These are usually toroidal transformers with \n",
      "high-quality core material. \n",
      "Figure 6-25 shows a load connected to a source. The primary of a current transformer is in series with \n",
      "the load, and the secondary is connected to a meter \n",
      "  \n",
      "Figure 6-25 Use of a current transformer \n",
      " \n",
      " \n",
      "Equation 6-19 gives: \n",
      "𝐼𝑀 ≈ 𝑁1\n",
      "𝑁2\n",
      "𝐼𝐿     𝑜𝑟  𝐼𝐿 ≈ 𝑁1\n",
      "𝑁2\n",
      "𝐼𝑀           (6 − 53)\n",
      "\n",
      "Document 6:\n",
      "6.1.2 Practical aspects: \n",
      "The cores for high -frequency transformers are often made from magnetically soft ferrites, which are \n",
      "electrical insulators. For power frequencies, the cores are made from an iron alloy such as silicon steel. \n",
      "These materials have better magnetic properties than ferrites, but they are also electrical conductors. If \n",
      "the core were made of solid steel, currents – known as eddy currents – would be induced in the core by \n",
      "the alternating magnetic flux.  Steel transformer cores are therefore made from thin laminations, \n",
      "insulated from one another, to minimise eddy currents [1, 6]. \n",
      "Small power transformers are commonly made with the shell -type construction shown in figure 6 -3, \n",
      "where the coils are wound on the central limb of the core, and the two outer limbs provide symmetrical \n",
      "flux return paths. The centre limb is twice the width of the outer limbs because it carries twice the flux, \n",
      "as shown by the flux plot in figure 6-4.\n",
      "\n",
      "Document 7:\n",
      "31. \n",
      " \n",
      " \n",
      " \n",
      " \n",
      "Figure 6-31 E I laminations \n",
      "The center limb is twice the width of the outer limbs because it carries twice the flux, as shown by \n",
      "the flux plot in figure 6-32. \n",
      " \n",
      "Figure 6-32  Flux Plot: Shell type transformer \n",
      "The coils are wound on a bobbin that fits the center limb of the core, and the core is assembled \n",
      "by inserting E laminations alternately from each side and adding matching I laminations. \n",
      "Dimensions are chosen so that two E and two I laminations can be punched from a rectangular steel \n",
      "sheet without any waste. Current flowing in the resistance of the transformer windings will produce \n",
      "heat, which must escape through the surface of the windings. In addition, there will be power loss in \n",
      "the core, which also appears as heat. \n",
      "The power output from a given size of transformer is governed by the rate at which heat can be \n",
      "removed. Large transformers are usually cooled by circulating oil, but small transformers rely on\n",
      "\n"
     ]
    }
   ],
   "source": [
    "for i, doc in enumerate(hybrid_results):\n",
    "    print(f\"Document {i+1}:\\n{doc.page_content}\\n\")"
   ]
  },
  {
   "cell_type": "code",
   "execution_count": 25,
   "id": "1ea09020",
   "metadata": {},
   "outputs": [],
   "source": [
    "#We need to create functions that create embeddings, load documents and split text"
   ]
  },
  {
   "cell_type": "code",
   "execution_count": 26,
   "id": "99e99b3c",
   "metadata": {},
   "outputs": [],
   "source": [
    "def pipeline_combined(model_name = MODEL_NAME):\n",
    "\n",
    "    llm = OllamaLLM(model = MODEL_NAME)\n",
    "\n",
    "    template = \"\"\"You are an expert assistant answering based only on the provided context.\n",
    "\n",
    "    Here are 3 relevant document chunks retrieved:\n",
    "\n",
    "    Chunk 1:\n",
    "    {chunk1}\n",
    "\n",
    "    Chunk 2:\n",
    "    {chunk2}\n",
    "\n",
    "    Chunk 3:\n",
    "    {chunk3}\n",
    "    \n",
    "    Chunk 4:\n",
    "    {chunk4}\n",
    "    \n",
    "    Use all relevant information above to answer the question below. If the answer isn't found in the chunks, say:\n",
    "    \"I cannot answer this question because the necessary information was not found in the provided documents.\"\n",
    "\n",
    "    When answering, cite the **source file name** and **slide/page number** if available.\n",
    "\n",
    "    Question: {question}\n",
    "    \"\"\"\n",
    "\n",
    "    prompt = PromptTemplate.from_template(template)\n",
    "    chain = prompt | llm\n",
    "    print(f\"\\n Model {model_name} has been initiated. Please feel free to ask any questions or type 'exit' to end this session\")\n",
    "    \n",
    "    while True:\n",
    "        user_input = input(\"You:\")\n",
    "        if user_input.lower() in ['exit', 'quit']:\n",
    "            print(\"Have a good day.\")\n",
    "            break\n",
    "\n",
    "        context_docs = hybrid_search(ensemble_retriever, user_input)[:4]\n",
    "\n",
    "        # Pass context and question into the chain\n",
    "        chunks = [\n",
    "            f\"Source: {doc.metadata.get('source', 'unknown')}, Page: {doc.metadata.get('page', 'unknown')}\\n{doc.page_content}\"\n",
    "            for doc in context_docs\n",
    "        ]\n",
    "\n",
    "        response = chain.invoke({\n",
    "            \"chunk1\": chunks[0],\n",
    "            \"chunk2\": chunks[1],\n",
    "            \"chunk3\": chunks[2],\n",
    "            \"chunk4\": chunks[3],\n",
    "            \"question\": user_input\n",
    "        })\n",
    "\n",
    "        print(f\"LLM: {response}\\n\")"
   ]
  },
  {
   "cell_type": "code",
   "execution_count": 27,
   "id": "9670c90e",
   "metadata": {},
   "outputs": [
    {
     "name": "stdout",
     "output_type": "stream",
     "text": [
      "\n",
      " Model llama3.2 has been initiated. Please feel free to ask any questions or type 'exit' to end this session\n",
      "LLM: Transformers are a practical application of magnetically coupled coils. They are used to transfer energy from one coil to another, typically to provide electrical isolation between the source and the load or to change the voltage and current levels (Chunk 2, Source: ENSC3016_Course_Notes_Part_1_Electromagnetism_Transformers.pdf, Page: 50).\n",
      "\n",
      "Transformers work by using two coils, one connected to the source (primary) and the other connected to the load (secondary), which are wound on opposite sides of a magnetic core. The magnetic flux passes through each turn of each coil, and the ratio of the turns determines the transformation of voltage and current (Chunk 3, Source: ENSC3016_Course_Notes_Part_1_Electromagnetism_Transformers.pdf, Page: 52).\n",
      "\n",
      "The core type transformer is the most common form used for transformers, where the coils are wound on opposite sides of a magnetic core. This improves the coupling and allows for efficient energy transfer (Chunk 2, Source: ENSC3016_Course_Notes_Part_1_Electromagnetism_Transformers.pdf, Page: 51).\n",
      "\n",
      "There are two main reasons for transferring energy using transformers: to provide electrical isolation between the source and the load or to change the voltage and current levels. Transformers can be used in high-frequency applications, such as instrument transformers, where measurement accuracy is important (Chunk 1, Source: ENSC3016_Course_Notes_Part_1_Electromagnetism_Transformers.pdf, Page: 51).\n",
      "\n",
      "Transformers also have applications in power transmission and distribution on a large scale, and in the power supplies for electronic equipment on a small scale. They can be used to step-up or step-down voltages, and are commonly used in 3-phase systems (Chunk 4, Source: ENSC3016_Course_Notes_Part_1_Electromagnetism_Transformers.pdf, Page: 55).\n",
      "\n",
      "LLM: Transformers are a type of electrical device that transfers energy between two coils through magnetic coupling. The basic principle of a transformer is shown in Figure 6-1, where energy is transferred from an AC source to a load through the space between the coils.\n",
      "\n",
      "The action of a transformer can be understood by considering two coils wound on opposite sides of a magnetic core, as shown in Figure 6-6. This form is used for some low-cost transformers, but the magnetic coupling is not as good as with the shell-type construction.\n",
      "\n",
      "In a transformer, the coil connected to the source is termed the primary, and the coil connected to the load is termed the secondary. The coils are usually placed on a common magnetic core to improve the coupling.\n",
      "\n",
      "The flux plot for a shell-type transformer is shown in Figure 6-4, which shows how the magnetic flux passes through each turn of each coil. The center limb is twice the width of the outer limbs because it carries twice the flux.\n",
      "\n",
      "Transformers can be used to provide electrical isolation between the source and the load, as well as to change the voltage and current levels. This is achieved by changing the ratio of the numbers of turns on the two windings, as shown in Figure 6-7, which is a schematic representation of the transformer.\n",
      "\n",
      "The core material for high-frequency transformers are often made from magnetically soft ferrites, while for power frequencies, the cores are made from an iron alloy such as silicon steel.\n",
      "\n",
      "Transformers can also be designed to operate under sinusoidal conditions, where the voltage source and core flux are both sinusoidal. This allows for efficient energy transfer between the primary and secondary coils.\n",
      "\n",
      "In summary, transformers are a type of electrical device that uses magnetic coupling to transfer energy between two coils. They can be used to provide electrical isolation and change voltage and current levels, making them a crucial component in many electronic systems.\n",
      "\n",
      "Source file name: ENSC3016_Course_Notes_Part_1_Electromagnetism_Transformers.pdf\n",
      "\n",
      "LLM: Based on the provided document chunks, here's a comparison and contrast of electromagnets and permanent magnets:\n",
      "\n",
      "Both electromagnets and permanent magnets are used to produce magnetic fields, but they differ in their behavior and applications.\n",
      "\n",
      "**Similarities:**\n",
      "\n",
      "* Both can exert forces on objects made of iron or steel.\n",
      "* Both have a magnetic field that interacts with other ferromagnetic materials.\n",
      "\n",
      "**Differences:**\n",
      "\n",
      "* **Power source:** Electromagnets require an external power supply to generate a magnetic field, while permanent magnets do not require any external power and rely solely on their internal properties.\n",
      "* **Field controllability:** Electromagnets have a controllable field, meaning the strength of the magnetic field can be adjusted by changing the current flowing through the coil. Permanent magnets have a fixed field, which cannot be controlled or turned off.\n",
      "* **Heat generation:** Electromagnets generate heat when an electric current flows through the coil, while permanent magnets do not produce any significant heat.\n",
      "* **Applications:** Electromagnets are often used in moving-coil devices, such as loudspeakers and motors, where the magnetic field needs to be adjusted or turned off. Permanent magnets are commonly used in applications like magnetic holding devices, lifting magnets, and magnetic filtration.\n",
      "\n",
      "**How they work:**\n",
      "\n",
      "Electromagnets work by generating a magnetic field when an electric current flows through a coil of wire wrapped around a core material, such as iron. The direction of the magnetic field is determined by the direction of the current flow. When the current is turned on or off, the magnetic field changes strength and direction.\n",
      "\n",
      "Permanent magnets, on the other hand, produce a magnetic field due to their internal properties, which are influenced by factors like temperature, orientation, and material composition. The magnetic field is fixed in strength and direction, but can be affected by external factors like changes in temperature or orientation.\n",
      "\n",
      "In summary, electromagnets and permanent magnets differ in their power source, controllability of the field, heat generation, and applications. Understanding these differences is essential for designing and operating magnetic systems effectively.\n",
      "\n",
      "Have a good day.\n"
     ]
    }
   ],
   "source": [
    "pipeline_combined()"
   ]
  }
 ],
 "metadata": {
  "kernelspec": {
   "display_name": "LLM_Train",
   "language": "python",
   "name": "python3"
  },
  "language_info": {
   "codemirror_mode": {
    "name": "ipython",
    "version": 3
   },
   "file_extension": ".py",
   "mimetype": "text/x-python",
   "name": "python",
   "nbconvert_exporter": "python",
   "pygments_lexer": "ipython3",
   "version": "3.11.8"
  }
 },
 "nbformat": 4,
 "nbformat_minor": 5
}
