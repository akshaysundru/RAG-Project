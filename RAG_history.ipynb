{
 "cells": [
  {
   "cell_type": "markdown",
   "id": "1560e6df",
   "metadata": {},
   "source": [
    "# RAG Pipeline With History"
   ]
  },
  {
   "cell_type": "code",
   "execution_count": 1,
   "id": "dda8f863",
   "metadata": {},
   "outputs": [],
   "source": [
    "from langchain_community.document_loaders import PyPDFLoader\n",
    "from langchain.text_splitter import RecursiveCharacterTextSplitter\n",
    "from langchain_huggingface import HuggingFaceEmbeddings\n",
    "from langchain_ollama import OllamaLLM\n",
    "import faiss\n",
    "from langchain_community.docstore.in_memory import InMemoryDocstore\n",
    "from langchain_community.vectorstores import FAISS\n",
    "import os\n",
    "from langchain_community.retrievers import BM25Retriever\n",
    "from langchain.retrievers import EnsembleRetriever"
   ]
  },
  {
   "cell_type": "code",
   "execution_count": 9,
   "id": "be611b88",
   "metadata": {},
   "outputs": [],
   "source": [
    "from session_history import SessionMemoryTableOps, SessionLocal, InSessionMemoryOps\n",
    "from datetime import datetime\n",
    "import uuid\n",
    "from langchain.chains import create_history_aware_retriever, create_retrieval_chain\n",
    "from langchain_core.prompts import ChatPromptTemplate, MessagesPlaceholder\n",
    "from langchain.chains.combine_documents import create_stuff_documents_chain\n",
    "from langchain_core.chat_history import BaseChatMessageHistory\n",
    "from langchain_core.runnables.history import RunnableWithMessageHistory\n",
    "import torch"
   ]
  },
  {
   "cell_type": "code",
   "execution_count": 4,
   "id": "a2030e27",
   "metadata": {},
   "outputs": [],
   "source": [
    "MODEL_NAME = \"llama3.2\"\n",
    "llm = OllamaLLM(model= MODEL_NAME)"
   ]
  },
  {
   "cell_type": "code",
   "execution_count": 5,
   "id": "319f942b",
   "metadata": {},
   "outputs": [],
   "source": [
    "def load_docs():\n",
    "    \n",
    "    document_loader = []\n",
    "\n",
    "    for root, dirs, files in os.walk(\".\"):\n",
    "        # Skip chroma_db folder\n",
    "        if \"faiss\" in root or \"git\" in root:\n",
    "            continue\n",
    "        for file in files:\n",
    "            if file.endswith(\".pdf\"):\n",
    "                document_loader.append(file)\n",
    "\n",
    "    return document_loader"
   ]
  },
  {
   "cell_type": "code",
   "execution_count": 6,
   "id": "0602f94a",
   "metadata": {},
   "outputs": [
    {
     "data": {
      "text/plain": [
       "['ENSC3016_Course_Notes_Part_1_Electromagnetism_Transformers.pdf',\n",
       " 'Three Phase Power System Fundamentals.pdf',\n",
       " 'ENSC3016_Course_Notes_Part_2_Electric_Machines.pdf',\n",
       " 'Electric Machinery Fundamentals Textbook -- Chapman.pdf',\n",
       " 'ENSC3016 Study Guide 1-Review of Circuit Fundamentals.pdf']"
      ]
     },
     "execution_count": 6,
     "metadata": {},
     "output_type": "execute_result"
    }
   ],
   "source": [
    "document_loader = load_docs()\n",
    "document_loader"
   ]
  },
  {
   "cell_type": "code",
   "execution_count": 27,
   "id": "faa47d7e",
   "metadata": {},
   "outputs": [],
   "source": [
    "embedding_model =\"./local_models/all-MiniLM-L6-v2\" #embedding matrix model\n",
    "device = \"cuda\" if torch.cuda.is_available() else \"cpu\"\n",
    "\n",
    "def embed_splitting(document_loader, embedding_model):\n",
    "    embeddings = HuggingFaceEmbeddings(model = embedding_model, model_kwargs= {\"device\":device}, encode_kwargs={'normalize_embeddings': True})\n",
    "\n",
    "    doc_store = []\n",
    "    for file in document_loader:\n",
    "        loader = PyPDFLoader(file)\n",
    "        doc = loader.load()\n",
    "        doc_store += doc\n",
    "\n",
    "    text_splitter = RecursiveCharacterTextSplitter.from_tiktoken_encoder(\n",
    "        chunk_size = 400,\n",
    "        chunk_overlap = 64\n",
    "        )\n",
    "    \n",
    "    #Make splits\n",
    "    splits = text_splitter.split_documents(doc_store)\n",
    "\n",
    "    return embeddings, splits\n"
   ]
  },
  {
   "cell_type": "code",
   "execution_count": 28,
   "id": "bab3bd01",
   "metadata": {},
   "outputs": [],
   "source": [
    "embeddings, splits = embed_splitting(document_loader, embedding_model)"
   ]
  },
  {
   "cell_type": "code",
   "execution_count": 29,
   "id": "c62d3215",
   "metadata": {},
   "outputs": [
    {
     "data": {
      "text/plain": [
       "HuggingFaceEmbeddings(model_name='./local_models/all-MiniLM-L6-v2', cache_folder=None, model_kwargs={'device': 'cuda'}, encode_kwargs={'normalize_embeddings': True}, query_encode_kwargs={}, multi_process=False, show_progress=False)"
      ]
     },
     "execution_count": 29,
     "metadata": {},
     "output_type": "execute_result"
    }
   ],
   "source": [
    "embeddings"
   ]
  },
  {
   "cell_type": "code",
   "execution_count": 30,
   "id": "bc527ce4",
   "metadata": {},
   "outputs": [
    {
     "data": {
      "text/plain": [
       "402"
      ]
     },
     "execution_count": 30,
     "metadata": {},
     "output_type": "execute_result"
    }
   ],
   "source": [
    "len(splits)"
   ]
  },
  {
   "cell_type": "code",
   "execution_count": 31,
   "id": "c3990b04",
   "metadata": {},
   "outputs": [
    {
     "name": "stdout",
     "output_type": "stream",
     "text": [
      "FAISS version 1.9.0\n",
      "1\n"
     ]
    }
   ],
   "source": [
    "print(\"FAISS version\", faiss.__version__)\n",
    "print(faiss.get_num_gpus())"
   ]
  },
  {
   "cell_type": "code",
   "execution_count": 33,
   "id": "e552d420",
   "metadata": {},
   "outputs": [
    {
     "name": "stdout",
     "output_type": "stream",
     "text": [
      "Building FAISS index from scratch...\n"
     ]
    }
   ],
   "source": [
    "dim = len(embeddings.embed_query(\"test sentence\"))\n",
    "index = faiss.IndexFlatL2(dim)\n",
    "gpu_index = faiss.index_cpu_to_all_gpus(index=index)\n",
    "\n",
    "if os.path.exists(\"faiss_index\"):\n",
    "    print(\"Loading FAISS index from disk...\")\n",
    "    vector_store = FAISS.load_local(\"faiss_index\", embeddings=embeddings, allow_dangerous_deserialization=True)\n",
    "else:\n",
    "    print(\"Building FAISS index from scratch...\")\n",
    "    gpu_index = faiss.index_cpu_to_all_gpus(index=index)\n",
    "    vector_store = FAISS(\n",
    "        embedding_function=embeddings,\n",
    "        index=index,\n",
    "        docstore=InMemoryDocstore(),\n",
    "        index_to_docstore_id={},\n",
    "    )\n",
    "    vector_store.add_documents(splits)\n",
    "    vector_store.save_local(\"faiss_index\")"
   ]
  },
  {
   "cell_type": "code",
   "execution_count": 34,
   "id": "e00f5e63",
   "metadata": {},
   "outputs": [],
   "source": [
    "# create the retriever object once\n",
    "semantic_retriever = vector_store.as_retriever(search_kwargs={'k': 4})"
   ]
  },
  {
   "cell_type": "code",
   "execution_count": 35,
   "id": "6cc11b13",
   "metadata": {},
   "outputs": [
    {
     "data": {
      "text/plain": [
       "VectorStoreRetriever(tags=['FAISS', 'HuggingFaceEmbeddings'], vectorstore=<langchain_community.vectorstores.faiss.FAISS object at 0x75841b0cac90>, search_kwargs={'k': 4})"
      ]
     },
     "execution_count": 35,
     "metadata": {},
     "output_type": "execute_result"
    }
   ],
   "source": [
    "semantic_retriever"
   ]
  },
  {
   "cell_type": "code",
   "execution_count": 37,
   "id": "b49729a8",
   "metadata": {},
   "outputs": [],
   "source": [
    "bm25_retriever = BM25Retriever.from_documents(splits)\n",
    "bm25_retriever.k = 4"
   ]
  },
  {
   "cell_type": "code",
   "execution_count": 38,
   "id": "d94222d7",
   "metadata": {},
   "outputs": [],
   "source": [
    "ensemble_retriever = EnsembleRetriever(retrievers= [semantic_retriever, bm25_retriever], weights = [0.67, 0.33], search_kwargs={\"k\": 3})"
   ]
  },
  {
   "cell_type": "code",
   "execution_count": 39,
   "id": "3e76db8a",
   "metadata": {},
   "outputs": [],
   "source": [
    "contextualize_q_system_prompt = \"\"\"Given a chat history and the latest user question \\\n",
    "which might reference context in the chat history, formulate a standalone question \\\n",
    "which can be understood without the chat history. Do NOT answer the question, \\\n",
    "just reformulate it if needed and otherwise return it as is.\"\"\"\n",
    "\n",
    "contextualize_q_prompt = ChatPromptTemplate(\n",
    "    [\n",
    "        (\"system\", contextualize_q_system_prompt),\n",
    "        MessagesPlaceholder(\"chat_history\"),\n",
    "        (\"human\", \"{input}\"),\n",
    "    ]\n",
    ")\n",
    "\n",
    "history_aware_retriever = create_history_aware_retriever(\n",
    "    llm, ensemble_retriever, contextualize_q_prompt\n",
    ")"
   ]
  },
  {
   "cell_type": "code",
   "execution_count": 40,
   "id": "e623ec05",
   "metadata": {},
   "outputs": [],
   "source": [
    "user_input = \"Explain transformers\"\n",
    "history_results = history_aware_retriever.invoke({\"input\": user_input, \"chat_history\": []})"
   ]
  },
  {
   "cell_type": "code",
   "execution_count": 41,
   "id": "0f9ea4fb",
   "metadata": {},
   "outputs": [
    {
     "data": {
      "text/plain": [
       "[Document(id='402198b9-0143-476b-beba-33c8d40d298b', metadata={'producer': 'Microsoft® Word 2013', 'creator': 'Microsoft® Word 2013', 'creationdate': '2019-07-27T15:04:48+08:00', 'author': 'Ali Kharrazi', 'moddate': '2019-07-27T15:04:48+08:00', 'source': 'ENSC3016_Course_Notes_Part_1_Electromagnetism_Transformers.pdf', 'total_pages': 76, 'page': 51, 'page_label': '52'}, page_content='Transformer 52 \\n \\n \\n \\n   Figure 6-3 Shell-type transformers. \\n \\n \\n \\nFigure 6-4 Flux plot: shell-type transformer \\n \\n \\nToroidal transformers exploit the remarkable properties of toroidal coils described in section 3.6. \\nAlthough they are more expensive than shell-type transformers, the performance is better. They are used \\nin high -quality electronic equipment and for instrument transformers (see section 6.3) where \\nmeasurement accuracy is important. Typical toroidal transformers are shown in figure 6-5. \\n \\nFigure 6-5 Toroidal transformers.\\uf020\\n \\n \\n \\n6.2 Transformer Principle: \\nThe action of a transformer is most easily understood if the two coils are wound on opposite sides of a \\nmagnetic core, as shown in the model of figure 6 -6. This form is used for some low -cost transformers, \\nbut the magnetic coupling is not as good as with the shell-type construction. \\n \\n \\nFigure 6-6  Core-type transformer \\n \\n \\n \\nFigure 6 -7 is a schematic representation of the transformer. It will be assumed that the coupling is \\nperfect: the same magnetic flux \\uf066 passes through each turn of each coil. The coil connected to the source \\nis termed the primary, and the coil connected to the load is termed the secondary. It is usual to refer to \\nthe coils as windings.'),\n",
       " Document(id='988f9b8b-64b0-44e2-9099-4989d74734e4', metadata={'producer': 'Microsoft® Word 2013', 'creator': 'Microsoft® Word 2013', 'creationdate': '2019-07-27T15:04:48+08:00', 'author': 'Ali Kharrazi', 'moddate': '2019-07-27T15:04:48+08:00', 'source': 'ENSC3016_Course_Notes_Part_1_Electromagnetism_Transformers.pdf', 'total_pages': 76, 'page': 50, 'page_label': '51'}, page_content='51 Electrical Machines and Systems                                                                                                            \\n \\n6 Transformer \\n6.1 Introduction: \\nA transformer is a practical application of magnetically coupled coils. Usually the purpose is to transfer \\nenergy from one coil to the other, as in figure 6-1 where energy is transferred from the AC source to the \\nlamp through the space between the coils. \\n \\nFigure 6-1 Transformer principle \\nTransformers are essentially AC devices, because there has to be a change of flux to give an induced \\nvoltage in a coil. There are two main reasons for transferring energy in this way: \\n\\uf0b7 To provide electrical isolation between the source and the load. \\n\\uf0b7 To change the voltage and current levels. \\nThe coils are usually placed on a common magnetic core to improve the coupling. Figure 6-2 shows the \\nflux plots for two coupled coils (a) without a core, (b) with an open core, (c) with a closed core \\n \\nFigure 6-2 Effect of a magnetic core: \\n6.1.2 Practical aspects: \\nThe cores for high -frequency transformers are often made from magnetically soft ferrites, which are \\nelectrical insulators. For power frequencies, the cores are made from an iron alloy such as silicon steel.'),\n",
       " Document(id='47fe573d-ecb4-40bc-ac2e-424820c13ece', metadata={'producer': 'Microsoft® Word 2013', 'creator': 'Microsoft® Word 2013', 'creationdate': '2019-07-27T15:04:48+08:00', 'author': 'Ali Kharrazi', 'moddate': '2019-07-27T15:04:48+08:00', 'source': 'ENSC3016_Course_Notes_Part_1_Electromagnetism_Transformers.pdf', 'total_pages': 76, 'page': 52, 'page_label': '53'}, page_content='𝑑𝜙\\n𝑑𝑡        (6 − 3) \\n𝑣2 = 𝑅2𝑖2 + 𝑁2\\n𝑑𝜙\\n𝑑𝑡                               (6 − 4) \\nThe sign difference arises from the reference directions for current in the two windings. \\nIf the resistances R1 and R2 are negligible, then equations 6-3 and 6-4 become: \\n𝑣1 ≈ 𝑁1\\n𝑑𝜙\\n𝑑𝑡          (6 − 5) \\n𝑣2 ≈ 𝑁2\\n𝑑𝜙\\n𝑑𝑡         (6 − 6) \\nDividing these equations gives the important result: \\n𝑣1\\n𝑣2\\n≈ 𝑁1\\n𝑁2\\n        (6 − 7) \\nThus, the secondary voltage can be made larger or smaller than the primary voltage by changing the \\nratio of the numbers of turns on the two windings. Voltage transformation is one of the most common \\nuses of transformers, on a large scale in electrical power transmission and distribution, and on a small \\nscale in the power supplies for electronic equipment. \\n6.2.2 Sinusoidal operation: \\nIf the voltage source is sinusoidal, then the core flux will also be sinusoidal, so we may put:'),\n",
       " Document(id='f16f6f5f-4ff2-4447-b7ad-c49a2671fce2', metadata={'producer': 'Microsoft® Word 2013', 'creator': 'Microsoft® Word 2013', 'creationdate': '2019-07-27T15:04:48+08:00', 'author': 'Ali Kharrazi', 'moddate': '2019-07-27T15:04:48+08:00', 'source': 'ENSC3016_Course_Notes_Part_1_Electromagnetism_Transformers.pdf', 'total_pages': 76, 'page': 55, 'page_label': '56'}, page_content='𝑽𝒔 = 𝑽𝟏 + 𝑽𝟐 = 𝟐𝑽𝟐 = 𝟐𝑽𝑳        (6 − 22) \\n𝑰𝑳 = 𝑰𝟏 + 𝑰𝟐 = 𝟐𝑰𝟏 = 𝟐𝑰𝑳            (6 − 23) \\nWhere VL is the voltage across the load and IS is the current supplied by the source. This auto-wound \\ntransformer behaves as a step-down transformer with a ratio of 2:1, and the current in each winding is \\nequal to half of the load current. \\nAn elegant application of the auto-wound transformer principle is the variable transformer, which has a \\nsingle-layer coil wound on a toroidal core. The output is taken from a carbon brush that makes contact \\nwith the surface of the coil; the brush can be moved smoothly from one end of the coil to the other, thus \\nvarying the output voltage. Examples of variable transformers are shown in figure 6-10. \\n \\n     \\n      Figure 6-10 Variable transformers. \\n \\n \\n \\n6.3.2 3 Phase Transformer: \\nIn 3 -phase systems, it is common practice to use sets of three single -phase transformers. It is also \\npossible, however, to make 3 -phase transformers with three sets of windings on three limbs of a core, \\nas shown in figure 6-11. \\n \\nFigure 6-11 3-phase transformer model'),\n",
       " Document(metadata={'producer': 'Microsoft® Word 2013', 'creator': 'Microsoft® Word 2013', 'creationdate': '2019-07-27T15:04:48+08:00', 'author': 'Ali Kharrazi', 'moddate': '2019-07-27T15:04:48+08:00', 'source': 'ENSC3016_Course_Notes_Part_1_Electromagnetism_Transformers.pdf', 'total_pages': 76, 'page': 64, 'page_label': '65'}, page_content='65 Electrical Machines and Systems                                                                                                            \\n6.8 Current Transformers \\nInstrument transformers are special transformers for extending the range of measur ing instruments. \\nThere are two basic types: voltage transformers for measuring high voltages, and current transformers \\nfor measuring high currents. Using transformers for voltage measurement is similar in principle to the \\nordinary use of transformers to ch ange voltage levels, so it will not be considered further. Current \\ntransformers, on the other hand, need special consideration. These are usually toroidal transformers with \\nhigh-quality core material. \\nFigure 6-25 shows a load connected to a source. The primary of a current transformer is in series with \\nthe load, and the secondary is connected to a meter \\n  \\nFigure 6-25 Use of a current transformer \\n \\n \\nEquation 6-19 gives: \\n𝐼𝑀 ≈ 𝑁1\\n𝑁2\\n𝐼𝐿     𝑜𝑟  𝐼𝐿 ≈ 𝑁1\\n𝑁2\\n𝐼𝑀           (6 − 53)'),\n",
       " Document(metadata={'producer': 'Microsoft® Word 2013', 'creator': 'Microsoft® Word 2013', 'creationdate': '2019-07-27T15:04:48+08:00', 'author': 'Ali Kharrazi', 'moddate': '2019-07-27T15:04:48+08:00', 'source': 'ENSC3016_Course_Notes_Part_1_Electromagnetism_Transformers.pdf', 'total_pages': 76, 'page': 50, 'page_label': '51'}, page_content='6.1.2 Practical aspects: \\nThe cores for high -frequency transformers are often made from magnetically soft ferrites, which are \\nelectrical insulators. For power frequencies, the cores are made from an iron alloy such as silicon steel. \\nThese materials have better magnetic properties than ferrites, but they are also electrical conductors. If \\nthe core were made of solid steel, currents – known as eddy currents – would be induced in the core by \\nthe alternating magnetic flux.  Steel transformer cores are therefore made from thin laminations, \\ninsulated from one another, to minimise eddy currents [1, 6]. \\nSmall power transformers are commonly made with the shell -type construction shown in figure 6 -3, \\nwhere the coils are wound on the central limb of the core, and the two outer limbs provide symmetrical \\nflux return paths. The centre limb is twice the width of the outer limbs because it carries twice the flux, \\nas shown by the flux plot in figure 6-4.'),\n",
       " Document(metadata={'producer': 'Microsoft® Word 2013', 'creator': 'Microsoft® Word 2013', 'creationdate': '2019-07-27T15:04:48+08:00', 'author': 'Ali Kharrazi', 'moddate': '2019-07-27T15:04:48+08:00', 'source': 'ENSC3016_Course_Notes_Part_1_Electromagnetism_Transformers.pdf', 'total_pages': 76, 'page': 68, 'page_label': '69'}, page_content='31. \\n \\n \\n \\n \\nFigure 6-31 E I laminations \\nThe center limb is twice the width of the outer limbs because it carries twice the flux, as shown by \\nthe flux plot in figure 6-32. \\n \\nFigure 6-32  Flux Plot: Shell type transformer \\nThe coils are wound on a bobbin that fits the center limb of the core, and the core is assembled \\nby inserting E laminations alternately from each side and adding matching I laminations. \\nDimensions are chosen so that two E and two I laminations can be punched from a rectangular steel \\nsheet without any waste. Current flowing in the resistance of the transformer windings will produce \\nheat, which must escape through the surface of the windings. In addition, there will be power loss in \\nthe core, which also appears as heat. \\nThe power output from a given size of transformer is governed by the rate at which heat can be \\nremoved. Large transformers are usually cooled by circulating oil, but small transformers rely on')]"
      ]
     },
     "execution_count": 41,
     "metadata": {},
     "output_type": "execute_result"
    }
   ],
   "source": [
    "history_results"
   ]
  },
  {
   "cell_type": "code",
   "execution_count": 42,
   "id": "e8638ce6",
   "metadata": {},
   "outputs": [
    {
     "name": "stdout",
     "output_type": "stream",
     "text": [
      "\n",
      "Document 1\n",
      "Source: ENSC3016_Course_Notes_Part_1_Electromagnetism_Transformers.pdf\n",
      "Content:\n",
      "Transformer 52 \n",
      " \n",
      " \n",
      " \n",
      "   Figure 6-3 Shell-type transformers. \n",
      " \n",
      " \n",
      " \n",
      "Figure 6-4 Flux plot: shell-type transformer \n",
      " \n",
      " \n",
      "Toroidal transformers exploit the remarkable properties of toroidal coils described in section 3.6. \n",
      "Although they are more expensive than shell-type transformers, the performance is better. They are used \n",
      "in high -quality electronic equipment and for instrument transformers (see section 6.3) where \n",
      "measurement accuracy is important. Typical toroidal transformers are shown in figure 6-5. \n",
      " \n",
      "Figure 6-5 Toroidal transformers.\n",
      " \n",
      " \n",
      " \n",
      "6.2 Transformer Principle: \n",
      "The action of a transformer is most easily understood if the two coils are wound on opposite sides of a \n",
      "magnetic core, as shown in the model of figure 6 -6. This form is used for some low -cost transformers, \n",
      "but the magnetic coupling is not as good as with the shell-type construction. \n",
      " \n",
      " \n",
      "Figure 6-6  Core-type transformer \n",
      " \n",
      " \n",
      " \n",
      "Figure 6 -7 is a schematic representation of the transformer. It will be assumed that the coupling is \n",
      "perfect: the same magnetic flux  passes through each turn of each coil. The coil connected to the source \n",
      "is termed the primary, and the coil connected to the load is termed the secondary. It is usual to refer to \n",
      "the coils as windings.\n",
      "\n",
      "Document 2\n",
      "Source: ENSC3016_Course_Notes_Part_1_Electromagnetism_Transformers.pdf\n",
      "Content:\n",
      "51 Electrical Machines and Systems                                                                                                            \n",
      " \n",
      "6 Transformer \n",
      "6.1 Introduction: \n",
      "A transformer is a practical application of magnetically coupled coils. Usually the purpose is to transfer \n",
      "energy from one coil to the other, as in figure 6-1 where energy is transferred from the AC source to the \n",
      "lamp through the space between the coils. \n",
      " \n",
      "Figure 6-1 Transformer principle \n",
      "Transformers are essentially AC devices, because there has to be a change of flux to give an induced \n",
      "voltage in a coil. There are two main reasons for transferring energy in this way: \n",
      " To provide electrical isolation between the source and the load. \n",
      " To change the voltage and current levels. \n",
      "The coils are usually placed on a common magnetic core to improve the coupling. Figure 6-2 shows the \n",
      "flux plots for two coupled coils (a) without a core, (b) with an open core, (c) with a closed core \n",
      " \n",
      "Figure 6-2 Effect of a magnetic core: \n",
      "6.1.2 Practical aspects: \n",
      "The cores for high -frequency transformers are often made from magnetically soft ferrites, which are \n",
      "electrical insulators. For power frequencies, the cores are made from an iron alloy such as silicon steel.\n",
      "\n",
      "Document 3\n",
      "Source: ENSC3016_Course_Notes_Part_1_Electromagnetism_Transformers.pdf\n",
      "Content:\n",
      "𝑑𝜙\n",
      "𝑑𝑡        (6 − 3) \n",
      "𝑣2 = 𝑅2𝑖2 + 𝑁2\n",
      "𝑑𝜙\n",
      "𝑑𝑡                               (6 − 4) \n",
      "The sign difference arises from the reference directions for current in the two windings. \n",
      "If the resistances R1 and R2 are negligible, then equations 6-3 and 6-4 become: \n",
      "𝑣1 ≈ 𝑁1\n",
      "𝑑𝜙\n",
      "𝑑𝑡          (6 − 5) \n",
      "𝑣2 ≈ 𝑁2\n",
      "𝑑𝜙\n",
      "𝑑𝑡         (6 − 6) \n",
      "Dividing these equations gives the important result: \n",
      "𝑣1\n",
      "𝑣2\n",
      "≈ 𝑁1\n",
      "𝑁2\n",
      "        (6 − 7) \n",
      "Thus, the secondary voltage can be made larger or smaller than the primary voltage by changing the \n",
      "ratio of the numbers of turns on the two windings. Voltage transformation is one of the most common \n",
      "uses of transformers, on a large scale in electrical power transmission and distribution, and on a small \n",
      "scale in the power supplies for electronic equipment. \n",
      "6.2.2 Sinusoidal operation: \n",
      "If the voltage source is sinusoidal, then the core flux will also be sinusoidal, so we may put:\n",
      "\n",
      "Document 4\n",
      "Source: ENSC3016_Course_Notes_Part_1_Electromagnetism_Transformers.pdf\n",
      "Content:\n",
      "𝑽𝒔 = 𝑽𝟏 + 𝑽𝟐 = 𝟐𝑽𝟐 = 𝟐𝑽𝑳        (6 − 22) \n",
      "𝑰𝑳 = 𝑰𝟏 + 𝑰𝟐 = 𝟐𝑰𝟏 = 𝟐𝑰𝑳            (6 − 23) \n",
      "Where VL is the voltage across the load and IS is the current supplied by the source. This auto-wound \n",
      "transformer behaves as a step-down transformer with a ratio of 2:1, and the current in each winding is \n",
      "equal to half of the load current. \n",
      "An elegant application of the auto-wound transformer principle is the variable transformer, which has a \n",
      "single-layer coil wound on a toroidal core. The output is taken from a carbon brush that makes contact \n",
      "with the surface of the coil; the brush can be moved smoothly from one end of the coil to the other, thus \n",
      "varying the output voltage. Examples of variable transformers are shown in figure 6-10. \n",
      " \n",
      "     \n",
      "      Figure 6-10 Variable transformers. \n",
      " \n",
      " \n",
      " \n",
      "6.3.2 3 Phase Transformer: \n",
      "In 3 -phase systems, it is common practice to use sets of three single -phase transformers. It is also \n",
      "possible, however, to make 3 -phase transformers with three sets of windings on three limbs of a core, \n",
      "as shown in figure 6-11. \n",
      " \n",
      "Figure 6-11 3-phase transformer model\n",
      "\n",
      "Document 5\n",
      "Source: ENSC3016_Course_Notes_Part_1_Electromagnetism_Transformers.pdf\n",
      "Content:\n",
      "65 Electrical Machines and Systems                                                                                                            \n",
      "6.8 Current Transformers \n",
      "Instrument transformers are special transformers for extending the range of measur ing instruments. \n",
      "There are two basic types: voltage transformers for measuring high voltages, and current transformers \n",
      "for measuring high currents. Using transformers for voltage measurement is similar in principle to the \n",
      "ordinary use of transformers to ch ange voltage levels, so it will not be considered further. Current \n",
      "transformers, on the other hand, need special consideration. These are usually toroidal transformers with \n",
      "high-quality core material. \n",
      "Figure 6-25 shows a load connected to a source. The primary of a current transformer is in series with \n",
      "the load, and the secondary is connected to a meter \n",
      "  \n",
      "Figure 6-25 Use of a current transformer \n",
      " \n",
      " \n",
      "Equation 6-19 gives: \n",
      "𝐼𝑀 ≈ 𝑁1\n",
      "𝑁2\n",
      "𝐼𝐿     𝑜𝑟  𝐼𝐿 ≈ 𝑁1\n",
      "𝑁2\n",
      "𝐼𝑀           (6 − 53)\n",
      "\n",
      "Document 6\n",
      "Source: ENSC3016_Course_Notes_Part_1_Electromagnetism_Transformers.pdf\n",
      "Content:\n",
      "6.1.2 Practical aspects: \n",
      "The cores for high -frequency transformers are often made from magnetically soft ferrites, which are \n",
      "electrical insulators. For power frequencies, the cores are made from an iron alloy such as silicon steel. \n",
      "These materials have better magnetic properties than ferrites, but they are also electrical conductors. If \n",
      "the core were made of solid steel, currents – known as eddy currents – would be induced in the core by \n",
      "the alternating magnetic flux.  Steel transformer cores are therefore made from thin laminations, \n",
      "insulated from one another, to minimise eddy currents [1, 6]. \n",
      "Small power transformers are commonly made with the shell -type construction shown in figure 6 -3, \n",
      "where the coils are wound on the central limb of the core, and the two outer limbs provide symmetrical \n",
      "flux return paths. The centre limb is twice the width of the outer limbs because it carries twice the flux, \n",
      "as shown by the flux plot in figure 6-4.\n",
      "\n",
      "Document 7\n",
      "Source: ENSC3016_Course_Notes_Part_1_Electromagnetism_Transformers.pdf\n",
      "Content:\n",
      "31. \n",
      " \n",
      " \n",
      " \n",
      " \n",
      "Figure 6-31 E I laminations \n",
      "The center limb is twice the width of the outer limbs because it carries twice the flux, as shown by \n",
      "the flux plot in figure 6-32. \n",
      " \n",
      "Figure 6-32  Flux Plot: Shell type transformer \n",
      "The coils are wound on a bobbin that fits the center limb of the core, and the core is assembled \n",
      "by inserting E laminations alternately from each side and adding matching I laminations. \n",
      "Dimensions are chosen so that two E and two I laminations can be punched from a rectangular steel \n",
      "sheet without any waste. Current flowing in the resistance of the transformer windings will produce \n",
      "heat, which must escape through the surface of the windings. In addition, there will be power loss in \n",
      "the core, which also appears as heat. \n",
      "The power output from a given size of transformer is governed by the rate at which heat can be \n",
      "removed. Large transformers are usually cooled by circulating oil, but small transformers rely on\n"
     ]
    }
   ],
   "source": [
    "for i, doc in enumerate(history_results):\n",
    "    print(f\"\\nDocument {i+1}\")\n",
    "    print(f\"Source: {doc.metadata.get('source', 'unknown')}\")\n",
    "    print(f\"Content:\\n{doc.page_content}\")"
   ]
  },
  {
   "cell_type": "code",
   "execution_count": 43,
   "id": "dc7586a2",
   "metadata": {},
   "outputs": [],
   "source": [
    "user_input_prompt = \"\"\"You are an expert assistant answering based only on the provided context.\n",
    "\n",
    "    Context:\n",
    "    {context}\n",
    "    \n",
    "    Use all relevant information above to answer the question below. If the answer isn't found in the chunks, say:\n",
    "    \"I cannot answer this question because the necessary information was not found in the provided documents.\"\n",
    "\n",
    "    When answering, cite the **source file name** and **slide/page number** if available.\n",
    "    \"\"\""
   ]
  },
  {
   "cell_type": "code",
   "execution_count": 44,
   "id": "773c2cd0",
   "metadata": {},
   "outputs": [],
   "source": [
    "prompt_template = ChatPromptTemplate(\n",
    "    [\n",
    "        (\"system\", user_input_prompt),\n",
    "        MessagesPlaceholder(\"chat_history\"),\n",
    "        (\"human\", \"{input}\"),\n",
    "    ]\n",
    ")"
   ]
  },
  {
   "cell_type": "code",
   "execution_count": 45,
   "id": "f0557547",
   "metadata": {},
   "outputs": [],
   "source": [
    "question_answer_chain = create_stuff_documents_chain(llm, prompt_template)\n",
    "rag_chain = create_retrieval_chain(history_aware_retriever, question_answer_chain)"
   ]
  },
  {
   "cell_type": "code",
   "execution_count": 46,
   "id": "2fb7b40b",
   "metadata": {},
   "outputs": [],
   "source": [
    "history = SessionMemoryTableOps(SessionLocal)"
   ]
  },
  {
   "cell_type": "code",
   "execution_count": 49,
   "id": "4e5c89a6",
   "metadata": {},
   "outputs": [],
   "source": [
    "### Statefully manage chat history ###\n",
    "chat_history_cache = {}\n",
    "\n",
    "def get_session_history(session_id: str):\n",
    "    if session_id not in chat_history_cache:\n",
    "        chat_history_cache[session_id] = InSessionMemoryOps(session_id, db=history)\n",
    "    return chat_history_cache[session_id]\n",
    "\n",
    "\n",
    "conversational_rag_chain = RunnableWithMessageHistory(\n",
    "    rag_chain,\n",
    "    get_session_history,\n",
    "    input_messages_key=\"input\",\n",
    "    history_messages_key=\"chat_history\",\n",
    "    output_messages_key=\"answer\",\n",
    ")"
   ]
  },
  {
   "cell_type": "code",
   "execution_count": 50,
   "id": "37135288",
   "metadata": {},
   "outputs": [],
   "source": [
    "def pipeline_combined():\n",
    "     \n",
    "    while True:\n",
    "        session_id = input(\"Enter session ID to resume, or press Enter to start new: \").strip()\n",
    "        if not session_id:\n",
    "            session_id = str(uuid.uuid4())[:8]\n",
    "            print(f\"Starting new session: {session_id}\")\n",
    "            history.add_session(session_id=session_id, turns_used=0)\n",
    "            break\n",
    "        else:\n",
    "            if history.session_exists(session_id):\n",
    "                print(f\"Resuming session: {session_id}\")\n",
    "                break\n",
    "            else:\n",
    "                print(f\"Session ID '{session_id}' not found. Please try again.\")\n",
    "\n",
    "    print(f\"\\nModel {MODEL_NAME} has been initiated with memory. Please feel free to ask questions or type 'exit' to quit.\")\n",
    "    while True:\n",
    "        user_input = input(\"You: \")\n",
    "        \n",
    "        if user_input.lower() in [\"exit\", \"quit\"]:\n",
    "            print(\"Session ended. Have a good day.\")\n",
    "            break\n",
    "\n",
    "        response = conversational_rag_chain.invoke(\n",
    "            {\"input\": user_input},\n",
    "            config={\"configurable\": {\"session_id\": session_id}},\n",
    "        )\n",
    "        print(f\"LLM: {response['answer']}\\n\")\n",
    "\n",
    "        # Note: The memory is managed by the chain via get_session_history\n",
    "        # So you don't need to manually add messages here"
   ]
  },
  {
   "cell_type": "code",
   "execution_count": 52,
   "id": "0affec37",
   "metadata": {},
   "outputs": [
    {
     "name": "stdout",
     "output_type": "stream",
     "text": [
      "Starting new session: ee59457d\n",
      "\n",
      "Model llama3.2 has been initiated with memory. Please feel free to ask questions or type 'exit' to quit.\n",
      "LLM: Transformers are essentially AC devices that transfer energy from one coil to another through magnetically coupled coils. The purpose of a transformer is to either provide electrical isolation between the source and the load or to change the voltage and current levels.\n",
      "\n",
      "The basic principle of a transformer is shown in figure 6-1, where energy is transferred from the AC source to the lamp through the space between the coils. In this model, the coil connected to the source is termed the primary, and the coil connected to the load is termed the secondary.\n",
      "\n",
      "According to equation 6-19, the current transformer (CT) ratio is given by:\n",
      "\n",
      "I_M ≈ N1 / N2\n",
      "\n",
      "where I_M is the meter current, N1 is the number of turns in the primary winding, and N2 is the number of turns in the secondary winding.\n",
      "\n",
      "In the case of a shell-type construction (figure 6-3), the coils are wound on the central limb of the core, and the two outer limbs provide symmetrical flux return paths. The center limb carries twice the flux as the outer limbs, which is shown by the flux plot in figure 6-32.\n",
      "\n",
      "Small power transformers use the shell-type construction to minimize eddy currents, which can be induced in the core by the alternating magnetic flux. To achieve this, the cores are made from thin laminations that are insulated from one another.\n",
      "\n",
      "For a toroidal transformer (figure 6-10), which is used in variable transformers, the output is taken from a carbon brush that makes contact with the surface of the coil. The brush can be moved smoothly from one end of the coil to the other, thus varying the output voltage.\n",
      "\n",
      "Overall, transformers are crucial components in electrical systems, allowing for efficient transfer of energy and isolation between different circuits.\n",
      "\n",
      "Source: Electrical Machines and Systems (slide/page number not available)\n",
      "\n",
      "LLM: According to the provided documents, the cores of high-frequency transformers are often made from magnetically soft ferrites, which are electrical insulators. For power frequencies, the cores are made from an iron alloy such as silicon steel.\n",
      "\n",
      "In small power transformers, the cores are made from thin laminations that are insulated from one another to minimize eddy currents. These laminations are typically E and I laminations (figure 6-31), where the center limb is twice the width of the outer limbs because it carries twice the flux.\n",
      "\n",
      "For toroidal transformers, the exact material composition is not specified in the provided documents.\n",
      "\n",
      "Source: Electrical Machines and Systems, figure 6-3; figure 6-31; figure 6-32.\n",
      "\n",
      "LLM: I can answer questions based on the provided text. Here are some key points about transformers:\n",
      "\n",
      "**Purpose of a Transformer**\n",
      "\n",
      "Transformers are AC devices that transfer energy from one coil to another through magnetically coupled coils. The purpose of a transformer is to either provide electrical isolation between the source and the load or to change the voltage and current levels.\n",
      "\n",
      "**Basic Principle of a Transformer**\n",
      "\n",
      "The basic principle of a transformer is shown in figure 6-1, where energy is transferred from the AC source to the lamp through the space between the coils. In this model, the coil connected to the source is termed the primary, and the coil connected to the load is termed the secondary.\n",
      "\n",
      "**Construction of Transformers**\n",
      "\n",
      "The construction of transformers varies depending on the type. For example:\n",
      "\n",
      "* Shell-type construction: Coils are wound on the central limb of the core, and the two outer limbs provide symmetrical flux return paths.\n",
      "* Toroidal transformer: The output is taken from a carbon brush that makes contact with the surface of the coil.\n",
      "\n",
      "**Materials Used in Transformers**\n",
      "\n",
      "The cores of high-frequency transformers are often made from magnetically soft ferrites, which are electrical insulators. For power frequencies, the cores are made from an iron alloy such as silicon steel. In small power transformers, the cores are made from thin laminations that are insulated from one another to minimize eddy currents.\n",
      "\n",
      "**Practical Considerations**\n",
      "\n",
      "Some practical considerations to keep in mind when designing and using transformers include:\n",
      "\n",
      "* Minimizing eddy currents in small power transformers by using thin laminations.\n",
      "* Using magnetically soft ferrites for high-frequency transformers.\n",
      "* Ensuring electrical isolation between the source and load.\n",
      "* Changing voltage and current levels as needed.\n",
      "\n",
      "These are some of the key points about transformers. If you have specific questions or need further clarification, feel free to ask!\n",
      "\n",
      "LLM: I can answer questions related to AC machines based on the provided text.\n",
      "\n",
      "Here's a brief overview:\n",
      "\n",
      "**AC Machine Basics**\n",
      "\n",
      "An AC (Alternating Current) machine is an electrical device that converts electrical energy from one form to another. It consists of two main parts: the stator and the rotor.\n",
      "\n",
      "The **stator** is the stationary part of the machine, which carries the magnetic flux. The **rotor** is the rotating part, which interacts with the magnetic field created by the stator.\n",
      "\n",
      "**Operation of an AC Machine**\n",
      "\n",
      "When an AC machine is connected to a power source, the rotor starts to rotate due to the electromagnetic force generated by the changing magnetic field. As the rotor rotates, it cuts through the magnetic field lines, generating electricity.\n",
      "\n",
      "In a typical AC machine, such as an induction motor or generator, the stator carries a three-phase winding, which produces a rotating magnetic field. The rotor is also connected to a three-phase winding, which interacts with the rotating magnetic field.\n",
      "\n",
      "As the rotor rotates, it induces a voltage in its own winding, generating electricity. This process continues as long as the machine is connected to a power source and the rotor remains rotating.\n",
      "\n",
      "**Types of AC Machines**\n",
      "\n",
      "Some common types of AC machines include:\n",
      "\n",
      "* Induction motors: Use electromagnetic induction to generate torque.\n",
      "* Synchronous motors: Use a direct current magnetic field to rotate the rotor.\n",
      "* Induction generators: Use electromagnetic induction to generate electricity.\n",
      "* Reluctance motors: Use the reluctance of magnetic materials to generate torque.\n",
      "\n",
      "These are some basics about AC machines. If you have specific questions or need further clarification, feel free to ask!\n",
      "\n",
      "Source: Electrical Machines and Systems (slide/page number not available)\n",
      "\n",
      "Session ended. Have a good day.\n"
     ]
    }
   ],
   "source": [
    "pipeline_combined()"
   ]
  },
  {
   "cell_type": "code",
   "execution_count": null,
   "id": "4433162d",
   "metadata": {},
   "outputs": [],
   "source": [
    "conversational_rag_chain.invoke(\n",
    "    {\"input\": \"Explain transformers?\"},\n",
    "    config={\"configurable\": {\"session_id\": \"abc123\"}},\n",
    ")[\"answer\"]"
   ]
  },
  {
   "cell_type": "code",
   "execution_count": null,
   "id": "b7ec03a4",
   "metadata": {},
   "outputs": [],
   "source": [
    "print(get_session_history(\"abc123\").messages)"
   ]
  }
 ],
 "metadata": {
  "kernelspec": {
   "display_name": "LLM_Train",
   "language": "python",
   "name": "python3"
  },
  "language_info": {
   "codemirror_mode": {
    "name": "ipython",
    "version": 3
   },
   "file_extension": ".py",
   "mimetype": "text/x-python",
   "name": "python",
   "nbconvert_exporter": "python",
   "pygments_lexer": "ipython3",
   "version": "3.11.11"
  }
 },
 "nbformat": 4,
 "nbformat_minor": 5
}
