{
 "cells": [
  {
   "cell_type": "markdown",
   "id": "c84832b8",
   "metadata": {},
   "source": [
    "Following Free Code Camps tutorial closely."
   ]
  },
  {
   "cell_type": "code",
   "execution_count": 1,
   "id": "dc658917",
   "metadata": {},
   "outputs": [],
   "source": [
    "import ollama\n",
    "import numpy as np\n",
    "import torch"
   ]
  },
  {
   "cell_type": "code",
   "execution_count": 2,
<<<<<<< HEAD
   "id": "362d0828",
   "metadata": {},
   "outputs": [],
   "source": [
    "from langchain_ollama import OllamaLLM\n",
    "from langchain_huggingface import HuggingFaceEmbeddings\n",
    "\n",
    "model_name=\"sentence-transformers/all-MiniLM-L6-v2\"\n",
    "\n",
    "embeddings = HuggingFaceEmbeddings(model = model_name,\n",
    "                                   encode_kwargs={'normalize_embeddings': True})"
=======
   "id": "5a4ada2d",
   "metadata": {},
   "outputs": [],
   "source": [
    "question = \"What is a Kalman filter\"\n",
    "document = \"Chapter 5: AR and Kalman Filters\""
>>>>>>> de30b52642393ec0f2eb5ecc81e9f6fb79c160cc
   ]
  },
  {
   "cell_type": "code",
   "execution_count": 3,
<<<<<<< HEAD
=======
   "id": "a94756e1",
   "metadata": {},
   "outputs": [],
   "source": [
    "import tiktoken\n",
    "\n",
    "def num_tokens_from_str(string: str, encoding_name: str) -> int:\n",
    "    \"\"\"Returns number of tokens in a text string\"\"\"\n",
    "    encoding = tiktoken.get_encoding(encoding_name)\n",
    "    num_tokens = len(encoding.encode(string))\n",
    "    return encoding.encode(string), num_tokens"
   ]
  },
  {
   "cell_type": "code",
   "execution_count": 4,
   "id": "58bf2df7",
   "metadata": {},
   "outputs": [
    {
     "data": {
      "text/plain": [
       "([3923, 374, 264, 27930, 1543, 4141], 6)"
      ]
     },
     "execution_count": 4,
     "metadata": {},
     "output_type": "execute_result"
    }
   ],
   "source": [
    "num_tokens_from_str(question, \"cl100k_base\")"
   ]
  },
  {
   "cell_type": "code",
   "execution_count": null,
   "id": "362d0828",
   "metadata": {},
   "outputs": [],
   "source": [
    "from langchain_ollama import OllamaLLM, OllamaEmbeddings\n",
    "from langchain_core.vectorstores import InMemoryVectorStore\n",
    "\n",
    "embeddings = OllamaEmbeddings(model=\"llama3.2\")\n",
    "\n",
    "query_result = embeddings.embed_query(question)\n",
    "document_result = embeddings.embed_query(document)"
   ]
  },
  {
   "cell_type": "code",
   "execution_count": 6,
   "id": "8e3e9f17",
   "metadata": {},
   "outputs": [
    {
     "name": "stdout",
     "output_type": "stream",
     "text": [
      "[-0.0073224027, -0.019477012, 0.017059486, -0.0046530142, 0.0021997404, -0.009726169, 0.008544929, -\n",
      "3072\n"
     ]
    }
   ],
   "source": [
    "print(str(query_result)[:100])\n",
    "print(len(query_result))"
   ]
  },
  {
   "cell_type": "code",
   "execution_count": 7,
   "id": "3c7fe479",
   "metadata": {},
   "outputs": [
    {
     "name": "stdout",
     "output_type": "stream",
     "text": [
      "0.6177236244940539\n"
     ]
    }
   ],
   "source": [
    "def cosine_similarity(vec1, vec2):\n",
    "    dot_product = np.dot(vec1, vec2)\n",
    "    norm_vec1 = np.linalg.norm(vec1)\n",
    "    norm_vec2 = np.linalg.norm(vec2)\n",
    "    return dot_product/(norm_vec1 * norm_vec2)\n",
    "\n",
    "similarity = cosine_similarity(query_result, document_result)\n",
    "print(similarity)"
   ]
  },
  {
   "cell_type": "code",
   "execution_count": 48,
>>>>>>> de30b52642393ec0f2eb5ecc81e9f6fb79c160cc
   "id": "da4d1a8a",
   "metadata": {},
   "outputs": [
    {
     "name": "stdout",
     "output_type": "stream",
     "text": [
      "Total characters: 1647\n",
<<<<<<< HEAD
      "Total characters: 1765\n"
=======
      "Total characters: 659\n",
      "42\n",
      "PHYS2003: Physics for Electrical Engineers, semester 1 2023 \n",
      "Lecture 1 \n",
      "6 \n",
      " \n",
      " \n",
      "Figure 3: Simplified diagram of the J. J. Thomson experiment that discovered the electron. \n",
      "5.2. The Hall Effect \n",
      "In a conductor, when there is no current through it, the electrons move randomly with no \n",
      "net or average motion in any direction. When a current is passed through the conductor, \n",
      "the electrons continue to move randomly, but with an average drift in the opposite \n",
      "direction to the electric field causing the current. The drift speed 𝑣𝑑 is very smaller \n",
      "compared with the speed of the electrons in their individual random motion. In a copper \n",
      "wire at room temperature, the electrons are randomly moving at around 106 m/s, while the \n",
      "drift speed is only around 10-4 m/s (i.e. on the order of centimetres per hour). \n",
      "In 1879, Edwin H. Hall showed that the drifting conduction electrons in a copper wire can be \n",
      "deflected by an outside magnetic field. This is the Hall Effect and is used in a wide range of \n",
      "sensor technology. \n",
      "Imagine a copper strip with current flowing down the page. The electrons then drift up the \n",
      "page. If we apply a magnetic field pointing into the page, the force due to the magnetic field \n",
      "will deflect the electrons to the right-hand edge of the strip. \n",
      "This caused a greater density of electrons at the right-hand edge of the strip, and so a \n",
      "separation of charges that produces an electric field within the strip. The force on the \n",
      "electrons due to the electric field (equivalently, their own mutual repulsion) will eventually \n",
      "cancel the force due to the magnetic field, resulting in a maximum value of the electric field. \n",
      "The electric field results in a potential difference across the strip, which can be measured \n",
      "with a voltmeter. \n",
      "In addition to allowing us to determine things such as whether the moving charges within a \n",
      "conductor are positive or negative, and measure the drift speed of electrons (if we move the \n",
      "strip through the magnetic field with same speed as the electron drift, but in the opposite \n",
      "direction, the Hall Effect voltage will be zero), we can create a device where the output \n",
      "voltage is proportional to the strength of the magnetic field. Such a Hall effect sensor (or \n",
      "Hall sensor) has many applications. \n",
      "Hall effect sensors can detect both the magnitude and orientation of a magnetic field, and \n",
      "they can work with static (unchanging) magnetic fields. They have no moving parts, so are \n",
      "not prone to wear, and can operate at much higher speeds than mechanical switches. Hall\n"
>>>>>>> de30b52642393ec0f2eb5ecc81e9f6fb79c160cc
     ]
    }
   ],
   "source": [
    "from langchain_community.document_loaders import PyPDFLoader\n",
    "\n",
    "loader = PyPDFLoader(\"Lecture 1 Magnetic fields and magnetic force.pdf\")\n",
<<<<<<< HEAD
    "loader2 = PyPDFLoader(\"Lecture 4 Faraday’s law and induction.pdf\")\n",
=======
    "loader2 = PyPDFLoader(\"Lecture 7- The MOS transistors.pdf\")\n",
>>>>>>> de30b52642393ec0f2eb5ecc81e9f6fb79c160cc
    "docs = loader.load()\n",
    "docs2 = loader2.load()\n",
    "\n",
    "print(f\"Total characters: {len(docs[2].page_content)}\")\n",
<<<<<<< HEAD
    "print(f\"Total characters: {len(docs2[5].page_content)}\")"
=======
    "print(f\"Total characters: {len(docs2[5].page_content)}\")\n",
    "print(len(docs2))\n",
    "print(docs[5].page_content)"
>>>>>>> de30b52642393ec0f2eb5ecc81e9f6fb79c160cc
   ]
  },
  {
   "cell_type": "code",
<<<<<<< HEAD
   "execution_count": 4,
=======
   "execution_count": 49,
>>>>>>> de30b52642393ec0f2eb5ecc81e9f6fb79c160cc
   "id": "efdc5476",
   "metadata": {},
   "outputs": [],
   "source": [
    "from langchain.text_splitter import RecursiveCharacterTextSplitter\n",
    "\n",
    "all_docs = docs + docs2\n",
    "\n",
    "text_splitter = RecursiveCharacterTextSplitter.from_tiktoken_encoder(\n",
<<<<<<< HEAD
    "    chunk_size = 512,\n",
    "    chunk_overlap = 64\n",
=======
    "    chunk_size = 300,\n",
    "    chunk_overlap=50\n",
>>>>>>> de30b52642393ec0f2eb5ecc81e9f6fb79c160cc
    ")\n",
    "\n",
    "#Make splits\n",
    "splits = text_splitter.split_documents(all_docs)"
   ]
  },
  {
   "cell_type": "code",
<<<<<<< HEAD
   "execution_count": 5,
   "id": "73960817",
   "metadata": {},
   "outputs": [
    {
     "data": {
      "text/plain": [
       "17"
      ]
     },
     "execution_count": 5,
     "metadata": {},
     "output_type": "execute_result"
    }
   ],
   "source": [
    "len(all_docs)"
   ]
  },
  {
   "cell_type": "code",
   "execution_count": 6,
   "id": "78ab0643",
   "metadata": {},
   "outputs": [
    {
     "name": "stdout",
     "output_type": "stream",
     "text": [
      "PHYS2003: Physics for Electrical Engineers, semester 1 2023 \n",
      "Lecture 1 \n",
      "1 \n",
      " \n",
      "Lecture 1: Magnetic fields and magnetic force \n",
      "Learning outcomes \n",
      "Assessable \n",
      "• Calculate the force on moving charges in a magnetic field via the cross product. \n",
      "• Calculate the direction of resulting vectors from the cross product or, where \n",
      "appropriate, apply basic rules to determine the direction. \n",
      "• Calculate potential difference in a moving conductor. \n",
      "Understanding \n",
      "• Visualize and conceptually explain the motion \n",
      "PHYS2003: Physics for Electrical Engineers, semester 1 2023 \n",
      "Lecture 4 \n",
      "1 \n",
      " \n",
      "Lecture 4: Faraday’s law and induction \n",
      "Learning outcomes \n",
      "Assessable \n",
      "• Use Faraday’s law and Lenz’s law to calculate induced current and emf. \n",
      "• Calculate energy transfer due to induction. \n",
      "Understanding \n",
      "• Visualize and conceptually explain induced currents and electric fields. \n",
      "1. Summary \n",
      "This lecture will cover Faraday’s law, Lenz’s law, and induction and energy transfer. \n",
      "Consider a loop of conducting wire connec\n"
     ]
    }
   ],
   "source": [
    "print(docs[0].page_content[:500])\n",
    "print(docs2[0].page_content[:500])"
   ]
  },
  {
   "cell_type": "code",
   "execution_count": 7,
=======
   "execution_count": null,
>>>>>>> de30b52642393ec0f2eb5ecc81e9f6fb79c160cc
   "id": "bfbece8e",
   "metadata": {},
   "outputs": [],
   "source": [
<<<<<<< HEAD
    "from langchain_chroma import Chroma\n",
    "\n",
    "vectorstore = Chroma.from_documents(\n",
    "    documents=splits,  # these are already LangChain `Document` objects\n",
    "    embedding=embeddings,\n",
    "    collection_name=\"circuit_docs\",\n",
    "    persist_directory=\"./chroma_db\"\n",
    ")\n",
=======
    "vectorstore = InMemoryVectorStore.from_documents(splits, embedding=embeddings)\n",
>>>>>>> de30b52642393ec0f2eb5ecc81e9f6fb79c160cc
    "\n",
    "retriever = vectorstore.as_retriever(search_kwargs={'k': 3})"
   ]
  },
  {
   "cell_type": "markdown",
   "id": "31df2489",
   "metadata": {},
   "source": [
    "From RAG Tutorial this appears to end the embedding and indexing section, next video we will see retrieval"
   ]
  },
  {
   "cell_type": "markdown",
   "id": "e1524e0b",
   "metadata": {},
   "source": [
    "# Part3 - Retrieval\n",
    "\n",
    "In this section code camp goes over the retrieval section"
   ]
  },
  {
   "cell_type": "code",
<<<<<<< HEAD
   "execution_count": 8,
   "id": "07188552",
   "metadata": {},
   "outputs": [],
   "source": [
    "docsearch = retriever.invoke(\"Edwin H. Hall experiment\")"
   ]
  },
  {
   "cell_type": "code",
   "execution_count": 9,
   "id": "5f906451",
   "metadata": {},
   "outputs": [
    {
     "data": {
      "text/plain": [
       "[Document(id='1a0fde3d-57bd-4055-95e4-1f9775d808a8', metadata={'creationdate': \"D:20230224061506Z00'00'\", 'source': 'Lecture 1 Magnetic fields and magnetic force.pdf', 'moddate': \"D:20230305080614Z00'00'\", 'total_pages': 7, 'creator': 'Microsoft® Word 2016', 'page': 5, 'page_label': '6', 'producer': 'macOS Version 12.5 (Build 21G72) Quartz PDFContext, AppendMode 1.1', 'author': 'David Gozzard'}, page_content='PHYS2003: Physics for Electrical Engineers, semester 1 2023 \\nLecture 1 \\n6 \\n \\n \\nFigure 3: Simplified diagram of the J. J. Thomson experiment that discovered the electron. \\n5.2. The Hall Effect \\nIn a conductor, when there is no current through it, the electrons move randomly with no \\nnet or average motion in any direction. When a current is passed through the conductor, \\nthe electrons continue to move randomly, but with an average drift in the opposite \\ndirection to the electric field causing the current. The drift speed 𝑣𝑑 is very smaller \\ncompared with the speed of the electrons in their individual random motion. In a copper \\nwire at room temperature, the electrons are randomly moving at around 106 m/s, while the \\ndrift speed is only around 10-4 m/s (i.e. on the order of centimetres per hour). \\nIn 1879, Edwin H. Hall showed that the drifting conduction electrons in a copper wire can be \\ndeflected by an outside magnetic field. This is the Hall Effect and is used in a wide range of \\nsensor technology. \\nImagine a copper strip with current flowing down the page. The electrons then drift up the \\npage. If we apply a magnetic field pointing into the page, the force due to the magnetic field \\nwill deflect the electrons to the right-hand edge of the strip. \\nThis caused a greater density of electrons at the right-hand edge of the strip, and so a \\nseparation of charges that produces an electric field within the strip. The force on the \\nelectrons due to the electric field (equivalently, their own mutual repulsion) will eventually \\ncancel the force due to the magnetic field, resulting in a maximum value of the electric field. \\nThe electric field results in a potential difference across the strip, which can be measured \\nwith a voltmeter. \\nIn addition to allowing us to determine things such as whether the moving charges within a \\nconductor are positive or negative, and measure the drift speed of electrons (if we move the \\nstrip through the magnetic field with same speed as the electron drift, but in the opposite \\ndirection, the Hall Effect voltage will be zero), we can create a device where the output'),\n",
       " Document(id='5edf78b0-503c-41ba-993a-752cb731f07d', metadata={'author': 'David Gozzard', 'source': 'Lecture 1 Magnetic fields and magnetic force.pdf', 'page_label': '5', 'moddate': \"D:20230305080614Z00'00'\", 'creator': 'Microsoft® Word 2016', 'page': 4, 'creationdate': \"D:20230224061506Z00'00'\", 'producer': 'macOS Version 12.5 (Build 21G72) Quartz PDFContext, AppendMode 1.1', 'total_pages': 7}, page_content='When the 𝐸⃗  and 𝐵⃗  fields are adjusted to counteract each other, the relation is: \\n  |𝑞|𝐸 = |𝑞|𝑣𝐵  \\nwhich we can rearrange to \\n  𝑣 =\\n𝐸\\n𝐵  \\nThus, the speed of the particles could be measured. By measuring the distance of the \\ndeflection of the particles on the screen (and so calculating their acceleration) Thomson \\ncould determine the ratio of their mass to their charge. He knew that they were negatively \\ncharged, and found that, per unit of charge, they were lighter than hydrogen (the lightest \\natom) by a factor of more than 1,000. This is considered to be the discovery of the electron.'),\n",
       " Document(id='f8773adc-18e4-4204-9e18-58c7ebcad5cd', metadata={'page_label': '6', 'page': 5, 'creationdate': \"D:20230224061506Z00'00'\", 'total_pages': 7, 'author': 'David Gozzard', 'producer': 'macOS Version 12.5 (Build 21G72) Quartz PDFContext, AppendMode 1.1', 'creator': 'Microsoft® Word 2016', 'source': 'Lecture 1 Magnetic fields and magnetic force.pdf', 'moddate': \"D:20230305080614Z00'00'\"}, page_content='conductor are positive or negative, and measure the drift speed of electrons (if we move the \\nstrip through the magnetic field with same speed as the electron drift, but in the opposite \\ndirection, the Hall Effect voltage will be zero), we can create a device where the output \\nvoltage is proportional to the strength of the magnetic field. Such a Hall effect sensor (or \\nHall sensor) has many applications. \\nHall effect sensors can detect both the magnitude and orientation of a magnetic field, and \\nthey can work with static (unchanging) magnetic fields. They have no moving parts, so are \\nnot prone to wear, and can operate at much higher speeds than mechanical switches. Hall')]"
      ]
     },
     "execution_count": 9,
     "metadata": {},
     "output_type": "execute_result"
    }
   ],
   "source": [
    "docsearch"
=======
   "execution_count": 12,
   "id": "07188552",
   "metadata": {},
   "outputs": [
    {
     "name": "stderr",
     "output_type": "stream",
     "text": [
      "/var/folders/xc/68d5fbnj61b_bgvbkv5gj8t40000gn/T/ipykernel_80254/3037671115.py:1: LangChainDeprecationWarning: The method `BaseRetriever.get_relevant_documents` was deprecated in langchain-core 0.1.46 and will be removed in 1.0. Use :meth:`~invoke` instead.\n",
      "  docsearch = retriever.get_relevant_documents(\"How does an NMOS Transistor work\")\n"
     ]
    }
   ],
   "source": [
    "docsearch = retriever.get_relevant_documents(\"How does an NMOS Transistor work\")"
>>>>>>> de30b52642393ec0f2eb5ecc81e9f6fb79c160cc
   ]
  },
  {
   "cell_type": "code",
<<<<<<< HEAD
   "execution_count": 10,
   "id": "bc10bf47",
   "metadata": {},
   "outputs": [],
   "source": [
    "docsearch2 = retriever.invoke(\"Explain Faraday's and Lenz's law\")"
=======
   "execution_count": 13,
   "id": "f96c54d5",
   "metadata": {},
   "outputs": [],
   "source": [
    "docsearch2 = retriever.get_relevant_documents(\"List the basic axioms of circuit theory\")"
>>>>>>> de30b52642393ec0f2eb5ecc81e9f6fb79c160cc
   ]
  },
  {
   "cell_type": "code",
<<<<<<< HEAD
   "execution_count": 11,
   "id": "be874da1",
=======
   "execution_count": 30,
   "id": "5f906451",
>>>>>>> de30b52642393ec0f2eb5ecc81e9f6fb79c160cc
   "metadata": {},
   "outputs": [
    {
     "name": "stdout",
     "output_type": "stream",
     "text": [
<<<<<<< HEAD
      "[Document(id='ef742050-ae4a-4dc7-a830-bb76a20e31a1', metadata={'source': 'Lecture 4 Faraday’s law and induction.pdf', 'page': 0, 'creator': 'Microsoft® Word 2016', 'creationdate': \"D:20230224061645Z00'00'\", 'author': 'David Gozzard', 'producer': 'macOS Version 12.5 (Build 21G72) Quartz PDFContext, AppendMode 1.1', 'page_label': '1', 'total_pages': 10, 'moddate': \"D:20230311062840Z00'00'\"}, page_content='PHYS2003: Physics for Electrical Engineers, semester 1 2023 \\nLecture 4 \\n1 \\n \\nLecture 4: Faraday’s law and induction \\nLearning outcomes \\nAssessable \\n• Use Faraday’s law and Lenz’s law to calculate induced current and emf. \\n• Calculate energy transfer due to induction. \\nUnderstanding \\n• Visualize and conceptually explain induced currents and electric fields. \\n1. Summary \\nThis lecture will cover Faraday’s law, Lenz’s law, and induction and energy transfer. \\nConsider a loop of conducting wire connected to an ammeter. If we move a bar magnet \\ntowards the loop, we will observe: \\n1. A current appears only when the magnetic is moving relative to the loop. \\n2. Faster movement causes a greater current. \\n3. The direction of current differs depending on whether the north or south pole of the \\nmagnet is towards the loop. \\nThe current produced in the loop is called induced current. The work done per unit charge \\nto produce the current is called the induced emf.  \\nIf we use a second loop of conducting wire connected to a current source (battery) to \\ngenerate a magnetic dipole near the loop connected to the ammeter, we observe the same \\nactions as above with the addition that: \\n4. A current is only observed in the first loop when during brief periods when the \\ncurrent in the second loop is switch on an off. No induced current is observed in the \\nfirst loop when the current in the second loop is in a steady state. \\n \\nFigure 1: A bar magnetic being used to induced a current in a coil. [Image: All About Circuits]'), Document(id='2961dd03-11b2-4060-8802-a141ceffd132', metadata={'page_label': '3', 'total_pages': 10, 'creationdate': \"D:20230224061645Z00'00'\", 'producer': 'macOS Version 12.5 (Build 21G72) Quartz PDFContext, AppendMode 1.1', 'page': 2, 'author': 'David Gozzard', 'source': 'Lecture 4 Faraday’s law and induction.pdf', 'creator': 'Microsoft® Word 2016', 'moddate': \"D:20230311062840Z00'00'\"}, page_content='3. Lenz’s Law \\n \\nThe magnetic field produced by an induced current will act to oppose the motion of the \\nmagnetic or change of magnetic flux. The direction of the induced current can the be found \\nusing the right-hand-rule. \\nLenz’s law is the reason for the negative sign in eqtn 4.4 and 4.5. \\n3.1. Example – induced current due to a changing uniform magnetic field \\nFigure shows a conducting loop comprising a half-circle of radius r = 0.2 m and three straight \\nsections. The half circle lies in a uniform magnetic field that is directed into the page. The \\nmagnitude of the magnetic field is 𝐵 = 4𝑡2 + 2𝑡 + 3. An ideal battery with emf ℰ𝑏𝑎𝑡𝑡 = 2 V \\nis connected to the loop. The resistance of the loop is 2 ohms. \\n(a) What are the magnitude and direction of the emf at t = 10s? \\n(b) What is the current in the loop at t = 10 s? \\nLenz’s law: \\nAn induced current has a direction such that the magnetic field due to the current \\nopposes the change in the magnetic flux that induces the current.'), Document(id='1a7d895a-9f46-4e0f-93ab-e0a29ae978a8', metadata={'source': 'Lecture 4 Faraday’s law and induction.pdf', 'creationdate': \"D:20230224061645Z00'00'\", 'page': 1, 'moddate': \"D:20230311062840Z00'00'\", 'producer': 'macOS Version 12.5 (Build 21G72) Quartz PDFContext, AppendMode 1.1', 'creator': 'Microsoft® Word 2016', 'total_pages': 10, 'page_label': '2', 'author': 'David Gozzard'}, page_content='PHYS2003: Physics for Electrical Engineers, semester 1 2023 \\nLecture 4 \\n2 \\n \\n2. Faraday’s law of induction \\nInduced emf and current is caused by changing the amount of magnetic field passing \\nthrough the conducting loop. This is Faraday’s law of induction. \\nWe refer to the amount of magnetic field as magnetic flux which is defined as: \\n  𝛷𝐵 = ∫𝐵⃗ ∙ 𝑑𝐴  (4.1) \\nwhere 𝐵⃗  is the magnetic field enclosed by a conducting loop of area 𝐴. \\n \\nIn the case where the magnetic field is perpendicular to the plane of the loop, we can write \\nthe dot product as 𝐵 𝑑𝐴 cos0 = 𝐵 𝑑𝐴. If the magnetic field is uniform, then 𝐵⃗  can be \\nbrought out the front of the integral and we get: \\n  𝛷𝐵 = 𝐵𝐴 (4.2) \\nFrom eqtn 4.2 we can see that the unit of magnetic flux must be tesla-square metres, which \\nis also called weber. \\n  1 𝑤𝑒𝑏𝑒𝑟 = 1 𝑊𝑏 = 1 𝑇 ∙ 𝑚2 (4.3) \\n \\nFormally, we write Faraday’s law as: \\n  ℰ = −\\n𝑑𝛷𝐵\\n𝑑𝑡  (4.4) \\nThe minus sign indicated that the induced emf acts to oppose the change of flux in the \\nloop. \\nIn an ideal (closely packed) coil of 𝑁 turns, the equation becomes: \\n  ℰ = −𝑁\\n𝑑𝛷𝐵\\n𝑑𝑡  (4.5) \\nThere are many ways to change the flux through a coil, including: \\n1. Change the magnitude of 𝐵,')]\n"
=======
      "[Document(id='adaf80e3-d555-4ebd-961f-95703746a7fa', metadata={'producer': 'macOS Version 12.7.6 (Build 21H1320) Quartz PDFContext, AppendMode 1.1', 'creator': 'PScript5.dll Version 5.2.2', 'creationdate': '2024-02-23T10:04:53+08:00', 'author': 'Wen', 'moddate': \"D:20250311071035Z00'00'\", 'title': 'Microsoft PowerPoint - Lecture 1 - Basic circuit theory', 'source': 'Lecture 1 - Basic circuit theory.pdf', 'total_pages': 36, 'page': 0, 'page_label': '1'}, page_content='Lecture 1\\nBasic circuit theory'), Document(id='7aeba4a7-9109-4459-9a05-471271c06d7a', metadata={'producer': 'macOS Version 12.7.6 (Build 21H1320) Quartz PDFContext, AppendMode 1.1', 'creator': 'PScript5.dll Version 5.2.2', 'creationdate': '2024-02-23T10:04:53+08:00', 'author': 'Wen', 'moddate': \"D:20250311071035Z00'00'\", 'title': 'Microsoft PowerPoint - Lecture 1 - Basic circuit theory', 'source': 'Lecture 1 - Basic circuit theory.pdf', 'total_pages': 36, 'page': 19, 'page_label': '20'}, page_content='20\\nLinear circuit elements and dependent sources'), Document(id='8638bb1a-be81-4c3f-ad78-992f6dd4c9db', metadata={'producer': 'macOS Version 12.7.6 (Build 21H1320) Quartz PDFContext, AppendMode 1.1', 'creator': 'PScript5.dll Version 5.2.2', 'creationdate': '2024-02-23T10:04:53+08:00', 'author': 'Wen', 'moddate': \"D:20250311071035Z00'00'\", 'title': 'Microsoft PowerPoint - Lecture 1 - Basic circuit theory', 'source': 'Lecture 1 - Basic circuit theory.pdf', 'total_pages': 36, 'page': 11, 'page_label': '12'}, page_content='12\\nNodal analysis')]\n"
>>>>>>> de30b52642393ec0f2eb5ecc81e9f6fb79c160cc
     ]
    }
   ],
   "source": [
    "print(docsearch2)"
   ]
  },
  {
<<<<<<< HEAD
=======
   "cell_type": "code",
   "execution_count": 31,
   "id": "730f8bf8",
   "metadata": {},
   "outputs": [
    {
     "name": "stdout",
     "output_type": "stream",
     "text": [
      "[Document(id='805e7137-9b0c-48f2-aaa4-cbd20efbbaff', metadata={'producer': 'macOS Version 15.4.1 (Build 24E263) Quartz PDFContext, AppendMode 1.1', 'creator': 'PScript5.dll Version 5.2.2', 'creationdate': \"D:20240405072534Z00'00'\", 'author': 'Wen', 'moddate': \"D:20250521165548Z00'00'\", 'title': 'Microsoft PowerPoint - Lecture 7- The MOS transistors [Compatibility Mode]', 'source': 'Lecture 7- The MOS transistors.pdf', 'total_pages': 42, 'page': 2, 'page_label': '3'}, page_content='3\\n50nm transistor dimension\\n1.2nm Gate \\nOxide\\nSD\\n~2000x smaller than diameter of human hair\\nIntel 50nm transistor in production'), Document(id='adaf80e3-d555-4ebd-961f-95703746a7fa', metadata={'producer': 'macOS Version 12.7.6 (Build 21H1320) Quartz PDFContext, AppendMode 1.1', 'creator': 'PScript5.dll Version 5.2.2', 'creationdate': '2024-02-23T10:04:53+08:00', 'author': 'Wen', 'moddate': \"D:20250311071035Z00'00'\", 'title': 'Microsoft PowerPoint - Lecture 1 - Basic circuit theory', 'source': 'Lecture 1 - Basic circuit theory.pdf', 'total_pages': 36, 'page': 0, 'page_label': '1'}, page_content='Lecture 1\\nBasic circuit theory'), Document(id='4848c71c-b78c-42db-b99d-d0035d8132e5', metadata={'producer': 'macOS Version 15.4.1 (Build 24E263) Quartz PDFContext, AppendMode 1.1', 'creator': 'PScript5.dll Version 5.2.2', 'creationdate': \"D:20240405072534Z00'00'\", 'author': 'Wen', 'moddate': \"D:20250521165548Z00'00'\", 'title': 'Microsoft PowerPoint - Lecture 7- The MOS transistors [Compatibility Mode]', 'source': 'Lecture 7- The MOS transistors.pdf', 'total_pages': 42, 'page': 36, 'page_label': '37'}, page_content='37\\nThe Body Effect\\n0.4\\n0.45\\n0.5\\n0.55\\n0.6\\n0.65\\n0.7\\n0.75\\n0.8\\n0.85\\n0.9\\n-2.5 -2 -1.5 -1 -0.5 0\\nVBS (V)\\n\\u3000 VSB is the \\nsubstrate bias voltage \\n(normally positive for \\nn-channel devices \\nwith the body tied to \\nground)\\n\\u3000 A negative bias \\ncauses VT to increase \\nfrom 0.45V to 0.85V')]\n"
     ]
    }
   ],
   "source": [
    "print(docsearch)"
   ]
  },
  {
   "cell_type": "code",
   "execution_count": 53,
   "id": "db969214",
   "metadata": {},
   "outputs": [
    {
     "name": "stdout",
     "output_type": "stream",
     "text": [
      "[Document(id='ebf7a57c-39d3-4d5a-99a5-94e17f58c10b', metadata={'producer': 'macOS Version 12.5 (Build 21G72) Quartz PDFContext, AppendMode 1.1', 'creator': 'Microsoft® Word 2016', 'creationdate': \"D:20230224061506Z00'00'\", 'author': 'David Gozzard', 'moddate': \"D:20230305080614Z00'00'\", 'source': 'Lecture 1 Magnetic fields and magnetic force.pdf', 'total_pages': 7, 'page': 5, 'page_label': '6'}, page_content='voltage is proportional to the strength of the magnetic field. Such a Hall effect sensor (or \\nHall sensor) has many applications. \\nHall effect sensors can detect both the magnitude and orientation of a magnetic field, and \\nthey can work with static (unchanging) magnetic fields. They have no moving parts, so are \\nnot prone to wear, and can operate at much higher speeds than mechanical switches. Hall'), Document(id='513bd17d-3214-4086-bf90-aab7cc80afa7', metadata={'producer': 'macOS Version 15.4.1 (Build 24E263) Quartz PDFContext, AppendMode 1.1', 'creator': 'PScript5.dll Version 5.2.2', 'creationdate': \"D:20240405072534Z00'00'\", 'author': 'Wen', 'moddate': \"D:20250521165548Z00'00'\", 'title': 'Microsoft PowerPoint - Lecture 7- The MOS transistors [Compatibility Mode]', 'source': 'Lecture 7- The MOS transistors.pdf', 'total_pages': 42, 'page': 19, 'page_label': '20'}, page_content='20\\nSaturation Mode'), Document(id='41dbc341-0237-4123-9e03-c881e5ab8c55', metadata={'producer': 'macOS Version 15.4.1 (Build 24E263) Quartz PDFContext, AppendMode 1.1', 'creator': 'PScript5.dll Version 5.2.2', 'creationdate': \"D:20240405072534Z00'00'\", 'author': 'Wen', 'moddate': \"D:20250521165548Z00'00'\", 'title': 'Microsoft PowerPoint - Lecture 7- The MOS transistors [Compatibility Mode]', 'source': 'Lecture 7- The MOS transistors.pdf', 'total_pages': 42, 'page': 21, 'page_label': '22'}, page_content='22\\nChannel Length Modulation')]\n"
     ]
    }
   ],
   "source": [
    "docsearch3 = retriever.get_relevant_documents(\"What is the Hall effect\")\n",
    "\n",
    "print(docsearch3)"
   ]
  },
  {
   "cell_type": "code",
   "execution_count": 58,
   "id": "3b8d2094",
   "metadata": {},
   "outputs": [
    {
     "name": "stdout",
     "output_type": "stream",
     "text": [
      "voltage is proportional to the strength of the magnetic field. Such a Hall effect sensor (or \n",
      "Hall sensor) has many applications. \n",
      "Hall effect sensors can detect both the magnitude and orientation of a magnetic field, and \n",
      "they can work with static (unchanging) magnetic fields. They have no moving parts, so are \n",
      "not prone to wear, and can operate at much higher speeds than mechanical switches. Hall\n"
     ]
    }
   ],
   "source": [
    "print(docsearch3[0].page_content)"
   ]
  },
  {
   "cell_type": "code",
   "execution_count": 69,
   "id": "0c3a3425",
   "metadata": {},
   "outputs": [
    {
     "name": "stdout",
     "output_type": "stream",
     "text": [
      "sensor technology. \n",
      "Imagine a copper strip with current flowing down the page. The electrons then drift up the \n",
      "page. If we apply a magnetic field pointing into the page, the force due to the magnetic field \n",
      "will deflect the electrons to the right-hand edge of the strip. \n",
      "This caused a greater density of electrons at the right-hand edge of the strip, and so a \n",
      "separation of charges that produces an electric field within the strip. The force on the \n",
      "electrons due to the electric field (equivalently, their own mutual repulsion) will eventually \n",
      "cancel the force due to the magnetic field, resulting in a maximum value of the electric field. \n",
      "The electric field results in a potential difference across the strip, which can be measured \n",
      "with a voltmeter. \n",
      "In addition to allowing us to determine things such as whether the moving charges within a \n",
      "conductor are positive or negative, and measure the drift speed of electrons (if we move the \n",
      "strip through the magnetic field with same speed as the electron drift, but in the opposite \n",
      "direction, the Hall Effect voltage will be zero), we can create a device where the output \n",
      "voltage is proportional to the strength of the magnetic field. Such a Hall effect sensor (or \n",
      "Hall sensor) has many applications. \n",
      "Hall effect sensors can detect both the magnitude and orientation of a magnetic field, and\n"
     ]
    }
   ],
   "source": [
    "docsearch4 = retriever.get_relevant_documents(\"What did Edwin H. Hall discover\")\n",
    "\n",
    "print(docsearch4[0].page_content)"
   ]
  },
  {
>>>>>>> de30b52642393ec0f2eb5ecc81e9f6fb79c160cc
   "cell_type": "markdown",
   "id": "438f6a9e",
   "metadata": {},
   "source": [
    "# Part 4 - Generation"
   ]
  },
  {
   "cell_type": "code",
<<<<<<< HEAD
   "execution_count": 12,
=======
   "execution_count": 59,
>>>>>>> de30b52642393ec0f2eb5ecc81e9f6fb79c160cc
   "id": "b5316844",
   "metadata": {},
   "outputs": [
    {
     "data": {
      "text/plain": [
       "PromptTemplate(input_variables=['context', 'question'], input_types={}, partial_variables={}, template='Answer the following question only using the following context:\\n{context}\\n\\nIf the answer is not contained in the context, respond with:\\n\"I cannot answer this question because the necessary information was not found in the provided documents.\"\\n\\nWhen answering, include the **source file name** and **slide/page number** if available.\\n\\nQuestion: {question}\\n')"
      ]
     },
<<<<<<< HEAD
     "execution_count": 12,
=======
     "execution_count": 59,
>>>>>>> de30b52642393ec0f2eb5ecc81e9f6fb79c160cc
     "metadata": {},
     "output_type": "execute_result"
    }
   ],
   "source": [
    "from langchain.prompts import PromptTemplate\n",
    "\n",
    "template = \"\"\"Answer the following question only using the following context:\n",
    "{context}\n",
    "\n",
    "If the answer is not contained in the context, respond with:\n",
    "\"I cannot answer this question because the necessary information was not found in the provided documents.\"\n",
    "\n",
    "When answering, include the **source file name** and **slide/page number** if available.\n",
    "\n",
    "Question: {question}\n",
    "\"\"\"\n",
    "\n",
    "prompt = PromptTemplate.from_template(template)\n",
    "prompt"
   ]
  },
  {
   "cell_type": "code",
<<<<<<< HEAD
   "execution_count": 13,
=======
   "execution_count": 60,
>>>>>>> de30b52642393ec0f2eb5ecc81e9f6fb79c160cc
   "id": "e3691faf",
   "metadata": {},
   "outputs": [],
   "source": [
    "llm = OllamaLLM(model = \"llama3.2\")"
   ]
  },
  {
   "cell_type": "code",
<<<<<<< HEAD
   "execution_count": 14,
=======
   "execution_count": 61,
>>>>>>> de30b52642393ec0f2eb5ecc81e9f6fb79c160cc
   "id": "56b79591",
   "metadata": {},
   "outputs": [],
   "source": [
    "chain = prompt | llm"
   ]
  },
  {
   "cell_type": "code",
<<<<<<< HEAD
   "execution_count": 15,
=======
   "execution_count": null,
>>>>>>> de30b52642393ec0f2eb5ecc81e9f6fb79c160cc
   "id": "71157b96",
   "metadata": {},
   "outputs": [
    {
     "name": "stdout",
     "output_type": "stream",
     "text": [
<<<<<<< HEAD
      "The Hall Effect is described as an experiment where a current is passed through a conductor, causing electrons to drift randomly in one direction. When a magnetic field is applied perpendicular to the conductor, it deflects the drifting electrons, creating a separation of charges and resulting in an electric field within the conductor.\n",
      "\n",
      "Source file name: Lecture 1 Magnetic fields and magnetic force.pdf\n",
      "Slide/page number: Page 5 (document '5edf78b0-503c-41ba-993a-752cb731f07d')\n"
=======
      "The Hall effect is a phenomenon where voltage is proportional to the strength of the magnetic field. This concept is discussed in the document \"Lecture 1 Magnetic fields and magnetic force.pdf\", page 5, slide 6. According to this document, a Hall effect sensor (or Hall sensor) has many applications, including detecting both the magnitude and orientation of a magnetic field, and can work with static magnetic fields.\n"
>>>>>>> de30b52642393ec0f2eb5ecc81e9f6fb79c160cc
     ]
    }
   ],
   "source": [
<<<<<<< HEAD
    "print(chain.invoke({\"context\":docsearch, \"question\":\"Describe an experiment used to find the Hall effect\"}))"
=======
    "print(chain.invoke({\"context\":docsearch3, \"question\":\"What is the Hall effect?\"}))"
>>>>>>> de30b52642393ec0f2eb5ecc81e9f6fb79c160cc
   ]
  },
  {
   "cell_type": "code",
<<<<<<< HEAD
   "execution_count": 16,
   "id": "81d33d85",
=======
   "execution_count": 73,
   "id": "4f0194be",
>>>>>>> de30b52642393ec0f2eb5ecc81e9f6fb79c160cc
   "metadata": {},
   "outputs": [
    {
     "name": "stdout",
     "output_type": "stream",
     "text": [
<<<<<<< HEAD
      "The source file is 'Lecture 4 Faraday’s law and induction.pdf' (page 1).\n",
      "\n",
      "According to the text, Faraday's Law of Induction states that \"Induced emf and current is caused by changing the amount of magnetic field passing through the conducting loop.\" This is defined as magnetic flux (𝛷𝐵), which is calculated as: 𝛷𝐵 = ∫𝐵⃗ ∙ 𝑑𝐴, where 𝐵⃗  is the magnetic field enclosed by a conducting loop of area 𝐴.\n",
      "\n",
      "In the case where the magnetic field is uniform, we can write the dot product as 𝐵 𝑑𝐴 cos0 = 𝐵 𝑑𝐴. This allows us to bring out the front of the integral and get: 𝛷𝐵 = 𝐵𝐴.\n",
      "\n",
      "The unit of magnetic flux is tesla-square meters (weber), which is defined as 1 weber = 1 T ⋅ m².\n",
      "\n",
      "Formally, Faraday's Law can be written as: ℰ = − ∫(𝑑𝛷𝐵)/𝑑𝑡, where the minus sign indicates that the induced emf acts to oppose the change of flux in the loop.\n",
      "\n",
      "In an ideal (closely packed) coil of N turns, the equation becomes: ℰ = −𝑁 ∫(𝑑𝛷𝐵)/𝑑𝑡.\n"
=======
      "The drift velocity of electrons can be used as an example to demonstrate the Hall effect. \n",
      "\n",
      "Consider a copper strip with current flowing down the page. The electrons then drift up the page due to the electric field generated by the magnetic field (Hall effect). If we apply a magnetic field pointing into the page, the force on the electrons due to the magnetic field will deflect them to the right-hand edge of the strip.\n",
      "\n",
      "For example, let's assume that the Hall effect sensor is detecting a magnetic field strength of 0.5 T. According to the Hall effect equation, the voltage output (V) of the Hall sensor is proportional to the product of the magnetic field strength (B), the current density (J), and the thickness of the conductor (t):\n",
      "\n",
      "V ∝ B × J × t\n",
      "\n",
      "If we assume that the drift velocity of electrons is approximately 10^4 m/s, and the thickness of the copper strip is 1 μm, we can estimate the Hall voltage as:\n",
      "\n",
      "V ≈ B × J × t\n",
      "= 0.5 T × (drift velocity / 1 μm) × 1 μm\n",
      "≈ 50 V\n",
      "\n",
      "This example illustrates how the drift velocity of electrons can affect the output voltage of a Hall effect sensor, and it is proportional to the strength of the magnetic field.\n",
      "\n",
      "Source file name: Lecture 7- The MOS transistors.pdf (slide 3)\n"
>>>>>>> de30b52642393ec0f2eb5ecc81e9f6fb79c160cc
     ]
    }
   ],
   "source": [
<<<<<<< HEAD
    "print(chain.invoke({\"context\":docsearch2, \"question\":\"Explain Faraday's Law and how it relates to induction\"}))"
   ]
=======
    "print(chain.invoke({\"context\":docsearch4, \"question\":\"Use an example for drift velocity\"}))"
   ]
  },
  {
   "cell_type": "code",
   "execution_count": 28,
   "id": "8838f5ea",
   "metadata": {},
   "outputs": [
    {
     "name": "stdout",
     "output_type": "stream",
     "text": [
      "According to the document, when there is a negative gate voltage, it means that the gate-to-source potential difference is zero. This results in a channel not existing between the source and drain, as described on page 40 of the lecture notes.\n",
      "\n",
      "In other words, with a negative gate voltage, the MOSFET is in the \"cut-off\" or \"OFF\" region, meaning current cannot pass between the source and drain.\n"
     ]
    }
   ],
   "source": [
    "print(chain.invoke({\"context\":all_docs, \"question\":\"Explain what happens when there is negative gate voltage\"}))"
   ]
  },
  {
   "cell_type": "code",
   "execution_count": null,
   "id": "9f995576",
   "metadata": {},
   "outputs": [
    {
     "data": {
      "text/plain": [
       "'def ask(question, k = 3):\\n    retrieved_docs = retriever.get_relevant_documents(question)\\n\\n    # Combine page content into context string\\n    context = \"\\n\\n\".join([doc.page_content for doc in retrieved_docs])\\n\\n    # Ask the model using your RAG prompt\\n    response = chain.invoke({\"context\": context, \"question\": question})\\n\\n    # Optionally print sources\\n    sources = [doc.metadata.get(\"source\", \"unknown\") + f\" (page {doc.metadata.get(\\'page_label\\', \\'?\\')})\" for doc in retrieved_docs]\\n\\n    print(f\"\\n📌 Question: {question}\\n🧠 Answer:\\n{response}\\n📄 Sources: {sources}\")\\n    return response'"
      ]
     },
     "execution_count": 77,
     "metadata": {},
     "output_type": "execute_result"
    }
   ],
   "source": [
    "\"\"\"def ask(question, k = 3):\n",
    "    retrieved_docs = retriever.get_relevant_documents(question)\n",
    "\n",
    "    # Combine page content into context string\n",
    "    context = \"\\n\\n\".join([doc.page_content for doc in retrieved_docs])\n",
    "\n",
    "    # Ask the model using your RAG prompt\n",
    "    response = chain.invoke({\"context\": context, \"question\": question})\n",
    "\n",
    "    # Optionally print sources\n",
    "    sources = [doc.metadata.get(\"source\", \"unknown\") + f\" (page {doc.metadata.get('page_label', '?')})\" for doc in retrieved_docs]\n",
    "    \n",
    "    print(f\"\\n📌 Question: {question}\\n🧠 Answer:\\n{response}\\n📄 Sources: {sources}\")\n",
    "    return response\"\"\"\n",
    "\n",
    "\n",
    "#The above is a function that should return an LLM output given a prompt"
   ]
  },
  {
   "cell_type": "code",
   "execution_count": null,
   "id": "6cf7ca93",
   "metadata": {},
   "outputs": [
    {
     "name": "stdout",
     "output_type": "stream",
     "text": [
      "\n",
      "📌 Question: Explain the operation principle\n",
      "🧠 Answer:\n",
      "**Source File Name:** Slide 37 (Hall Effect)\n",
      "**Slide/Page Number:** Not specified\n",
      "\n",
      "The Hall effect sensor operates on the principle that a magnetic field deflects electrons in a conductor, creating a separation of charges and an electric field. When a copper strip with current flowing down the page is placed in a magnetic field pointing into the page, the force due to the magnetic field deflects the electrons to the right-hand edge of the strip, resulting in a greater density of electrons at that edge.\n",
      "\n",
      "As a result, a separation of charges occurs within the strip, producing an electric field. The force on the electrons due to the electric field eventually cancels out the force due to the magnetic field, leading to a maximum value of the electric field.\n",
      "\n",
      "The Hall effect sensor measures this maximum electric field, which results in a potential difference across the strip. This potential difference is proportional to the strength of the magnetic field and can be measured with a voltmeter. The orientation of the magnetic field can also be detected by the sensor.\n",
      "\n",
      "In summary, the operation principle of the Hall effect sensor relies on the interaction between a magnetic field, electrons in a conductor, and the resulting electric field that creates a potential difference across the strip.\n",
      "📄 Sources: ['Lecture 7- The MOS transistors.pdf (page 3)', 'Lecture 1 Magnetic fields and magnetic force.pdf (page 6)', 'Lecture 7- The MOS transistors.pdf (page 37)']\n"
     ]
    },
    {
     "data": {
      "text/plain": [
       "'**Source File Name:** Slide 37 (Hall Effect)\\n**Slide/Page Number:** Not specified\\n\\nThe Hall effect sensor operates on the principle that a magnetic field deflects electrons in a conductor, creating a separation of charges and an electric field. When a copper strip with current flowing down the page is placed in a magnetic field pointing into the page, the force due to the magnetic field deflects the electrons to the right-hand edge of the strip, resulting in a greater density of electrons at that edge.\\n\\nAs a result, a separation of charges occurs within the strip, producing an electric field. The force on the electrons due to the electric field eventually cancels out the force due to the magnetic field, leading to a maximum value of the electric field.\\n\\nThe Hall effect sensor measures this maximum electric field, which results in a potential difference across the strip. This potential difference is proportional to the strength of the magnetic field and can be measured with a voltmeter. The orientation of the magnetic field can also be detected by the sensor.\\n\\nIn summary, the operation principle of the Hall effect sensor relies on the interaction between a magnetic field, electrons in a conductor, and the resulting electric field that creates a potential difference across the strip.'"
      ]
     },
     "execution_count": 76,
     "metadata": {},
     "output_type": "execute_result"
    }
   ],
   "source": []
>>>>>>> de30b52642393ec0f2eb5ecc81e9f6fb79c160cc
  }
 ],
 "metadata": {
  "kernelspec": {
   "display_name": "LLM_Train",
   "language": "python",
   "name": "python3"
  },
  "language_info": {
   "codemirror_mode": {
    "name": "ipython",
    "version": 3
   },
   "file_extension": ".py",
   "mimetype": "text/x-python",
   "name": "python",
   "nbconvert_exporter": "python",
   "pygments_lexer": "ipython3",
   "version": "3.11.8"
  }
 },
 "nbformat": 4,
 "nbformat_minor": 5
}
