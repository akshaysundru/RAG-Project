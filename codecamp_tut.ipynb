{
 "cells": [
  {
   "cell_type": "markdown",
   "id": "c84832b8",
   "metadata": {},
   "source": [
    "Following Free Code Camps tutorial closely."
   ]
  },
  {
   "cell_type": "code",
   "execution_count": 1,
   "id": "dc658917",
   "metadata": {},
   "outputs": [],
   "source": [
    "import ollama\n",
    "import numpy as np\n",
    "import torch"
   ]
  },
  {
   "cell_type": "code",
   "execution_count": 2,
   "id": "362d0828",
   "metadata": {},
   "outputs": [],
   "source": [
    "from langchain_ollama import OllamaLLM, OllamaEmbeddings\n",
    "\n",
    "embeddings = OllamaEmbeddings(model=\"llama3.2\")"
   ]
  },
  {
   "cell_type": "code",
   "execution_count": 3,
   "id": "da4d1a8a",
   "metadata": {},
   "outputs": [
    {
     "name": "stdout",
     "output_type": "stream",
     "text": [
      "Total characters: 1647\n"
     ]
    }
   ],
   "source": [
    "from langchain_community.document_loaders import PyPDFLoader\n",
    "\n",
    "loader = PyPDFLoader(\"Lecture 1 Magnetic fields and magnetic force.pdf\")\n",
    "#loader2 = PyPDFLoader(\"Lecture 7- The MOS transistors.pdf\")\n",
    "docs = loader.load()\n",
    "#docs2 = loader2.load()\n",
    "\n",
    "print(f\"Total characters: {len(docs[2].page_content)}\")\n",
    "#print(f\"Total characters: {len(docs2[5].page_content)}\")"
   ]
  },
  {
   "cell_type": "code",
   "execution_count": 4,
   "id": "efdc5476",
   "metadata": {},
   "outputs": [],
   "source": [
    "from langchain.text_splitter import RecursiveCharacterTextSplitter\n",
    "\n",
    "#all_docs = docs + docs2\n",
    "\n",
    "text_splitter = RecursiveCharacterTextSplitter.from_tiktoken_encoder(\n",
    "    chunk_size = 512,\n",
    "    chunk_overlap = 64\n",
    ")\n",
    "\n",
    "#Make splits\n",
    "splits = text_splitter.split_documents(docs)"
   ]
  },
  {
   "cell_type": "code",
   "execution_count": 7,
   "id": "78ab0643",
   "metadata": {},
   "outputs": [
    {
     "name": "stdout",
     "output_type": "stream",
     "text": [
      "PHYS2003: Physics for Electrical Engineers, semester 1 2023 \n",
      "Lecture 1 \n",
      "1 \n",
      " \n",
      "Lecture 1: Magnetic fields and magnetic force \n",
      "Learning outcomes \n",
      "Assessable \n",
      "• Calculate the force on moving charges in a magnetic field via the cross product. \n",
      "• Calculate the direction of resulting vectors from the cross product or, where \n",
      "appropriate, apply basic rules to determine the direction. \n",
      "• Calculate potential difference in a moving conductor. \n",
      "Understanding \n",
      "• Visualize and conceptually explain the motion of charged particles in magnetic fields. \n",
      "1. Summary \n",
      "1.1. Purpose of PHYS2003 \n",
      "The purpose of PHYS2003 is to provide you with the fundamental physics basis of \n",
      "phenomena and devices that you will draw on as you advance in your studies. In particular, \n",
      "units such as ELEC3016 (Power and Machines), ELEC3014 (Electronic Materials and Devices) \n",
      "and ELEC4407 (Engineering Electromagnetics) will draw heavily on the understanding of \n",
      "electromagnetism and quantum mechanics that you develop in PHYS2003. \n",
      "1.2. Content of PHYS2003 \n",
      "PHYS2003 comprises two modules, the first on magnetism and optical properties (lecturer: \n",
      "Dr David Gozzard) and the second on electronic material and devices (lecturer: A/Prof Vince \n",
      "Wallace). \n",
      "Module 1 will cover topics including: \n",
      "• Magnetic fields and magnetic force \n",
      "• Ampere’s law \n",
      "• Electromagnetic induction and Faraday’s law \n",
      "• AC circuits (RC, RL, RLC circuit), complex impedance, phasors, and resonance \n",
      "• Magnetic moment and magnetic dipole, magnetic susceptibility, diamagnetism, \n",
      "paramagnetism, Curie temperature \n",
      "• Magnetic domains, B-H hysteresis, ferromagnetism, rare earth magnetic materials, \n",
      "and \n",
      "• Basic optical properties of materials \n",
      "2. Assumed prior knowledge \n",
      "This unit assumes knowledge from MATH1011 (differentiation, integration and vector \n",
      "fields), MATH1012 (Fourier series and differential equations), and PHYS1001 (waves and \n",
      "optics, and electricity).\n"
     ]
    }
   ],
   "source": [
    "print(docs[0].page_content)"
   ]
  },
  {
   "cell_type": "code",
   "execution_count": 8,
   "id": "bfbece8e",
   "metadata": {},
   "outputs": [],
   "source": [
    "from langchain_chroma import Chroma\n",
    "\n",
    "vectorstore = Chroma.from_documents(\n",
    "    documents=splits,  # these are already LangChain `Document` objects\n",
    "    embedding=embeddings,\n",
    "    collection_name=\"circuit_docs\",\n",
    "    persist_directory=\"./chroma_db\"\n",
    ")\n",
    "\n",
    "retriever = vectorstore.as_retriever(search_kwargs={'k': 10})"
   ]
  },
  {
   "cell_type": "markdown",
   "id": "31df2489",
   "metadata": {},
   "source": [
    "From RAG Tutorial this appears to end the embedding and indexing section, next video we will see retrieval"
   ]
  },
  {
   "cell_type": "markdown",
   "id": "e1524e0b",
   "metadata": {},
   "source": [
    "# Part3 - Retrieval\n",
    "\n",
    "In this section code camp goes over the retrieval section"
   ]
  },
  {
   "cell_type": "code",
   "execution_count": 9,
   "id": "07188552",
   "metadata": {},
   "outputs": [],
   "source": [
    "docsearch = retriever.invoke(\"Edwin H. Hall experiment\")"
   ]
  },
  {
   "cell_type": "code",
   "execution_count": 10,
   "id": "5f906451",
   "metadata": {},
   "outputs": [
    {
     "name": "stdout",
     "output_type": "stream",
     "text": [
      "[Document(id='2e03c74d-0bf1-4952-a642-5e965c694e5e', metadata={'source': 'Lecture 1 Magnetic fields and magnetic force.pdf', 'page': 5, 'producer': 'macOS Version 12.5 (Build 21G72) Quartz PDFContext, AppendMode 1.1', 'author': 'David Gozzard', 'moddate': \"D:20230305080614Z00'00'\", 'creationdate': \"D:20230224061506Z00'00'\", 'creator': 'Microsoft® Word 2016', 'page_label': '6', 'total_pages': 7}, page_content='conductor are positive or negative, and measure the drift speed of electrons (if we move the \\nstrip through the magnetic field with same speed as the electron drift, but in the opposite \\ndirection, the Hall Effect voltage will be zero), we can create a device where the output \\nvoltage is proportional to the strength of the magnetic field. Such a Hall effect sensor (or \\nHall sensor) has many applications. \\nHall effect sensors can detect both the magnitude and orientation of a magnetic field, and \\nthey can work with static (unchanging) magnetic fields. They have no moving parts, so are \\nnot prone to wear, and can operate at much higher speeds than mechanical switches. Hall'), Document(id='eb126144-5ee8-485a-bd47-3e7abb40c15f', metadata={'source': 'Lecture 1 Magnetic fields and magnetic force.pdf', 'total_pages': 7, 'page': 5, 'producer': 'macOS Version 12.5 (Build 21G72) Quartz PDFContext, AppendMode 1.1', 'creator': 'Microsoft® Word 2016', 'page_label': '6', 'moddate': \"D:20230305080614Z00'00'\", 'author': 'David Gozzard', 'creationdate': \"D:20230224061506Z00'00'\"}, page_content='PHYS2003: Physics for Electrical Engineers, semester 1 2023 \\nLecture 1 \\n6 \\n \\n \\nFigure 3: Simplified diagram of the J. J. Thomson experiment that discovered the electron. \\n5.2. The Hall Effect \\nIn a conductor, when there is no current through it, the electrons move randomly with no \\nnet or average motion in any direction. When a current is passed through the conductor, \\nthe electrons continue to move randomly, but with an average drift in the opposite \\ndirection to the electric field causing the current. The drift speed 𝑣𝑑 is very smaller \\ncompared with the speed of the electrons in their individual random motion. In a copper \\nwire at room temperature, the electrons are randomly moving at around 106 m/s, while the \\ndrift speed is only around 10-4 m/s (i.e. on the order of centimetres per hour). \\nIn 1879, Edwin H. Hall showed that the drifting conduction electrons in a copper wire can be \\ndeflected by an outside magnetic field. This is the Hall Effect and is used in a wide range of \\nsensor technology. \\nImagine a copper strip with current flowing down the page. The electrons then drift up the \\npage. If we apply a magnetic field pointing into the page, the force due to the magnetic field \\nwill deflect the electrons to the right-hand edge of the strip. \\nThis caused a greater density of electrons at the right-hand edge of the strip, and so a \\nseparation of charges that produces an electric field within the strip. The force on the \\nelectrons due to the electric field (equivalently, their own mutual repulsion) will eventually \\ncancel the force due to the magnetic field, resulting in a maximum value of the electric field. \\nThe electric field results in a potential difference across the strip, which can be measured \\nwith a voltmeter. \\nIn addition to allowing us to determine things such as whether the moving charges within a \\nconductor are positive or negative, and measure the drift speed of electrons (if we move the \\nstrip through the magnetic field with same speed as the electron drift, but in the opposite \\ndirection, the Hall Effect voltage will be zero), we can create a device where the output'), Document(id='081d9081-8d85-4990-a704-2d82d25ff7d0', metadata={'creationdate': \"D:20230224061506Z00'00'\", 'page': 4, 'author': 'David Gozzard', 'total_pages': 7, 'source': 'Lecture 1 Magnetic fields and magnetic force.pdf', 'creator': 'Microsoft® Word 2016', 'producer': 'macOS Version 12.5 (Build 21G72) Quartz PDFContext, AppendMode 1.1', 'moddate': \"D:20230305080614Z00'00'\", 'page_label': '5'}, page_content='When the 𝐸⃗  and 𝐵⃗  fields are adjusted to counteract each other, the relation is: \\n  |𝑞|𝐸 = |𝑞|𝑣𝐵  \\nwhich we can rearrange to \\n  𝑣 =\\n𝐸\\n𝐵  \\nThus, the speed of the particles could be measured. By measuring the distance of the \\ndeflection of the particles on the screen (and so calculating their acceleration) Thomson \\ncould determine the ratio of their mass to their charge. He knew that they were negatively \\ncharged, and found that, per unit of charge, they were lighter than hydrogen (the lightest \\natom) by a factor of more than 1,000. This is considered to be the discovery of the electron.'), Document(id='dbaec8a1-ae76-46bb-aed6-94fb08341374', metadata={'creationdate': \"D:20230224061506Z00'00'\", 'moddate': \"D:20230305080614Z00'00'\", 'producer': 'macOS Version 12.5 (Build 21G72) Quartz PDFContext, AppendMode 1.1', 'author': 'David Gozzard', 'source': 'Lecture 1 Magnetic fields and magnetic force.pdf', 'creator': 'Microsoft® Word 2016', 'total_pages': 7, 'page': 1, 'page_label': '2'}, page_content='PHYS2003: Physics for Electrical Engineers, semester 1 2023 \\nLecture 1 \\n2 \\n \\n3. Magnetic fields and magnetic force \\nUnderstanding of magnetic fields and magnetic force is critical for applications such as \\nelectric motors, solenoids, speaker coils, actuators, etc. This will also lead on to \\nunderstanding electromagnetic (EM) waves. \\n3.1. Producing a magnetic field \\nElectric field is represented by 𝐸⃗  and is produced by an electric charge. Magnetic fields, \\nrepresented by 𝐵⃗  are produced in two ways. \\n3.1.1. Electromagnet \\nMoving charged particles create a magnetic field. We can use the current (movement of \\nelectrons) in a wire to create an electromagnet. This will be discussed in detail in lecture 2. \\n3.1.2. Permanent magnet \\nElementary particles such as electrons have an intrinsic magnetic field that is a basic \\nproperty of the particle, just as charge and mass are basic properties of particles. In certain \\nmaterials (crystal structures) the magnetic fields of the electrons add to give a net magnetic \\nfield around the material, i.e. a permanent magnet. (In most materials, the magnetic fields \\nof the electrons cancel each other out, leaving no net magnetic field.) This will be discussed \\nfurther in lecture 12. \\n4. Defining 𝑩⃗⃗  \\nThe electric field 𝐸⃗  at a given point in space is defined by putting a test particle of charge 𝑞 \\nat rest at that point and measuring the electric force 𝐹𝐸⃗⃗⃗⃗  acting on the particle, giving 𝐸⃗  as \\n  𝐸⃗ =\\n𝐹𝐸⃗⃗⃗⃗⃗ \\n𝑞  (1.1) \\nIn contrast, we define 𝐵⃗  in terms of the magnetic force 𝐹𝐵⃗⃗⃗⃗  exerted on a moving electrically'), Document(id='6af16957-08f2-4ca7-85c8-0b562c593371', metadata={'author': 'David Gozzard', 'creator': 'Microsoft® Word 2016', 'total_pages': 7, 'producer': 'macOS Version 12.5 (Build 21G72) Quartz PDFContext, AppendMode 1.1', 'source': 'Lecture 1 Magnetic fields and magnetic force.pdf', 'page': 6, 'creationdate': \"D:20230224061506Z00'00'\", 'page_label': '7', 'moddate': \"D:20230305080614Z00'00'\"}, page_content='PHYS2003: Physics for Electrical Engineers, semester 1 2023 \\nLecture 1 \\n7 \\n \\neffect sensors have a wide range of applications in proximity sensing, positioning, speed \\ndetection, and current sensing. They are widely used in speed controllers for brushless DC \\nmotors because they are used to detect the position of magnets in the rotor. \\n5.3. Example – potential difference across a moving conductor \\nImagine a metal cube in an x-y-z cartesian coordinate system. The cube has an edge length \\nof d = 1.5 cm and is moving in the positive y-direction. A magnetic field of magnitude \\n0.050 T is oriented along the positive z-axis. \\n(a) Which faces of the cube are at the lower and higher electrical potential? \\nApplying eqtn 1.2 and/or the left-hand-rule, we find that the electrons experience a force in \\nthe negative-x direction. The free conduction electrons will move towards the negative-x \\nside of the cube, making the negative-x face negatively charged and the positive-x face \\npositively charged. The positive-x face is at a higher electric potential and the negative-x \\nface at a lower electric potential. \\n(b) What is the potential difference between the faces of the cube? \\nThe potential difference 𝑉 due to an electric field of magnitude 𝐸 across a strip of length 𝑑 \\nis: \\n𝑉 = 𝐸𝑑 \\nSo we need to find the magnitude of the electric field induced by the motion of the cube. \\nOnce the cube is moving steadily and the electrons have settled to their new positions (i.e. \\nthe system has reached a steady state) the electrons are prevented from bunching further \\ntogether by their mutual electrostatic repulsion, which is given by |𝑞|𝐸. At steady state, this \\nforce will balance out the force on the electrons due to the magnetic field, so we have: \\n|𝑞|𝐸 = |𝑞|𝑣𝐵 sin90 = |𝑞|𝑣𝐵 \\nWhich cancels out to: \\n𝐸 = 𝑣𝐵'), Document(id='83fa3b4f-9457-450a-b8b1-f351733b87f4', metadata={'moddate': \"D:20230305080614Z00'00'\", 'creationdate': \"D:20230224061506Z00'00'\", 'producer': 'macOS Version 12.5 (Build 21G72) Quartz PDFContext, AppendMode 1.1', 'page': 2, 'author': 'David Gozzard', 'total_pages': 7, 'page_label': '3', 'source': 'Lecture 1 Magnetic fields and magnetic force.pdf', 'creator': 'Microsoft® Word 2016'}, page_content='PHYS2003: Physics for Electrical Engineers, semester 1 2023 \\nLecture 1 \\n3 \\n \\nRemembering the definition of the cross-product, the magnitude of 𝐹𝐵⃗⃗⃗⃗  is \\n  𝐹𝐵 = |𝑞|𝑣𝐵 sin𝜙 (1.3) \\nwhere 𝐵 is the magnitude of the magnetic field and can be represented by \\n  𝐵 =\\n𝐹𝐵\\n|𝑞|𝑣 (1.4) \\n \\nNote that 𝐹𝐵⃗⃗⃗⃗ , being perpendicular to 𝑣  never has a component parallel to 𝑣  and so cannot \\nchange the particle’s speed (and thus kinetic energy), only its direction of travel. \\nThe SI unit for 𝐵⃗  is called the tesla (T).  \\n  1 𝑡𝑒𝑠𝑙𝑎 = 1\\n𝑛𝑒𝑤𝑡𝑜𝑛\\n(𝑐𝑜𝑢𝑙𝑜𝑚𝑏)(𝑚𝑒𝑡𝑒𝑟/𝑠𝑒𝑐𝑜𝑛𝑑) (1.5) \\nRecall that a coulomb per second is an ampere, this becomes \\n  1 𝑇 = 1\\n𝑛𝑒𝑤𝑡𝑜𝑛\\n(𝑐𝑜𝑢𝑙𝑜𝑚𝑏/𝑠𝑒𝑐𝑜𝑛𝑑)(𝑚𝑒𝑡𝑒𝑟) = 1\\n𝑁\\n𝐴∙𝑚 (1.6) \\nAnother common (non-SI) unit for magnetic field is the gauss (G). 1 T = 104 gauss. The'), Document(id='6f5ede95-3bcb-48d0-b834-d7634f72fe58', metadata={'creationdate': \"D:20230224061506Z00'00'\", 'page': 3, 'page_label': '4', 'creator': 'Microsoft® Word 2016', 'producer': 'macOS Version 12.5 (Build 21G72) Quartz PDFContext, AppendMode 1.1', 'moddate': \"D:20230305080614Z00'00'\", 'author': 'David Gozzard', 'total_pages': 7, 'source': 'Lecture 1 Magnetic fields and magnetic force.pdf'}, page_content='1.67 × 10−27 𝑘𝑔 = 3.2 × 107 𝑚/𝑠 \\n𝐹𝐵 = |𝑞|𝑣𝐵 sin𝜙 = (1.60 × 10−19 𝐶)(3.2 × 107 𝑚\\n𝑠 )(1.2 × 10−3 𝑇)sin90\\n=  6.1 × 10−15 𝑁 \\n(b) What is the acceleration of the proton? \\n𝑎 = 𝐹𝐵\\n𝑚 = 6.1 × 10−15 𝑁\\n1.67 × 10−27 𝑘𝑔 = 3.7 × 1012 𝑚/𝑠2'), Document(id='8f4f641f-7f28-45f2-a879-e9263d8d40b8', metadata={'page_label': '2', 'source': 'Lecture 1 Magnetic fields and magnetic force.pdf', 'page': 1, 'total_pages': 7, 'moddate': \"D:20230305080614Z00'00'\", 'creator': 'Microsoft® Word 2016', 'author': 'David Gozzard', 'producer': 'macOS Version 12.5 (Build 21G72) Quartz PDFContext, AppendMode 1.1', 'creationdate': \"D:20230224061506Z00'00'\"}, page_content='𝑞  (1.1) \\nIn contrast, we define 𝐵⃗  in terms of the magnetic force 𝐹𝐵⃗⃗⃗⃗  exerted on a moving electrically \\ncharged particle. Charged particles with different velocity vectors 𝑣  will experience different \\nresulting forces. Particles moving along one particular axis will experience zero force. For all \\nother particle velocities, we would find that the force 𝐹𝐵⃗⃗⃗⃗  is always perpendicular to the \\ndirection of 𝑣  (you should recognize this as meaning a cross product is involved), and that \\nthe magnitude of 𝐹𝐵⃗⃗⃗⃗  is proportional to 𝑣 sin𝜙 where 𝜙 is the angle between the zero-force \\naxis and the direction of 𝑣 . The magnetic field 𝐵⃗  is defined to be a vector quantity directed \\nalong the zero-force axis. \\nThe definition of 𝐵⃗  is summarized with the vector equation: \\n  𝐹𝐵⃗⃗⃗⃗  = 𝑞𝑣 × 𝐵⃗  (1.2) \\nThat is, the force on the particle is given by the charge times the cross product of the \\nvelocity of the particle with the magnetic field.'), Document(id='86b4a3b6-c939-471a-ab4d-3196a5f922b1', metadata={'moddate': \"D:20230305080614Z00'00'\", 'author': 'David Gozzard', 'total_pages': 7, 'creationdate': \"D:20230224061506Z00'00'\", 'source': 'Lecture 1 Magnetic fields and magnetic force.pdf', 'page': 3, 'producer': 'macOS Version 12.5 (Build 21G72) Quartz PDFContext, AppendMode 1.1', 'page_label': '4', 'creator': 'Microsoft® Word 2016'}, page_content='PHYS2003: Physics for Electrical Engineers, semester 1 2023 \\nLecture 1 \\n4 \\n \\nmagnetic field, and the thumb gives the direction of the resulting force for positively \\ncharged particle. For a negatively charged particle, the “current” is in the opposite direction \\nto the motion of the particle. (Image from Wikipedia.) \\nNote that, a particle moving parallel to the magnetic field will experience no force, and that \\na particle that is stationary relative to the magnetic field will also experience no force. \\n4.2. Magnetic field lines \\nConventionally, we represent magnetic fields with field lines. The lines emerge from the \\nnorth pole of the magnet and enter the magnet at the south pole. The direction tangent to a \\nmagnetic field line gives the direction of 𝐵⃗  at that point. The spacing of the lines represents \\nthe magnitude of 𝐵⃗  in that region. (Closer lines signify a stronger field.) Because a magnet \\nhas two poles it is called a magnetic dipole.  \\n \\nFigure 2: Magnetic field lines representing the magnetic field of bar magnets. \\n4.3. Example – magnetic force on a moving charged particle \\nIn an experiment in the laboratory a magnetic field with magnitude 1.2 mT is directed \\nvertically up (floor-to-ceiling) through a test chamber. A proton is fired horizontally through \\nthe chamber with a kinetic energy of 5.3 MeV. (The mass of the proton is 1.67×10-27 kg and \\nan MeV = 1.60×10-13 J.) \\n(a) What is the magnitude of the force acting on the proton? \\nWe get 𝑣 from the kinetic energy 𝐾 =\\n1\\n2 𝑚𝑣2. \\n𝑣 = √2𝐾\\n𝑚 = √(2)(5.3 𝑀𝑒𝑉)(1.60 × 10−13 𝐽/𝑀𝑒𝑉)\\n1.67 × 10−27 𝑘𝑔 = 3.2 × 107 𝑚/𝑠'), Document(id='66e96c70-df30-463a-bed0-b038d8881709', metadata={'creationdate': \"D:20230224061506Z00'00'\", 'source': 'Lecture 1 Magnetic fields and magnetic force.pdf', 'author': 'David Gozzard', 'page_label': '3', 'creator': 'Microsoft® Word 2016', 'page': 2, 'moddate': \"D:20230305080614Z00'00'\", 'producer': 'macOS Version 12.5 (Build 21G72) Quartz PDFContext, AppendMode 1.1', 'total_pages': 7}, page_content='𝑁\\n𝐴∙𝑚 (1.6) \\nAnother common (non-SI) unit for magnetic field is the gauss (G). 1 T = 104 gauss. The \\nEarth’s magnetic field at the surface is around 10-4 T (1 gauss), while a large electromagnet, \\nsuch as used for picking up cars at scrap yards, is on the order of 1 T. \\n4.1. Finding the magnetic force on a particle \\nA simple way to remember the direction of the force on a moving particle due to a magnetic \\nfield is the “left-hand rule” shown in Figure 1 below. Note that this is for a positively \\ncharged particle (current is the direction in which positive charges flow) and the that \\ndirection of the force is reversed for a negative particle. \\n \\nFigure 1: “Left-hand rule” for finding the direction of force due to a magnetic field. In this \\nimage, the middle finger is the velocity of the particle (current), the index finger is the \\nThe force 𝐹𝐵⃗⃗⃗⃗   acting on a charged particle moving with velocity 𝑣  through a magnetic \\nfield 𝐵⃗  is always perpendicular to 𝑣  and 𝐵⃗ .')]\n"
     ]
    }
   ],
   "source": [
    "print(docsearch)"
   ]
  },
  {
   "cell_type": "code",
   "execution_count": 11,
   "id": "a44657f7",
   "metadata": {},
   "outputs": [
    {
     "name": "stdout",
     "output_type": "stream",
     "text": [
      "\n",
      "--- Document 1 ---\n",
      "\n",
      "conductor are positive or negative, and measure the drift speed of electrons (if we move the \n",
      "strip through the magnetic field with same speed as the electron drift, but in the opposite \n",
      "direction, the Hall Effect voltage will be zero), we can create a device where the output \n",
      "voltage is proportional to the strength of the magnetic field. Such a Hall effect sensor (or \n",
      "Hall sensor) has many applications. \n",
      "Hall effect sensors can detect both the magnitude and orientation of a magnetic field, and \n",
      "they can work with static (unchanging) magnetic fields. They have no moving parts, so are \n",
      "not prone to wear, and can operate at much higher speeds than mechanical switches. Hall\n",
      "\n",
      "--- Document 2 ---\n",
      "\n",
      "PHYS2003: Physics for Electrical Engineers, semester 1 2023 \n",
      "Lecture 1 \n",
      "6 \n",
      " \n",
      " \n",
      "Figure 3: Simplified diagram of the J. J. Thomson experiment that discovered the electron. \n",
      "5.2. The Hall Effect \n",
      "In a conductor, when there is no current through it, the electrons move randomly with no \n",
      "net or average motion in any direction. When a current is passed through the conductor, \n",
      "the electrons continue to move randomly, but with an average drift in the opposite \n",
      "direction to the electric field causing the current. The drift speed 𝑣𝑑 is very smaller \n",
      "compared with the speed of the electrons in their individual random motion. In a copper \n",
      "wire at room temperature, the electrons are randomly moving at around 106 m/s, while the \n",
      "drift speed is only around 10-4 m/s (i.e. on the order of centimetres per hour). \n",
      "In 1879, Edwin H. Hall showed that the drifting conduction electrons in a copper wire can be \n",
      "deflected by an outside magnetic field. This is the Hall Effect and is used in a wide range of \n",
      "sensor technology. \n",
      "Imagine a copper strip with current flowing down the page. The electrons then drift up the \n",
      "page. If we apply a magnetic field pointing into the page, the force due to the magnetic field \n",
      "will deflect the electrons to the right-hand edge of the strip. \n",
      "This caused a greater density of electrons at the right-hand edge of the strip, and so a \n",
      "separation of charges that produces an electric field within the strip. The force on the \n",
      "electrons due to the electric field (equivalently, their own mutual repulsion) will eventually \n",
      "cancel the force due to the magnetic field, resulting in a maximum value of the electric field. \n",
      "The electric field results in a potential difference across the strip, which can be measured \n",
      "with a voltmeter. \n",
      "In addition to allowing us to determine things such as whether the moving charges within a \n",
      "conductor are positive or negative, and measure the drift speed of electrons (if we move the \n",
      "strip through the magnetic field with same speed as the electron drift, but in the opposite \n",
      "direction, the Hall Effect voltage will be zero), we can create a device where the output\n",
      "\n",
      "--- Document 3 ---\n",
      "\n",
      "When the 𝐸⃗  and 𝐵⃗  fields are adjusted to counteract each other, the relation is: \n",
      "  |𝑞|𝐸 = |𝑞|𝑣𝐵  \n",
      "which we can rearrange to \n",
      "  𝑣 =\n",
      "𝐸\n",
      "𝐵  \n",
      "Thus, the speed of the particles could be measured. By measuring the distance of the \n",
      "deflection of the particles on the screen (and so calculating their acceleration) Thomson \n",
      "could determine the ratio of their mass to their charge. He knew that they were negatively \n",
      "charged, and found that, per unit of charge, they were lighter than hydrogen (the lightest \n",
      "atom) by a factor of more than 1,000. This is considered to be the discovery of the electron.\n",
      "\n",
      "--- Document 4 ---\n",
      "\n",
      "PHYS2003: Physics for Electrical Engineers, semester 1 2023 \n",
      "Lecture 1 \n",
      "2 \n",
      " \n",
      "3. Magnetic fields and magnetic force \n",
      "Understanding of magnetic fields and magnetic force is critical for applications such as \n",
      "electric motors, solenoids, speaker coils, actuators, etc. This will also lead on to \n",
      "understanding electromagnetic (EM) waves. \n",
      "3.1. Producing a magnetic field \n",
      "Electric field is represented by 𝐸⃗  and is produced by an electric charge. Magnetic fields, \n",
      "represented by 𝐵⃗  are produced in two ways. \n",
      "3.1.1. Electromagnet \n",
      "Moving charged particles create a magnetic field. We can use the current (movement of \n",
      "electrons) in a wire to create an electromagnet. This will be discussed in detail in lecture 2. \n",
      "3.1.2. Permanent magnet \n",
      "Elementary particles such as electrons have an intrinsic magnetic field that is a basic \n",
      "property of the particle, just as charge and mass are basic properties of particles. In certain \n",
      "materials (crystal structures) the magnetic fields of the electrons add to give a net magnetic \n",
      "field around the material, i.e. a permanent magnet. (In most materials, the magnetic fields \n",
      "of the electrons cancel each other out, leaving no net magnetic field.) This will be discussed \n",
      "further in lecture 12. \n",
      "4. Defining 𝑩⃗⃗  \n",
      "The electric field 𝐸⃗  at a given point in space is defined by putting a test particle of charge 𝑞 \n",
      "at rest at that point and measuring the electric force 𝐹𝐸⃗⃗⃗⃗  acting on the particle, giving 𝐸⃗  as \n",
      "  𝐸⃗ =\n",
      "𝐹𝐸⃗⃗⃗⃗⃗ \n",
      "𝑞  (1.1) \n",
      "In contrast, we define 𝐵⃗  in terms of the magnetic force 𝐹𝐵⃗⃗⃗⃗  exerted on a moving electrically\n",
      "\n",
      "--- Document 5 ---\n",
      "\n",
      "PHYS2003: Physics for Electrical Engineers, semester 1 2023 \n",
      "Lecture 1 \n",
      "7 \n",
      " \n",
      "effect sensors have a wide range of applications in proximity sensing, positioning, speed \n",
      "detection, and current sensing. They are widely used in speed controllers for brushless DC \n",
      "motors because they are used to detect the position of magnets in the rotor. \n",
      "5.3. Example – potential difference across a moving conductor \n",
      "Imagine a metal cube in an x-y-z cartesian coordinate system. The cube has an edge length \n",
      "of d = 1.5 cm and is moving in the positive y-direction. A magnetic field of magnitude \n",
      "0.050 T is oriented along the positive z-axis. \n",
      "(a) Which faces of the cube are at the lower and higher electrical potential? \n",
      "Applying eqtn 1.2 and/or the left-hand-rule, we find that the electrons experience a force in \n",
      "the negative-x direction. The free conduction electrons will move towards the negative-x \n",
      "side of the cube, making the negative-x face negatively charged and the positive-x face \n",
      "positively charged. The positive-x face is at a higher electric potential and the negative-x \n",
      "face at a lower electric potential. \n",
      "(b) What is the potential difference between the faces of the cube? \n",
      "The potential difference 𝑉 due to an electric field of magnitude 𝐸 across a strip of length 𝑑 \n",
      "is: \n",
      "𝑉 = 𝐸𝑑 \n",
      "So we need to find the magnitude of the electric field induced by the motion of the cube. \n",
      "Once the cube is moving steadily and the electrons have settled to their new positions (i.e. \n",
      "the system has reached a steady state) the electrons are prevented from bunching further \n",
      "together by their mutual electrostatic repulsion, which is given by |𝑞|𝐸. At steady state, this \n",
      "force will balance out the force on the electrons due to the magnetic field, so we have: \n",
      "|𝑞|𝐸 = |𝑞|𝑣𝐵 sin90 = |𝑞|𝑣𝐵 \n",
      "Which cancels out to: \n",
      "𝐸 = 𝑣𝐵\n",
      "\n",
      "--- Document 6 ---\n",
      "\n",
      "PHYS2003: Physics for Electrical Engineers, semester 1 2023 \n",
      "Lecture 1 \n",
      "3 \n",
      " \n",
      "Remembering the definition of the cross-product, the magnitude of 𝐹𝐵⃗⃗⃗⃗  is \n",
      "  𝐹𝐵 = |𝑞|𝑣𝐵 sin𝜙 (1.3) \n",
      "where 𝐵 is the magnitude of the magnetic field and can be represented by \n",
      "  𝐵 =\n",
      "𝐹𝐵\n",
      "|𝑞|𝑣 (1.4) \n",
      " \n",
      "Note that 𝐹𝐵⃗⃗⃗⃗ , being perpendicular to 𝑣  never has a component parallel to 𝑣  and so cannot \n",
      "change the particle’s speed (and thus kinetic energy), only its direction of travel. \n",
      "The SI unit for 𝐵⃗  is called the tesla (T).  \n",
      "  1 𝑡𝑒𝑠𝑙𝑎 = 1\n",
      "𝑛𝑒𝑤𝑡𝑜𝑛\n",
      "(𝑐𝑜𝑢𝑙𝑜𝑚𝑏)(𝑚𝑒𝑡𝑒𝑟/𝑠𝑒𝑐𝑜𝑛𝑑) (1.5) \n",
      "Recall that a coulomb per second is an ampere, this becomes \n",
      "  1 𝑇 = 1\n",
      "𝑛𝑒𝑤𝑡𝑜𝑛\n",
      "(𝑐𝑜𝑢𝑙𝑜𝑚𝑏/𝑠𝑒𝑐𝑜𝑛𝑑)(𝑚𝑒𝑡𝑒𝑟) = 1\n",
      "𝑁\n",
      "𝐴∙𝑚 (1.6) \n",
      "Another common (non-SI) unit for magnetic field is the gauss (G). 1 T = 104 gauss. The\n",
      "\n",
      "--- Document 7 ---\n",
      "\n",
      "1.67 × 10−27 𝑘𝑔 = 3.2 × 107 𝑚/𝑠 \n",
      "𝐹𝐵 = |𝑞|𝑣𝐵 sin𝜙 = (1.60 × 10−19 𝐶)(3.2 × 107 𝑚\n",
      "𝑠 )(1.2 × 10−3 𝑇)sin90\n",
      "=  6.1 × 10−15 𝑁 \n",
      "(b) What is the acceleration of the proton? \n",
      "𝑎 = 𝐹𝐵\n",
      "𝑚 = 6.1 × 10−15 𝑁\n",
      "1.67 × 10−27 𝑘𝑔 = 3.7 × 1012 𝑚/𝑠2\n",
      "\n",
      "--- Document 8 ---\n",
      "\n",
      "𝑞  (1.1) \n",
      "In contrast, we define 𝐵⃗  in terms of the magnetic force 𝐹𝐵⃗⃗⃗⃗  exerted on a moving electrically \n",
      "charged particle. Charged particles with different velocity vectors 𝑣  will experience different \n",
      "resulting forces. Particles moving along one particular axis will experience zero force. For all \n",
      "other particle velocities, we would find that the force 𝐹𝐵⃗⃗⃗⃗  is always perpendicular to the \n",
      "direction of 𝑣  (you should recognize this as meaning a cross product is involved), and that \n",
      "the magnitude of 𝐹𝐵⃗⃗⃗⃗  is proportional to 𝑣 sin𝜙 where 𝜙 is the angle between the zero-force \n",
      "axis and the direction of 𝑣 . The magnetic field 𝐵⃗  is defined to be a vector quantity directed \n",
      "along the zero-force axis. \n",
      "The definition of 𝐵⃗  is summarized with the vector equation: \n",
      "  𝐹𝐵⃗⃗⃗⃗  = 𝑞𝑣 × 𝐵⃗  (1.2) \n",
      "That is, the force on the particle is given by the charge times the cross product of the \n",
      "velocity of the particle with the magnetic field.\n",
      "\n",
      "--- Document 9 ---\n",
      "\n",
      "PHYS2003: Physics for Electrical Engineers, semester 1 2023 \n",
      "Lecture 1 \n",
      "4 \n",
      " \n",
      "magnetic field, and the thumb gives the direction of the resulting force for positively \n",
      "charged particle. For a negatively charged particle, the “current” is in the opposite direction \n",
      "to the motion of the particle. (Image from Wikipedia.) \n",
      "Note that, a particle moving parallel to the magnetic field will experience no force, and that \n",
      "a particle that is stationary relative to the magnetic field will also experience no force. \n",
      "4.2. Magnetic field lines \n",
      "Conventionally, we represent magnetic fields with field lines. The lines emerge from the \n",
      "north pole of the magnet and enter the magnet at the south pole. The direction tangent to a \n",
      "magnetic field line gives the direction of 𝐵⃗  at that point. The spacing of the lines represents \n",
      "the magnitude of 𝐵⃗  in that region. (Closer lines signify a stronger field.) Because a magnet \n",
      "has two poles it is called a magnetic dipole.  \n",
      " \n",
      "Figure 2: Magnetic field lines representing the magnetic field of bar magnets. \n",
      "4.3. Example – magnetic force on a moving charged particle \n",
      "In an experiment in the laboratory a magnetic field with magnitude 1.2 mT is directed \n",
      "vertically up (floor-to-ceiling) through a test chamber. A proton is fired horizontally through \n",
      "the chamber with a kinetic energy of 5.3 MeV. (The mass of the proton is 1.67×10-27 kg and \n",
      "an MeV = 1.60×10-13 J.) \n",
      "(a) What is the magnitude of the force acting on the proton? \n",
      "We get 𝑣 from the kinetic energy 𝐾 =\n",
      "1\n",
      "2 𝑚𝑣2. \n",
      "𝑣 = √2𝐾\n",
      "𝑚 = √(2)(5.3 𝑀𝑒𝑉)(1.60 × 10−13 𝐽/𝑀𝑒𝑉)\n",
      "1.67 × 10−27 𝑘𝑔 = 3.2 × 107 𝑚/𝑠\n",
      "\n",
      "--- Document 10 ---\n",
      "\n",
      "𝑁\n",
      "𝐴∙𝑚 (1.6) \n",
      "Another common (non-SI) unit for magnetic field is the gauss (G). 1 T = 104 gauss. The \n",
      "Earth’s magnetic field at the surface is around 10-4 T (1 gauss), while a large electromagnet, \n",
      "such as used for picking up cars at scrap yards, is on the order of 1 T. \n",
      "4.1. Finding the magnetic force on a particle \n",
      "A simple way to remember the direction of the force on a moving particle due to a magnetic \n",
      "field is the “left-hand rule” shown in Figure 1 below. Note that this is for a positively \n",
      "charged particle (current is the direction in which positive charges flow) and the that \n",
      "direction of the force is reversed for a negative particle. \n",
      " \n",
      "Figure 1: “Left-hand rule” for finding the direction of force due to a magnetic field. In this \n",
      "image, the middle finger is the velocity of the particle (current), the index finger is the \n",
      "The force 𝐹𝐵⃗⃗⃗⃗   acting on a charged particle moving with velocity 𝑣  through a magnetic \n",
      "field 𝐵⃗  is always perpendicular to 𝑣  and 𝐵⃗ .\n"
     ]
    }
   ],
   "source": [
    "for i, doc in enumerate(docsearch):\n",
    "    print(f\"\\n--- Document {i+1} ---\\n\")\n",
    "    print(doc.page_content)"
   ]
  },
  {
   "cell_type": "markdown",
   "id": "438f6a9e",
   "metadata": {},
   "source": [
    "# Part 4 - Generation"
   ]
  },
  {
   "cell_type": "code",
   "execution_count": null,
   "id": "b5316844",
   "metadata": {},
   "outputs": [],
   "source": [
    "from langchain.prompts import PromptTemplate\n",
    "\n",
    "template = \"\"\"Answer the following question only using the following context:\n",
    "{context}\n",
    "\n",
    "If the answer is not contained in the context, respond with:\n",
    "\"I cannot answer this question because the necessary information was not found in the provided documents.\"\n",
    "\n",
    "When answering, include the **source file name** and **slide/page number** if available.\n",
    "\n",
    "Question: {question}\n",
    "\"\"\"\n",
    "\n",
    "prompt = PromptTemplate.from_template(template)\n",
    "prompt"
   ]
  },
  {
   "cell_type": "code",
   "execution_count": null,
   "id": "e3691faf",
   "metadata": {},
   "outputs": [],
   "source": [
    "llm = OllamaLLM(model = \"llama3.2\")"
   ]
  },
  {
   "cell_type": "code",
   "execution_count": null,
   "id": "56b79591",
   "metadata": {},
   "outputs": [],
   "source": [
    "chain = prompt | llm"
   ]
  },
  {
   "cell_type": "code",
   "execution_count": null,
   "id": "71157b96",
   "metadata": {},
   "outputs": [],
   "source": [
    "print(chain.invoke({\"context\":docsearch, \"question\":\"Describe an experiment used to find the Hall effect\"}))"
   ]
  }
 ],
 "metadata": {
  "kernelspec": {
   "display_name": "LLM_Train",
   "language": "python",
   "name": "python3"
  },
  "language_info": {
   "codemirror_mode": {
    "name": "ipython",
    "version": 3
   },
   "file_extension": ".py",
   "mimetype": "text/x-python",
   "name": "python",
   "nbconvert_exporter": "python",
   "pygments_lexer": "ipython3",
   "version": "3.11.8"
  }
 },
 "nbformat": 4,
 "nbformat_minor": 5
}
