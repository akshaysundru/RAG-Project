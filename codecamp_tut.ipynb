{
 "cells": [
  {
   "cell_type": "markdown",
   "id": "c84832b8",
   "metadata": {},
   "source": [
    "Following Free Code Camps tutorial closely."
   ]
  },
  {
   "cell_type": "code",
   "execution_count": 1,
   "id": "dc658917",
   "metadata": {},
   "outputs": [],
   "source": [
    "import ollama\n",
    "import numpy as np\n",
    "import torch"
   ]
  },
  {
   "cell_type": "code",
   "execution_count": 2,
   "id": "5a4ada2d",
   "metadata": {},
   "outputs": [],
   "source": [
    "question = \"What is a Kalman filter\"\n",
    "document = \"Chapter 5: AR and Kalman Filters\""
   ]
  },
  {
   "cell_type": "code",
   "execution_count": 3,
   "id": "a94756e1",
   "metadata": {},
   "outputs": [],
   "source": [
    "import tiktoken\n",
    "\n",
    "def num_tokens_from_str(string: str, encoding_name: str) -> int:\n",
    "    \"\"\"Returns number of tokens in a text string\"\"\"\n",
    "    encoding = tiktoken.get_encoding(encoding_name)\n",
    "    num_tokens = len(encoding.encode(string))\n",
    "    return encoding.encode(string), num_tokens"
   ]
  },
  {
   "cell_type": "code",
   "execution_count": 4,
   "id": "58bf2df7",
   "metadata": {},
   "outputs": [
    {
     "data": {
      "text/plain": [
       "([3923, 374, 264, 27930, 1543, 4141], 6)"
      ]
     },
     "execution_count": 4,
     "metadata": {},
     "output_type": "execute_result"
    }
   ],
   "source": [
    "num_tokens_from_str(question, \"cl100k_base\")"
   ]
  },
  {
   "cell_type": "code",
   "execution_count": 5,
   "id": "362d0828",
   "metadata": {},
   "outputs": [],
   "source": [
    "from langchain_ollama import OllamaLLM, OllamaEmbeddings\n",
    "from langchain_core.vectorstores import InMemoryVectorStore\n",
    "\n",
    "embeddings = OllamaEmbeddings(model=\"llama3.2\")\n",
    "\n",
    "query_result = embeddings.embed_query(question)\n",
    "document_result = embeddings.embed_query(document)"
   ]
  },
  {
   "cell_type": "code",
   "execution_count": 6,
   "id": "8e3e9f17",
   "metadata": {},
   "outputs": [
    {
     "name": "stdout",
     "output_type": "stream",
     "text": [
      "[-0.0073224027, -0.019477012, 0.017059486, -0.0046530142, 0.0021997404, -0.009726169, 0.008544929, -\n",
      "3072\n"
     ]
    }
   ],
   "source": [
    "print(str(query_result)[:100])\n",
    "print(len(query_result))"
   ]
  },
  {
   "cell_type": "code",
   "execution_count": 7,
   "id": "3c7fe479",
   "metadata": {},
   "outputs": [
    {
     "name": "stdout",
     "output_type": "stream",
     "text": [
      "0.6177236244940539\n"
     ]
    }
   ],
   "source": [
    "def cosine_similarity(vec1, vec2):\n",
    "    dot_product = np.dot(vec1, vec2)\n",
    "    norm_vec1 = np.linalg.norm(vec1)\n",
    "    norm_vec2 = np.linalg.norm(vec2)\n",
    "    return dot_product/(norm_vec1 * norm_vec2)\n",
    "\n",
    "similarity = cosine_similarity(query_result, document_result)\n",
    "print(similarity)"
   ]
  },
  {
   "cell_type": "code",
   "execution_count": 8,
   "id": "da4d1a8a",
   "metadata": {},
   "outputs": [
    {
     "name": "stdout",
     "output_type": "stream",
     "text": [
      "Total characters: 514\n",
      "Total characters: 659\n",
      "42\n",
      "6\n",
      " Purely symmetric device: source \n",
      "and drain are interchangeable \n",
      "depending on the applied voltages;\n",
      " To differentiate between source \n",
      "and drain, use the following \n",
      "definitions:\n",
      "　 For NMOS, the source terminal is \n",
      "biased at a lower potential than \n",
      "the drain;\n",
      "　 For PMOS, the source terminal is \n",
      "biased at a higher potential than \n",
      "the drain terminal.\n",
      "The MOS Terminals\n",
      "S\n",
      "G\n",
      "D\n",
      "p-type substrate\n",
      "B\n",
      "n+ n+\n",
      " The BODY (also referred to as Bulk) terminal is usually connected to a \n",
      "fixed potential:\n",
      "　 For N\n"
     ]
    }
   ],
   "source": [
    "from langchain_community.document_loaders import PyPDFLoader\n",
    "\n",
    "loader = PyPDFLoader(\"Lecture 1 - Basic circuit theory.pdf\")\n",
    "loader2 = PyPDFLoader(\"Lecture 7- The MOS transistors.pdf\")\n",
    "docs = loader.load()\n",
    "docs2 = loader2.load()\n",
    "\n",
    "print(f\"Total characters: {len(docs[2].page_content)}\")\n",
    "print(f\"Total characters: {len(docs2[5].page_content)}\")\n",
    "print(len(docs2))\n",
    "print(docs2[5].page_content[:500])"
   ]
  },
  {
   "cell_type": "code",
   "execution_count": 10,
   "id": "efdc5476",
   "metadata": {},
   "outputs": [],
   "source": [
    "from langchain.text_splitter import RecursiveCharacterTextSplitter\n",
    "\n",
    "all_docs = docs + docs2\n",
    "\n",
    "text_splitter = RecursiveCharacterTextSplitter.from_tiktoken_encoder(\n",
    "    chunk_size = 300,\n",
    "    chunk_overlap=50\n",
    ")\n",
    "\n",
    "#Make splits\n",
    "splits = text_splitter.split_documents(all_docs)"
   ]
  },
  {
   "cell_type": "code",
   "execution_count": 11,
   "id": "bfbece8e",
   "metadata": {},
   "outputs": [],
   "source": [
    "vectorstore = InMemoryVectorStore.from_documents(splits, embedding=embeddings)\n",
    "\n",
    "retriever = vectorstore.as_retriever(search_kwargs={'k': 3})"
   ]
  },
  {
   "cell_type": "markdown",
   "id": "31df2489",
   "metadata": {},
   "source": [
    "From RAG Tutorial this appears to end the embedding and indexing section, next video we will see retrieval"
   ]
  },
  {
   "cell_type": "markdown",
   "id": "e1524e0b",
   "metadata": {},
   "source": [
    "# Part3 - Retrieval\n",
    "\n",
    "In this section code camp goes over the retrieval section"
   ]
  },
  {
   "cell_type": "code",
   "execution_count": 12,
   "id": "07188552",
   "metadata": {},
   "outputs": [
    {
     "name": "stderr",
     "output_type": "stream",
     "text": [
      "/var/folders/xc/68d5fbnj61b_bgvbkv5gj8t40000gn/T/ipykernel_80254/3037671115.py:1: LangChainDeprecationWarning: The method `BaseRetriever.get_relevant_documents` was deprecated in langchain-core 0.1.46 and will be removed in 1.0. Use :meth:`~invoke` instead.\n",
      "  docsearch = retriever.get_relevant_documents(\"How does an NMOS Transistor work\")\n"
     ]
    }
   ],
   "source": [
    "docsearch = retriever.get_relevant_documents(\"How does an NMOS Transistor work\")"
   ]
  },
  {
   "cell_type": "code",
   "execution_count": 13,
   "id": "f96c54d5",
   "metadata": {},
   "outputs": [],
   "source": [
    "docsearch2 = retriever.get_relevant_documents(\"List the basic axioms of circuit theory\")"
   ]
  },
  {
   "cell_type": "code",
   "execution_count": 30,
   "id": "5f906451",
   "metadata": {},
   "outputs": [
    {
     "name": "stdout",
     "output_type": "stream",
     "text": [
      "[Document(id='adaf80e3-d555-4ebd-961f-95703746a7fa', metadata={'producer': 'macOS Version 12.7.6 (Build 21H1320) Quartz PDFContext, AppendMode 1.1', 'creator': 'PScript5.dll Version 5.2.2', 'creationdate': '2024-02-23T10:04:53+08:00', 'author': 'Wen', 'moddate': \"D:20250311071035Z00'00'\", 'title': 'Microsoft PowerPoint - Lecture 1 - Basic circuit theory', 'source': 'Lecture 1 - Basic circuit theory.pdf', 'total_pages': 36, 'page': 0, 'page_label': '1'}, page_content='Lecture 1\\nBasic circuit theory'), Document(id='7aeba4a7-9109-4459-9a05-471271c06d7a', metadata={'producer': 'macOS Version 12.7.6 (Build 21H1320) Quartz PDFContext, AppendMode 1.1', 'creator': 'PScript5.dll Version 5.2.2', 'creationdate': '2024-02-23T10:04:53+08:00', 'author': 'Wen', 'moddate': \"D:20250311071035Z00'00'\", 'title': 'Microsoft PowerPoint - Lecture 1 - Basic circuit theory', 'source': 'Lecture 1 - Basic circuit theory.pdf', 'total_pages': 36, 'page': 19, 'page_label': '20'}, page_content='20\\nLinear circuit elements and dependent sources'), Document(id='8638bb1a-be81-4c3f-ad78-992f6dd4c9db', metadata={'producer': 'macOS Version 12.7.6 (Build 21H1320) Quartz PDFContext, AppendMode 1.1', 'creator': 'PScript5.dll Version 5.2.2', 'creationdate': '2024-02-23T10:04:53+08:00', 'author': 'Wen', 'moddate': \"D:20250311071035Z00'00'\", 'title': 'Microsoft PowerPoint - Lecture 1 - Basic circuit theory', 'source': 'Lecture 1 - Basic circuit theory.pdf', 'total_pages': 36, 'page': 11, 'page_label': '12'}, page_content='12\\nNodal analysis')]\n"
     ]
    }
   ],
   "source": [
    "print(docsearch2)"
   ]
  },
  {
   "cell_type": "code",
   "execution_count": 31,
   "id": "730f8bf8",
   "metadata": {},
   "outputs": [
    {
     "name": "stdout",
     "output_type": "stream",
     "text": [
      "[Document(id='805e7137-9b0c-48f2-aaa4-cbd20efbbaff', metadata={'producer': 'macOS Version 15.4.1 (Build 24E263) Quartz PDFContext, AppendMode 1.1', 'creator': 'PScript5.dll Version 5.2.2', 'creationdate': \"D:20240405072534Z00'00'\", 'author': 'Wen', 'moddate': \"D:20250521165548Z00'00'\", 'title': 'Microsoft PowerPoint - Lecture 7- The MOS transistors [Compatibility Mode]', 'source': 'Lecture 7- The MOS transistors.pdf', 'total_pages': 42, 'page': 2, 'page_label': '3'}, page_content='3\\n50nm transistor dimension\\n1.2nm Gate \\nOxide\\nSD\\n~2000x smaller than diameter of human hair\\nIntel 50nm transistor in production'), Document(id='adaf80e3-d555-4ebd-961f-95703746a7fa', metadata={'producer': 'macOS Version 12.7.6 (Build 21H1320) Quartz PDFContext, AppendMode 1.1', 'creator': 'PScript5.dll Version 5.2.2', 'creationdate': '2024-02-23T10:04:53+08:00', 'author': 'Wen', 'moddate': \"D:20250311071035Z00'00'\", 'title': 'Microsoft PowerPoint - Lecture 1 - Basic circuit theory', 'source': 'Lecture 1 - Basic circuit theory.pdf', 'total_pages': 36, 'page': 0, 'page_label': '1'}, page_content='Lecture 1\\nBasic circuit theory'), Document(id='4848c71c-b78c-42db-b99d-d0035d8132e5', metadata={'producer': 'macOS Version 15.4.1 (Build 24E263) Quartz PDFContext, AppendMode 1.1', 'creator': 'PScript5.dll Version 5.2.2', 'creationdate': \"D:20240405072534Z00'00'\", 'author': 'Wen', 'moddate': \"D:20250521165548Z00'00'\", 'title': 'Microsoft PowerPoint - Lecture 7- The MOS transistors [Compatibility Mode]', 'source': 'Lecture 7- The MOS transistors.pdf', 'total_pages': 42, 'page': 36, 'page_label': '37'}, page_content='37\\nThe Body Effect\\n0.4\\n0.45\\n0.5\\n0.55\\n0.6\\n0.65\\n0.7\\n0.75\\n0.8\\n0.85\\n0.9\\n-2.5 -2 -1.5 -1 -0.5 0\\nVBS (V)\\n\\u3000 VSB is the \\nsubstrate bias voltage \\n(normally positive for \\nn-channel devices \\nwith the body tied to \\nground)\\n\\u3000 A negative bias \\ncauses VT to increase \\nfrom 0.45V to 0.85V')]\n"
     ]
    }
   ],
   "source": [
    "print(docsearch)"
   ]
  },
  {
   "cell_type": "code",
   "execution_count": 16,
   "id": "db969214",
   "metadata": {},
   "outputs": [
    {
     "name": "stdout",
     "output_type": "stream",
     "text": [
      "[Document(id='7aeba4a7-9109-4459-9a05-471271c06d7a', metadata={'producer': 'macOS Version 12.7.6 (Build 21H1320) Quartz PDFContext, AppendMode 1.1', 'creator': 'PScript5.dll Version 5.2.2', 'creationdate': '2024-02-23T10:04:53+08:00', 'author': 'Wen', 'moddate': \"D:20250311071035Z00'00'\", 'title': 'Microsoft PowerPoint - Lecture 1 - Basic circuit theory', 'source': 'Lecture 1 - Basic circuit theory.pdf', 'total_pages': 36, 'page': 19, 'page_label': '20'}, page_content='20\\nLinear circuit elements and dependent sources'), Document(id='8638bb1a-be81-4c3f-ad78-992f6dd4c9db', metadata={'producer': 'macOS Version 12.7.6 (Build 21H1320) Quartz PDFContext, AppendMode 1.1', 'creator': 'PScript5.dll Version 5.2.2', 'creationdate': '2024-02-23T10:04:53+08:00', 'author': 'Wen', 'moddate': \"D:20250311071035Z00'00'\", 'title': 'Microsoft PowerPoint - Lecture 1 - Basic circuit theory', 'source': 'Lecture 1 - Basic circuit theory.pdf', 'total_pages': 36, 'page': 11, 'page_label': '12'}, page_content='12\\nNodal analysis'), Document(id='b3d8db4a-52f4-483e-9de7-765ba79d875f', metadata={'producer': 'macOS Version 12.7.6 (Build 21H1320) Quartz PDFContext, AppendMode 1.1', 'creator': 'PScript5.dll Version 5.2.2', 'creationdate': '2024-02-23T10:04:53+08:00', 'author': 'Wen', 'moddate': \"D:20250311071035Z00'00'\", 'title': 'Microsoft PowerPoint - Lecture 1 - Basic circuit theory', 'source': 'Lecture 1 - Basic circuit theory.pdf', 'total_pages': 36, 'page': 5, 'page_label': '6'}, page_content='6\\nOne port element examples – time domain')]\n"
     ]
    }
   ],
   "source": [
    "docsearch3 = retriever.get_relevant_documents(\"What is a linear dependent source\")\n",
    "\n",
    "print(docsearch3)"
   ]
  },
  {
   "cell_type": "code",
   "execution_count": 17,
   "id": "3b8d2094",
   "metadata": {},
   "outputs": [
    {
     "name": "stdout",
     "output_type": "stream",
     "text": [
      "20\n",
      "Linear circuit elements and dependent sources\n"
     ]
    }
   ],
   "source": [
    "print(docsearch3[0].page_content)"
   ]
  },
  {
   "cell_type": "markdown",
   "id": "438f6a9e",
   "metadata": {},
   "source": [
    "# Part 4 - Generation"
   ]
  },
  {
   "cell_type": "code",
   "execution_count": 24,
   "id": "b5316844",
   "metadata": {},
   "outputs": [
    {
     "data": {
      "text/plain": [
       "PromptTemplate(input_variables=['context', 'question'], input_types={}, partial_variables={}, template='Answer the following question only using the following context:\\n{context}\\n\\nIf the answer is not contained in the context, respond with:\\n\"I cannot answer this question because the necessary information was not found in the provided documents.\"\\n\\nQuestion: {question}\\n')"
      ]
     },
     "execution_count": 24,
     "metadata": {},
     "output_type": "execute_result"
    }
   ],
   "source": [
    "from langchain.prompts import PromptTemplate\n",
    "\n",
    "template = \"\"\"Answer the following question only using the following context:\n",
    "{context}\n",
    "\n",
    "If the answer is not contained in the context, respond with:\n",
    "\"I cannot answer this question because the necessary information was not found in the provided documents.\"\n",
    "\n",
    "Question: {question}\n",
    "\"\"\"\n",
    "\n",
    "prompt = PromptTemplate.from_template(template)\n",
    "prompt"
   ]
  },
  {
   "cell_type": "code",
   "execution_count": 25,
   "id": "e3691faf",
   "metadata": {},
   "outputs": [],
   "source": [
    "llm = OllamaLLM(model = \"llama3.2\")"
   ]
  },
  {
   "cell_type": "code",
   "execution_count": 26,
   "id": "56b79591",
   "metadata": {},
   "outputs": [],
   "source": [
    "chain = prompt | llm"
   ]
  },
  {
   "cell_type": "code",
   "execution_count": 27,
   "id": "71157b96",
   "metadata": {},
   "outputs": [
    {
     "name": "stdout",
     "output_type": "stream",
     "text": [
      "Based on the provided documents, I can explain the operation principle of a MOSFET (Metal-Oxide-Semiconductor Field-Effect Transistor).\n",
      "\n",
      "**Basic Operation Principle**\n",
      "\n",
      "A MOSFET is a type of field-effect transistor that uses a voltage applied to a control electrode (the gate) to create a flow of current between two other electrodes (the source and drain). The operation principle can be summarized as follows:\n",
      "\n",
      "1. **Cut-off region**: When the gate-to-source voltage (Vgs) is negative or zero, the channel between the source and drain is completely closed, and no current flows.\n",
      "2. **Linear region**: When Vgs is positive, but not high enough to fully open the channel, the MOSFET operates in the linear region, where the current through the channel increases linearly with Vgs.\n",
      "3. **Saturation region**: When Vgs is sufficiently positive, the channel is fully opened, and the MOSFET enters the saturation region, where the current through the channel reaches its maximum value.\n",
      "\n",
      "**Switching Operation**\n",
      "\n",
      "In digital logic applications, MOSFETs are used as switches to control the flow of current between two points. To switch on:\n",
      "\n",
      "1. The input signal (VDD) is applied to the gate.\n",
      "2. Since Vdd is positive, it creates a potential difference between the source and drain, causing the channel to open.\n",
      "3. Current flows from the source to the drain.\n",
      "\n",
      "To switch off:\n",
      "\n",
      "1. The input signal (0) is applied to the gate.\n",
      "2. Since 0 is negative, it reduces the potential difference between the source and drain, closing the channel.\n",
      "3. No current flows from the source to the drain.\n",
      "\n",
      "**Amplifier Operation**\n",
      "\n",
      "In amplifier applications, MOSFETs are used to amplify weak input signals. In this case:\n",
      "\n",
      "1. The small signal (input) is applied to the gate.\n",
      "2. The amplified signal is created by increasing Vgs, which increases the current through the channel.\n",
      "3. The output signal is taken from the drain.\n",
      "\n",
      "In summary, the operation principle of a MOSFET involves controlling the flow of current between two points using a voltage applied to the control electrode (the gate). By adjusting the gate-to-source voltage, the MOSFET can switch on or off, and it can also be used as an amplifier to amplify weak input signals.\n"
     ]
    }
   ],
   "source": [
    "print(chain.invoke({\"context\":all_docs, \"question\":\"Explain the operation principle\"}))"
   ]
  },
  {
   "cell_type": "code",
   "execution_count": 28,
   "id": "8838f5ea",
   "metadata": {},
   "outputs": [
    {
     "name": "stdout",
     "output_type": "stream",
     "text": [
      "According to the document, when there is a negative gate voltage, it means that the gate-to-source potential difference is zero. This results in a channel not existing between the source and drain, as described on page 40 of the lecture notes.\n",
      "\n",
      "In other words, with a negative gate voltage, the MOSFET is in the \"cut-off\" or \"OFF\" region, meaning current cannot pass between the source and drain.\n"
     ]
    }
   ],
   "source": [
    "print(chain.invoke({\"context\":all_docs, \"question\":\"Explain what happens when there is negative gate voltage\"}))"
   ]
  },
  {
   "cell_type": "code",
   "execution_count": 29,
   "id": "336d63d1",
   "metadata": {},
   "outputs": [
    {
     "name": "stdout",
     "output_type": "stream",
     "text": [
      "I couldn't find any information about a bandstop filter in the provided documents. The documents appear to be related to MOSFET transistors and their applications as switches and amplifiers, but they don't mention bandstop filters.\n",
      "\n",
      "If you're looking for information on how a bandstop filter works, I can provide some general information:\n",
      "\n",
      "A bandstop filter is a type of filter that allows all frequencies except those within a specific frequency range to pass through. It works by using a combination of inductive and capacitive components to create a resonant circuit that rejects the desired frequencies.\n",
      "\n",
      "The basic principle of a bandstop filter is to use a capacitor and an inductor to create a resonant circuit at a specific frequency. When an alternating current (AC) signal is applied to the circuit, it causes the capacitor and inductor to oscillate at their natural resonance frequency. This creates a peak or null in the circuit's impedance, which effectively blocks the desired frequencies from passing through.\n",
      "\n",
      "In practice, bandstop filters are often implemented using a combination of components such as coils, capacitors, and resistors. The specific design and configuration of the filter depend on the desired frequency range to be blocked and the application for which it is intended.\n",
      "\n",
      "If you have any further questions or need more information on bandstop filters, I'd be happy to try and help!\n"
     ]
    }
   ],
   "source": [
    "print(chain.invoke({\"context\":all_docs, \"question\":\"How does a bandstop filter work\"}))"
   ]
  }
 ],
 "metadata": {
  "kernelspec": {
   "display_name": "LLM_Train",
   "language": "python",
   "name": "python3"
  },
  "language_info": {
   "codemirror_mode": {
    "name": "ipython",
    "version": 3
   },
   "file_extension": ".py",
   "mimetype": "text/x-python",
   "name": "python",
   "nbconvert_exporter": "python",
   "pygments_lexer": "ipython3",
   "version": "3.11.8"
  }
 },
 "nbformat": 4,
 "nbformat_minor": 5
}
