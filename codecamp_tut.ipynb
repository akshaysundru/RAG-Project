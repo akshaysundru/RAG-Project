{
 "cells": [
  {
   "cell_type": "markdown",
   "id": "c84832b8",
   "metadata": {},
   "source": [
    "Following Free Code Camps tutorial closely."
   ]
  },
  {
   "cell_type": "code",
   "execution_count": 1,
   "id": "dc658917",
   "metadata": {},
   "outputs": [],
   "source": [
    "import ollama\n",
    "import numpy as np\n",
    "import torch"
   ]
  },
  {
   "cell_type": "code",
   "execution_count": 2,
   "id": "362d0828",
   "metadata": {},
   "outputs": [],
   "source": [
    "from langchain_ollama import OllamaLLM\n",
    "from langchain_huggingface import HuggingFaceEmbeddings\n",
    "\n",
    "model_name=\"sentence-transformers/all-MiniLM-L6-v2\"\n",
    "\n",
    "embeddings = HuggingFaceEmbeddings(model = model_name,\n",
    "                                   encode_kwargs={'normalize_embeddings': True})"
   ]
  },
  {
   "cell_type": "code",
   "execution_count": 3,
   "id": "da4d1a8a",
   "metadata": {},
   "outputs": [
    {
     "name": "stdout",
     "output_type": "stream",
     "text": [
      "Total characters: 1647\n",
      "Total characters: 1765\n"
     ]
    }
   ],
   "source": [
    "from langchain_community.document_loaders import PyPDFLoader\n",
    "\n",
    "loader = PyPDFLoader(\"Lecture 1 Magnetic fields and magnetic force.pdf\")\n",
    "loader2 = PyPDFLoader(\"Lecture 4 Faraday’s law and induction.pdf\")\n",
    "docs = loader.load()\n",
    "docs2 = loader2.load()\n",
    "\n",
    "print(f\"Total characters: {len(docs[2].page_content)}\")\n",
    "print(f\"Total characters: {len(docs2[5].page_content)}\")"
   ]
  },
  {
   "cell_type": "code",
   "execution_count": 4,
   "id": "efdc5476",
   "metadata": {},
   "outputs": [],
   "source": [
    "from langchain.text_splitter import RecursiveCharacterTextSplitter\n",
    "\n",
    "all_docs = docs + docs2\n",
    "\n",
    "text_splitter = RecursiveCharacterTextSplitter.from_tiktoken_encoder(\n",
    "    chunk_size = 512,\n",
    "    chunk_overlap = 64\n",
    ")\n",
    "\n",
    "#Make splits\n",
    "splits = text_splitter.split_documents(all_docs)"
   ]
  },
  {
   "cell_type": "code",
   "execution_count": 5,
   "id": "73960817",
   "metadata": {},
   "outputs": [
    {
     "data": {
      "text/plain": [
       "17"
      ]
     },
     "execution_count": 5,
     "metadata": {},
     "output_type": "execute_result"
    }
   ],
   "source": [
    "len(all_docs)"
   ]
  },
  {
   "cell_type": "code",
   "execution_count": 6,
   "id": "78ab0643",
   "metadata": {},
   "outputs": [
    {
     "name": "stdout",
     "output_type": "stream",
     "text": [
      "PHYS2003: Physics for Electrical Engineers, semester 1 2023 \n",
      "Lecture 1 \n",
      "1 \n",
      " \n",
      "Lecture 1: Magnetic fields and magnetic force \n",
      "Learning outcomes \n",
      "Assessable \n",
      "• Calculate the force on moving charges in a magnetic field via the cross product. \n",
      "• Calculate the direction of resulting vectors from the cross product or, where \n",
      "appropriate, apply basic rules to determine the direction. \n",
      "• Calculate potential difference in a moving conductor. \n",
      "Understanding \n",
      "• Visualize and conceptually explain the motion \n",
      "PHYS2003: Physics for Electrical Engineers, semester 1 2023 \n",
      "Lecture 4 \n",
      "1 \n",
      " \n",
      "Lecture 4: Faraday’s law and induction \n",
      "Learning outcomes \n",
      "Assessable \n",
      "• Use Faraday’s law and Lenz’s law to calculate induced current and emf. \n",
      "• Calculate energy transfer due to induction. \n",
      "Understanding \n",
      "• Visualize and conceptually explain induced currents and electric fields. \n",
      "1. Summary \n",
      "This lecture will cover Faraday’s law, Lenz’s law, and induction and energy transfer. \n",
      "Consider a loop of conducting wire connec\n"
     ]
    }
   ],
   "source": [
    "print(docs[0].page_content[:500])\n",
    "print(docs2[0].page_content[:500])"
   ]
  },
  {
   "cell_type": "code",
   "execution_count": 7,
   "id": "bfbece8e",
   "metadata": {},
   "outputs": [],
   "source": [
    "from langchain_chroma import Chroma\n",
    "\n",
    "vectorstore = Chroma.from_documents(\n",
    "    documents=splits,  # these are already LangChain `Document` objects\n",
    "    embedding=embeddings,\n",
    "    collection_name=\"circuit_docs\",\n",
    "    persist_directory=\"./chroma_db\"\n",
    ")\n",
    "\n",
    "retriever = vectorstore.as_retriever(search_kwargs={'k': 3})"
   ]
  },
  {
   "cell_type": "markdown",
   "id": "31df2489",
   "metadata": {},
   "source": [
    "From RAG Tutorial this appears to end the embedding and indexing section, next video we will see retrieval"
   ]
  },
  {
   "cell_type": "markdown",
   "id": "e1524e0b",
   "metadata": {},
   "source": [
    "# Part3 - Retrieval\n",
    "\n",
    "In this section code camp goes over the retrieval section"
   ]
  },
  {
   "cell_type": "code",
   "execution_count": 8,
   "id": "07188552",
   "metadata": {},
   "outputs": [],
   "source": [
    "docsearch = retriever.invoke(\"Edwin H. Hall experiment\")"
   ]
  },
  {
   "cell_type": "code",
   "execution_count": 9,
   "id": "5f906451",
   "metadata": {},
   "outputs": [
    {
     "data": {
      "text/plain": [
       "[Document(id='1a0fde3d-57bd-4055-95e4-1f9775d808a8', metadata={'creationdate': \"D:20230224061506Z00'00'\", 'source': 'Lecture 1 Magnetic fields and magnetic force.pdf', 'moddate': \"D:20230305080614Z00'00'\", 'total_pages': 7, 'creator': 'Microsoft® Word 2016', 'page': 5, 'page_label': '6', 'producer': 'macOS Version 12.5 (Build 21G72) Quartz PDFContext, AppendMode 1.1', 'author': 'David Gozzard'}, page_content='PHYS2003: Physics for Electrical Engineers, semester 1 2023 \\nLecture 1 \\n6 \\n \\n \\nFigure 3: Simplified diagram of the J. J. Thomson experiment that discovered the electron. \\n5.2. The Hall Effect \\nIn a conductor, when there is no current through it, the electrons move randomly with no \\nnet or average motion in any direction. When a current is passed through the conductor, \\nthe electrons continue to move randomly, but with an average drift in the opposite \\ndirection to the electric field causing the current. The drift speed 𝑣𝑑 is very smaller \\ncompared with the speed of the electrons in their individual random motion. In a copper \\nwire at room temperature, the electrons are randomly moving at around 106 m/s, while the \\ndrift speed is only around 10-4 m/s (i.e. on the order of centimetres per hour). \\nIn 1879, Edwin H. Hall showed that the drifting conduction electrons in a copper wire can be \\ndeflected by an outside magnetic field. This is the Hall Effect and is used in a wide range of \\nsensor technology. \\nImagine a copper strip with current flowing down the page. The electrons then drift up the \\npage. If we apply a magnetic field pointing into the page, the force due to the magnetic field \\nwill deflect the electrons to the right-hand edge of the strip. \\nThis caused a greater density of electrons at the right-hand edge of the strip, and so a \\nseparation of charges that produces an electric field within the strip. The force on the \\nelectrons due to the electric field (equivalently, their own mutual repulsion) will eventually \\ncancel the force due to the magnetic field, resulting in a maximum value of the electric field. \\nThe electric field results in a potential difference across the strip, which can be measured \\nwith a voltmeter. \\nIn addition to allowing us to determine things such as whether the moving charges within a \\nconductor are positive or negative, and measure the drift speed of electrons (if we move the \\nstrip through the magnetic field with same speed as the electron drift, but in the opposite \\ndirection, the Hall Effect voltage will be zero), we can create a device where the output'),\n",
       " Document(id='5edf78b0-503c-41ba-993a-752cb731f07d', metadata={'author': 'David Gozzard', 'source': 'Lecture 1 Magnetic fields and magnetic force.pdf', 'page_label': '5', 'moddate': \"D:20230305080614Z00'00'\", 'creator': 'Microsoft® Word 2016', 'page': 4, 'creationdate': \"D:20230224061506Z00'00'\", 'producer': 'macOS Version 12.5 (Build 21G72) Quartz PDFContext, AppendMode 1.1', 'total_pages': 7}, page_content='When the 𝐸⃗  and 𝐵⃗  fields are adjusted to counteract each other, the relation is: \\n  |𝑞|𝐸 = |𝑞|𝑣𝐵  \\nwhich we can rearrange to \\n  𝑣 =\\n𝐸\\n𝐵  \\nThus, the speed of the particles could be measured. By measuring the distance of the \\ndeflection of the particles on the screen (and so calculating their acceleration) Thomson \\ncould determine the ratio of their mass to their charge. He knew that they were negatively \\ncharged, and found that, per unit of charge, they were lighter than hydrogen (the lightest \\natom) by a factor of more than 1,000. This is considered to be the discovery of the electron.'),\n",
       " Document(id='f8773adc-18e4-4204-9e18-58c7ebcad5cd', metadata={'page_label': '6', 'page': 5, 'creationdate': \"D:20230224061506Z00'00'\", 'total_pages': 7, 'author': 'David Gozzard', 'producer': 'macOS Version 12.5 (Build 21G72) Quartz PDFContext, AppendMode 1.1', 'creator': 'Microsoft® Word 2016', 'source': 'Lecture 1 Magnetic fields and magnetic force.pdf', 'moddate': \"D:20230305080614Z00'00'\"}, page_content='conductor are positive or negative, and measure the drift speed of electrons (if we move the \\nstrip through the magnetic field with same speed as the electron drift, but in the opposite \\ndirection, the Hall Effect voltage will be zero), we can create a device where the output \\nvoltage is proportional to the strength of the magnetic field. Such a Hall effect sensor (or \\nHall sensor) has many applications. \\nHall effect sensors can detect both the magnitude and orientation of a magnetic field, and \\nthey can work with static (unchanging) magnetic fields. They have no moving parts, so are \\nnot prone to wear, and can operate at much higher speeds than mechanical switches. Hall')]"
      ]
     },
     "execution_count": 9,
     "metadata": {},
     "output_type": "execute_result"
    }
   ],
   "source": [
    "docsearch"
   ]
  },
  {
   "cell_type": "code",
   "execution_count": 10,
   "id": "bc10bf47",
   "metadata": {},
   "outputs": [],
   "source": [
    "docsearch2 = retriever.invoke(\"Explain Faraday's and Lenz's law\")"
   ]
  },
  {
   "cell_type": "code",
   "execution_count": 11,
   "id": "be874da1",
   "metadata": {},
   "outputs": [
    {
     "name": "stdout",
     "output_type": "stream",
     "text": [
      "[Document(id='ef742050-ae4a-4dc7-a830-bb76a20e31a1', metadata={'source': 'Lecture 4 Faraday’s law and induction.pdf', 'page': 0, 'creator': 'Microsoft® Word 2016', 'creationdate': \"D:20230224061645Z00'00'\", 'author': 'David Gozzard', 'producer': 'macOS Version 12.5 (Build 21G72) Quartz PDFContext, AppendMode 1.1', 'page_label': '1', 'total_pages': 10, 'moddate': \"D:20230311062840Z00'00'\"}, page_content='PHYS2003: Physics for Electrical Engineers, semester 1 2023 \\nLecture 4 \\n1 \\n \\nLecture 4: Faraday’s law and induction \\nLearning outcomes \\nAssessable \\n• Use Faraday’s law and Lenz’s law to calculate induced current and emf. \\n• Calculate energy transfer due to induction. \\nUnderstanding \\n• Visualize and conceptually explain induced currents and electric fields. \\n1. Summary \\nThis lecture will cover Faraday’s law, Lenz’s law, and induction and energy transfer. \\nConsider a loop of conducting wire connected to an ammeter. If we move a bar magnet \\ntowards the loop, we will observe: \\n1. A current appears only when the magnetic is moving relative to the loop. \\n2. Faster movement causes a greater current. \\n3. The direction of current differs depending on whether the north or south pole of the \\nmagnet is towards the loop. \\nThe current produced in the loop is called induced current. The work done per unit charge \\nto produce the current is called the induced emf.  \\nIf we use a second loop of conducting wire connected to a current source (battery) to \\ngenerate a magnetic dipole near the loop connected to the ammeter, we observe the same \\nactions as above with the addition that: \\n4. A current is only observed in the first loop when during brief periods when the \\ncurrent in the second loop is switch on an off. No induced current is observed in the \\nfirst loop when the current in the second loop is in a steady state. \\n \\nFigure 1: A bar magnetic being used to induced a current in a coil. [Image: All About Circuits]'), Document(id='2961dd03-11b2-4060-8802-a141ceffd132', metadata={'page_label': '3', 'total_pages': 10, 'creationdate': \"D:20230224061645Z00'00'\", 'producer': 'macOS Version 12.5 (Build 21G72) Quartz PDFContext, AppendMode 1.1', 'page': 2, 'author': 'David Gozzard', 'source': 'Lecture 4 Faraday’s law and induction.pdf', 'creator': 'Microsoft® Word 2016', 'moddate': \"D:20230311062840Z00'00'\"}, page_content='3. Lenz’s Law \\n \\nThe magnetic field produced by an induced current will act to oppose the motion of the \\nmagnetic or change of magnetic flux. The direction of the induced current can the be found \\nusing the right-hand-rule. \\nLenz’s law is the reason for the negative sign in eqtn 4.4 and 4.5. \\n3.1. Example – induced current due to a changing uniform magnetic field \\nFigure shows a conducting loop comprising a half-circle of radius r = 0.2 m and three straight \\nsections. The half circle lies in a uniform magnetic field that is directed into the page. The \\nmagnitude of the magnetic field is 𝐵 = 4𝑡2 + 2𝑡 + 3. An ideal battery with emf ℰ𝑏𝑎𝑡𝑡 = 2 V \\nis connected to the loop. The resistance of the loop is 2 ohms. \\n(a) What are the magnitude and direction of the emf at t = 10s? \\n(b) What is the current in the loop at t = 10 s? \\nLenz’s law: \\nAn induced current has a direction such that the magnetic field due to the current \\nopposes the change in the magnetic flux that induces the current.'), Document(id='1a7d895a-9f46-4e0f-93ab-e0a29ae978a8', metadata={'source': 'Lecture 4 Faraday’s law and induction.pdf', 'creationdate': \"D:20230224061645Z00'00'\", 'page': 1, 'moddate': \"D:20230311062840Z00'00'\", 'producer': 'macOS Version 12.5 (Build 21G72) Quartz PDFContext, AppendMode 1.1', 'creator': 'Microsoft® Word 2016', 'total_pages': 10, 'page_label': '2', 'author': 'David Gozzard'}, page_content='PHYS2003: Physics for Electrical Engineers, semester 1 2023 \\nLecture 4 \\n2 \\n \\n2. Faraday’s law of induction \\nInduced emf and current is caused by changing the amount of magnetic field passing \\nthrough the conducting loop. This is Faraday’s law of induction. \\nWe refer to the amount of magnetic field as magnetic flux which is defined as: \\n  𝛷𝐵 = ∫𝐵⃗ ∙ 𝑑𝐴  (4.1) \\nwhere 𝐵⃗  is the magnetic field enclosed by a conducting loop of area 𝐴. \\n \\nIn the case where the magnetic field is perpendicular to the plane of the loop, we can write \\nthe dot product as 𝐵 𝑑𝐴 cos0 = 𝐵 𝑑𝐴. If the magnetic field is uniform, then 𝐵⃗  can be \\nbrought out the front of the integral and we get: \\n  𝛷𝐵 = 𝐵𝐴 (4.2) \\nFrom eqtn 4.2 we can see that the unit of magnetic flux must be tesla-square metres, which \\nis also called weber. \\n  1 𝑤𝑒𝑏𝑒𝑟 = 1 𝑊𝑏 = 1 𝑇 ∙ 𝑚2 (4.3) \\n \\nFormally, we write Faraday’s law as: \\n  ℰ = −\\n𝑑𝛷𝐵\\n𝑑𝑡  (4.4) \\nThe minus sign indicated that the induced emf acts to oppose the change of flux in the \\nloop. \\nIn an ideal (closely packed) coil of 𝑁 turns, the equation becomes: \\n  ℰ = −𝑁\\n𝑑𝛷𝐵\\n𝑑𝑡  (4.5) \\nThere are many ways to change the flux through a coil, including: \\n1. Change the magnitude of 𝐵,')]\n"
     ]
    }
   ],
   "source": [
    "print(docsearch2)"
   ]
  },
  {
   "cell_type": "markdown",
   "id": "438f6a9e",
   "metadata": {},
   "source": [
    "# Part 4 - Generation"
   ]
  },
  {
   "cell_type": "code",
   "execution_count": 12,
   "id": "b5316844",
   "metadata": {},
   "outputs": [
    {
     "data": {
      "text/plain": [
       "PromptTemplate(input_variables=['context', 'question'], input_types={}, partial_variables={}, template='Answer the following question only using the following context:\\n{context}\\n\\nIf the answer is not contained in the context, respond with:\\n\"I cannot answer this question because the necessary information was not found in the provided documents.\"\\n\\nWhen answering, include the **source file name** and **slide/page number** if available.\\n\\nQuestion: {question}\\n')"
      ]
     },
     "execution_count": 12,
     "metadata": {},
     "output_type": "execute_result"
    }
   ],
   "source": [
    "from langchain.prompts import PromptTemplate\n",
    "\n",
    "template = \"\"\"Answer the following question only using the following context:\n",
    "{context}\n",
    "\n",
    "If the answer is not contained in the context, respond with:\n",
    "\"I cannot answer this question because the necessary information was not found in the provided documents.\"\n",
    "\n",
    "When answering, include the **source file name** and **slide/page number** if available.\n",
    "\n",
    "Question: {question}\n",
    "\"\"\"\n",
    "\n",
    "prompt = PromptTemplate.from_template(template)\n",
    "prompt"
   ]
  },
  {
   "cell_type": "code",
   "execution_count": 13,
   "id": "e3691faf",
   "metadata": {},
   "outputs": [],
   "source": [
    "llm = OllamaLLM(model = \"llama3.2\")"
   ]
  },
  {
   "cell_type": "code",
   "execution_count": 14,
   "id": "56b79591",
   "metadata": {},
   "outputs": [],
   "source": [
    "chain = prompt | llm"
   ]
  },
  {
   "cell_type": "code",
   "execution_count": 15,
   "id": "71157b96",
   "metadata": {},
   "outputs": [
    {
     "name": "stdout",
     "output_type": "stream",
     "text": [
      "The Hall Effect is described as an experiment where a current is passed through a conductor, causing electrons to drift randomly in one direction. When a magnetic field is applied perpendicular to the conductor, it deflects the drifting electrons, creating a separation of charges and resulting in an electric field within the conductor.\n",
      "\n",
      "Source file name: Lecture 1 Magnetic fields and magnetic force.pdf\n",
      "Slide/page number: Page 5 (document '5edf78b0-503c-41ba-993a-752cb731f07d')\n"
     ]
    }
   ],
   "source": [
    "print(chain.invoke({\"context\":docsearch, \"question\":\"Describe an experiment used to find the Hall effect\"}))"
   ]
  },
  {
   "cell_type": "code",
   "execution_count": 16,
   "id": "81d33d85",
   "metadata": {},
   "outputs": [
    {
     "name": "stdout",
     "output_type": "stream",
     "text": [
      "The source file is 'Lecture 4 Faraday’s law and induction.pdf' (page 1).\n",
      "\n",
      "According to the text, Faraday's Law of Induction states that \"Induced emf and current is caused by changing the amount of magnetic field passing through the conducting loop.\" This is defined as magnetic flux (𝛷𝐵), which is calculated as: 𝛷𝐵 = ∫𝐵⃗ ∙ 𝑑𝐴, where 𝐵⃗  is the magnetic field enclosed by a conducting loop of area 𝐴.\n",
      "\n",
      "In the case where the magnetic field is uniform, we can write the dot product as 𝐵 𝑑𝐴 cos0 = 𝐵 𝑑𝐴. This allows us to bring out the front of the integral and get: 𝛷𝐵 = 𝐵𝐴.\n",
      "\n",
      "The unit of magnetic flux is tesla-square meters (weber), which is defined as 1 weber = 1 T ⋅ m².\n",
      "\n",
      "Formally, Faraday's Law can be written as: ℰ = − ∫(𝑑𝛷𝐵)/𝑑𝑡, where the minus sign indicates that the induced emf acts to oppose the change of flux in the loop.\n",
      "\n",
      "In an ideal (closely packed) coil of N turns, the equation becomes: ℰ = −𝑁 ∫(𝑑𝛷𝐵)/𝑑𝑡.\n"
     ]
    }
   ],
   "source": [
    "print(chain.invoke({\"context\":docsearch2, \"question\":\"Explain Faraday's Law and how it relates to induction\"}))"
   ]
  }
 ],
 "metadata": {
  "kernelspec": {
   "display_name": "LLM_Train",
   "language": "python",
   "name": "python3"
  },
  "language_info": {
   "codemirror_mode": {
    "name": "ipython",
    "version": 3
   },
   "file_extension": ".py",
   "mimetype": "text/x-python",
   "name": "python",
   "nbconvert_exporter": "python",
   "pygments_lexer": "ipython3",
   "version": "3.11.8"
  }
 },
 "nbformat": 4,
 "nbformat_minor": 5
}
