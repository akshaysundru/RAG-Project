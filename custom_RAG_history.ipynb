{
 "cells": [
  {
   "cell_type": "markdown",
   "id": "71b6ac85",
   "metadata": {},
   "source": [
    "# Custom RAG Pipeline w/ History Implementation\n",
    "\n",
    "This program will be adding history to our RAG pipeline, modifying history from built in RAG history retrievers to creating custom chains with the \"|\" operator. Creating a custom retriever allows us better control over context injection, injecting in smaller chunks with metadata chunks."
   ]
  },
  {
   "cell_type": "code",
   "execution_count": 1,
   "id": "30a0a6a9",
   "metadata": {},
   "outputs": [],
   "source": [
    "import os\n",
    "import faiss\n",
    "from langchain_community.document_loaders import PyPDFLoader\n",
    "from langchain.text_splitter import RecursiveCharacterTextSplitter\n",
    "from langchain_huggingface import HuggingFaceEmbeddings\n",
    "from langchain_ollama import OllamaLLM"
   ]
  },
  {
   "cell_type": "code",
   "execution_count": 2,
   "id": "286d887d",
   "metadata": {},
   "outputs": [],
   "source": [
    "MODEL_NAME = \"llama3.2\"\n",
    "llm = OllamaLLM(model= MODEL_NAME)"
   ]
  },
  {
   "cell_type": "code",
   "execution_count": 3,
   "id": "36260e4e",
   "metadata": {},
   "outputs": [],
   "source": [
    "def load_docs(pdf_folder = \"./pdf_folder\"):\n",
    "    \n",
    "    document_loader = []\n",
    "\n",
    "    for root, dirs, files in os.walk(pdf_folder):\n",
    "        for file in files:\n",
    "            if file.lower().endswith(\".pdf\"):\n",
    "                full_path = os.path.join(root, file)\n",
    "                document_loader.append(full_path)\n",
    "\n",
    "    return document_loader"
   ]
  },
  {
   "cell_type": "code",
   "execution_count": 4,
   "id": "37c51dc0",
   "metadata": {},
   "outputs": [
    {
     "data": {
      "text/plain": [
       "['./pdf_folder/ENSC3016_Course_Notes_Part_1_Electromagnetism_Transformers.pdf',\n",
       " './pdf_folder/Three Phase Power System Fundamentals.pdf',\n",
       " './pdf_folder/ENSC3016_Course_Notes_Part_2_Electric_Machines.pdf',\n",
       " './pdf_folder/Electric Machinery Fundamentals Textbook -- Chapman.pdf',\n",
       " './pdf_folder/ENSC3016 Study Guide 1-Review of Circuit Fundamentals.pdf']"
      ]
     },
     "execution_count": 4,
     "metadata": {},
     "output_type": "execute_result"
    }
   ],
   "source": [
    "document_loader = load_docs()\n",
    "document_loader"
   ]
  },
  {
   "cell_type": "code",
   "execution_count": 5,
   "id": "30d0ecce",
   "metadata": {},
   "outputs": [
    {
     "name": "stderr",
     "output_type": "stream",
     "text": [
      "/home/Akshay/miniconda3/envs/LLM_Train/lib/python3.11/site-packages/tqdm/auto.py:21: TqdmWarning: IProgress not found. Please update jupyter and ipywidgets. See https://ipywidgets.readthedocs.io/en/stable/user_install.html\n",
      "  from .autonotebook import tqdm as notebook_tqdm\n"
     ]
    }
   ],
   "source": [
    "from sentence_transformers import SentenceTransformer\n",
    "\n",
    "model = SentenceTransformer(\"sentence-transformers/all-MiniLM-L6-v2\")\n",
    "model.save(\"./local_models/all-MiniLM-L6-v2\")"
   ]
  },
  {
   "cell_type": "code",
   "execution_count": 5,
   "id": "87f1f5c8",
   "metadata": {},
   "outputs": [],
   "source": [
    "embedding_model =\"./local_models/all-MiniLM-L6-v2\" #embedding matrix model\n",
    "\n",
    "def embed_splitting(document_loader, embedding_model):\n",
    "    embeddings = HuggingFaceEmbeddings(model = embedding_model, encode_kwargs={'normalize_embeddings': True})\n",
    "\n",
    "    doc_store = []\n",
    "    for file_path in document_loader:\n",
    "        loader = PyPDFLoader(file_path)\n",
    "        docs = loader.load()\n",
    "\n",
    "        # Clean the metadata: keep only the filename, not full path\n",
    "        for doc in docs:\n",
    "            doc.metadata[\"source\"] = os.path.basename(file_path)\n",
    "\n",
    "        doc_store += docs\n",
    "\n",
    "\n",
    "    text_splitter = RecursiveCharacterTextSplitter.from_tiktoken_encoder(\n",
    "        chunk_size = 400,\n",
    "        chunk_overlap = 64\n",
    "        )\n",
    "    \n",
    "    #Make splits\n",
    "    splits = text_splitter.split_documents(doc_store)\n",
    "\n",
    "    return embeddings, splits"
   ]
  },
  {
   "cell_type": "code",
   "execution_count": 6,
   "id": "39b79a9c",
   "metadata": {},
   "outputs": [],
   "source": [
    "import os\n",
    "import pickle\n",
    "\n",
    "SPLITS_CACHE_PATH = \"splits_cache.pkl\"\n",
    "\n",
    "def get_splits(document_loader, embedding_model):\n",
    "    if os.path.exists(SPLITS_CACHE_PATH):\n",
    "        print(\"Loading cached splits from disk...\")\n",
    "        with open(SPLITS_CACHE_PATH, \"rb\") as f:\n",
    "            splits = pickle.load(f)\n",
    "        embeddings = HuggingFaceEmbeddings(model=embedding_model, encode_kwargs={'normalize_embeddings': True})\n",
    "    else:\n",
    "        print(\"Creating new splits...\")\n",
    "        embeddings, splits = embed_splitting(document_loader, embedding_model)\n",
    "        with open(SPLITS_CACHE_PATH, \"wb\") as f:\n",
    "            pickle.dump(splits, f)\n",
    "    return embeddings, splits"
   ]
  },
  {
   "cell_type": "code",
   "execution_count": 7,
   "id": "0bbd9095",
   "metadata": {},
   "outputs": [
    {
     "name": "stdout",
     "output_type": "stream",
     "text": [
      "Loading cached splits from disk...\n"
     ]
    },
    {
     "name": "stderr",
     "output_type": "stream",
     "text": [
      "/home/Akshay/miniconda3/envs/LLM_Train/lib/python3.11/site-packages/tqdm/auto.py:21: TqdmWarning: IProgress not found. Please update jupyter and ipywidgets. See https://ipywidgets.readthedocs.io/en/stable/user_install.html\n",
      "  from .autonotebook import tqdm as notebook_tqdm\n"
     ]
    }
   ],
   "source": [
    "embeddings, splits = get_splits(document_loader, embedding_model)"
   ]
  },
  {
   "cell_type": "code",
   "execution_count": 8,
   "id": "6dc8a2ce",
   "metadata": {},
   "outputs": [
    {
     "data": {
      "text/plain": [
       "Document(metadata={'producer': 'Microsoft® Word 2013', 'creator': 'Microsoft® Word 2013', 'creationdate': '2019-07-27T15:04:48+08:00', 'author': 'Ali Kharrazi', 'moddate': '2019-07-27T15:04:48+08:00', 'source': 'ENSC3016_Course_Notes_Part_1_Electromagnetism_Transformers.pdf', 'total_pages': 76, 'page': 51, 'page_label': '52'}, page_content='Transformer 52 \\n \\n \\n \\n   Figure 6-3 Shell-type transformers. \\n \\n \\n \\nFigure 6-4 Flux plot: shell-type transformer \\n \\n \\nToroidal transformers exploit the remarkable properties of toroidal coils described in section 3.6. \\nAlthough they are more expensive than shell-type transformers, the performance is better. They are used \\nin high -quality electronic equipment and for instrument transformers (see section 6.3) where \\nmeasurement accuracy is important. Typical toroidal transformers are shown in figure 6-5. \\n \\nFigure 6-5 Toroidal transformers.\\uf020\\n \\n \\n \\n6.2 Transformer Principle: \\nThe action of a transformer is most easily understood if the two coils are wound on opposite sides of a \\nmagnetic core, as shown in the model of figure 6 -6. This form is used for some low -cost transformers, \\nbut the magnetic coupling is not as good as with the shell-type construction. \\n \\n \\nFigure 6-6  Core-type transformer \\n \\n \\n \\nFigure 6 -7 is a schematic representation of the transformer. It will be assumed that the coupling is \\nperfect: the same magnetic flux \\uf066 passes through each turn of each coil. The coil connected to the source \\nis termed the primary, and the coil connected to the load is termed the secondary. It is usual to refer to \\nthe coils as windings.')"
      ]
     },
     "execution_count": 8,
     "metadata": {},
     "output_type": "execute_result"
    }
   ],
   "source": [
    "example_split = splits[106]\n",
    "example_split"
   ]
  },
  {
   "cell_type": "code",
   "execution_count": 9,
   "id": "e0a021f5",
   "metadata": {},
   "outputs": [
    {
     "name": "stdout",
     "output_type": "stream",
     "text": [
      "producer: Microsoft® Word 2013\n",
      "creator: Microsoft® Word 2013\n",
      "creationdate: 2019-07-27T15:04:48+08:00\n",
      "author: Ali Kharrazi\n",
      "moddate: 2019-07-27T15:04:48+08:00\n",
      "source: ENSC3016_Course_Notes_Part_1_Electromagnetism_Transformers.pdf\n",
      "total_pages: 76\n",
      "page: 51\n",
      "page_label: 52\n"
     ]
    }
   ],
   "source": [
    "metadata = example_split.metadata\n",
    "for key in metadata:\n",
    "    print(f\"{key}: {metadata[key]}\")"
   ]
  },
  {
   "cell_type": "code",
   "execution_count": 10,
   "id": "07b21538",
   "metadata": {},
   "outputs": [
    {
     "data": {
      "text/plain": [
       "HuggingFaceEmbeddings(model_name='./local_models/all-MiniLM-L6-v2', cache_folder=None, model_kwargs={}, encode_kwargs={'normalize_embeddings': True}, query_encode_kwargs={}, multi_process=False, show_progress=False)"
      ]
     },
     "execution_count": 10,
     "metadata": {},
     "output_type": "execute_result"
    }
   ],
   "source": [
    "embeddings"
   ]
  },
  {
   "cell_type": "code",
   "execution_count": 11,
   "id": "3df2dfc2",
   "metadata": {},
   "outputs": [
    {
     "data": {
      "text/plain": [
       "402"
      ]
     },
     "execution_count": 11,
     "metadata": {},
     "output_type": "execute_result"
    }
   ],
   "source": [
    "len(splits)"
   ]
  },
  {
   "cell_type": "code",
   "execution_count": 12,
   "id": "9c6e45e1",
   "metadata": {},
   "outputs": [],
   "source": [
    "from langchain_community.docstore.in_memory import InMemoryDocstore\n",
    "from langchain_community.vectorstores import FAISS"
   ]
  },
  {
   "cell_type": "code",
   "execution_count": 13,
   "id": "ea441e76",
   "metadata": {},
   "outputs": [
    {
     "name": "stdout",
     "output_type": "stream",
     "text": [
      "Loading FAISS index from disk...\n"
     ]
    }
   ],
   "source": [
    "dim = len(embeddings.embed_query(\"test sentence\"))\n",
    "index = faiss.IndexFlatL2(dim)\n",
    "\n",
    "if os.path.exists(\"faiss_index\"):\n",
    "    print(\"Loading FAISS index from disk...\")\n",
    "    vector_store = FAISS.load_local(\"faiss_index\", embeddings=embeddings, allow_dangerous_deserialization=True)\n",
    "else:\n",
    "    print(\"Building FAISS index from scratch...\")\n",
    "    vector_store = FAISS(\n",
    "        embedding_function=embeddings,\n",
    "        index=index,\n",
    "        docstore=InMemoryDocstore(),\n",
    "        index_to_docstore_id={},\n",
    "    )\n",
    "    vector_store.add_documents(splits)\n",
    "    vector_store.save_local(\"faiss_index\")"
   ]
  },
  {
   "cell_type": "code",
   "execution_count": 14,
   "id": "896f7f79",
   "metadata": {},
   "outputs": [],
   "source": [
    "# create the retriever object once\n",
    "semantic_retriever = vector_store.as_retriever(search_kwargs={'k': 4})\n",
    "\n",
    "# define your function to query it\n",
    "def semantic_search(retriever_obj, input_context: str):\n",
    "    return retriever_obj.invoke(input_context)\n",
    "\n",
    "# call the function with retriever and query string\n",
    "results = semantic_search(semantic_retriever, \"Explain transformers\")"
   ]
  },
  {
   "cell_type": "code",
   "execution_count": 15,
   "id": "e81ae1a0",
   "metadata": {},
   "outputs": [
    {
     "data": {
      "text/plain": [
       "{'producer': 'Microsoft® Word 2013',\n",
       " 'creator': 'Microsoft® Word 2013',\n",
       " 'creationdate': '2019-07-27T15:04:48+08:00',\n",
       " 'author': 'Ali Kharrazi',\n",
       " 'moddate': '2019-07-27T15:04:48+08:00',\n",
       " 'source': 'ENSC3016_Course_Notes_Part_1_Electromagnetism_Transformers.pdf',\n",
       " 'total_pages': 76,\n",
       " 'page': 51,\n",
       " 'page_label': '52'}"
      ]
     },
     "execution_count": 15,
     "metadata": {},
     "output_type": "execute_result"
    }
   ],
   "source": [
    "results[0].metadata"
   ]
  },
  {
   "cell_type": "code",
   "execution_count": 16,
   "id": "8ea5ffde",
   "metadata": {},
   "outputs": [
    {
     "name": "stdout",
     "output_type": "stream",
     "text": [
      "This is chunk number 1.\n",
      "\n",
      " The source is ENSC3016_Course_Notes_Part_1_Electromagnetism_Transformers.pdf, found on page number 51. \n",
      "\n",
      " The page content is Transformer 52 \n",
      " \n",
      " \n",
      " \n",
      "   Figure 6-3 Shell-type transformers. \n",
      " \n",
      " \n",
      " \n",
      "Figure 6-4 Flux plot: shell-type transformer \n",
      " \n",
      " \n",
      "Toroidal transformers exploit the remarkable properties of toroidal coils described in section 3.6. \n",
      "Although they are more expensive than shell-type transformers, the performance is better. They are used \n",
      "in high -quality electronic equipment and for instrument transformers (see section 6.3) where \n",
      "measurement accuracy is important. Typical toroidal transformers are shown in figure 6-5. \n",
      " \n",
      "Figure 6-5 Toroidal transformers.\n",
      " \n",
      " \n",
      " \n",
      "6.2 Transformer Principle: \n",
      "The action of a transformer is most easily understood if the two coils are wound on opposite sides of a \n",
      "magnetic core, as shown in the model of figure 6 -6. This form is used for some low -cost transformers, \n",
      "but the magnetic coupling is not as good as with the shell-type construction. \n",
      " \n",
      " \n",
      "Figure 6-6  Core-type transformer \n",
      " \n",
      " \n",
      " \n",
      "Figure 6 -7 is a schematic representation of the transformer. It will be assumed that the coupling is \n",
      "perfect: the same magnetic flux  passes through each turn of each coil. The coil connected to the source \n",
      "is termed the primary, and the coil connected to the load is termed the secondary. It is usual to refer to \n",
      "the coils as windings. \n",
      "\n",
      "This is chunk number 2.\n",
      "\n",
      " The source is ENSC3016_Course_Notes_Part_1_Electromagnetism_Transformers.pdf, found on page number 50. \n",
      "\n",
      " The page content is 51 Electrical Machines and Systems                                                                                                            \n",
      " \n",
      "6 Transformer \n",
      "6.1 Introduction: \n",
      "A transformer is a practical application of magnetically coupled coils. Usually the purpose is to transfer \n",
      "energy from one coil to the other, as in figure 6-1 where energy is transferred from the AC source to the \n",
      "lamp through the space between the coils. \n",
      " \n",
      "Figure 6-1 Transformer principle \n",
      "Transformers are essentially AC devices, because there has to be a change of flux to give an induced \n",
      "voltage in a coil. There are two main reasons for transferring energy in this way: \n",
      " To provide electrical isolation between the source and the load. \n",
      " To change the voltage and current levels. \n",
      "The coils are usually placed on a common magnetic core to improve the coupling. Figure 6-2 shows the \n",
      "flux plots for two coupled coils (a) without a core, (b) with an open core, (c) with a closed core \n",
      " \n",
      "Figure 6-2 Effect of a magnetic core: \n",
      "6.1.2 Practical aspects: \n",
      "The cores for high -frequency transformers are often made from magnetically soft ferrites, which are \n",
      "electrical insulators. For power frequencies, the cores are made from an iron alloy such as silicon steel. \n",
      "\n",
      "This is chunk number 3.\n",
      "\n",
      " The source is ENSC3016_Course_Notes_Part_1_Electromagnetism_Transformers.pdf, found on page number 52. \n",
      "\n",
      " The page content is 𝑑𝜙\n",
      "𝑑𝑡        (6 − 3) \n",
      "𝑣2 = 𝑅2𝑖2 + 𝑁2\n",
      "𝑑𝜙\n",
      "𝑑𝑡                               (6 − 4) \n",
      "The sign difference arises from the reference directions for current in the two windings. \n",
      "If the resistances R1 and R2 are negligible, then equations 6-3 and 6-4 become: \n",
      "𝑣1 ≈ 𝑁1\n",
      "𝑑𝜙\n",
      "𝑑𝑡          (6 − 5) \n",
      "𝑣2 ≈ 𝑁2\n",
      "𝑑𝜙\n",
      "𝑑𝑡         (6 − 6) \n",
      "Dividing these equations gives the important result: \n",
      "𝑣1\n",
      "𝑣2\n",
      "≈ 𝑁1\n",
      "𝑁2\n",
      "        (6 − 7) \n",
      "Thus, the secondary voltage can be made larger or smaller than the primary voltage by changing the \n",
      "ratio of the numbers of turns on the two windings. Voltage transformation is one of the most common \n",
      "uses of transformers, on a large scale in electrical power transmission and distribution, and on a small \n",
      "scale in the power supplies for electronic equipment. \n",
      "6.2.2 Sinusoidal operation: \n",
      "If the voltage source is sinusoidal, then the core flux will also be sinusoidal, so we may put: \n",
      "\n",
      "This is chunk number 4.\n",
      "\n",
      " The source is ENSC3016_Course_Notes_Part_1_Electromagnetism_Transformers.pdf, found on page number 55. \n",
      "\n",
      " The page content is 𝑽𝒔 = 𝑽𝟏 + 𝑽𝟐 = 𝟐𝑽𝟐 = 𝟐𝑽𝑳        (6 − 22) \n",
      "𝑰𝑳 = 𝑰𝟏 + 𝑰𝟐 = 𝟐𝑰𝟏 = 𝟐𝑰𝑳            (6 − 23) \n",
      "Where VL is the voltage across the load and IS is the current supplied by the source. This auto-wound \n",
      "transformer behaves as a step-down transformer with a ratio of 2:1, and the current in each winding is \n",
      "equal to half of the load current. \n",
      "An elegant application of the auto-wound transformer principle is the variable transformer, which has a \n",
      "single-layer coil wound on a toroidal core. The output is taken from a carbon brush that makes contact \n",
      "with the surface of the coil; the brush can be moved smoothly from one end of the coil to the other, thus \n",
      "varying the output voltage. Examples of variable transformers are shown in figure 6-10. \n",
      " \n",
      "     \n",
      "      Figure 6-10 Variable transformers. \n",
      " \n",
      " \n",
      " \n",
      "6.3.2 3 Phase Transformer: \n",
      "In 3 -phase systems, it is common practice to use sets of three single -phase transformers. It is also \n",
      "possible, however, to make 3 -phase transformers with three sets of windings on three limbs of a core, \n",
      "as shown in figure 6-11. \n",
      " \n",
      "Figure 6-11 3-phase transformer model \n",
      "\n"
     ]
    }
   ],
   "source": [
    "for i in range(len(results)):\n",
    "    source_data = results[i].metadata[\"source\"]\n",
    "    page = results[i].metadata[\"page\"]\n",
    "    page_content = results[i].page_content\n",
    "\n",
    "    print(f\"This is chunk number {i+1}.\\n\\n The source is {source_data}, found on page number {page}. \\n\\n The page content is {page_content} \\n\")"
   ]
  },
  {
   "cell_type": "code",
   "execution_count": 17,
   "id": "7801f122",
   "metadata": {},
   "outputs": [],
   "source": [
    "from langchain_community.retrievers import BM25Retriever\n",
    "\n",
    "bm25_retriever = BM25Retriever.from_documents(splits)\n",
    "bm25_retriever.k = 4\n",
    "\n",
    "def keyword_search(retriever_obj, input_context: str):\n",
    "    return retriever_obj.invoke(input_context)"
   ]
  },
  {
   "cell_type": "code",
   "execution_count": 21,
   "id": "5b8978cf",
   "metadata": {},
   "outputs": [],
   "source": [
    "keyword_results = keyword_search(bm25_retriever, \"Explain transformers\")"
   ]
  },
  {
   "cell_type": "code",
   "execution_count": 22,
   "id": "7dad64a9",
   "metadata": {},
   "outputs": [
    {
     "data": {
      "text/plain": [
       "[Document(metadata={'producer': 'Microsoft® Word 2013', 'creator': 'Microsoft® Word 2013', 'creationdate': '2019-07-27T15:04:48+08:00', 'author': 'Ali Kharrazi', 'moddate': '2019-07-27T15:04:48+08:00', 'source': 'ENSC3016_Course_Notes_Part_1_Electromagnetism_Transformers.pdf', 'total_pages': 76, 'page': 64, 'page_label': '65'}, page_content='65 Electrical Machines and Systems                                                                                                            \\n6.8 Current Transformers \\nInstrument transformers are special transformers for extending the range of measur ing instruments. \\nThere are two basic types: voltage transformers for measuring high voltages, and current transformers \\nfor measuring high currents. Using transformers for voltage measurement is similar in principle to the \\nordinary use of transformers to ch ange voltage levels, so it will not be considered further. Current \\ntransformers, on the other hand, need special consideration. These are usually toroidal transformers with \\nhigh-quality core material. \\nFigure 6-25 shows a load connected to a source. The primary of a current transformer is in series with \\nthe load, and the secondary is connected to a meter \\n  \\nFigure 6-25 Use of a current transformer \\n \\n \\nEquation 6-19 gives: \\n𝐼𝑀 ≈ 𝑁1\\n𝑁2\\n𝐼𝐿     𝑜𝑟  𝐼𝐿 ≈ 𝑁1\\n𝑁2\\n𝐼𝑀           (6 − 53)'),\n",
       " Document(metadata={'producer': 'Microsoft® Word 2013', 'creator': 'Microsoft® Word 2013', 'creationdate': '2019-07-27T15:04:48+08:00', 'author': 'Ali Kharrazi', 'moddate': '2019-07-27T15:04:48+08:00', 'source': 'ENSC3016_Course_Notes_Part_1_Electromagnetism_Transformers.pdf', 'total_pages': 76, 'page': 51, 'page_label': '52'}, page_content='Transformer 52 \\n \\n \\n \\n   Figure 6-3 Shell-type transformers. \\n \\n \\n \\nFigure 6-4 Flux plot: shell-type transformer \\n \\n \\nToroidal transformers exploit the remarkable properties of toroidal coils described in section 3.6. \\nAlthough they are more expensive than shell-type transformers, the performance is better. They are used \\nin high -quality electronic equipment and for instrument transformers (see section 6.3) where \\nmeasurement accuracy is important. Typical toroidal transformers are shown in figure 6-5. \\n \\nFigure 6-5 Toroidal transformers.\\uf020\\n \\n \\n \\n6.2 Transformer Principle: \\nThe action of a transformer is most easily understood if the two coils are wound on opposite sides of a \\nmagnetic core, as shown in the model of figure 6 -6. This form is used for some low -cost transformers, \\nbut the magnetic coupling is not as good as with the shell-type construction. \\n \\n \\nFigure 6-6  Core-type transformer \\n \\n \\n \\nFigure 6 -7 is a schematic representation of the transformer. It will be assumed that the coupling is \\nperfect: the same magnetic flux \\uf066 passes through each turn of each coil. The coil connected to the source \\nis termed the primary, and the coil connected to the load is termed the secondary. It is usual to refer to \\nthe coils as windings.'),\n",
       " Document(metadata={'producer': 'Microsoft® Word 2013', 'creator': 'Microsoft® Word 2013', 'creationdate': '2019-07-27T15:04:48+08:00', 'author': 'Ali Kharrazi', 'moddate': '2019-07-27T15:04:48+08:00', 'source': 'ENSC3016_Course_Notes_Part_1_Electromagnetism_Transformers.pdf', 'total_pages': 76, 'page': 50, 'page_label': '51'}, page_content='6.1.2 Practical aspects: \\nThe cores for high -frequency transformers are often made from magnetically soft ferrites, which are \\nelectrical insulators. For power frequencies, the cores are made from an iron alloy such as silicon steel. \\nThese materials have better magnetic properties than ferrites, but they are also electrical conductors. If \\nthe core were made of solid steel, currents – known as eddy currents – would be induced in the core by \\nthe alternating magnetic flux.  Steel transformer cores are therefore made from thin laminations, \\ninsulated from one another, to minimise eddy currents [1, 6]. \\nSmall power transformers are commonly made with the shell -type construction shown in figure 6 -3, \\nwhere the coils are wound on the central limb of the core, and the two outer limbs provide symmetrical \\nflux return paths. The centre limb is twice the width of the outer limbs because it carries twice the flux, \\nas shown by the flux plot in figure 6-4.'),\n",
       " Document(metadata={'producer': 'Microsoft® Word 2013', 'creator': 'Microsoft® Word 2013', 'creationdate': '2019-07-27T15:04:48+08:00', 'author': 'Ali Kharrazi', 'moddate': '2019-07-27T15:04:48+08:00', 'source': 'ENSC3016_Course_Notes_Part_1_Electromagnetism_Transformers.pdf', 'total_pages': 76, 'page': 68, 'page_label': '69'}, page_content='31. \\n \\n \\n \\n \\nFigure 6-31 E I laminations \\nThe center limb is twice the width of the outer limbs because it carries twice the flux, as shown by \\nthe flux plot in figure 6-32. \\n \\nFigure 6-32  Flux Plot: Shell type transformer \\nThe coils are wound on a bobbin that fits the center limb of the core, and the core is assembled \\nby inserting E laminations alternately from each side and adding matching I laminations. \\nDimensions are chosen so that two E and two I laminations can be punched from a rectangular steel \\nsheet without any waste. Current flowing in the resistance of the transformer windings will produce \\nheat, which must escape through the surface of the windings. In addition, there will be power loss in \\nthe core, which also appears as heat. \\nThe power output from a given size of transformer is governed by the rate at which heat can be \\nremoved. Large transformers are usually cooled by circulating oil, but small transformers rely on')]"
      ]
     },
     "execution_count": 22,
     "metadata": {},
     "output_type": "execute_result"
    }
   ],
   "source": [
    "keyword_results "
   ]
  },
  {
   "cell_type": "code",
   "execution_count": 23,
   "id": "06891a8d",
   "metadata": {},
   "outputs": [
    {
     "name": "stdout",
     "output_type": "stream",
     "text": [
      "This is chunk number 1.\n",
      "\n",
      " The source is ENSC3016_Course_Notes_Part_1_Electromagnetism_Transformers.pdf, found on page number 64. \n",
      "\n",
      " The page content is 65 Electrical Machines and Systems                                                                                                            \n",
      "6.8 Current Transformers \n",
      "Instrument transformers are special transformers for extending the range of measur ing instruments. \n",
      "There are two basic types: voltage transformers for measuring high voltages, and current transformers \n",
      "for measuring high currents. Using transformers for voltage measurement is similar in principle to the \n",
      "ordinary use of transformers to ch ange voltage levels, so it will not be considered further. Current \n",
      "transformers, on the other hand, need special consideration. These are usually toroidal transformers with \n",
      "high-quality core material. \n",
      "Figure 6-25 shows a load connected to a source. The primary of a current transformer is in series with \n",
      "the load, and the secondary is connected to a meter \n",
      "  \n",
      "Figure 6-25 Use of a current transformer \n",
      " \n",
      " \n",
      "Equation 6-19 gives: \n",
      "𝐼𝑀 ≈ 𝑁1\n",
      "𝑁2\n",
      "𝐼𝐿     𝑜𝑟  𝐼𝐿 ≈ 𝑁1\n",
      "𝑁2\n",
      "𝐼𝑀           (6 − 53) \n",
      "\n",
      "This is chunk number 2.\n",
      "\n",
      " The source is ENSC3016_Course_Notes_Part_1_Electromagnetism_Transformers.pdf, found on page number 51. \n",
      "\n",
      " The page content is Transformer 52 \n",
      " \n",
      " \n",
      " \n",
      "   Figure 6-3 Shell-type transformers. \n",
      " \n",
      " \n",
      " \n",
      "Figure 6-4 Flux plot: shell-type transformer \n",
      " \n",
      " \n",
      "Toroidal transformers exploit the remarkable properties of toroidal coils described in section 3.6. \n",
      "Although they are more expensive than shell-type transformers, the performance is better. They are used \n",
      "in high -quality electronic equipment and for instrument transformers (see section 6.3) where \n",
      "measurement accuracy is important. Typical toroidal transformers are shown in figure 6-5. \n",
      " \n",
      "Figure 6-5 Toroidal transformers.\n",
      " \n",
      " \n",
      " \n",
      "6.2 Transformer Principle: \n",
      "The action of a transformer is most easily understood if the two coils are wound on opposite sides of a \n",
      "magnetic core, as shown in the model of figure 6 -6. This form is used for some low -cost transformers, \n",
      "but the magnetic coupling is not as good as with the shell-type construction. \n",
      " \n",
      " \n",
      "Figure 6-6  Core-type transformer \n",
      " \n",
      " \n",
      " \n",
      "Figure 6 -7 is a schematic representation of the transformer. It will be assumed that the coupling is \n",
      "perfect: the same magnetic flux  passes through each turn of each coil. The coil connected to the source \n",
      "is termed the primary, and the coil connected to the load is termed the secondary. It is usual to refer to \n",
      "the coils as windings. \n",
      "\n",
      "This is chunk number 3.\n",
      "\n",
      " The source is ENSC3016_Course_Notes_Part_1_Electromagnetism_Transformers.pdf, found on page number 50. \n",
      "\n",
      " The page content is 6.1.2 Practical aspects: \n",
      "The cores for high -frequency transformers are often made from magnetically soft ferrites, which are \n",
      "electrical insulators. For power frequencies, the cores are made from an iron alloy such as silicon steel. \n",
      "These materials have better magnetic properties than ferrites, but they are also electrical conductors. If \n",
      "the core were made of solid steel, currents – known as eddy currents – would be induced in the core by \n",
      "the alternating magnetic flux.  Steel transformer cores are therefore made from thin laminations, \n",
      "insulated from one another, to minimise eddy currents [1, 6]. \n",
      "Small power transformers are commonly made with the shell -type construction shown in figure 6 -3, \n",
      "where the coils are wound on the central limb of the core, and the two outer limbs provide symmetrical \n",
      "flux return paths. The centre limb is twice the width of the outer limbs because it carries twice the flux, \n",
      "as shown by the flux plot in figure 6-4. \n",
      "\n",
      "This is chunk number 4.\n",
      "\n",
      " The source is ENSC3016_Course_Notes_Part_1_Electromagnetism_Transformers.pdf, found on page number 68. \n",
      "\n",
      " The page content is 31. \n",
      " \n",
      " \n",
      " \n",
      " \n",
      "Figure 6-31 E I laminations \n",
      "The center limb is twice the width of the outer limbs because it carries twice the flux, as shown by \n",
      "the flux plot in figure 6-32. \n",
      " \n",
      "Figure 6-32  Flux Plot: Shell type transformer \n",
      "The coils are wound on a bobbin that fits the center limb of the core, and the core is assembled \n",
      "by inserting E laminations alternately from each side and adding matching I laminations. \n",
      "Dimensions are chosen so that two E and two I laminations can be punched from a rectangular steel \n",
      "sheet without any waste. Current flowing in the resistance of the transformer windings will produce \n",
      "heat, which must escape through the surface of the windings. In addition, there will be power loss in \n",
      "the core, which also appears as heat. \n",
      "The power output from a given size of transformer is governed by the rate at which heat can be \n",
      "removed. Large transformers are usually cooled by circulating oil, but small transformers rely on \n",
      "\n"
     ]
    }
   ],
   "source": [
    "for i in range(len(keyword_results)):\n",
    "    source_data = keyword_results[i].metadata[\"source\"]\n",
    "    page = keyword_results[i].metadata[\"page\"]\n",
    "    page_content = keyword_results[i].page_content\n",
    "\n",
    "    print(f\"This is chunk number {i+1}.\\n\\n The source is {source_data}, found on page number {page}. \\n\\n The page content is {page_content} \\n\")"
   ]
  },
  {
   "cell_type": "code",
   "execution_count": 24,
   "id": "d0611271",
   "metadata": {},
   "outputs": [],
   "source": [
    "from langchain.retrievers import EnsembleRetriever\n",
    "\n",
    "ensemble_retriever = EnsembleRetriever(retrievers= [semantic_retriever, bm25_retriever], weights = [0.5, 0.5])"
   ]
  },
  {
   "cell_type": "code",
   "execution_count": 25,
   "id": "559d2a17",
   "metadata": {},
   "outputs": [],
   "source": [
    "combined_results = ensemble_retriever.invoke(\"Explain transformers\")"
   ]
  },
  {
   "cell_type": "code",
   "execution_count": 26,
   "id": "8d923f78",
   "metadata": {},
   "outputs": [
    {
     "data": {
      "text/plain": [
       "[Document(id='cf3a2be7-1574-4c4a-94f0-6c84e36a3a2e', metadata={'producer': 'Microsoft® Word 2013', 'creator': 'Microsoft® Word 2013', 'creationdate': '2019-07-27T15:04:48+08:00', 'author': 'Ali Kharrazi', 'moddate': '2019-07-27T15:04:48+08:00', 'source': 'ENSC3016_Course_Notes_Part_1_Electromagnetism_Transformers.pdf', 'total_pages': 76, 'page': 51, 'page_label': '52'}, page_content='Transformer 52 \\n \\n \\n \\n   Figure 6-3 Shell-type transformers. \\n \\n \\n \\nFigure 6-4 Flux plot: shell-type transformer \\n \\n \\nToroidal transformers exploit the remarkable properties of toroidal coils described in section 3.6. \\nAlthough they are more expensive than shell-type transformers, the performance is better. They are used \\nin high -quality electronic equipment and for instrument transformers (see section 6.3) where \\nmeasurement accuracy is important. Typical toroidal transformers are shown in figure 6-5. \\n \\nFigure 6-5 Toroidal transformers.\\uf020\\n \\n \\n \\n6.2 Transformer Principle: \\nThe action of a transformer is most easily understood if the two coils are wound on opposite sides of a \\nmagnetic core, as shown in the model of figure 6 -6. This form is used for some low -cost transformers, \\nbut the magnetic coupling is not as good as with the shell-type construction. \\n \\n \\nFigure 6-6  Core-type transformer \\n \\n \\n \\nFigure 6 -7 is a schematic representation of the transformer. It will be assumed that the coupling is \\nperfect: the same magnetic flux \\uf066 passes through each turn of each coil. The coil connected to the source \\nis termed the primary, and the coil connected to the load is termed the secondary. It is usual to refer to \\nthe coils as windings.'),\n",
       " Document(metadata={'producer': 'Microsoft® Word 2013', 'creator': 'Microsoft® Word 2013', 'creationdate': '2019-07-27T15:04:48+08:00', 'author': 'Ali Kharrazi', 'moddate': '2019-07-27T15:04:48+08:00', 'source': 'ENSC3016_Course_Notes_Part_1_Electromagnetism_Transformers.pdf', 'total_pages': 76, 'page': 64, 'page_label': '65'}, page_content='65 Electrical Machines and Systems                                                                                                            \\n6.8 Current Transformers \\nInstrument transformers are special transformers for extending the range of measur ing instruments. \\nThere are two basic types: voltage transformers for measuring high voltages, and current transformers \\nfor measuring high currents. Using transformers for voltage measurement is similar in principle to the \\nordinary use of transformers to ch ange voltage levels, so it will not be considered further. Current \\ntransformers, on the other hand, need special consideration. These are usually toroidal transformers with \\nhigh-quality core material. \\nFigure 6-25 shows a load connected to a source. The primary of a current transformer is in series with \\nthe load, and the secondary is connected to a meter \\n  \\nFigure 6-25 Use of a current transformer \\n \\n \\nEquation 6-19 gives: \\n𝐼𝑀 ≈ 𝑁1\\n𝑁2\\n𝐼𝐿     𝑜𝑟  𝐼𝐿 ≈ 𝑁1\\n𝑁2\\n𝐼𝑀           (6 − 53)'),\n",
       " Document(id='5a917231-4cd8-4884-b640-a81d586229fc', metadata={'producer': 'Microsoft® Word 2013', 'creator': 'Microsoft® Word 2013', 'creationdate': '2019-07-27T15:04:48+08:00', 'author': 'Ali Kharrazi', 'moddate': '2019-07-27T15:04:48+08:00', 'source': 'ENSC3016_Course_Notes_Part_1_Electromagnetism_Transformers.pdf', 'total_pages': 76, 'page': 50, 'page_label': '51'}, page_content='51 Electrical Machines and Systems                                                                                                            \\n \\n6 Transformer \\n6.1 Introduction: \\nA transformer is a practical application of magnetically coupled coils. Usually the purpose is to transfer \\nenergy from one coil to the other, as in figure 6-1 where energy is transferred from the AC source to the \\nlamp through the space between the coils. \\n \\nFigure 6-1 Transformer principle \\nTransformers are essentially AC devices, because there has to be a change of flux to give an induced \\nvoltage in a coil. There are two main reasons for transferring energy in this way: \\n\\uf0b7 To provide electrical isolation between the source and the load. \\n\\uf0b7 To change the voltage and current levels. \\nThe coils are usually placed on a common magnetic core to improve the coupling. Figure 6-2 shows the \\nflux plots for two coupled coils (a) without a core, (b) with an open core, (c) with a closed core \\n \\nFigure 6-2 Effect of a magnetic core: \\n6.1.2 Practical aspects: \\nThe cores for high -frequency transformers are often made from magnetically soft ferrites, which are \\nelectrical insulators. For power frequencies, the cores are made from an iron alloy such as silicon steel.'),\n",
       " Document(id='647a5b17-585e-484f-92e0-43e92c235ef0', metadata={'producer': 'Microsoft® Word 2013', 'creator': 'Microsoft® Word 2013', 'creationdate': '2019-07-27T15:04:48+08:00', 'author': 'Ali Kharrazi', 'moddate': '2019-07-27T15:04:48+08:00', 'source': 'ENSC3016_Course_Notes_Part_1_Electromagnetism_Transformers.pdf', 'total_pages': 76, 'page': 52, 'page_label': '53'}, page_content='𝑑𝜙\\n𝑑𝑡        (6 − 3) \\n𝑣2 = 𝑅2𝑖2 + 𝑁2\\n𝑑𝜙\\n𝑑𝑡                               (6 − 4) \\nThe sign difference arises from the reference directions for current in the two windings. \\nIf the resistances R1 and R2 are negligible, then equations 6-3 and 6-4 become: \\n𝑣1 ≈ 𝑁1\\n𝑑𝜙\\n𝑑𝑡          (6 − 5) \\n𝑣2 ≈ 𝑁2\\n𝑑𝜙\\n𝑑𝑡         (6 − 6) \\nDividing these equations gives the important result: \\n𝑣1\\n𝑣2\\n≈ 𝑁1\\n𝑁2\\n        (6 − 7) \\nThus, the secondary voltage can be made larger or smaller than the primary voltage by changing the \\nratio of the numbers of turns on the two windings. Voltage transformation is one of the most common \\nuses of transformers, on a large scale in electrical power transmission and distribution, and on a small \\nscale in the power supplies for electronic equipment. \\n6.2.2 Sinusoidal operation: \\nIf the voltage source is sinusoidal, then the core flux will also be sinusoidal, so we may put:'),\n",
       " Document(metadata={'producer': 'Microsoft® Word 2013', 'creator': 'Microsoft® Word 2013', 'creationdate': '2019-07-27T15:04:48+08:00', 'author': 'Ali Kharrazi', 'moddate': '2019-07-27T15:04:48+08:00', 'source': 'ENSC3016_Course_Notes_Part_1_Electromagnetism_Transformers.pdf', 'total_pages': 76, 'page': 50, 'page_label': '51'}, page_content='6.1.2 Practical aspects: \\nThe cores for high -frequency transformers are often made from magnetically soft ferrites, which are \\nelectrical insulators. For power frequencies, the cores are made from an iron alloy such as silicon steel. \\nThese materials have better magnetic properties than ferrites, but they are also electrical conductors. If \\nthe core were made of solid steel, currents – known as eddy currents – would be induced in the core by \\nthe alternating magnetic flux.  Steel transformer cores are therefore made from thin laminations, \\ninsulated from one another, to minimise eddy currents [1, 6]. \\nSmall power transformers are commonly made with the shell -type construction shown in figure 6 -3, \\nwhere the coils are wound on the central limb of the core, and the two outer limbs provide symmetrical \\nflux return paths. The centre limb is twice the width of the outer limbs because it carries twice the flux, \\nas shown by the flux plot in figure 6-4.'),\n",
       " Document(id='bedaab07-f3ee-457e-bbb8-841404d1f180', metadata={'producer': 'Microsoft® Word 2013', 'creator': 'Microsoft® Word 2013', 'creationdate': '2019-07-27T15:04:48+08:00', 'author': 'Ali Kharrazi', 'moddate': '2019-07-27T15:04:48+08:00', 'source': 'ENSC3016_Course_Notes_Part_1_Electromagnetism_Transformers.pdf', 'total_pages': 76, 'page': 55, 'page_label': '56'}, page_content='𝑽𝒔 = 𝑽𝟏 + 𝑽𝟐 = 𝟐𝑽𝟐 = 𝟐𝑽𝑳        (6 − 22) \\n𝑰𝑳 = 𝑰𝟏 + 𝑰𝟐 = 𝟐𝑰𝟏 = 𝟐𝑰𝑳            (6 − 23) \\nWhere VL is the voltage across the load and IS is the current supplied by the source. This auto-wound \\ntransformer behaves as a step-down transformer with a ratio of 2:1, and the current in each winding is \\nequal to half of the load current. \\nAn elegant application of the auto-wound transformer principle is the variable transformer, which has a \\nsingle-layer coil wound on a toroidal core. The output is taken from a carbon brush that makes contact \\nwith the surface of the coil; the brush can be moved smoothly from one end of the coil to the other, thus \\nvarying the output voltage. Examples of variable transformers are shown in figure 6-10. \\n \\n     \\n      Figure 6-10 Variable transformers. \\n \\n \\n \\n6.3.2 3 Phase Transformer: \\nIn 3 -phase systems, it is common practice to use sets of three single -phase transformers. It is also \\npossible, however, to make 3 -phase transformers with three sets of windings on three limbs of a core, \\nas shown in figure 6-11. \\n \\nFigure 6-11 3-phase transformer model'),\n",
       " Document(metadata={'producer': 'Microsoft® Word 2013', 'creator': 'Microsoft® Word 2013', 'creationdate': '2019-07-27T15:04:48+08:00', 'author': 'Ali Kharrazi', 'moddate': '2019-07-27T15:04:48+08:00', 'source': 'ENSC3016_Course_Notes_Part_1_Electromagnetism_Transformers.pdf', 'total_pages': 76, 'page': 68, 'page_label': '69'}, page_content='31. \\n \\n \\n \\n \\nFigure 6-31 E I laminations \\nThe center limb is twice the width of the outer limbs because it carries twice the flux, as shown by \\nthe flux plot in figure 6-32. \\n \\nFigure 6-32  Flux Plot: Shell type transformer \\nThe coils are wound on a bobbin that fits the center limb of the core, and the core is assembled \\nby inserting E laminations alternately from each side and adding matching I laminations. \\nDimensions are chosen so that two E and two I laminations can be punched from a rectangular steel \\nsheet without any waste. Current flowing in the resistance of the transformer windings will produce \\nheat, which must escape through the surface of the windings. In addition, there will be power loss in \\nthe core, which also appears as heat. \\nThe power output from a given size of transformer is governed by the rate at which heat can be \\nremoved. Large transformers are usually cooled by circulating oil, but small transformers rely on')]"
      ]
     },
     "execution_count": 26,
     "metadata": {},
     "output_type": "execute_result"
    }
   ],
   "source": [
    "combined_results"
   ]
  },
  {
   "cell_type": "code",
   "execution_count": 27,
   "id": "1a2f6cff",
   "metadata": {},
   "outputs": [
    {
     "name": "stdout",
     "output_type": "stream",
     "text": [
      "{'producer': 'Microsoft® Word 2013', 'creator': 'Microsoft® Word 2013', 'creationdate': '2019-07-27T15:04:48+08:00', 'author': 'Ali Kharrazi', 'moddate': '2019-07-27T15:04:48+08:00', 'source': 'ENSC3016_Course_Notes_Part_1_Electromagnetism_Transformers.pdf', 'total_pages': 76, 'page': 51, 'page_label': '52'}\n",
      "{'producer': 'Microsoft® Word 2013', 'creator': 'Microsoft® Word 2013', 'creationdate': '2019-07-27T15:04:48+08:00', 'author': 'Ali Kharrazi', 'moddate': '2019-07-27T15:04:48+08:00', 'source': 'ENSC3016_Course_Notes_Part_1_Electromagnetism_Transformers.pdf', 'total_pages': 76, 'page': 64, 'page_label': '65'}\n",
      "{'producer': 'Microsoft® Word 2013', 'creator': 'Microsoft® Word 2013', 'creationdate': '2019-07-27T15:04:48+08:00', 'author': 'Ali Kharrazi', 'moddate': '2019-07-27T15:04:48+08:00', 'source': 'ENSC3016_Course_Notes_Part_1_Electromagnetism_Transformers.pdf', 'total_pages': 76, 'page': 50, 'page_label': '51'}\n",
      "{'producer': 'Microsoft® Word 2013', 'creator': 'Microsoft® Word 2013', 'creationdate': '2019-07-27T15:04:48+08:00', 'author': 'Ali Kharrazi', 'moddate': '2019-07-27T15:04:48+08:00', 'source': 'ENSC3016_Course_Notes_Part_1_Electromagnetism_Transformers.pdf', 'total_pages': 76, 'page': 52, 'page_label': '53'}\n",
      "{'producer': 'Microsoft® Word 2013', 'creator': 'Microsoft® Word 2013', 'creationdate': '2019-07-27T15:04:48+08:00', 'author': 'Ali Kharrazi', 'moddate': '2019-07-27T15:04:48+08:00', 'source': 'ENSC3016_Course_Notes_Part_1_Electromagnetism_Transformers.pdf', 'total_pages': 76, 'page': 50, 'page_label': '51'}\n",
      "{'producer': 'Microsoft® Word 2013', 'creator': 'Microsoft® Word 2013', 'creationdate': '2019-07-27T15:04:48+08:00', 'author': 'Ali Kharrazi', 'moddate': '2019-07-27T15:04:48+08:00', 'source': 'ENSC3016_Course_Notes_Part_1_Electromagnetism_Transformers.pdf', 'total_pages': 76, 'page': 55, 'page_label': '56'}\n",
      "{'producer': 'Microsoft® Word 2013', 'creator': 'Microsoft® Word 2013', 'creationdate': '2019-07-27T15:04:48+08:00', 'author': 'Ali Kharrazi', 'moddate': '2019-07-27T15:04:48+08:00', 'source': 'ENSC3016_Course_Notes_Part_1_Electromagnetism_Transformers.pdf', 'total_pages': 76, 'page': 68, 'page_label': '69'}\n"
     ]
    }
   ],
   "source": [
    "for i in combined_results:\n",
    "\n",
    "    print(i.metadata)"
   ]
  },
  {
   "cell_type": "code",
   "execution_count": 28,
   "id": "e24772fa",
   "metadata": {},
   "outputs": [],
   "source": [
    "i = 1\n",
    "result_list = [combined_results[0]]\n",
    "seen_pages = {combined_results[0].metadata[\"page_label\"]}\n",
    "\n",
    "while i < len(combined_results):\n",
    "    metadata = combined_results[i].metadata\n",
    "    page_label = metadata[\"page_label\"]\n",
    "\n",
    "    if page_label in seen_pages:\n",
    "        i += 1  # You MUST increment i here\n",
    "        continue\n",
    "\n",
    "    result_list.append(combined_results[i])\n",
    "    seen_pages.add(page_label)\n",
    "    i += 1"
   ]
  },
  {
   "cell_type": "code",
   "execution_count": 29,
   "id": "83d73bda",
   "metadata": {},
   "outputs": [
    {
     "data": {
      "text/plain": [
       "[Document(id='cf3a2be7-1574-4c4a-94f0-6c84e36a3a2e', metadata={'producer': 'Microsoft® Word 2013', 'creator': 'Microsoft® Word 2013', 'creationdate': '2019-07-27T15:04:48+08:00', 'author': 'Ali Kharrazi', 'moddate': '2019-07-27T15:04:48+08:00', 'source': 'ENSC3016_Course_Notes_Part_1_Electromagnetism_Transformers.pdf', 'total_pages': 76, 'page': 51, 'page_label': '52'}, page_content='Transformer 52 \\n \\n \\n \\n   Figure 6-3 Shell-type transformers. \\n \\n \\n \\nFigure 6-4 Flux plot: shell-type transformer \\n \\n \\nToroidal transformers exploit the remarkable properties of toroidal coils described in section 3.6. \\nAlthough they are more expensive than shell-type transformers, the performance is better. They are used \\nin high -quality electronic equipment and for instrument transformers (see section 6.3) where \\nmeasurement accuracy is important. Typical toroidal transformers are shown in figure 6-5. \\n \\nFigure 6-5 Toroidal transformers.\\uf020\\n \\n \\n \\n6.2 Transformer Principle: \\nThe action of a transformer is most easily understood if the two coils are wound on opposite sides of a \\nmagnetic core, as shown in the model of figure 6 -6. This form is used for some low -cost transformers, \\nbut the magnetic coupling is not as good as with the shell-type construction. \\n \\n \\nFigure 6-6  Core-type transformer \\n \\n \\n \\nFigure 6 -7 is a schematic representation of the transformer. It will be assumed that the coupling is \\nperfect: the same magnetic flux \\uf066 passes through each turn of each coil. The coil connected to the source \\nis termed the primary, and the coil connected to the load is termed the secondary. It is usual to refer to \\nthe coils as windings.'),\n",
       " Document(metadata={'producer': 'Microsoft® Word 2013', 'creator': 'Microsoft® Word 2013', 'creationdate': '2019-07-27T15:04:48+08:00', 'author': 'Ali Kharrazi', 'moddate': '2019-07-27T15:04:48+08:00', 'source': 'ENSC3016_Course_Notes_Part_1_Electromagnetism_Transformers.pdf', 'total_pages': 76, 'page': 64, 'page_label': '65'}, page_content='65 Electrical Machines and Systems                                                                                                            \\n6.8 Current Transformers \\nInstrument transformers are special transformers for extending the range of measur ing instruments. \\nThere are two basic types: voltage transformers for measuring high voltages, and current transformers \\nfor measuring high currents. Using transformers for voltage measurement is similar in principle to the \\nordinary use of transformers to ch ange voltage levels, so it will not be considered further. Current \\ntransformers, on the other hand, need special consideration. These are usually toroidal transformers with \\nhigh-quality core material. \\nFigure 6-25 shows a load connected to a source. The primary of a current transformer is in series with \\nthe load, and the secondary is connected to a meter \\n  \\nFigure 6-25 Use of a current transformer \\n \\n \\nEquation 6-19 gives: \\n𝐼𝑀 ≈ 𝑁1\\n𝑁2\\n𝐼𝐿     𝑜𝑟  𝐼𝐿 ≈ 𝑁1\\n𝑁2\\n𝐼𝑀           (6 − 53)'),\n",
       " Document(id='5a917231-4cd8-4884-b640-a81d586229fc', metadata={'producer': 'Microsoft® Word 2013', 'creator': 'Microsoft® Word 2013', 'creationdate': '2019-07-27T15:04:48+08:00', 'author': 'Ali Kharrazi', 'moddate': '2019-07-27T15:04:48+08:00', 'source': 'ENSC3016_Course_Notes_Part_1_Electromagnetism_Transformers.pdf', 'total_pages': 76, 'page': 50, 'page_label': '51'}, page_content='51 Electrical Machines and Systems                                                                                                            \\n \\n6 Transformer \\n6.1 Introduction: \\nA transformer is a practical application of magnetically coupled coils. Usually the purpose is to transfer \\nenergy from one coil to the other, as in figure 6-1 where energy is transferred from the AC source to the \\nlamp through the space between the coils. \\n \\nFigure 6-1 Transformer principle \\nTransformers are essentially AC devices, because there has to be a change of flux to give an induced \\nvoltage in a coil. There are two main reasons for transferring energy in this way: \\n\\uf0b7 To provide electrical isolation between the source and the load. \\n\\uf0b7 To change the voltage and current levels. \\nThe coils are usually placed on a common magnetic core to improve the coupling. Figure 6-2 shows the \\nflux plots for two coupled coils (a) without a core, (b) with an open core, (c) with a closed core \\n \\nFigure 6-2 Effect of a magnetic core: \\n6.1.2 Practical aspects: \\nThe cores for high -frequency transformers are often made from magnetically soft ferrites, which are \\nelectrical insulators. For power frequencies, the cores are made from an iron alloy such as silicon steel.'),\n",
       " Document(id='647a5b17-585e-484f-92e0-43e92c235ef0', metadata={'producer': 'Microsoft® Word 2013', 'creator': 'Microsoft® Word 2013', 'creationdate': '2019-07-27T15:04:48+08:00', 'author': 'Ali Kharrazi', 'moddate': '2019-07-27T15:04:48+08:00', 'source': 'ENSC3016_Course_Notes_Part_1_Electromagnetism_Transformers.pdf', 'total_pages': 76, 'page': 52, 'page_label': '53'}, page_content='𝑑𝜙\\n𝑑𝑡        (6 − 3) \\n𝑣2 = 𝑅2𝑖2 + 𝑁2\\n𝑑𝜙\\n𝑑𝑡                               (6 − 4) \\nThe sign difference arises from the reference directions for current in the two windings. \\nIf the resistances R1 and R2 are negligible, then equations 6-3 and 6-4 become: \\n𝑣1 ≈ 𝑁1\\n𝑑𝜙\\n𝑑𝑡          (6 − 5) \\n𝑣2 ≈ 𝑁2\\n𝑑𝜙\\n𝑑𝑡         (6 − 6) \\nDividing these equations gives the important result: \\n𝑣1\\n𝑣2\\n≈ 𝑁1\\n𝑁2\\n        (6 − 7) \\nThus, the secondary voltage can be made larger or smaller than the primary voltage by changing the \\nratio of the numbers of turns on the two windings. Voltage transformation is one of the most common \\nuses of transformers, on a large scale in electrical power transmission and distribution, and on a small \\nscale in the power supplies for electronic equipment. \\n6.2.2 Sinusoidal operation: \\nIf the voltage source is sinusoidal, then the core flux will also be sinusoidal, so we may put:'),\n",
       " Document(id='bedaab07-f3ee-457e-bbb8-841404d1f180', metadata={'producer': 'Microsoft® Word 2013', 'creator': 'Microsoft® Word 2013', 'creationdate': '2019-07-27T15:04:48+08:00', 'author': 'Ali Kharrazi', 'moddate': '2019-07-27T15:04:48+08:00', 'source': 'ENSC3016_Course_Notes_Part_1_Electromagnetism_Transformers.pdf', 'total_pages': 76, 'page': 55, 'page_label': '56'}, page_content='𝑽𝒔 = 𝑽𝟏 + 𝑽𝟐 = 𝟐𝑽𝟐 = 𝟐𝑽𝑳        (6 − 22) \\n𝑰𝑳 = 𝑰𝟏 + 𝑰𝟐 = 𝟐𝑰𝟏 = 𝟐𝑰𝑳            (6 − 23) \\nWhere VL is the voltage across the load and IS is the current supplied by the source. This auto-wound \\ntransformer behaves as a step-down transformer with a ratio of 2:1, and the current in each winding is \\nequal to half of the load current. \\nAn elegant application of the auto-wound transformer principle is the variable transformer, which has a \\nsingle-layer coil wound on a toroidal core. The output is taken from a carbon brush that makes contact \\nwith the surface of the coil; the brush can be moved smoothly from one end of the coil to the other, thus \\nvarying the output voltage. Examples of variable transformers are shown in figure 6-10. \\n \\n     \\n      Figure 6-10 Variable transformers. \\n \\n \\n \\n6.3.2 3 Phase Transformer: \\nIn 3 -phase systems, it is common practice to use sets of three single -phase transformers. It is also \\npossible, however, to make 3 -phase transformers with three sets of windings on three limbs of a core, \\nas shown in figure 6-11. \\n \\nFigure 6-11 3-phase transformer model'),\n",
       " Document(metadata={'producer': 'Microsoft® Word 2013', 'creator': 'Microsoft® Word 2013', 'creationdate': '2019-07-27T15:04:48+08:00', 'author': 'Ali Kharrazi', 'moddate': '2019-07-27T15:04:48+08:00', 'source': 'ENSC3016_Course_Notes_Part_1_Electromagnetism_Transformers.pdf', 'total_pages': 76, 'page': 68, 'page_label': '69'}, page_content='31. \\n \\n \\n \\n \\nFigure 6-31 E I laminations \\nThe center limb is twice the width of the outer limbs because it carries twice the flux, as shown by \\nthe flux plot in figure 6-32. \\n \\nFigure 6-32  Flux Plot: Shell type transformer \\nThe coils are wound on a bobbin that fits the center limb of the core, and the core is assembled \\nby inserting E laminations alternately from each side and adding matching I laminations. \\nDimensions are chosen so that two E and two I laminations can be punched from a rectangular steel \\nsheet without any waste. Current flowing in the resistance of the transformer windings will produce \\nheat, which must escape through the surface of the windings. In addition, there will be power loss in \\nthe core, which also appears as heat. \\nThe power output from a given size of transformer is governed by the rate at which heat can be \\nremoved. Large transformers are usually cooled by circulating oil, but small transformers rely on')]"
      ]
     },
     "execution_count": 29,
     "metadata": {},
     "output_type": "execute_result"
    }
   ],
   "source": [
    "result_list"
   ]
  },
  {
   "cell_type": "code",
   "execution_count": 30,
   "id": "e3fbbb6b",
   "metadata": {},
   "outputs": [],
   "source": [
    "input_template = \"\"\"You are an expert assistant answering based only on the provided context.\n",
    "\n",
    "The retrieved documents have been joined together and are separated by \"Chunk_n\", where n is the chunk number. Here is the context:\n",
    "\n",
    "{context}\n",
    "\n",
    "Use **ALL** relevant information above to answer the question below. If the answer isn't found in the chunks, say:\n",
    "\"I cannot answer this question because the necessary information was not found in the provided documents.\"\n",
    "\n",
    "❗Do not cite or mention any source files or page numbers in the body of your answer.\n",
    "\n",
    "At the end of your answer, add a single line in this format:\n",
    "\n",
    "Information was pulled from: <source_file_1>: pages <comma-separated page numbers>; <source_file_2>: pages <...>; ...\n",
    "\n",
    "Use only one entry per document, listing all unique page numbers where information was pulled from.\n",
    "Do not mention metadata_n, chunk_n, or include references in the main answer.\n",
    "\n",
    "Metadata:\n",
    "{metadata}\n",
    "\n",
    "Question: {question}\n",
    "\"\"\""
   ]
  },
  {
   "cell_type": "code",
   "execution_count": 31,
   "id": "9486440b",
   "metadata": {},
   "outputs": [],
   "source": [
    "from langchain_core.prompts import ChatPromptTemplate, MessagesPlaceholder\n",
    "from langchain_core.runnables import RunnableLambda, RunnableParallel\n",
    "\n",
    "def content_parser(results):\n",
    "    context_string = \"\"\n",
    "    for i in range(len(results)):\n",
    "\n",
    "        context_string += f\"\\nChunk_{i+1}:\\n\\n{results[i].page_content}\\n\\n\\n\"\n",
    "\n",
    "    return context_string \n",
    "\n",
    "chunks = content_parser(result_list)"
   ]
  },
  {
   "cell_type": "code",
   "execution_count": 32,
   "id": "f9d7ba3b",
   "metadata": {},
   "outputs": [],
   "source": [
    "chunk_runnable = RunnableLambda(content_parser)"
   ]
  },
  {
   "cell_type": "code",
   "execution_count": 33,
   "id": "8a69a088",
   "metadata": {},
   "outputs": [],
   "source": [
    "def metadata_parser(results):\n",
    "    metadata_files = {}\n",
    "\n",
    "    for doc in results:\n",
    "        source = doc.metadata[\"source\"]\n",
    "        page = doc.metadata[\"page_label\"]\n",
    "\n",
    "        if source in metadata_files:\n",
    "            if page not in metadata_files[source]:\n",
    "                metadata_files[source].append(page)\n",
    "        else:\n",
    "            metadata_files[source] = [page]\n",
    "\n",
    "    metadata_string = \"This file uses the following sources:\"\n",
    "\n",
    "    for key in metadata_files:\n",
    "        pages = \", \".join(str(i) for i in metadata_files[key])\n",
    "        metadata_string += f\"\\n\\n{key}, pages {pages}\"\n",
    "        \n",
    "\n",
    "    return metadata_string"
   ]
  },
  {
   "cell_type": "code",
   "execution_count": 34,
   "id": "204f6c42",
   "metadata": {},
   "outputs": [
    {
     "name": "stdout",
     "output_type": "stream",
     "text": [
      "This file uses the following sources:\n",
      "\n",
      "ENSC3016_Course_Notes_Part_1_Electromagnetism_Transformers.pdf, pages 52, 65, 51, 53, 56, 69\n"
     ]
    }
   ],
   "source": [
    "metadata_runnable = RunnableLambda(metadata_parser)\n",
    "print(metadata_runnable.invoke(result_list))"
   ]
  },
  {
   "cell_type": "code",
   "execution_count": 35,
   "id": "10700fca",
   "metadata": {},
   "outputs": [],
   "source": [
    "metadata = metadata_parser(result_list)"
   ]
  },
  {
   "cell_type": "code",
   "execution_count": 36,
   "id": "804e39a1",
   "metadata": {},
   "outputs": [
    {
     "name": "stdout",
     "output_type": "stream",
     "text": [
      "This file uses the following sources:\n",
      "\n",
      "ENSC3016_Course_Notes_Part_1_Electromagnetism_Transformers.pdf, pages 52, 65, 51, 53, 56, 69\n"
     ]
    }
   ],
   "source": [
    "print(metadata)"
   ]
  },
  {
   "cell_type": "code",
   "execution_count": 37,
   "id": "ba5aca42",
   "metadata": {},
   "outputs": [],
   "source": [
    "from embed_splitting import load_docs, get_splits"
   ]
  },
  {
   "cell_type": "code",
   "execution_count": 38,
   "id": "1c196066",
   "metadata": {},
   "outputs": [],
   "source": [
    "prompt_template = ChatPromptTemplate(\n",
    "    [\n",
    "        (\"system\", input_template),\n",
    "        MessagesPlaceholder(\"chat_history\"),\n",
    "        (\"human\", \"{input}\"),\n",
    "    ]\n",
    ")\n",
    "\n",
    "chain = prompt_template | llm"
   ]
  },
  {
   "cell_type": "code",
   "execution_count": 39,
   "id": "3c7995f0",
   "metadata": {},
   "outputs": [],
   "source": [
    "contextualize_q_system_prompt = \"\"\"\n",
    "You are a question reformulator in a retrieval-based QA system.\n",
    "\n",
    "Given the latest user question and the preceding chat history, your task is:\n",
    "\n",
    "1. If the question is fully self-contained — i.e., it is grammatically and semantically complete and understandable on its own — return it **exactly as-is**.\n",
    "\n",
    "2. If the question is ambiguous without the chat history or depends on previous turns, rewrite it into a fully standalone, self-contained question.\n",
    "\n",
    "⚠️ Do NOT answer the question.  \n",
    "⚠️ Do NOT add any preamble, commentary, or extra explanation.  \n",
    "⚠️ Output **only** the final question text (either original or reformulated).\n",
    "\n",
    "Your job is to produce a single, context-independent question if needed — nothing else.\n",
    "\"\"\"\n",
    "\n",
    "contextual_prompt = ChatPromptTemplate(\n",
    "    [\n",
    "        (\"system\", contextualize_q_system_prompt),\n",
    "        MessagesPlaceholder(\"chat_history\"),\n",
    "        (\"human\", \"{input}\"),\n",
    "    ]\n",
    ")\n"
   ]
  },
  {
   "cell_type": "code",
   "execution_count": 40,
   "id": "7d01d18f",
   "metadata": {},
   "outputs": [],
   "source": [
    "answer1 = chain.invoke(\n",
    "    {'context': chunks,\n",
    "     'metadata': metadata,\n",
    "     'chat_history': [],\n",
    "     'input': \"Explain transformers\",\n",
    "     'question': \"Explain transformers\"}\n",
    ")"
   ]
  },
  {
   "cell_type": "code",
   "execution_count": 41,
   "id": "2231c90b",
   "metadata": {},
   "outputs": [
    {
     "data": {
      "text/plain": [
       "'Transformers are a practical application of magnetically coupled coils that transfer energy from one coil to another. They are essentially AC devices used for electrical isolation and voltage transformation. The coils are usually placed on a common magnetic core to improve the coupling.\\n\\nIn a transformer, the primary coil is connected to the source, and the secondary coil is connected to the load. When an alternating current flows through the primary coil, it creates a changing magnetic flux that induces a voltage in the secondary coil. This process allows transformers to change the voltage and current levels of electrical signals.\\n\\nThe core material used in high-frequency transformers is often magnetically soft ferrites, while power frequency transformers use iron alloys such as silicon steel. The cores are designed to improve the coupling between the primary and secondary coils.\\n\\nTransformers can be used for various purposes, including step-down and step-up transformations, voltage isolation, and current measurement. They are widely used in electrical power transmission and distribution, as well as in electronic equipment and instruments.\\n\\nThere are different types of transformers, including shell-type, toroidal, and auto-wound transformers. Shell-type transformers have a magnetic core that surrounds the coils, while toroidal transformers use a toroidal coil with a magnetic core. Auto-wound transformers have a single layer of coil wound on a toroidal core, which can be varied to change the output voltage.\\n\\nTransformers also come in three-phase configurations, where sets of three single-phase transformers are used or three windings are placed on three limbs of a common core. This allows for efficient transmission and distribution of power in three-phase systems.\\n\\nInformation was pulled from: ENSC3016_Course_Notes_Part_1_Electromagnetism_Transformers.pdf: pages 52, 51;'"
      ]
     },
     "execution_count": 41,
     "metadata": {},
     "output_type": "execute_result"
    }
   ],
   "source": [
    "answer1"
   ]
  },
  {
   "cell_type": "code",
   "execution_count": 42,
   "id": "2e6368e8",
   "metadata": {},
   "outputs": [],
   "source": [
    "a = RunnableParallel({'context': chunk_runnable, 'metadata': metadata_runnable})\n",
    "b = a.invoke(result_list)"
   ]
  },
  {
   "cell_type": "code",
   "execution_count": 43,
   "id": "73a4020c",
   "metadata": {},
   "outputs": [
    {
     "data": {
      "text/plain": [
       "{'context': '\\nChunk_1:\\n\\nTransformer 52 \\n \\n \\n \\n   Figure 6-3 Shell-type transformers. \\n \\n \\n \\nFigure 6-4 Flux plot: shell-type transformer \\n \\n \\nToroidal transformers exploit the remarkable properties of toroidal coils described in section 3.6. \\nAlthough they are more expensive than shell-type transformers, the performance is better. They are used \\nin high -quality electronic equipment and for instrument transformers (see section 6.3) where \\nmeasurement accuracy is important. Typical toroidal transformers are shown in figure 6-5. \\n \\nFigure 6-5 Toroidal transformers.\\uf020\\n \\n \\n \\n6.2 Transformer Principle: \\nThe action of a transformer is most easily understood if the two coils are wound on opposite sides of a \\nmagnetic core, as shown in the model of figure 6 -6. This form is used for some low -cost transformers, \\nbut the magnetic coupling is not as good as with the shell-type construction. \\n \\n \\nFigure 6-6  Core-type transformer \\n \\n \\n \\nFigure 6 -7 is a schematic representation of the transformer. It will be assumed that the coupling is \\nperfect: the same magnetic flux \\uf066 passes through each turn of each coil. The coil connected to the source \\nis termed the primary, and the coil connected to the load is termed the secondary. It is usual to refer to \\nthe coils as windings.\\n\\n\\n\\nChunk_2:\\n\\n65 Electrical Machines and Systems                                                                                                            \\n6.8 Current Transformers \\nInstrument transformers are special transformers for extending the range of measur ing instruments. \\nThere are two basic types: voltage transformers for measuring high voltages, and current transformers \\nfor measuring high currents. Using transformers for voltage measurement is similar in principle to the \\nordinary use of transformers to ch ange voltage levels, so it will not be considered further. Current \\ntransformers, on the other hand, need special consideration. These are usually toroidal transformers with \\nhigh-quality core material. \\nFigure 6-25 shows a load connected to a source. The primary of a current transformer is in series with \\nthe load, and the secondary is connected to a meter \\n  \\nFigure 6-25 Use of a current transformer \\n \\n \\nEquation 6-19 gives: \\n𝐼𝑀 ≈ 𝑁1\\n𝑁2\\n𝐼𝐿     𝑜𝑟  𝐼𝐿 ≈ 𝑁1\\n𝑁2\\n𝐼𝑀           (6 − 53)\\n\\n\\n\\nChunk_3:\\n\\n51 Electrical Machines and Systems                                                                                                            \\n \\n6 Transformer \\n6.1 Introduction: \\nA transformer is a practical application of magnetically coupled coils. Usually the purpose is to transfer \\nenergy from one coil to the other, as in figure 6-1 where energy is transferred from the AC source to the \\nlamp through the space between the coils. \\n \\nFigure 6-1 Transformer principle \\nTransformers are essentially AC devices, because there has to be a change of flux to give an induced \\nvoltage in a coil. There are two main reasons for transferring energy in this way: \\n\\uf0b7 To provide electrical isolation between the source and the load. \\n\\uf0b7 To change the voltage and current levels. \\nThe coils are usually placed on a common magnetic core to improve the coupling. Figure 6-2 shows the \\nflux plots for two coupled coils (a) without a core, (b) with an open core, (c) with a closed core \\n \\nFigure 6-2 Effect of a magnetic core: \\n6.1.2 Practical aspects: \\nThe cores for high -frequency transformers are often made from magnetically soft ferrites, which are \\nelectrical insulators. For power frequencies, the cores are made from an iron alloy such as silicon steel.\\n\\n\\n\\nChunk_4:\\n\\n𝑑𝜙\\n𝑑𝑡        (6 − 3) \\n𝑣2 = 𝑅2𝑖2 + 𝑁2\\n𝑑𝜙\\n𝑑𝑡                               (6 − 4) \\nThe sign difference arises from the reference directions for current in the two windings. \\nIf the resistances R1 and R2 are negligible, then equations 6-3 and 6-4 become: \\n𝑣1 ≈ 𝑁1\\n𝑑𝜙\\n𝑑𝑡          (6 − 5) \\n𝑣2 ≈ 𝑁2\\n𝑑𝜙\\n𝑑𝑡         (6 − 6) \\nDividing these equations gives the important result: \\n𝑣1\\n𝑣2\\n≈ 𝑁1\\n𝑁2\\n        (6 − 7) \\nThus, the secondary voltage can be made larger or smaller than the primary voltage by changing the \\nratio of the numbers of turns on the two windings. Voltage transformation is one of the most common \\nuses of transformers, on a large scale in electrical power transmission and distribution, and on a small \\nscale in the power supplies for electronic equipment. \\n6.2.2 Sinusoidal operation: \\nIf the voltage source is sinusoidal, then the core flux will also be sinusoidal, so we may put:\\n\\n\\n\\nChunk_5:\\n\\n𝑽𝒔 = 𝑽𝟏 + 𝑽𝟐 = 𝟐𝑽𝟐 = 𝟐𝑽𝑳        (6 − 22) \\n𝑰𝑳 = 𝑰𝟏 + 𝑰𝟐 = 𝟐𝑰𝟏 = 𝟐𝑰𝑳            (6 − 23) \\nWhere VL is the voltage across the load and IS is the current supplied by the source. This auto-wound \\ntransformer behaves as a step-down transformer with a ratio of 2:1, and the current in each winding is \\nequal to half of the load current. \\nAn elegant application of the auto-wound transformer principle is the variable transformer, which has a \\nsingle-layer coil wound on a toroidal core. The output is taken from a carbon brush that makes contact \\nwith the surface of the coil; the brush can be moved smoothly from one end of the coil to the other, thus \\nvarying the output voltage. Examples of variable transformers are shown in figure 6-10. \\n \\n     \\n      Figure 6-10 Variable transformers. \\n \\n \\n \\n6.3.2 3 Phase Transformer: \\nIn 3 -phase systems, it is common practice to use sets of three single -phase transformers. It is also \\npossible, however, to make 3 -phase transformers with three sets of windings on three limbs of a core, \\nas shown in figure 6-11. \\n \\nFigure 6-11 3-phase transformer model\\n\\n\\n\\nChunk_6:\\n\\n31. \\n \\n \\n \\n \\nFigure 6-31 E I laminations \\nThe center limb is twice the width of the outer limbs because it carries twice the flux, as shown by \\nthe flux plot in figure 6-32. \\n \\nFigure 6-32  Flux Plot: Shell type transformer \\nThe coils are wound on a bobbin that fits the center limb of the core, and the core is assembled \\nby inserting E laminations alternately from each side and adding matching I laminations. \\nDimensions are chosen so that two E and two I laminations can be punched from a rectangular steel \\nsheet without any waste. Current flowing in the resistance of the transformer windings will produce \\nheat, which must escape through the surface of the windings. In addition, there will be power loss in \\nthe core, which also appears as heat. \\nThe power output from a given size of transformer is governed by the rate at which heat can be \\nremoved. Large transformers are usually cooled by circulating oil, but small transformers rely on\\n\\n\\n',\n",
       " 'metadata': 'This file uses the following sources:\\n\\nENSC3016_Course_Notes_Part_1_Electromagnetism_Transformers.pdf, pages 52, 65, 51, 53, 56, 69'}"
      ]
     },
     "execution_count": 43,
     "metadata": {},
     "output_type": "execute_result"
    }
   ],
   "source": [
    "b"
   ]
  },
  {
   "cell_type": "code",
   "execution_count": 44,
   "id": "e40d2572",
   "metadata": {},
   "outputs": [],
   "source": [
    "inputs = ({\n",
    "    **b,\n",
    "    'chat_history': [],\n",
    "    'input': 'Explain transformers',\n",
    "    'question': 'Explain transformers'\n",
    "})"
   ]
  },
  {
   "cell_type": "code",
   "execution_count": 45,
   "id": "444d77a5",
   "metadata": {},
   "outputs": [
    {
     "data": {
      "text/plain": [
       "{'context': '\\nChunk_1:\\n\\nTransformer 52 \\n \\n \\n \\n   Figure 6-3 Shell-type transformers. \\n \\n \\n \\nFigure 6-4 Flux plot: shell-type transformer \\n \\n \\nToroidal transformers exploit the remarkable properties of toroidal coils described in section 3.6. \\nAlthough they are more expensive than shell-type transformers, the performance is better. They are used \\nin high -quality electronic equipment and for instrument transformers (see section 6.3) where \\nmeasurement accuracy is important. Typical toroidal transformers are shown in figure 6-5. \\n \\nFigure 6-5 Toroidal transformers.\\uf020\\n \\n \\n \\n6.2 Transformer Principle: \\nThe action of a transformer is most easily understood if the two coils are wound on opposite sides of a \\nmagnetic core, as shown in the model of figure 6 -6. This form is used for some low -cost transformers, \\nbut the magnetic coupling is not as good as with the shell-type construction. \\n \\n \\nFigure 6-6  Core-type transformer \\n \\n \\n \\nFigure 6 -7 is a schematic representation of the transformer. It will be assumed that the coupling is \\nperfect: the same magnetic flux \\uf066 passes through each turn of each coil. The coil connected to the source \\nis termed the primary, and the coil connected to the load is termed the secondary. It is usual to refer to \\nthe coils as windings.\\n\\n\\n\\nChunk_2:\\n\\n65 Electrical Machines and Systems                                                                                                            \\n6.8 Current Transformers \\nInstrument transformers are special transformers for extending the range of measur ing instruments. \\nThere are two basic types: voltage transformers for measuring high voltages, and current transformers \\nfor measuring high currents. Using transformers for voltage measurement is similar in principle to the \\nordinary use of transformers to ch ange voltage levels, so it will not be considered further. Current \\ntransformers, on the other hand, need special consideration. These are usually toroidal transformers with \\nhigh-quality core material. \\nFigure 6-25 shows a load connected to a source. The primary of a current transformer is in series with \\nthe load, and the secondary is connected to a meter \\n  \\nFigure 6-25 Use of a current transformer \\n \\n \\nEquation 6-19 gives: \\n𝐼𝑀 ≈ 𝑁1\\n𝑁2\\n𝐼𝐿     𝑜𝑟  𝐼𝐿 ≈ 𝑁1\\n𝑁2\\n𝐼𝑀           (6 − 53)\\n\\n\\n\\nChunk_3:\\n\\n51 Electrical Machines and Systems                                                                                                            \\n \\n6 Transformer \\n6.1 Introduction: \\nA transformer is a practical application of magnetically coupled coils. Usually the purpose is to transfer \\nenergy from one coil to the other, as in figure 6-1 where energy is transferred from the AC source to the \\nlamp through the space between the coils. \\n \\nFigure 6-1 Transformer principle \\nTransformers are essentially AC devices, because there has to be a change of flux to give an induced \\nvoltage in a coil. There are two main reasons for transferring energy in this way: \\n\\uf0b7 To provide electrical isolation between the source and the load. \\n\\uf0b7 To change the voltage and current levels. \\nThe coils are usually placed on a common magnetic core to improve the coupling. Figure 6-2 shows the \\nflux plots for two coupled coils (a) without a core, (b) with an open core, (c) with a closed core \\n \\nFigure 6-2 Effect of a magnetic core: \\n6.1.2 Practical aspects: \\nThe cores for high -frequency transformers are often made from magnetically soft ferrites, which are \\nelectrical insulators. For power frequencies, the cores are made from an iron alloy such as silicon steel.\\n\\n\\n\\nChunk_4:\\n\\n𝑑𝜙\\n𝑑𝑡        (6 − 3) \\n𝑣2 = 𝑅2𝑖2 + 𝑁2\\n𝑑𝜙\\n𝑑𝑡                               (6 − 4) \\nThe sign difference arises from the reference directions for current in the two windings. \\nIf the resistances R1 and R2 are negligible, then equations 6-3 and 6-4 become: \\n𝑣1 ≈ 𝑁1\\n𝑑𝜙\\n𝑑𝑡          (6 − 5) \\n𝑣2 ≈ 𝑁2\\n𝑑𝜙\\n𝑑𝑡         (6 − 6) \\nDividing these equations gives the important result: \\n𝑣1\\n𝑣2\\n≈ 𝑁1\\n𝑁2\\n        (6 − 7) \\nThus, the secondary voltage can be made larger or smaller than the primary voltage by changing the \\nratio of the numbers of turns on the two windings. Voltage transformation is one of the most common \\nuses of transformers, on a large scale in electrical power transmission and distribution, and on a small \\nscale in the power supplies for electronic equipment. \\n6.2.2 Sinusoidal operation: \\nIf the voltage source is sinusoidal, then the core flux will also be sinusoidal, so we may put:\\n\\n\\n\\nChunk_5:\\n\\n𝑽𝒔 = 𝑽𝟏 + 𝑽𝟐 = 𝟐𝑽𝟐 = 𝟐𝑽𝑳        (6 − 22) \\n𝑰𝑳 = 𝑰𝟏 + 𝑰𝟐 = 𝟐𝑰𝟏 = 𝟐𝑰𝑳            (6 − 23) \\nWhere VL is the voltage across the load and IS is the current supplied by the source. This auto-wound \\ntransformer behaves as a step-down transformer with a ratio of 2:1, and the current in each winding is \\nequal to half of the load current. \\nAn elegant application of the auto-wound transformer principle is the variable transformer, which has a \\nsingle-layer coil wound on a toroidal core. The output is taken from a carbon brush that makes contact \\nwith the surface of the coil; the brush can be moved smoothly from one end of the coil to the other, thus \\nvarying the output voltage. Examples of variable transformers are shown in figure 6-10. \\n \\n     \\n      Figure 6-10 Variable transformers. \\n \\n \\n \\n6.3.2 3 Phase Transformer: \\nIn 3 -phase systems, it is common practice to use sets of three single -phase transformers. It is also \\npossible, however, to make 3 -phase transformers with three sets of windings on three limbs of a core, \\nas shown in figure 6-11. \\n \\nFigure 6-11 3-phase transformer model\\n\\n\\n\\nChunk_6:\\n\\n31. \\n \\n \\n \\n \\nFigure 6-31 E I laminations \\nThe center limb is twice the width of the outer limbs because it carries twice the flux, as shown by \\nthe flux plot in figure 6-32. \\n \\nFigure 6-32  Flux Plot: Shell type transformer \\nThe coils are wound on a bobbin that fits the center limb of the core, and the core is assembled \\nby inserting E laminations alternately from each side and adding matching I laminations. \\nDimensions are chosen so that two E and two I laminations can be punched from a rectangular steel \\nsheet without any waste. Current flowing in the resistance of the transformer windings will produce \\nheat, which must escape through the surface of the windings. In addition, there will be power loss in \\nthe core, which also appears as heat. \\nThe power output from a given size of transformer is governed by the rate at which heat can be \\nremoved. Large transformers are usually cooled by circulating oil, but small transformers rely on\\n\\n\\n',\n",
       " 'metadata': 'This file uses the following sources:\\n\\nENSC3016_Course_Notes_Part_1_Electromagnetism_Transformers.pdf, pages 52, 65, 51, 53, 56, 69',\n",
       " 'chat_history': [],\n",
       " 'input': 'Explain transformers',\n",
       " 'question': 'Explain transformers'}"
      ]
     },
     "execution_count": 45,
     "metadata": {},
     "output_type": "execute_result"
    }
   ],
   "source": [
    "inputs"
   ]
  },
  {
   "cell_type": "code",
   "execution_count": 46,
   "id": "6f0bf884",
   "metadata": {},
   "outputs": [],
   "source": [
    "from langchain_core.chat_history import BaseChatMessageHistory\n",
    "from langchain_community.chat_message_histories import ChatMessageHistory\n",
    "from langchain_core.runnables.history import RunnableWithMessageHistory\n",
    "\n",
    "store = {}\n",
    "\n",
    "def get_session_history(session_id: str) -> BaseChatMessageHistory:\n",
    "    if session_id not in store:\n",
    "        store[session_id] = ChatMessageHistory()\n",
    "    return store[session_id]"
   ]
  },
  {
   "cell_type": "code",
   "execution_count": 55,
   "id": "418d5b9d",
   "metadata": {},
   "outputs": [
    {
     "data": {
      "text/plain": [
       "{'producer': 'Microsoft® Word 2013',\n",
       " 'creator': 'Microsoft® Word 2013',\n",
       " 'creationdate': '2019-07-27T15:04:48+08:00',\n",
       " 'author': 'Ali Kharrazi',\n",
       " 'moddate': '2019-07-27T15:04:48+08:00',\n",
       " 'source': 'ENSC3016_Course_Notes_Part_1_Electromagnetism_Transformers.pdf',\n",
       " 'total_pages': 76,\n",
       " 'page': 51,\n",
       " 'page_label': '52'}"
      ]
     },
     "execution_count": 55,
     "metadata": {},
     "output_type": "execute_result"
    }
   ],
   "source": [
    "answers = ensemble_retriever.invoke(\"Explain transformers\")\n",
    "\n",
    "metadata_dict = {}\n",
    "\n",
    "for i in range(len(answers)):\n",
    "    metadata_dict[f\"metadata {i}\"] = answers[i].metadata\n",
    "\n",
    "answers[0].metadata"
   ]
  },
  {
   "cell_type": "code",
   "execution_count": 47,
   "id": "3b79c041",
   "metadata": {},
   "outputs": [],
   "source": [
    "history_aware_chain = RunnableWithMessageHistory(\n",
    "    chain,\n",
    "    get_session_history=get_session_history,\n",
    "    input_messages_key=\"input\",\n",
    "    history_messages_key=\"chat_history\"\n",
    ")"
   ]
  },
  {
   "cell_type": "code",
   "execution_count": 49,
   "id": "48cde28e",
   "metadata": {},
   "outputs": [
    {
     "data": {
      "text/plain": [
       "[]"
      ]
     },
     "execution_count": 49,
     "metadata": {},
     "output_type": "execute_result"
    }
   ],
   "source": [
    "get_session_history('abb73283').messages"
   ]
  },
  {
   "cell_type": "code",
   "execution_count": 54,
   "id": "24f4be19",
   "metadata": {},
   "outputs": [
    {
     "data": {
      "text/plain": [
       "<transformers.pipelines.text2text_generation.Text2TextGenerationPipeline at 0x781b7921b450>"
      ]
     },
     "execution_count": 54,
     "metadata": {},
     "output_type": "execute_result"
    }
   ],
   "source": [
    "rephrase_pipe"
   ]
  },
  {
   "cell_type": "code",
   "execution_count": 73,
   "id": "c7519c19",
   "metadata": {},
   "outputs": [],
   "source": [
    "import uuid\n",
    "\n",
    "def temp_pipeline():\n",
    "\n",
    "    session_id = str(uuid.uuid4())[:8]\n",
    "    print(f\"Session ID: {session_id}\")\n",
    "    \n",
    "    history = get_session_history(session_id)\n",
    "\n",
    "    print(f\"\\nModel {MODEL_NAME} has been initiated with memory. Please feel free to ask questions or type 'exit' to quit.\")\n",
    "    while True:\n",
    "        \n",
    "        user_input = input(\"You: \")\n",
    "        if user_input.lower() in [\"exit\", \"quit\"]:\n",
    "            print(\"Session ended. Have a good day.\")\n",
    "            break\n",
    "\n",
    "        print(f\"{user_input}\\n\\n\\n\")\n",
    "        \n",
    "        recontextual_chain = contextual_prompt | llm\n",
    "        rephrased_question = recontextual_chain.invoke(\n",
    "            {'chat_history': history.messages,\n",
    "             'input': user_input})\n",
    "        \n",
    "        print(f\"{rephrased_question} \\n\\n\\n\")\n",
    "\n",
    "        context_injection = (ensemble_retriever | RunnableParallel({'context': chunk_runnable, 'metadata': metadata_runnable})).invoke(rephrased_question)\n",
    "\n",
    "        print(\"Metadata:\\n\", context_injection['metadata'])\n",
    "        \n",
    "        response = history_aware_chain.invoke(\n",
    "            {**context_injection,\n",
    "            'input': user_input,\n",
    "            'question': rephrased_question},\n",
    "            config={\"configurable\": {\"session_id\": session_id}}\n",
    "        )\n",
    "        \n",
    "        print(f\"LLM: {response}\\n\")"
   ]
  },
  {
   "cell_type": "code",
   "execution_count": 74,
   "id": "70e810af",
   "metadata": {},
   "outputs": [
    {
     "name": "stdout",
     "output_type": "stream",
     "text": [
      "Session ID: a797f7a3\n",
      "\n",
      "Model llama3.2 has been initiated with memory. Please feel free to ask questions or type 'exit' to quit.\n",
      "How do trandsforemers wprk?\n",
      "\n",
      "\n",
      "\n",
      "How do transformers work? \n",
      "\n",
      "\n",
      "\n",
      "Metadata:\n",
      " This file uses the following sources:\n",
      "\n",
      "ENSC3016_Course_Notes_Part_1_Electromagnetism_Transformers.pdf, pages 52, 51, 65, 69, 20\n",
      "\n",
      "ENSC3016_Course_Notes_Part_2_Electric_Machines.pdf, pages 60\n",
      "LLM: Transformers are essentially AC devices that transfer energy from one coil to another through magnetically coupled coils. The coils are usually placed on a common magnetic core to improve the coupling. A transformer consists of two coils, the primary and secondary, connected by a magnetic core.\n",
      "\n",
      "The action of a transformer is most easily understood if the two coils are wound on opposite sides of a magnetic core, as shown in the model of figure 6-6. The coil connected to the source is termed the primary, and the coil connected to the load is termed the secondary.\n",
      "\n",
      "When an alternating current flows through the primary coil, it creates a changing magnetic field. This induces a voltage in the secondary coil, which can be used to power a load such as a lamp. The transformer's core is designed to minimize eddy currents, which are induced by the alternating magnetic flux.\n",
      "\n",
      "Transformers are used for electrical isolation between the source and the load, as well as to change the voltage and current levels. They have applications in high-quality electronic equipment and instrument transformers where measurement accuracy is important.\n",
      "\n",
      "Information was pulled from: ENSC3016_Course_Notes_Part_2_Electric_Machines.pdf: page 60;\n",
      "\n",
      "Are they moreso used in AC machines or DC machines?\n",
      "\n",
      "\n",
      "\n",
      "Are transformers more commonly used in AC machines than in DC machines? \n",
      "\n",
      "\n",
      "\n",
      "Metadata:\n",
      " This file uses the following sources:\n",
      "\n",
      "ENSC3016_Course_Notes_Part_1_Electromagnetism_Transformers.pdf, pages 1, 51, 52, 65\n",
      "\n",
      "ENSC3016_Course_Notes_Part_2_Electric_Machines.pdf, pages 75, 72, 60\n",
      "LLM: Transformers are more commonly used in AC machines than in DC machines. This is because transformers rely on the changing magnetic field induced by an alternating current to transfer energy from one coil to another, which is a fundamental property of AC systems.\n",
      "\n",
      "In contrast, DC systems do not have the same inherent capability for transformer action, as they rely on direct electrical connections between components rather than magnetic coupling.\n",
      "\n",
      "Transformers are essentially AC devices that transfer energy from one coil to another through magnetically coupled coils. The coils are usually placed on a common magnetic core to improve the coupling. A transformer consists of two coils, the primary and secondary, connected by a magnetic core.\n",
      "\n",
      "The action of a transformer is most easily understood if the two coils are wound on opposite sides of a magnetic core, as shown in the model of figure 6-6. The coil connected to the source is termed the primary, and the coil connected to the load is termed the secondary.\n",
      "\n",
      "When an alternating current flows through the primary coil, it creates a changing magnetic field. This induces a voltage in the secondary coil, which can be used to power a load such as a lamp. The transformer's core is designed to minimize eddy currents, which are induced by the alternating magnetic flux.\n",
      "\n",
      "Transformers are used for electrical isolation between the source and the load, as well as to change the voltage and current levels. They have applications in high-quality electronic equipment and instrument transformers where measurement accuracy is important.\n",
      "\n",
      "Information was pulled from: ENSC3016_Course_Notes_Part_2_Electric_Machines.pdf: page 60;\n",
      "\n",
      "What materials are they made of?\n",
      "\n",
      "\n",
      "\n",
      "Are transformers typically constructed from copper or other ferromagnetic materials like iron? \n",
      "\n",
      "\n",
      "\n",
      "Metadata:\n",
      " This file uses the following sources:\n",
      "\n",
      "ENSC3016_Course_Notes_Part_1_Electromagnetism_Transformers.pdf, pages 51, 65, 52, 17, 5, 27\n",
      "LLM: Transformers are typically constructed from ferromagnetic materials, such as iron, which have better magnetic properties than other materials like ferrites. These materials are often used in high-frequency transformers due to their soft magnetic properties.\n",
      "\n",
      "The cores for power frequency transformers, on the other hand, are usually made from an iron alloy like silicon steel. However, to minimize eddy currents induced by the alternating magnetic flux, the core is often made from thin laminations insulated from each other.\n",
      "\n",
      "Information was pulled from: ENSC3016_Course_Notes_Part_1_Electromagnetism_Transformers.pdf: pages 51, 65, 52.\n",
      "\n",
      "Provide a comparison between AC and DC machines\n",
      "\n",
      "\n",
      "\n",
      "How do transformers work in comparison to DC machines? \n",
      "\n",
      "\n",
      "\n",
      "Metadata:\n",
      " This file uses the following sources:\n",
      "\n",
      "ENSC3016_Course_Notes_Part_1_Electromagnetism_Transformers.pdf, pages 1, 51, 65, 5\n",
      "\n",
      "ENSC3016_Course_Notes_Part_2_Electric_Machines.pdf, pages 60, 72, 75, 44\n",
      "LLM: Transformers are essentially AC devices that transfer energy from one coil to another through magnetically coupled coils. The coils are usually placed on a common magnetic core to improve the coupling. A transformer consists of two coils, the primary and secondary, connected by a magnetic core.\n",
      "\n",
      "In contrast, DC systems do not have the same inherent capability for transformer action, as they rely on direct electrical connections between components rather than magnetic coupling. As a result, DC machines are generally designed without transformers, relying instead on other methods to control speed and torque.\n",
      "\n",
      "Transformers are used for electrical isolation between the source and the load, as well as to change the voltage and current levels. They have applications in high-quality electronic equipment and instrument transformers where measurement accuracy is important.\n",
      "\n",
      "AC machines, which include motors such as synchronous motors and induction motors, can be controlled by varying the frequency of the AC supply. This is also effective for controlling the speed of an induction motor.\n",
      "\n",
      "In contrast to DC machines, AC machines do not have a fixed voltage across their windings, so there is no need for a commutator or brushes to maintain direct current flow.\n",
      "\n",
      "Transformers are typically constructed from ferromagnetic materials, such as iron, which have better magnetic properties than other materials like ferrites. These materials are often used in high-frequency transformers due to their soft magnetic properties.\n",
      "\n",
      "The cores for power frequency transformers, on the other hand, are usually made from an iron alloy like silicon steel. However, to minimize eddy currents induced by the alternating magnetic flux, the core is often made from thin laminations insulated from each other.\n",
      "\n",
      "Information was pulled from: ENSC3016_Course_Notes_Part_1_Electromagnetism_Transformers.pdf: pages 51, 65;\n",
      "ENSC3016_Course_Notes_Part_2_Electric_Machines.pdf: page 60;\n",
      "\n",
      "Focusing on AC machines for a second, provide a detailed explaination on three phase systems\n",
      "\n",
      "\n",
      "\n",
      "How do transformers work in three-phase AC machines? \n",
      "\n",
      "\n",
      "\n",
      "Metadata:\n",
      " This file uses the following sources:\n",
      "\n",
      "ENSC3016_Course_Notes_Part_1_Electromagnetism_Transformers.pdf, pages 57, 1\n",
      "\n",
      "ENSC3016_Course_Notes_Part_2_Electric_Machines.pdf, pages 60, 31, 29\n",
      "\n",
      "ENSC3016 Study Guide 1-Review of Circuit Fundamentals.pdf, pages 7, 8\n",
      "LLM: Transformers are used in three-phase AC machines to transfer energy from one coil to another through magnetically coupled coils. The coils are usually placed on a common magnetic core to improve the coupling. A transformer consists of two coils, the primary and secondary, connected by a magnetic core.\n",
      "\n",
      "In a three-phase system, the phase sequence is either abc or acb. When an alternating current flows through the primary coil, it creates a changing magnetic field that induces a voltage in the secondary coil. This voltage can be used to power a load such as a lamp.\n",
      "\n",
      "The three-phase AC system has several advantages over single-phase systems. It delivers more power compared to a single-phase machine with the same amount of metal used in the machine and lines. Additionally, the delivered power is constant at all times, unlike pulsing power in single-phase systems.\n",
      "\n",
      "In a three-phase system, the voltage relation between the phases is given by equations (23), (24), and (25). The phase sequence abc has a different phasor representation than acb. The phase sequence abc is represented as V∠0, V∠−120°, and V∠−240°, while the phase sequence acb is represented as V∠0°, V∠−120°, and V∠−240°.\n",
      "\n",
      "The three-phase system has a vector representation shown in Figure 3. The phase sequence abc is also shown in Figure 4, which shows the phasor diagram of the three phases.\n",
      "\n",
      "Information was pulled from: ENSC3016_Course_Notes_Part_2_Electric_Machines.pdf: page 60;\n",
      "\n",
      "Now explain the concept of slotted armature\n",
      "\n",
      "\n",
      "\n",
      "What is a slotted armature in an AC machine? \n",
      "\n",
      "\n",
      "\n",
      "Metadata:\n",
      " This file uses the following sources:\n",
      "\n",
      "ENSC3016_Course_Notes_Part_2_Electric_Machines.pdf, pages 20, 1, 21, 72\n",
      "\n",
      "ENSC3016 Study Guide 1-Review of Circuit Fundamentals.pdf, pages 15, 14\n",
      "\n",
      "ENSC3016_Course_Notes_Part_1_Electromagnetism_Transformers.pdf, pages 75\n",
      "LLM: A slotted armature in an AC machine is a type of armature that has conductors placed within slots. The elementary theory of DC machines assumes that conductors are on the surface of the armature, but in practice, they are placed in slots to improve cooling and reduce eddy currents.\n",
      "\n",
      "In a slotted armature, the conductors are placed in slots that are cut into the armature core. This arrangement allows for better heat transfer and reduces the effects of armature reaction, which can decrease the torque output of the motor.\n",
      "\n",
      "When an alternating current flows through the conductor, it creates a changing magnetic field. However, since the conductor is not on the surface of the armature, but rather within a slot, the flux lines between the conductors are low, resulting in a small force exerted on the conductor. Most of the force, however, is exerted on the armature iron and not on the conductors.\n",
      "\n",
      "The basic equations for DC machines remain unaffected by the location of the conductors, but the generated voltage may be affected by the presence of armature reaction. Additionally, armature reaction can also create a magnetic field known as the armature reaction field, which affects the overall torque output of the motor.\n",
      "\n",
      "Information was pulled from: Chunk_1\n",
      "\n",
      "Explain shunt and series motors\n",
      "\n",
      "\n",
      "\n",
      "What are shunt and series motors? \n",
      "\n",
      "\n",
      "\n",
      "Metadata:\n",
      " This file uses the following sources:\n",
      "\n",
      "ENSC3016_Course_Notes_Part_2_Electric_Machines.pdf, pages 26, 1, 56, 27\n",
      "\n",
      "ENSC3016_Course_Notes_Part_1_Electromagnetism_Transformers.pdf, pages 60, 62\n",
      "\n",
      "ENSC3016 Study Guide 1-Review of Circuit Fundamentals.pdf, pages 15\n",
      "LLM: Shunt and series motors are types of DC motors that use different arrangements of windings to produce rotation. The main difference between them is how the armature current is connected to the field winding.\n",
      "\n",
      "A shunt motor has a shunt field winding, which means that it has an additional winding that carries the same current as the armature. This winding is placed in parallel with the armature and provides a constant magnetic field, regardless of the load on the motor. The armature current flows through both the armature and the shunt field windings.\n",
      "\n",
      "On the other hand, a series motor has a series field winding, which means that it has an additional winding that carries the full voltage applied to the motor. This winding is connected in series with the armature and provides a variable magnetic field, depending on the load on the motor.\n",
      "\n",
      "The characteristics of shunt motors are:\n",
      "\n",
      "* Speed is independent of the applied voltage\n",
      "* They have a constant speed regulation\n",
      "* They are widely used in portable power tools, domestic appliances, and industrial equipment\n",
      "\n",
      "The characteristics of series motors are:\n",
      "\n",
      "* Speed is proportional to the armature current\n",
      "* They have a high starting torque\n",
      "* They are widely used in applications that require high speeds, such as power tools and industrial machinery.\n",
      "\n",
      "In summary, shunt motors have a constant magnetic field provided by a shunt field winding, while series motors have a variable magnetic field provided by a series field winding. The choice of motor depends on the specific application and the required performance characteristics.\n",
      "\n",
      "Information was pulled from: Chunk_1;\n",
      "\n",
      "Session ended. Have a good day.\n"
     ]
    }
   ],
   "source": [
    "temp_pipeline()"
   ]
  },
  {
   "cell_type": "code",
   "execution_count": 66,
   "id": "627510b2",
   "metadata": {},
   "outputs": [],
   "source": [
    "import uuid\n",
    "\n",
    "history1 = []"
   ]
  },
  {
   "cell_type": "code",
   "execution_count": 81,
   "id": "0c1811a1",
   "metadata": {},
   "outputs": [],
   "source": [
    "\n",
    "def pipeline():\n",
    "\n",
    "    session_id = str(uuid.uuid4())[:8]\n",
    "    print(f\"Session ID: {session_id}\")\n",
    "    \n",
    "    history = get_session_history(session_id)\n",
    "\n",
    "    print(f\"\\nModel {MODEL_NAME} has been initiated with memory. Please feel free to ask questions or type 'exit' to quit.\")\n",
    "    while True:\n",
    "        \n",
    "        user_input = input(\"You: \")\n",
    "        if user_input.lower() in [\"exit\", \"quit\"]:\n",
    "            print(\"Session ended. Have a good day.\")\n",
    "            break\n",
    "\n",
    "        print(f\"{user_input}\\n\\n\\n\")\n",
    "        \n",
    "        MAX_HISTORY_TURNS = 1\n",
    "        recontextual_chain = contextual_prompt | llm\n",
    "        rephrased_question = recontextual_chain.invoke(\n",
    "            {'chat_history': history.messages[-MAX_HISTORY_TURNS:],\n",
    "             'input': user_input})\n",
    "        \n",
    "        print(f\"{rephrased_question} \\n\\n\\n\")\n",
    "\n",
    "        context_injection = (ensemble_retriever | RunnableParallel({'context': chunk_runnable, 'metadata': metadata_runnable})).invoke(rephrased_question)\n",
    "\n",
    "        expected_context = ensemble_retriever.invoke(user_input)\n",
    "        rephrased_context = ensemble_retriever.invoke(rephrased_question)\n",
    "\n",
    "        for i in expected_context:\n",
    "            source = i.metadata[\"source\"]\n",
    "            page_label = i.metadata[\"page_label\"]\n",
    "            print(f\"Expected metdata is:\\n\\n {source}, page number {page_label}\")\n",
    "\n",
    "        for i in rephrased_context:\n",
    "            source = i.metadata[\"source\"]\n",
    "            page_label = i.metadata[\"page_label\"]\n",
    "            print(f\"Rephrased question metdata is:\\n\\n {source}, page number {page_label}\")\n",
    "        \n",
    "        print(f\"Metadata:\\n, {context_injection['metadata']}\\n\\n\")\n",
    "        \n",
    "        response = history_aware_chain.invoke(\n",
    "            {**context_injection,\n",
    "            'input': user_input,\n",
    "            'question': rephrased_question},\n",
    "            config={\"configurable\": {\"session_id\": session_id}}\n",
    "        )\n",
    "        \n",
    "        print(f\"LLM: {response}\\n\")\n"
   ]
  },
  {
   "cell_type": "code",
   "execution_count": 82,
   "id": "b4b5fae3",
   "metadata": {},
   "outputs": [
    {
     "name": "stdout",
     "output_type": "stream",
     "text": [
      "Session ID: 8556bd5e\n",
      "\n",
      "Model llama3.2 has been initiated with memory. Please feel free to ask questions or type 'exit' to quit.\n",
      "How do transformers work?\n",
      "\n",
      "\n",
      "\n",
      "What are transformers? \n",
      "\n",
      "\n",
      "\n",
      "Expected metdata is:\n",
      "\n",
      " ENSC3016_Course_Notes_Part_1_Electromagnetism_Transformers.pdf, page number 52\n",
      "Expected metdata is:\n",
      "\n",
      " ENSC3016_Course_Notes_Part_1_Electromagnetism_Transformers.pdf, page number 51\n",
      "Expected metdata is:\n",
      "\n",
      " ENSC3016_Course_Notes_Part_1_Electromagnetism_Transformers.pdf, page number 65\n",
      "Expected metdata is:\n",
      "\n",
      " ENSC3016_Course_Notes_Part_2_Electric_Machines.pdf, page number 60\n",
      "Expected metdata is:\n",
      "\n",
      " ENSC3016_Course_Notes_Part_1_Electromagnetism_Transformers.pdf, page number 51\n",
      "Expected metdata is:\n",
      "\n",
      " ENSC3016_Course_Notes_Part_1_Electromagnetism_Transformers.pdf, page number 69\n",
      "Expected metdata is:\n",
      "\n",
      " ENSC3016_Course_Notes_Part_1_Electromagnetism_Transformers.pdf, page number 20\n",
      "Rephrased question metdata is:\n",
      "\n",
      " ENSC3016_Course_Notes_Part_1_Electromagnetism_Transformers.pdf, page number 51\n",
      "Rephrased question metdata is:\n",
      "\n",
      " ENSC3016_Course_Notes_Part_1_Electromagnetism_Transformers.pdf, page number 52\n",
      "Rephrased question metdata is:\n",
      "\n",
      " ENSC3016 Study Guide 1-Review of Circuit Fundamentals.pdf, page number 15\n",
      "Rephrased question metdata is:\n",
      "\n",
      " ENSC3016_Course_Notes_Part_1_Electromagnetism_Transformers.pdf, page number 51\n",
      "Rephrased question metdata is:\n",
      "\n",
      " ENSC3016 Study Guide 1-Review of Circuit Fundamentals.pdf, page number 14\n",
      "Rephrased question metdata is:\n",
      "\n",
      " ENSC3016 Study Guide 1-Review of Circuit Fundamentals.pdf, page number 13\n",
      "Rephrased question metdata is:\n",
      "\n",
      " ENSC3016_Course_Notes_Part_1_Electromagnetism_Transformers.pdf, page number 1\n",
      "Metadata:\n",
      ", This file uses the following sources:\n",
      "\n",
      "ENSC3016_Course_Notes_Part_1_Electromagnetism_Transformers.pdf, pages 51, 52, 1\n",
      "\n",
      "ENSC3016 Study Guide 1-Review of Circuit Fundamentals.pdf, pages 15, 14, 13\n",
      "\n",
      "\n",
      "LLM: Transformers are a practical application of magnetically coupled coils. They transfer energy from one coil to another, providing electrical isolation and voltage/current level changes. The cores are usually placed on a common magnetic core to improve the coupling.\n",
      "\n",
      "In essence, transformers consist of two coils wound on opposite sides of a magnetic core, with the same magnetic flux passing through each turn of each coil. One coil is connected to the source (primary), while the other coil is connected to the load (secondary). The coils are referred to as windings.\n",
      "\n",
      "Transformers work by inducing a voltage in one coil due to changes in the magnetic flux through the core. This process enables energy transfer between the primary and secondary coils, allowing for the transformation of electrical energy from one level to another.\n",
      "\n",
      "Information was pulled from: ENSC3016_Course_Notes_Part_1_Electromagnetism_Transformers.pdf: pages 51, 52;\n",
      "\n",
      "What materials are they typically made of?\n",
      "\n",
      "\n",
      "\n",
      "What materials are transformers typically made of? \n",
      "\n",
      "\n",
      "\n",
      "Expected metdata is:\n",
      "\n",
      " ENSC3016_Course_Notes_Part_1_Electromagnetism_Transformers.pdf, page number 51\n",
      "Expected metdata is:\n",
      "\n",
      " ENSC3016_Course_Notes_Part_1_Electromagnetism_Transformers.pdf, page number 76\n",
      "Expected metdata is:\n",
      "\n",
      " ENSC3016_Course_Notes_Part_2_Electric_Machines.pdf, page number 60\n",
      "Expected metdata is:\n",
      "\n",
      " ENSC3016_Course_Notes_Part_2_Electric_Machines.pdf, page number 43\n",
      "Expected metdata is:\n",
      "\n",
      " ENSC3016_Course_Notes_Part_2_Electric_Machines.pdf, page number 73\n",
      "Expected metdata is:\n",
      "\n",
      " ENSC3016_Course_Notes_Part_2_Electric_Machines.pdf, page number 84\n",
      "Expected metdata is:\n",
      "\n",
      " ENSC3016 Study Guide 1-Review of Circuit Fundamentals.pdf, page number 15\n",
      "Rephrased question metdata is:\n",
      "\n",
      " ENSC3016_Course_Notes_Part_1_Electromagnetism_Transformers.pdf, page number 51\n",
      "Rephrased question metdata is:\n",
      "\n",
      " ENSC3016_Course_Notes_Part_1_Electromagnetism_Transformers.pdf, page number 51\n",
      "Rephrased question metdata is:\n",
      "\n",
      " ENSC3016_Course_Notes_Part_1_Electromagnetism_Transformers.pdf, page number 52\n",
      "Rephrased question metdata is:\n",
      "\n",
      " ENSC3016 Study Guide 1-Review of Circuit Fundamentals.pdf, page number 15\n",
      "Rephrased question metdata is:\n",
      "\n",
      " ENSC3016_Course_Notes_Part_1_Electromagnetism_Transformers.pdf, page number 69\n",
      "Rephrased question metdata is:\n",
      "\n",
      " ENSC3016_Course_Notes_Part_1_Electromagnetism_Transformers.pdf, page number 69\n",
      "Metadata:\n",
      ", This file uses the following sources:\n",
      "\n",
      "ENSC3016_Course_Notes_Part_1_Electromagnetism_Transformers.pdf, pages 51, 52, 69\n",
      "\n",
      "ENSC3016 Study Guide 1-Review of Circuit Fundamentals.pdf, pages 15\n",
      "\n",
      "\n",
      "LLM: Transformers are typically made of magnetically soft ferrites for high-frequency transformers and an iron alloy such as silicon steel for power frequencies. The cores are insulated from each other to minimize eddy currents.\n",
      "\n",
      "Information was pulled from: ENSC3016_Course_Notes_Part_1_Electromagnetism_Transformers.pdf: pages 51, 52;\n",
      "\n",
      "How are they used in AC and DC motors?\n",
      "\n",
      "\n",
      "\n",
      "How are transformers used in AC and DC motors? \n",
      "\n",
      "\n",
      "\n",
      "Expected metdata is:\n",
      "\n",
      " ENSC3016_Course_Notes_Part_2_Electric_Machines.pdf, page number 60\n",
      "Expected metdata is:\n",
      "\n",
      " ENSC3016_Course_Notes_Part_2_Electric_Machines.pdf, page number 72\n",
      "Expected metdata is:\n",
      "\n",
      " ENSC3016_Course_Notes_Part_2_Electric_Machines.pdf, page number 49\n",
      "Expected metdata is:\n",
      "\n",
      " ENSC3016_Course_Notes_Part_1_Electromagnetism_Transformers.pdf, page number 14\n",
      "Expected metdata is:\n",
      "\n",
      " ENSC3016_Course_Notes_Part_2_Electric_Machines.pdf, page number 1\n",
      "Expected metdata is:\n",
      "\n",
      " ENSC3016_Course_Notes_Part_2_Electric_Machines.pdf, page number 35\n",
      "Rephrased question metdata is:\n",
      "\n",
      " ENSC3016_Course_Notes_Part_1_Electromagnetism_Transformers.pdf, page number 1\n",
      "Rephrased question metdata is:\n",
      "\n",
      " ENSC3016_Course_Notes_Part_1_Electromagnetism_Transformers.pdf, page number 14\n",
      "Rephrased question metdata is:\n",
      "\n",
      " ENSC3016_Course_Notes_Part_1_Electromagnetism_Transformers.pdf, page number 51\n",
      "Rephrased question metdata is:\n",
      "\n",
      " ENSC3016_Course_Notes_Part_2_Electric_Machines.pdf, page number 60\n",
      "Rephrased question metdata is:\n",
      "\n",
      " ENSC3016_Course_Notes_Part_1_Electromagnetism_Transformers.pdf, page number 51\n",
      "Rephrased question metdata is:\n",
      "\n",
      " ENSC3016_Course_Notes_Part_1_Electromagnetism_Transformers.pdf, page number 52\n",
      "Rephrased question metdata is:\n",
      "\n",
      " ENSC3016_Course_Notes_Part_1_Electromagnetism_Transformers.pdf, page number 57\n",
      "Rephrased question metdata is:\n",
      "\n",
      " ENSC3016_Course_Notes_Part_2_Electric_Machines.pdf, page number 72\n",
      "Metadata:\n",
      ", This file uses the following sources:\n",
      "\n",
      "ENSC3016_Course_Notes_Part_1_Electromagnetism_Transformers.pdf, pages 1, 14, 51, 52, 57\n",
      "\n",
      "ENSC3016_Course_Notes_Part_2_Electric_Machines.pdf, pages 60, 72\n",
      "\n",
      "\n",
      "LLM: Transformers are used in both AC and DC motors to provide electrical isolation and voltage/current level changes. In the case of DC motors, a transformer is used to convert the DC power from the mains supply into variable DC voltage, which can be controlled using an AC/DC converter. This allows for speed control of the DC motor.\n",
      "\n",
      "In addition, in some applications, such as large DC drives in specialized industries like steel rolling mills and mine winders, the high-performance of transformers is utilized to provide precise control over the motor's operation.\n",
      "\n",
      "Information was pulled from: ENSC3016_Course_Notes_Part_1_Electromagnetism_Transformers.pdf: pages 51, 52;\n",
      "\n",
      "Provide a brief overview of AC machines, DC machines and then a comparison between the two\n",
      "\n",
      "\n",
      "\n",
      "What are the key differences in the operation and performance characteristics of AC and DC motors? \n",
      "\n",
      "\n",
      "\n",
      "Expected metdata is:\n",
      "\n",
      " ENSC3016_Course_Notes_Part_2_Electric_Machines.pdf, page number 1\n",
      "Expected metdata is:\n",
      "\n",
      " ENSC3016_Course_Notes_Part_2_Electric_Machines.pdf, page number 34\n",
      "Expected metdata is:\n",
      "\n",
      " ENSC3016_Course_Notes_Part_2_Electric_Machines.pdf, page number 23\n",
      "Expected metdata is:\n",
      "\n",
      " ENSC3016_Course_Notes_Part_2_Electric_Machines.pdf, page number 58\n",
      "Expected metdata is:\n",
      "\n",
      " ENSC3016_Course_Notes_Part_2_Electric_Machines.pdf, page number 4\n",
      "Expected metdata is:\n",
      "\n",
      " ENSC3016_Course_Notes_Part_2_Electric_Machines.pdf, page number 22\n",
      "Expected metdata is:\n",
      "\n",
      " ENSC3016_Course_Notes_Part_2_Electric_Machines.pdf, page number 25\n",
      "Expected metdata is:\n",
      "\n",
      " ENSC3016_Course_Notes_Part_2_Electric_Machines.pdf, page number 72\n",
      "Rephrased question metdata is:\n",
      "\n",
      " ENSC3016_Course_Notes_Part_2_Electric_Machines.pdf, page number 72\n",
      "Rephrased question metdata is:\n",
      "\n",
      " ENSC3016_Course_Notes_Part_2_Electric_Machines.pdf, page number 4\n",
      "Rephrased question metdata is:\n",
      "\n",
      " ENSC3016_Course_Notes_Part_2_Electric_Machines.pdf, page number 27\n",
      "Rephrased question metdata is:\n",
      "\n",
      " ENSC3016 Study Guide 1-Review of Circuit Fundamentals.pdf, page number 15\n",
      "Rephrased question metdata is:\n",
      "\n",
      " ENSC3016_Course_Notes_Part_2_Electric_Machines.pdf, page number 34\n",
      "Rephrased question metdata is:\n",
      "\n",
      " ENSC3016 Study Guide 1-Review of Circuit Fundamentals.pdf, page number 7\n",
      "Metadata:\n",
      ", This file uses the following sources:\n",
      "\n",
      "ENSC3016_Course_Notes_Part_2_Electric_Machines.pdf, pages 72, 4, 27, 34\n",
      "\n",
      "ENSC3016 Study Guide 1-Review of Circuit Fundamentals.pdf, pages 15, 7\n",
      "\n",
      "\n",
      "LLM: The key differences in the operation and performance characteristics of AC and DC motors lie in their control methods, manufacturing costs, maintenance requirements, and applications.\n",
      "\n",
      "AC motors are typically controlled by varying the frequency of the AC supply, which also affects the speed of the motor. They have several advantages over DC motors, including lower manufacturing costs, simpler design, and no commutator or brushes required for maintenance. However, they have limitations in terms of torque control and speed regulation unless proper feedback control is used.\n",
      "\n",
      "On the other hand, DC motors are controlled by varying the voltage applied to the armature using a thyristor AC/DC converter or an inverter. They offer high speeds and precise control over speed and torque but come with disadvantages such as higher manufacturing costs, maintenance of the commutator and brushes, and protection required in hostile environments.\n",
      "\n",
      "In general, AC motors are widely used in applications that require lower power densities and simpler designs, while DC motors are preferred in large, specialized applications where high-speed performance and precise control are necessary.\n",
      "\n",
      "Information was pulled from: ENSC3016_Course_Notes_Part_2_Electric_Machines.pdf: pages 4;\n",
      "\n",
      "Are shunt motors AC or DC?\n",
      "\n",
      "\n",
      "\n",
      "Are shunt motors AC or DC? \n",
      "\n",
      "\n",
      "\n",
      "Expected metdata is:\n",
      "\n",
      " ENSC3016_Course_Notes_Part_2_Electric_Machines.pdf, page number 26\n",
      "Expected metdata is:\n",
      "\n",
      " ENSC3016_Course_Notes_Part_2_Electric_Machines.pdf, page number 28\n",
      "Expected metdata is:\n",
      "\n",
      " ENSC3016_Course_Notes_Part_2_Electric_Machines.pdf, page number 72\n",
      "Expected metdata is:\n",
      "\n",
      " ENSC3016_Course_Notes_Part_2_Electric_Machines.pdf, page number 23\n",
      "Expected metdata is:\n",
      "\n",
      " ENSC3016_Course_Notes_Part_2_Electric_Machines.pdf, page number 60\n",
      "Expected metdata is:\n",
      "\n",
      " ENSC3016_Course_Notes_Part_2_Electric_Machines.pdf, page number 1\n",
      "Expected metdata is:\n",
      "\n",
      " ENSC3016_Course_Notes_Part_2_Electric_Machines.pdf, page number 47\n",
      "Rephrased question metdata is:\n",
      "\n",
      " ENSC3016_Course_Notes_Part_2_Electric_Machines.pdf, page number 26\n",
      "Rephrased question metdata is:\n",
      "\n",
      " ENSC3016_Course_Notes_Part_2_Electric_Machines.pdf, page number 28\n",
      "Rephrased question metdata is:\n",
      "\n",
      " ENSC3016_Course_Notes_Part_2_Electric_Machines.pdf, page number 72\n",
      "Rephrased question metdata is:\n",
      "\n",
      " ENSC3016_Course_Notes_Part_2_Electric_Machines.pdf, page number 23\n",
      "Rephrased question metdata is:\n",
      "\n",
      " ENSC3016_Course_Notes_Part_2_Electric_Machines.pdf, page number 60\n",
      "Rephrased question metdata is:\n",
      "\n",
      " ENSC3016_Course_Notes_Part_2_Electric_Machines.pdf, page number 1\n",
      "Rephrased question metdata is:\n",
      "\n",
      " ENSC3016_Course_Notes_Part_2_Electric_Machines.pdf, page number 47\n",
      "Metadata:\n",
      ", This file uses the following sources:\n",
      "\n",
      "ENSC3016_Course_Notes_Part_2_Electric_Machines.pdf, pages 26, 28, 72, 23, 60, 1, 47\n",
      "\n",
      "\n",
      "LLM: Shunt motors are typically DC motors.\n",
      "\n",
      "Information was pulled from: Chunk_1: pages 22-24; \n",
      "\n",
      "Note that the question asked if \"shunt\" motors are AC or DC. The context refers to \"shunt\" as a type of DC motor, specifically in reference to equation 3-31 and equations derived therefrom.\n",
      "\n",
      "How do three phase systems work?\n",
      "\n",
      "\n",
      "\n",
      "How do three-phase systems work in terms of power distribution and utilization, considering the principles behind shunt motors? \n",
      "\n",
      "\n",
      "\n",
      "Expected metdata is:\n",
      "\n",
      " ENSC3016 Study Guide 1-Review of Circuit Fundamentals.pdf, page number 7\n",
      "Expected metdata is:\n",
      "\n",
      " ENSC3016 Study Guide 1-Review of Circuit Fundamentals.pdf, page number 12\n",
      "Expected metdata is:\n",
      "\n",
      " ENSC3016 Study Guide 1-Review of Circuit Fundamentals.pdf, page number 8\n",
      "Expected metdata is:\n",
      "\n",
      " ENSC3016_Course_Notes_Part_2_Electric_Machines.pdf, page number 60\n",
      "Expected metdata is:\n",
      "\n",
      " ENSC3016 Study Guide 1-Review of Circuit Fundamentals.pdf, page number 11\n",
      "Rephrased question metdata is:\n",
      "\n",
      " ENSC3016 Study Guide 1-Review of Circuit Fundamentals.pdf, page number 7\n",
      "Rephrased question metdata is:\n",
      "\n",
      " ENSC3016_Course_Notes_Part_2_Electric_Machines.pdf, page number 26\n",
      "Rephrased question metdata is:\n",
      "\n",
      " ENSC3016 Study Guide 1-Review of Circuit Fundamentals.pdf, page number 7\n",
      "Rephrased question metdata is:\n",
      "\n",
      " ENSC3016_Course_Notes_Part_2_Electric_Machines.pdf, page number 29\n",
      "Rephrased question metdata is:\n",
      "\n",
      " ENSC3016_Course_Notes_Part_2_Electric_Machines.pdf, page number 9\n",
      "Rephrased question metdata is:\n",
      "\n",
      " ENSC3016 Study Guide 1-Review of Circuit Fundamentals.pdf, page number 12\n",
      "Rephrased question metdata is:\n",
      "\n",
      " ENSC3016_Course_Notes_Part_1_Electromagnetism_Transformers.pdf, page number 62\n",
      "Metadata:\n",
      ", This file uses the following sources:\n",
      "\n",
      "ENSC3016 Study Guide 1-Review of Circuit Fundamentals.pdf, pages 7, 12\n",
      "\n",
      "ENSC3016_Course_Notes_Part_2_Electric_Machines.pdf, pages 26, 29, 9\n",
      "\n",
      "ENSC3016_Course_Notes_Part_1_Electromagnetism_Transformers.pdf, pages 62\n",
      "\n",
      "\n",
      "LLM: Three-phase systems work by delivering power more efficiently compared to single-phase systems, with several key advantages. They consist of three-phase sources generating a constant voltage at all times, which is achieved using three single-phase sources with the same amplitude and 120° phase difference.\n",
      "\n",
      "The three-phase voltages are represented in phasor form as:\n",
      "\n",
      "vA(t) = vmax sin(ωt)\n",
      "vB(t) = vmax sin(ωt - 120)\n",
      "vC(t) = vmax sin(ωt - 240)\n",
      "\n",
      "where ω is the angular frequency and vmax is the maximum voltage.\n",
      "\n",
      "The three-phase system has a major advantage over single-phase systems in terms of power delivery, as it delivers more power with the same amount of metal used in the machine and lines. Additionally, the delivered power of a three-phase system is constant at all times, whereas pulsing power is present in single-phase systems.\n",
      "\n",
      "In the context of shunt motors, which are typically DC motors, the field flux φf is independent of the armature conditions. However, for wound-field motors (also known as separately excited motors), constraints can be introduced between the armature and field.\n",
      "\n",
      "One way to introduce these constraints is by connecting the field winding in series or parallel with the armature, depending on the motor design. In a shunt motor, the field winding is connected in parallel with the armature, which allows for some control over the field current using a variable resistance.\n",
      "\n",
      "The characteristics of a shunt motor can be deduced from equation 3-19, and further analysis leads to equation 3-31 and subsequently equations 3-32 and 3-33. These equations describe the speed of a shunt motor as being relatively independent of the applied voltage.\n",
      "\n",
      "Information was pulled from: Chunk_1: pages 22-24;\n",
      "Chunk_2: pages 26, 29, 9;\n",
      "Chunk_4: pages 62;\n",
      "\n",
      "Session ended. Have a good day.\n"
     ]
    }
   ],
   "source": [
    "pipeline()"
   ]
  },
  {
   "cell_type": "code",
   "execution_count": 1,
   "id": "0ab94273",
   "metadata": {},
   "outputs": [
    {
     "ename": "NameError",
     "evalue": "name 'get_session_history' is not defined",
     "output_type": "error",
     "traceback": [
      "\u001b[31m---------------------------------------------------------------------------\u001b[39m",
      "\u001b[31mNameError\u001b[39m                                 Traceback (most recent call last)",
      "\u001b[36mCell\u001b[39m\u001b[36m \u001b[39m\u001b[32mIn[1]\u001b[39m\u001b[32m, line 1\u001b[39m\n\u001b[32m----> \u001b[39m\u001b[32m1\u001b[39m \u001b[43mget_session_history\u001b[49m(\u001b[33m'\u001b[39m\u001b[33m37b5e65a\u001b[39m\u001b[33m'\u001b[39m).messages\n",
      "\u001b[31mNameError\u001b[39m: name 'get_session_history' is not defined"
     ]
    }
   ],
   "source": [
    "get_session_history('37b5e65a').messages"
   ]
  },
  {
   "cell_type": "code",
   "execution_count": null,
   "id": "a8fd0f1b",
   "metadata": {},
   "outputs": [],
   "source": []
  }
 ],
 "metadata": {
  "kernelspec": {
   "display_name": "RAG_Project",
   "language": "python",
   "name": "python3"
  },
  "language_info": {
   "codemirror_mode": {
    "name": "ipython",
    "version": 3
   },
   "file_extension": ".py",
   "mimetype": "text/x-python",
   "name": "python",
   "nbconvert_exporter": "python",
   "pygments_lexer": "ipython3",
   "version": "3.11.11"
  }
 },
 "nbformat": 4,
 "nbformat_minor": 5
}
