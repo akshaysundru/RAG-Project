{
 "cells": [
  {
   "cell_type": "markdown",
   "id": "71b6ac85",
   "metadata": {},
   "source": [
    "# Custom RAG Pipeline w/ History Implementation\n",
    "\n",
    "This program will be adding history to our RAG pipeline, modifying history from built in RAG history retrievers to creating custom chains with the \"|\" operator. Creating a custom retriever allows us better control over context injection, injecting in smaller chunks with metadata chunks."
   ]
  },
  {
   "cell_type": "code",
   "execution_count": 2,
   "id": "30a0a6a9",
   "metadata": {},
   "outputs": [],
   "source": [
    "import os\n",
    "import faiss\n",
    "from langchain_community.document_loaders import PyPDFLoader\n",
    "from langchain.text_splitter import RecursiveCharacterTextSplitter\n",
    "from langchain_huggingface import HuggingFaceEmbeddings\n",
    "from langchain_ollama import OllamaLLM"
   ]
  },
  {
   "cell_type": "code",
   "execution_count": 3,
   "id": "286d887d",
   "metadata": {},
   "outputs": [],
   "source": [
    "MODEL_NAME = \"llama3.2\"\n",
    "llm = OllamaLLM(model= MODEL_NAME)"
   ]
  },
  {
   "cell_type": "code",
   "execution_count": 4,
   "id": "36260e4e",
   "metadata": {},
   "outputs": [],
   "source": [
    "def load_docs():\n",
    "    \n",
    "    document_loader = []\n",
    "\n",
    "    for root, dirs, files in os.walk(\".\"):\n",
    "        # Skip chroma_db folder\n",
    "        if \"faiss\" in root or \"git\" in root:\n",
    "            continue\n",
    "        for file in files:\n",
    "            if file.endswith(\".pdf\"):\n",
    "                document_loader.append(file)\n",
    "\n",
    "    return document_loader"
   ]
  },
  {
   "cell_type": "code",
   "execution_count": 5,
   "id": "37c51dc0",
   "metadata": {},
   "outputs": [
    {
     "data": {
      "text/plain": [
       "['ENSC3016_Course_Notes_Part_1_Electromagnetism_Transformers.pdf',\n",
       " 'Three Phase Power System Fundamentals.pdf',\n",
       " 'ENSC3016_Course_Notes_Part_2_Electric_Machines.pdf',\n",
       " 'Electric Machinery Fundamentals Textbook -- Chapman.pdf',\n",
       " 'ENSC3016 Study Guide 1-Review of Circuit Fundamentals.pdf']"
      ]
     },
     "execution_count": 5,
     "metadata": {},
     "output_type": "execute_result"
    }
   ],
   "source": [
    "document_loader = load_docs()\n",
    "document_loader"
   ]
  },
  {
   "cell_type": "code",
   "execution_count": 7,
   "id": "30d0ecce",
   "metadata": {},
   "outputs": [
    {
     "name": "stderr",
     "output_type": "stream",
     "text": [
      "/home/Akshay/miniconda3/envs/LLM_Train/lib/python3.11/site-packages/tqdm/auto.py:21: TqdmWarning: IProgress not found. Please update jupyter and ipywidgets. See https://ipywidgets.readthedocs.io/en/stable/user_install.html\n",
      "  from .autonotebook import tqdm as notebook_tqdm\n"
     ]
    }
   ],
   "source": [
    "from sentence_transformers import SentenceTransformer\n",
    "\n",
    "model = SentenceTransformer(\"sentence-transformers/all-MiniLM-L6-v2\")\n",
    "model.save(\"./local_models/all-MiniLM-L6-v2\")"
   ]
  },
  {
   "cell_type": "code",
   "execution_count": 7,
   "id": "87f1f5c8",
   "metadata": {},
   "outputs": [],
   "source": [
    "embedding_model =\"./local_models/all-MiniLM-L6-v2\" #embedding matrix model\n",
    "\n",
    "def embed_splitting(document_loader, embedding_model):\n",
    "    embeddings = HuggingFaceEmbeddings(model = embedding_model, encode_kwargs={'normalize_embeddings': True})\n",
    "\n",
    "    doc_store = []\n",
    "    for file in document_loader:\n",
    "        loader = PyPDFLoader(file)\n",
    "        doc = loader.load()\n",
    "        doc_store += doc\n",
    "\n",
    "    text_splitter = RecursiveCharacterTextSplitter.from_tiktoken_encoder(\n",
    "        chunk_size = 400,\n",
    "        chunk_overlap = 64\n",
    "        )\n",
    "    \n",
    "    #Make splits\n",
    "    splits = text_splitter.split_documents(doc_store)\n",
    "\n",
    "    return embeddings, splits"
   ]
  },
  {
   "cell_type": "code",
   "execution_count": 8,
   "id": "0bbd9095",
   "metadata": {},
   "outputs": [
    {
     "name": "stderr",
     "output_type": "stream",
     "text": [
      "/home/Akshay/miniconda3/envs/LLM_Train/lib/python3.11/site-packages/tqdm/auto.py:21: TqdmWarning: IProgress not found. Please update jupyter and ipywidgets. See https://ipywidgets.readthedocs.io/en/stable/user_install.html\n",
      "  from .autonotebook import tqdm as notebook_tqdm\n"
     ]
    }
   ],
   "source": [
    "embeddings, splits = embed_splitting(document_loader, embedding_model)"
   ]
  },
  {
   "cell_type": "code",
   "execution_count": 9,
   "id": "6dc8a2ce",
   "metadata": {},
   "outputs": [
    {
     "data": {
      "text/plain": [
       "Document(metadata={'producer': 'Microsoft® Word 2013', 'creator': 'Microsoft® Word 2013', 'creationdate': '2019-07-27T15:04:48+08:00', 'author': 'Ali Kharrazi', 'moddate': '2019-07-27T15:04:48+08:00', 'source': 'ENSC3016_Course_Notes_Part_1_Electromagnetism_Transformers.pdf', 'total_pages': 76, 'page': 51, 'page_label': '52'}, page_content='Transformer 52 \\n \\n \\n \\n   Figure 6-3 Shell-type transformers. \\n \\n \\n \\nFigure 6-4 Flux plot: shell-type transformer \\n \\n \\nToroidal transformers exploit the remarkable properties of toroidal coils described in section 3.6. \\nAlthough they are more expensive than shell-type transformers, the performance is better. They are used \\nin high -quality electronic equipment and for instrument transformers (see section 6.3) where \\nmeasurement accuracy is important. Typical toroidal transformers are shown in figure 6-5. \\n \\nFigure 6-5 Toroidal transformers.\\uf020\\n \\n \\n \\n6.2 Transformer Principle: \\nThe action of a transformer is most easily understood if the two coils are wound on opposite sides of a \\nmagnetic core, as shown in the model of figure 6 -6. This form is used for some low -cost transformers, \\nbut the magnetic coupling is not as good as with the shell-type construction. \\n \\n \\nFigure 6-6  Core-type transformer \\n \\n \\n \\nFigure 6 -7 is a schematic representation of the transformer. It will be assumed that the coupling is \\nperfect: the same magnetic flux \\uf066 passes through each turn of each coil. The coil connected to the source \\nis termed the primary, and the coil connected to the load is termed the secondary. It is usual to refer to \\nthe coils as windings.')"
      ]
     },
     "execution_count": 9,
     "metadata": {},
     "output_type": "execute_result"
    }
   ],
   "source": [
    "example_split = splits[106]\n",
    "example_split"
   ]
  },
  {
   "cell_type": "code",
   "execution_count": 10,
   "id": "007cc78a",
   "metadata": {},
   "outputs": [
    {
     "name": "stdout",
     "output_type": "stream",
     "text": [
      "Transformer 52 \n",
      " \n",
      " \n",
      " \n",
      "   Figure 6-3 Shell-type transformers. \n",
      " \n",
      " \n",
      " \n",
      "Figure 6-4 Flux plot: shell-type transformer \n",
      " \n",
      " \n",
      "Toroidal transformers exploit the remarkable properties of toroidal coils described in section 3.6. \n",
      "Although they are more expensive than shell-type transformers, the performance is better. They are used \n",
      "in high -quality electronic equipment and for instrument transformers (see section 6.3) where \n",
      "measurement accuracy is important. Typical toroidal transformers are shown in figure 6-5. \n",
      " \n",
      "Figure 6-5 Toroidal transformers.\n",
      " \n",
      " \n",
      " \n",
      "6.2 Transformer Principle: \n",
      "The action of a transformer is most easily understood if the two coils are wound on opposite sides of a \n",
      "magnetic core, as shown in the model of figure 6 -6. This form is used for some low -cost transformers, \n",
      "but the magnetic coupling is not as good as with the shell-type construction. \n",
      " \n",
      " \n",
      "Figure 6-6  Core-type transformer \n",
      " \n",
      " \n",
      " \n",
      "Figure 6 -7 is a schematic representation of the transformer. It will be assumed that the coupling is \n",
      "perfect: the same magnetic flux  passes through each turn of each coil. The coil connected to the source \n",
      "is termed the primary, and the coil connected to the load is termed the secondary. It is usual to refer to \n",
      "the coils as windings.\n"
     ]
    }
   ],
   "source": [
    "print(example_split.page_content)"
   ]
  },
  {
   "cell_type": "code",
   "execution_count": 11,
   "id": "e0a021f5",
   "metadata": {},
   "outputs": [
    {
     "name": "stdout",
     "output_type": "stream",
     "text": [
      "producer: Microsoft® Word 2013\n",
      "creator: Microsoft® Word 2013\n",
      "creationdate: 2019-07-27T15:04:48+08:00\n",
      "author: Ali Kharrazi\n",
      "moddate: 2019-07-27T15:04:48+08:00\n",
      "source: ENSC3016_Course_Notes_Part_1_Electromagnetism_Transformers.pdf\n",
      "total_pages: 76\n",
      "page: 51\n",
      "page_label: 52\n"
     ]
    }
   ],
   "source": [
    "metadata = example_split.metadata\n",
    "for key in metadata:\n",
    "    print(f\"{key}: {metadata[key]}\")"
   ]
  },
  {
   "cell_type": "code",
   "execution_count": 12,
   "id": "07b21538",
   "metadata": {},
   "outputs": [
    {
     "data": {
      "text/plain": [
       "HuggingFaceEmbeddings(model_name='./local_models/all-MiniLM-L6-v2', cache_folder=None, model_kwargs={}, encode_kwargs={'normalize_embeddings': True}, query_encode_kwargs={}, multi_process=False, show_progress=False)"
      ]
     },
     "execution_count": 12,
     "metadata": {},
     "output_type": "execute_result"
    }
   ],
   "source": [
    "embeddings"
   ]
  },
  {
   "cell_type": "code",
   "execution_count": 13,
   "id": "3df2dfc2",
   "metadata": {},
   "outputs": [
    {
     "data": {
      "text/plain": [
       "402"
      ]
     },
     "execution_count": 13,
     "metadata": {},
     "output_type": "execute_result"
    }
   ],
   "source": [
    "len(splits)"
   ]
  },
  {
   "cell_type": "code",
   "execution_count": 14,
   "id": "9c6e45e1",
   "metadata": {},
   "outputs": [],
   "source": [
    "from langchain_community.docstore.in_memory import InMemoryDocstore\n",
    "from langchain_community.vectorstores import FAISS"
   ]
  },
  {
   "cell_type": "code",
   "execution_count": 15,
   "id": "ea441e76",
   "metadata": {},
   "outputs": [
    {
     "name": "stdout",
     "output_type": "stream",
     "text": [
      "Loading FAISS index from disk...\n"
     ]
    }
   ],
   "source": [
    "dim = len(embeddings.embed_query(\"test sentence\"))\n",
    "index = faiss.IndexFlatL2(dim)\n",
    "\n",
    "if os.path.exists(\"faiss_index\"):\n",
    "    print(\"Loading FAISS index from disk...\")\n",
    "    vector_store = FAISS.load_local(\"faiss_index\", embeddings=embeddings, allow_dangerous_deserialization=True)\n",
    "else:\n",
    "    print(\"Building FAISS index from scratch...\")\n",
    "    vector_store = FAISS(\n",
    "        embedding_function=embeddings,\n",
    "        index=index,\n",
    "        docstore=InMemoryDocstore(),\n",
    "        index_to_docstore_id={},\n",
    "    )\n",
    "    vector_store.add_documents(splits)\n",
    "    vector_store.save_local(\"faiss_index\")"
   ]
  },
  {
   "cell_type": "code",
   "execution_count": 16,
   "id": "896f7f79",
   "metadata": {},
   "outputs": [],
   "source": [
    "# create the retriever object once\n",
    "semantic_retriever = vector_store.as_retriever(search_kwargs={'k': 4})\n",
    "\n",
    "# define your function to query it\n",
    "def semantic_search(retriever_obj, input_context: str):\n",
    "    return retriever_obj.invoke(input_context)\n",
    "\n",
    "# call the function with retriever and query string\n",
    "results = semantic_search(semantic_retriever, \"Explain transformers\")"
   ]
  },
  {
   "cell_type": "code",
   "execution_count": 17,
   "id": "e81ae1a0",
   "metadata": {},
   "outputs": [
    {
     "data": {
      "text/plain": [
       "{'producer': 'Microsoft® Word 2013',\n",
       " 'creator': 'Microsoft® Word 2013',\n",
       " 'creationdate': '2019-07-27T15:04:48+08:00',\n",
       " 'author': 'Ali Kharrazi',\n",
       " 'moddate': '2019-07-27T15:04:48+08:00',\n",
       " 'source': 'ENSC3016_Course_Notes_Part_1_Electromagnetism_Transformers.pdf',\n",
       " 'total_pages': 76,\n",
       " 'page': 51,\n",
       " 'page_label': '52'}"
      ]
     },
     "execution_count": 17,
     "metadata": {},
     "output_type": "execute_result"
    }
   ],
   "source": [
    "results[0].metadata"
   ]
  },
  {
   "cell_type": "code",
   "execution_count": 18,
   "id": "8ea5ffde",
   "metadata": {},
   "outputs": [
    {
     "name": "stdout",
     "output_type": "stream",
     "text": [
      "This is chunk number 1.\n",
      "\n",
      " The source is ENSC3016_Course_Notes_Part_1_Electromagnetism_Transformers.pdf, found on page number 51. \n",
      "\n",
      " The page content is Transformer 52 \n",
      " \n",
      " \n",
      " \n",
      "   Figure 6-3 Shell-type transformers. \n",
      " \n",
      " \n",
      " \n",
      "Figure 6-4 Flux plot: shell-type transformer \n",
      " \n",
      " \n",
      "Toroidal transformers exploit the remarkable properties of toroidal coils described in section 3.6. \n",
      "Although they are more expensive than shell-type transformers, the performance is better. They are used \n",
      "in high -quality electronic equipment and for instrument transformers (see section 6.3) where \n",
      "measurement accuracy is important. Typical toroidal transformers are shown in figure 6-5. \n",
      " \n",
      "Figure 6-5 Toroidal transformers.\n",
      " \n",
      " \n",
      " \n",
      "6.2 Transformer Principle: \n",
      "The action of a transformer is most easily understood if the two coils are wound on opposite sides of a \n",
      "magnetic core, as shown in the model of figure 6 -6. This form is used for some low -cost transformers, \n",
      "but the magnetic coupling is not as good as with the shell-type construction. \n",
      " \n",
      " \n",
      "Figure 6-6  Core-type transformer \n",
      " \n",
      " \n",
      " \n",
      "Figure 6 -7 is a schematic representation of the transformer. It will be assumed that the coupling is \n",
      "perfect: the same magnetic flux  passes through each turn of each coil. The coil connected to the source \n",
      "is termed the primary, and the coil connected to the load is termed the secondary. It is usual to refer to \n",
      "the coils as windings. \n",
      "\n",
      "This is chunk number 2.\n",
      "\n",
      " The source is ENSC3016_Course_Notes_Part_1_Electromagnetism_Transformers.pdf, found on page number 50. \n",
      "\n",
      " The page content is 51 Electrical Machines and Systems                                                                                                            \n",
      " \n",
      "6 Transformer \n",
      "6.1 Introduction: \n",
      "A transformer is a practical application of magnetically coupled coils. Usually the purpose is to transfer \n",
      "energy from one coil to the other, as in figure 6-1 where energy is transferred from the AC source to the \n",
      "lamp through the space between the coils. \n",
      " \n",
      "Figure 6-1 Transformer principle \n",
      "Transformers are essentially AC devices, because there has to be a change of flux to give an induced \n",
      "voltage in a coil. There are two main reasons for transferring energy in this way: \n",
      " To provide electrical isolation between the source and the load. \n",
      " To change the voltage and current levels. \n",
      "The coils are usually placed on a common magnetic core to improve the coupling. Figure 6-2 shows the \n",
      "flux plots for two coupled coils (a) without a core, (b) with an open core, (c) with a closed core \n",
      " \n",
      "Figure 6-2 Effect of a magnetic core: \n",
      "6.1.2 Practical aspects: \n",
      "The cores for high -frequency transformers are often made from magnetically soft ferrites, which are \n",
      "electrical insulators. For power frequencies, the cores are made from an iron alloy such as silicon steel. \n",
      "\n",
      "This is chunk number 3.\n",
      "\n",
      " The source is ENSC3016_Course_Notes_Part_1_Electromagnetism_Transformers.pdf, found on page number 52. \n",
      "\n",
      " The page content is 𝑑𝜙\n",
      "𝑑𝑡        (6 − 3) \n",
      "𝑣2 = 𝑅2𝑖2 + 𝑁2\n",
      "𝑑𝜙\n",
      "𝑑𝑡                               (6 − 4) \n",
      "The sign difference arises from the reference directions for current in the two windings. \n",
      "If the resistances R1 and R2 are negligible, then equations 6-3 and 6-4 become: \n",
      "𝑣1 ≈ 𝑁1\n",
      "𝑑𝜙\n",
      "𝑑𝑡          (6 − 5) \n",
      "𝑣2 ≈ 𝑁2\n",
      "𝑑𝜙\n",
      "𝑑𝑡         (6 − 6) \n",
      "Dividing these equations gives the important result: \n",
      "𝑣1\n",
      "𝑣2\n",
      "≈ 𝑁1\n",
      "𝑁2\n",
      "        (6 − 7) \n",
      "Thus, the secondary voltage can be made larger or smaller than the primary voltage by changing the \n",
      "ratio of the numbers of turns on the two windings. Voltage transformation is one of the most common \n",
      "uses of transformers, on a large scale in electrical power transmission and distribution, and on a small \n",
      "scale in the power supplies for electronic equipment. \n",
      "6.2.2 Sinusoidal operation: \n",
      "If the voltage source is sinusoidal, then the core flux will also be sinusoidal, so we may put: \n",
      "\n",
      "This is chunk number 4.\n",
      "\n",
      " The source is ENSC3016_Course_Notes_Part_1_Electromagnetism_Transformers.pdf, found on page number 55. \n",
      "\n",
      " The page content is 𝑽𝒔 = 𝑽𝟏 + 𝑽𝟐 = 𝟐𝑽𝟐 = 𝟐𝑽𝑳        (6 − 22) \n",
      "𝑰𝑳 = 𝑰𝟏 + 𝑰𝟐 = 𝟐𝑰𝟏 = 𝟐𝑰𝑳            (6 − 23) \n",
      "Where VL is the voltage across the load and IS is the current supplied by the source. This auto-wound \n",
      "transformer behaves as a step-down transformer with a ratio of 2:1, and the current in each winding is \n",
      "equal to half of the load current. \n",
      "An elegant application of the auto-wound transformer principle is the variable transformer, which has a \n",
      "single-layer coil wound on a toroidal core. The output is taken from a carbon brush that makes contact \n",
      "with the surface of the coil; the brush can be moved smoothly from one end of the coil to the other, thus \n",
      "varying the output voltage. Examples of variable transformers are shown in figure 6-10. \n",
      " \n",
      "     \n",
      "      Figure 6-10 Variable transformers. \n",
      " \n",
      " \n",
      " \n",
      "6.3.2 3 Phase Transformer: \n",
      "In 3 -phase systems, it is common practice to use sets of three single -phase transformers. It is also \n",
      "possible, however, to make 3 -phase transformers with three sets of windings on three limbs of a core, \n",
      "as shown in figure 6-11. \n",
      " \n",
      "Figure 6-11 3-phase transformer model \n",
      "\n"
     ]
    }
   ],
   "source": [
    "for i in range(len(results)):\n",
    "    source_data = results[i].metadata[\"source\"]\n",
    "    page = results[i].metadata[\"page\"]\n",
    "    page_content = results[i].page_content\n",
    "\n",
    "    print(f\"This is chunk number {i+1}.\\n\\n The source is {source_data}, found on page number {page}. \\n\\n The page content is {page_content} \\n\")"
   ]
  },
  {
   "cell_type": "code",
   "execution_count": 19,
   "id": "7801f122",
   "metadata": {},
   "outputs": [],
   "source": [
    "from langchain_community.retrievers import BM25Retriever\n",
    "\n",
    "bm25_retriever = BM25Retriever.from_documents(splits)\n",
    "bm25_retriever.k = 4\n",
    "\n",
    "def keyword_search(retriever_obj, input_context: str):\n",
    "    return retriever_obj.invoke(input_context)"
   ]
  },
  {
   "cell_type": "code",
   "execution_count": 20,
   "id": "ba165384",
   "metadata": {},
   "outputs": [],
   "source": [
    "keyword_results = keyword_search(bm25_retriever, \"Explain transformers\")"
   ]
  },
  {
   "cell_type": "code",
   "execution_count": 21,
   "id": "e460773a",
   "metadata": {},
   "outputs": [
    {
     "data": {
      "text/plain": [
       "[Document(metadata={'producer': 'Microsoft® Word 2013', 'creator': 'Microsoft® Word 2013', 'creationdate': '2019-07-27T15:04:48+08:00', 'author': 'Ali Kharrazi', 'moddate': '2019-07-27T15:04:48+08:00', 'source': 'ENSC3016_Course_Notes_Part_1_Electromagnetism_Transformers.pdf', 'total_pages': 76, 'page': 64, 'page_label': '65'}, page_content='65 Electrical Machines and Systems                                                                                                            \\n6.8 Current Transformers \\nInstrument transformers are special transformers for extending the range of measur ing instruments. \\nThere are two basic types: voltage transformers for measuring high voltages, and current transformers \\nfor measuring high currents. Using transformers for voltage measurement is similar in principle to the \\nordinary use of transformers to ch ange voltage levels, so it will not be considered further. Current \\ntransformers, on the other hand, need special consideration. These are usually toroidal transformers with \\nhigh-quality core material. \\nFigure 6-25 shows a load connected to a source. The primary of a current transformer is in series with \\nthe load, and the secondary is connected to a meter \\n  \\nFigure 6-25 Use of a current transformer \\n \\n \\nEquation 6-19 gives: \\n𝐼𝑀 ≈ 𝑁1\\n𝑁2\\n𝐼𝐿     𝑜𝑟  𝐼𝐿 ≈ 𝑁1\\n𝑁2\\n𝐼𝑀           (6 − 53)'),\n",
       " Document(metadata={'producer': 'Microsoft® Word 2013', 'creator': 'Microsoft® Word 2013', 'creationdate': '2019-07-27T15:04:48+08:00', 'author': 'Ali Kharrazi', 'moddate': '2019-07-27T15:04:48+08:00', 'source': 'ENSC3016_Course_Notes_Part_1_Electromagnetism_Transformers.pdf', 'total_pages': 76, 'page': 51, 'page_label': '52'}, page_content='Transformer 52 \\n \\n \\n \\n   Figure 6-3 Shell-type transformers. \\n \\n \\n \\nFigure 6-4 Flux plot: shell-type transformer \\n \\n \\nToroidal transformers exploit the remarkable properties of toroidal coils described in section 3.6. \\nAlthough they are more expensive than shell-type transformers, the performance is better. They are used \\nin high -quality electronic equipment and for instrument transformers (see section 6.3) where \\nmeasurement accuracy is important. Typical toroidal transformers are shown in figure 6-5. \\n \\nFigure 6-5 Toroidal transformers.\\uf020\\n \\n \\n \\n6.2 Transformer Principle: \\nThe action of a transformer is most easily understood if the two coils are wound on opposite sides of a \\nmagnetic core, as shown in the model of figure 6 -6. This form is used for some low -cost transformers, \\nbut the magnetic coupling is not as good as with the shell-type construction. \\n \\n \\nFigure 6-6  Core-type transformer \\n \\n \\n \\nFigure 6 -7 is a schematic representation of the transformer. It will be assumed that the coupling is \\nperfect: the same magnetic flux \\uf066 passes through each turn of each coil. The coil connected to the source \\nis termed the primary, and the coil connected to the load is termed the secondary. It is usual to refer to \\nthe coils as windings.'),\n",
       " Document(metadata={'producer': 'Microsoft® Word 2013', 'creator': 'Microsoft® Word 2013', 'creationdate': '2019-07-27T15:04:48+08:00', 'author': 'Ali Kharrazi', 'moddate': '2019-07-27T15:04:48+08:00', 'source': 'ENSC3016_Course_Notes_Part_1_Electromagnetism_Transformers.pdf', 'total_pages': 76, 'page': 50, 'page_label': '51'}, page_content='6.1.2 Practical aspects: \\nThe cores for high -frequency transformers are often made from magnetically soft ferrites, which are \\nelectrical insulators. For power frequencies, the cores are made from an iron alloy such as silicon steel. \\nThese materials have better magnetic properties than ferrites, but they are also electrical conductors. If \\nthe core were made of solid steel, currents – known as eddy currents – would be induced in the core by \\nthe alternating magnetic flux.  Steel transformer cores are therefore made from thin laminations, \\ninsulated from one another, to minimise eddy currents [1, 6]. \\nSmall power transformers are commonly made with the shell -type construction shown in figure 6 -3, \\nwhere the coils are wound on the central limb of the core, and the two outer limbs provide symmetrical \\nflux return paths. The centre limb is twice the width of the outer limbs because it carries twice the flux, \\nas shown by the flux plot in figure 6-4.'),\n",
       " Document(metadata={'producer': 'Microsoft® Word 2013', 'creator': 'Microsoft® Word 2013', 'creationdate': '2019-07-27T15:04:48+08:00', 'author': 'Ali Kharrazi', 'moddate': '2019-07-27T15:04:48+08:00', 'source': 'ENSC3016_Course_Notes_Part_1_Electromagnetism_Transformers.pdf', 'total_pages': 76, 'page': 68, 'page_label': '69'}, page_content='31. \\n \\n \\n \\n \\nFigure 6-31 E I laminations \\nThe center limb is twice the width of the outer limbs because it carries twice the flux, as shown by \\nthe flux plot in figure 6-32. \\n \\nFigure 6-32  Flux Plot: Shell type transformer \\nThe coils are wound on a bobbin that fits the center limb of the core, and the core is assembled \\nby inserting E laminations alternately from each side and adding matching I laminations. \\nDimensions are chosen so that two E and two I laminations can be punched from a rectangular steel \\nsheet without any waste. Current flowing in the resistance of the transformer windings will produce \\nheat, which must escape through the surface of the windings. In addition, there will be power loss in \\nthe core, which also appears as heat. \\nThe power output from a given size of transformer is governed by the rate at which heat can be \\nremoved. Large transformers are usually cooled by circulating oil, but small transformers rely on')]"
      ]
     },
     "execution_count": 21,
     "metadata": {},
     "output_type": "execute_result"
    }
   ],
   "source": [
    "keyword_results"
   ]
  },
  {
   "cell_type": "code",
   "execution_count": 22,
   "id": "06891a8d",
   "metadata": {},
   "outputs": [
    {
     "name": "stdout",
     "output_type": "stream",
     "text": [
      "This is chunk number 1.\n",
      "\n",
      " The source is ENSC3016_Course_Notes_Part_1_Electromagnetism_Transformers.pdf, found on page number 64. \n",
      "\n",
      " The page content is 65 Electrical Machines and Systems                                                                                                            \n",
      "6.8 Current Transformers \n",
      "Instrument transformers are special transformers for extending the range of measur ing instruments. \n",
      "There are two basic types: voltage transformers for measuring high voltages, and current transformers \n",
      "for measuring high currents. Using transformers for voltage measurement is similar in principle to the \n",
      "ordinary use of transformers to ch ange voltage levels, so it will not be considered further. Current \n",
      "transformers, on the other hand, need special consideration. These are usually toroidal transformers with \n",
      "high-quality core material. \n",
      "Figure 6-25 shows a load connected to a source. The primary of a current transformer is in series with \n",
      "the load, and the secondary is connected to a meter \n",
      "  \n",
      "Figure 6-25 Use of a current transformer \n",
      " \n",
      " \n",
      "Equation 6-19 gives: \n",
      "𝐼𝑀 ≈ 𝑁1\n",
      "𝑁2\n",
      "𝐼𝐿     𝑜𝑟  𝐼𝐿 ≈ 𝑁1\n",
      "𝑁2\n",
      "𝐼𝑀           (6 − 53) \n",
      "\n",
      "This is chunk number 2.\n",
      "\n",
      " The source is ENSC3016_Course_Notes_Part_1_Electromagnetism_Transformers.pdf, found on page number 51. \n",
      "\n",
      " The page content is Transformer 52 \n",
      " \n",
      " \n",
      " \n",
      "   Figure 6-3 Shell-type transformers. \n",
      " \n",
      " \n",
      " \n",
      "Figure 6-4 Flux plot: shell-type transformer \n",
      " \n",
      " \n",
      "Toroidal transformers exploit the remarkable properties of toroidal coils described in section 3.6. \n",
      "Although they are more expensive than shell-type transformers, the performance is better. They are used \n",
      "in high -quality electronic equipment and for instrument transformers (see section 6.3) where \n",
      "measurement accuracy is important. Typical toroidal transformers are shown in figure 6-5. \n",
      " \n",
      "Figure 6-5 Toroidal transformers.\n",
      " \n",
      " \n",
      " \n",
      "6.2 Transformer Principle: \n",
      "The action of a transformer is most easily understood if the two coils are wound on opposite sides of a \n",
      "magnetic core, as shown in the model of figure 6 -6. This form is used for some low -cost transformers, \n",
      "but the magnetic coupling is not as good as with the shell-type construction. \n",
      " \n",
      " \n",
      "Figure 6-6  Core-type transformer \n",
      " \n",
      " \n",
      " \n",
      "Figure 6 -7 is a schematic representation of the transformer. It will be assumed that the coupling is \n",
      "perfect: the same magnetic flux  passes through each turn of each coil. The coil connected to the source \n",
      "is termed the primary, and the coil connected to the load is termed the secondary. It is usual to refer to \n",
      "the coils as windings. \n",
      "\n",
      "This is chunk number 3.\n",
      "\n",
      " The source is ENSC3016_Course_Notes_Part_1_Electromagnetism_Transformers.pdf, found on page number 50. \n",
      "\n",
      " The page content is 6.1.2 Practical aspects: \n",
      "The cores for high -frequency transformers are often made from magnetically soft ferrites, which are \n",
      "electrical insulators. For power frequencies, the cores are made from an iron alloy such as silicon steel. \n",
      "These materials have better magnetic properties than ferrites, but they are also electrical conductors. If \n",
      "the core were made of solid steel, currents – known as eddy currents – would be induced in the core by \n",
      "the alternating magnetic flux.  Steel transformer cores are therefore made from thin laminations, \n",
      "insulated from one another, to minimise eddy currents [1, 6]. \n",
      "Small power transformers are commonly made with the shell -type construction shown in figure 6 -3, \n",
      "where the coils are wound on the central limb of the core, and the two outer limbs provide symmetrical \n",
      "flux return paths. The centre limb is twice the width of the outer limbs because it carries twice the flux, \n",
      "as shown by the flux plot in figure 6-4. \n",
      "\n",
      "This is chunk number 4.\n",
      "\n",
      " The source is ENSC3016_Course_Notes_Part_1_Electromagnetism_Transformers.pdf, found on page number 68. \n",
      "\n",
      " The page content is 31. \n",
      " \n",
      " \n",
      " \n",
      " \n",
      "Figure 6-31 E I laminations \n",
      "The center limb is twice the width of the outer limbs because it carries twice the flux, as shown by \n",
      "the flux plot in figure 6-32. \n",
      " \n",
      "Figure 6-32  Flux Plot: Shell type transformer \n",
      "The coils are wound on a bobbin that fits the center limb of the core, and the core is assembled \n",
      "by inserting E laminations alternately from each side and adding matching I laminations. \n",
      "Dimensions are chosen so that two E and two I laminations can be punched from a rectangular steel \n",
      "sheet without any waste. Current flowing in the resistance of the transformer windings will produce \n",
      "heat, which must escape through the surface of the windings. In addition, there will be power loss in \n",
      "the core, which also appears as heat. \n",
      "The power output from a given size of transformer is governed by the rate at which heat can be \n",
      "removed. Large transformers are usually cooled by circulating oil, but small transformers rely on \n",
      "\n"
     ]
    }
   ],
   "source": [
    "for i in range(len(keyword_results)):\n",
    "    source_data = keyword_results[i].metadata[\"source\"]\n",
    "    page = keyword_results[i].metadata[\"page\"]\n",
    "    page_content = keyword_results[i].page_content\n",
    "\n",
    "    print(f\"This is chunk number {i+1}.\\n\\n The source is {source_data}, found on page number {page}. \\n\\n The page content is {page_content} \\n\")"
   ]
  },
  {
   "cell_type": "code",
   "execution_count": 23,
   "id": "d0611271",
   "metadata": {},
   "outputs": [],
   "source": [
    "from langchain.retrievers import EnsembleRetriever\n",
    "\n",
    "ensemble_retriever = EnsembleRetriever(retrievers= [semantic_retriever, bm25_retriever], weights = [0.6, 0.4])"
   ]
  },
  {
   "cell_type": "code",
   "execution_count": 24,
   "id": "559d2a17",
   "metadata": {},
   "outputs": [],
   "source": [
    "combined_results = ensemble_retriever.invoke(\"Explain transformers\")"
   ]
  },
  {
   "cell_type": "code",
   "execution_count": 25,
   "id": "8d923f78",
   "metadata": {},
   "outputs": [
    {
     "data": {
      "text/plain": [
       "[Document(id='402198b9-0143-476b-beba-33c8d40d298b', metadata={'producer': 'Microsoft® Word 2013', 'creator': 'Microsoft® Word 2013', 'creationdate': '2019-07-27T15:04:48+08:00', 'author': 'Ali Kharrazi', 'moddate': '2019-07-27T15:04:48+08:00', 'source': 'ENSC3016_Course_Notes_Part_1_Electromagnetism_Transformers.pdf', 'total_pages': 76, 'page': 51, 'page_label': '52'}, page_content='Transformer 52 \\n \\n \\n \\n   Figure 6-3 Shell-type transformers. \\n \\n \\n \\nFigure 6-4 Flux plot: shell-type transformer \\n \\n \\nToroidal transformers exploit the remarkable properties of toroidal coils described in section 3.6. \\nAlthough they are more expensive than shell-type transformers, the performance is better. They are used \\nin high -quality electronic equipment and for instrument transformers (see section 6.3) where \\nmeasurement accuracy is important. Typical toroidal transformers are shown in figure 6-5. \\n \\nFigure 6-5 Toroidal transformers.\\uf020\\n \\n \\n \\n6.2 Transformer Principle: \\nThe action of a transformer is most easily understood if the two coils are wound on opposite sides of a \\nmagnetic core, as shown in the model of figure 6 -6. This form is used for some low -cost transformers, \\nbut the magnetic coupling is not as good as with the shell-type construction. \\n \\n \\nFigure 6-6  Core-type transformer \\n \\n \\n \\nFigure 6 -7 is a schematic representation of the transformer. It will be assumed that the coupling is \\nperfect: the same magnetic flux \\uf066 passes through each turn of each coil. The coil connected to the source \\nis termed the primary, and the coil connected to the load is termed the secondary. It is usual to refer to \\nthe coils as windings.'),\n",
       " Document(id='988f9b8b-64b0-44e2-9099-4989d74734e4', metadata={'producer': 'Microsoft® Word 2013', 'creator': 'Microsoft® Word 2013', 'creationdate': '2019-07-27T15:04:48+08:00', 'author': 'Ali Kharrazi', 'moddate': '2019-07-27T15:04:48+08:00', 'source': 'ENSC3016_Course_Notes_Part_1_Electromagnetism_Transformers.pdf', 'total_pages': 76, 'page': 50, 'page_label': '51'}, page_content='51 Electrical Machines and Systems                                                                                                            \\n \\n6 Transformer \\n6.1 Introduction: \\nA transformer is a practical application of magnetically coupled coils. Usually the purpose is to transfer \\nenergy from one coil to the other, as in figure 6-1 where energy is transferred from the AC source to the \\nlamp through the space between the coils. \\n \\nFigure 6-1 Transformer principle \\nTransformers are essentially AC devices, because there has to be a change of flux to give an induced \\nvoltage in a coil. There are two main reasons for transferring energy in this way: \\n\\uf0b7 To provide electrical isolation between the source and the load. \\n\\uf0b7 To change the voltage and current levels. \\nThe coils are usually placed on a common magnetic core to improve the coupling. Figure 6-2 shows the \\nflux plots for two coupled coils (a) without a core, (b) with an open core, (c) with a closed core \\n \\nFigure 6-2 Effect of a magnetic core: \\n6.1.2 Practical aspects: \\nThe cores for high -frequency transformers are often made from magnetically soft ferrites, which are \\nelectrical insulators. For power frequencies, the cores are made from an iron alloy such as silicon steel.'),\n",
       " Document(id='47fe573d-ecb4-40bc-ac2e-424820c13ece', metadata={'producer': 'Microsoft® Word 2013', 'creator': 'Microsoft® Word 2013', 'creationdate': '2019-07-27T15:04:48+08:00', 'author': 'Ali Kharrazi', 'moddate': '2019-07-27T15:04:48+08:00', 'source': 'ENSC3016_Course_Notes_Part_1_Electromagnetism_Transformers.pdf', 'total_pages': 76, 'page': 52, 'page_label': '53'}, page_content='𝑑𝜙\\n𝑑𝑡        (6 − 3) \\n𝑣2 = 𝑅2𝑖2 + 𝑁2\\n𝑑𝜙\\n𝑑𝑡                               (6 − 4) \\nThe sign difference arises from the reference directions for current in the two windings. \\nIf the resistances R1 and R2 are negligible, then equations 6-3 and 6-4 become: \\n𝑣1 ≈ 𝑁1\\n𝑑𝜙\\n𝑑𝑡          (6 − 5) \\n𝑣2 ≈ 𝑁2\\n𝑑𝜙\\n𝑑𝑡         (6 − 6) \\nDividing these equations gives the important result: \\n𝑣1\\n𝑣2\\n≈ 𝑁1\\n𝑁2\\n        (6 − 7) \\nThus, the secondary voltage can be made larger or smaller than the primary voltage by changing the \\nratio of the numbers of turns on the two windings. Voltage transformation is one of the most common \\nuses of transformers, on a large scale in electrical power transmission and distribution, and on a small \\nscale in the power supplies for electronic equipment. \\n6.2.2 Sinusoidal operation: \\nIf the voltage source is sinusoidal, then the core flux will also be sinusoidal, so we may put:'),\n",
       " Document(id='f16f6f5f-4ff2-4447-b7ad-c49a2671fce2', metadata={'producer': 'Microsoft® Word 2013', 'creator': 'Microsoft® Word 2013', 'creationdate': '2019-07-27T15:04:48+08:00', 'author': 'Ali Kharrazi', 'moddate': '2019-07-27T15:04:48+08:00', 'source': 'ENSC3016_Course_Notes_Part_1_Electromagnetism_Transformers.pdf', 'total_pages': 76, 'page': 55, 'page_label': '56'}, page_content='𝑽𝒔 = 𝑽𝟏 + 𝑽𝟐 = 𝟐𝑽𝟐 = 𝟐𝑽𝑳        (6 − 22) \\n𝑰𝑳 = 𝑰𝟏 + 𝑰𝟐 = 𝟐𝑰𝟏 = 𝟐𝑰𝑳            (6 − 23) \\nWhere VL is the voltage across the load and IS is the current supplied by the source. This auto-wound \\ntransformer behaves as a step-down transformer with a ratio of 2:1, and the current in each winding is \\nequal to half of the load current. \\nAn elegant application of the auto-wound transformer principle is the variable transformer, which has a \\nsingle-layer coil wound on a toroidal core. The output is taken from a carbon brush that makes contact \\nwith the surface of the coil; the brush can be moved smoothly from one end of the coil to the other, thus \\nvarying the output voltage. Examples of variable transformers are shown in figure 6-10. \\n \\n     \\n      Figure 6-10 Variable transformers. \\n \\n \\n \\n6.3.2 3 Phase Transformer: \\nIn 3 -phase systems, it is common practice to use sets of three single -phase transformers. It is also \\npossible, however, to make 3 -phase transformers with three sets of windings on three limbs of a core, \\nas shown in figure 6-11. \\n \\nFigure 6-11 3-phase transformer model'),\n",
       " Document(metadata={'producer': 'Microsoft® Word 2013', 'creator': 'Microsoft® Word 2013', 'creationdate': '2019-07-27T15:04:48+08:00', 'author': 'Ali Kharrazi', 'moddate': '2019-07-27T15:04:48+08:00', 'source': 'ENSC3016_Course_Notes_Part_1_Electromagnetism_Transformers.pdf', 'total_pages': 76, 'page': 64, 'page_label': '65'}, page_content='65 Electrical Machines and Systems                                                                                                            \\n6.8 Current Transformers \\nInstrument transformers are special transformers for extending the range of measur ing instruments. \\nThere are two basic types: voltage transformers for measuring high voltages, and current transformers \\nfor measuring high currents. Using transformers for voltage measurement is similar in principle to the \\nordinary use of transformers to ch ange voltage levels, so it will not be considered further. Current \\ntransformers, on the other hand, need special consideration. These are usually toroidal transformers with \\nhigh-quality core material. \\nFigure 6-25 shows a load connected to a source. The primary of a current transformer is in series with \\nthe load, and the secondary is connected to a meter \\n  \\nFigure 6-25 Use of a current transformer \\n \\n \\nEquation 6-19 gives: \\n𝐼𝑀 ≈ 𝑁1\\n𝑁2\\n𝐼𝐿     𝑜𝑟  𝐼𝐿 ≈ 𝑁1\\n𝑁2\\n𝐼𝑀           (6 − 53)'),\n",
       " Document(metadata={'producer': 'Microsoft® Word 2013', 'creator': 'Microsoft® Word 2013', 'creationdate': '2019-07-27T15:04:48+08:00', 'author': 'Ali Kharrazi', 'moddate': '2019-07-27T15:04:48+08:00', 'source': 'ENSC3016_Course_Notes_Part_1_Electromagnetism_Transformers.pdf', 'total_pages': 76, 'page': 50, 'page_label': '51'}, page_content='6.1.2 Practical aspects: \\nThe cores for high -frequency transformers are often made from magnetically soft ferrites, which are \\nelectrical insulators. For power frequencies, the cores are made from an iron alloy such as silicon steel. \\nThese materials have better magnetic properties than ferrites, but they are also electrical conductors. If \\nthe core were made of solid steel, currents – known as eddy currents – would be induced in the core by \\nthe alternating magnetic flux.  Steel transformer cores are therefore made from thin laminations, \\ninsulated from one another, to minimise eddy currents [1, 6]. \\nSmall power transformers are commonly made with the shell -type construction shown in figure 6 -3, \\nwhere the coils are wound on the central limb of the core, and the two outer limbs provide symmetrical \\nflux return paths. The centre limb is twice the width of the outer limbs because it carries twice the flux, \\nas shown by the flux plot in figure 6-4.'),\n",
       " Document(metadata={'producer': 'Microsoft® Word 2013', 'creator': 'Microsoft® Word 2013', 'creationdate': '2019-07-27T15:04:48+08:00', 'author': 'Ali Kharrazi', 'moddate': '2019-07-27T15:04:48+08:00', 'source': 'ENSC3016_Course_Notes_Part_1_Electromagnetism_Transformers.pdf', 'total_pages': 76, 'page': 68, 'page_label': '69'}, page_content='31. \\n \\n \\n \\n \\nFigure 6-31 E I laminations \\nThe center limb is twice the width of the outer limbs because it carries twice the flux, as shown by \\nthe flux plot in figure 6-32. \\n \\nFigure 6-32  Flux Plot: Shell type transformer \\nThe coils are wound on a bobbin that fits the center limb of the core, and the core is assembled \\nby inserting E laminations alternately from each side and adding matching I laminations. \\nDimensions are chosen so that two E and two I laminations can be punched from a rectangular steel \\nsheet without any waste. Current flowing in the resistance of the transformer windings will produce \\nheat, which must escape through the surface of the windings. In addition, there will be power loss in \\nthe core, which also appears as heat. \\nThe power output from a given size of transformer is governed by the rate at which heat can be \\nremoved. Large transformers are usually cooled by circulating oil, but small transformers rely on')]"
      ]
     },
     "execution_count": 25,
     "metadata": {},
     "output_type": "execute_result"
    }
   ],
   "source": [
    "combined_results"
   ]
  },
  {
   "cell_type": "code",
   "execution_count": 26,
   "id": "1a2f6cff",
   "metadata": {},
   "outputs": [
    {
     "name": "stdout",
     "output_type": "stream",
     "text": [
      "{'producer': 'Microsoft® Word 2013', 'creator': 'Microsoft® Word 2013', 'creationdate': '2019-07-27T15:04:48+08:00', 'author': 'Ali Kharrazi', 'moddate': '2019-07-27T15:04:48+08:00', 'source': 'ENSC3016_Course_Notes_Part_1_Electromagnetism_Transformers.pdf', 'total_pages': 76, 'page': 51, 'page_label': '52'}\n",
      "{'producer': 'Microsoft® Word 2013', 'creator': 'Microsoft® Word 2013', 'creationdate': '2019-07-27T15:04:48+08:00', 'author': 'Ali Kharrazi', 'moddate': '2019-07-27T15:04:48+08:00', 'source': 'ENSC3016_Course_Notes_Part_1_Electromagnetism_Transformers.pdf', 'total_pages': 76, 'page': 50, 'page_label': '51'}\n",
      "{'producer': 'Microsoft® Word 2013', 'creator': 'Microsoft® Word 2013', 'creationdate': '2019-07-27T15:04:48+08:00', 'author': 'Ali Kharrazi', 'moddate': '2019-07-27T15:04:48+08:00', 'source': 'ENSC3016_Course_Notes_Part_1_Electromagnetism_Transformers.pdf', 'total_pages': 76, 'page': 52, 'page_label': '53'}\n",
      "{'producer': 'Microsoft® Word 2013', 'creator': 'Microsoft® Word 2013', 'creationdate': '2019-07-27T15:04:48+08:00', 'author': 'Ali Kharrazi', 'moddate': '2019-07-27T15:04:48+08:00', 'source': 'ENSC3016_Course_Notes_Part_1_Electromagnetism_Transformers.pdf', 'total_pages': 76, 'page': 55, 'page_label': '56'}\n",
      "{'producer': 'Microsoft® Word 2013', 'creator': 'Microsoft® Word 2013', 'creationdate': '2019-07-27T15:04:48+08:00', 'author': 'Ali Kharrazi', 'moddate': '2019-07-27T15:04:48+08:00', 'source': 'ENSC3016_Course_Notes_Part_1_Electromagnetism_Transformers.pdf', 'total_pages': 76, 'page': 64, 'page_label': '65'}\n",
      "{'producer': 'Microsoft® Word 2013', 'creator': 'Microsoft® Word 2013', 'creationdate': '2019-07-27T15:04:48+08:00', 'author': 'Ali Kharrazi', 'moddate': '2019-07-27T15:04:48+08:00', 'source': 'ENSC3016_Course_Notes_Part_1_Electromagnetism_Transformers.pdf', 'total_pages': 76, 'page': 50, 'page_label': '51'}\n",
      "{'producer': 'Microsoft® Word 2013', 'creator': 'Microsoft® Word 2013', 'creationdate': '2019-07-27T15:04:48+08:00', 'author': 'Ali Kharrazi', 'moddate': '2019-07-27T15:04:48+08:00', 'source': 'ENSC3016_Course_Notes_Part_1_Electromagnetism_Transformers.pdf', 'total_pages': 76, 'page': 68, 'page_label': '69'}\n"
     ]
    }
   ],
   "source": [
    "for i in combined_results:\n",
    "\n",
    "    print(i.metadata)"
   ]
  },
  {
   "cell_type": "code",
   "execution_count": 27,
   "id": "e24772fa",
   "metadata": {},
   "outputs": [],
   "source": [
    "i = 1\n",
    "result_list = [combined_results[0]]\n",
    "seen_pages = {combined_results[0].metadata[\"page_label\"]}\n",
    "\n",
    "while i < len(combined_results):\n",
    "    metadata = combined_results[i].metadata\n",
    "    page_label = metadata[\"page_label\"]\n",
    "\n",
    "    if page_label in seen_pages:\n",
    "        i += 1  # You MUST increment i here\n",
    "        continue\n",
    "\n",
    "    result_list.append(combined_results[i])\n",
    "    seen_pages.add(page_label)\n",
    "    i += 1"
   ]
  },
  {
   "cell_type": "code",
   "execution_count": 28,
   "id": "83d73bda",
   "metadata": {},
   "outputs": [
    {
     "data": {
      "text/plain": [
       "[Document(id='402198b9-0143-476b-beba-33c8d40d298b', metadata={'producer': 'Microsoft® Word 2013', 'creator': 'Microsoft® Word 2013', 'creationdate': '2019-07-27T15:04:48+08:00', 'author': 'Ali Kharrazi', 'moddate': '2019-07-27T15:04:48+08:00', 'source': 'ENSC3016_Course_Notes_Part_1_Electromagnetism_Transformers.pdf', 'total_pages': 76, 'page': 51, 'page_label': '52'}, page_content='Transformer 52 \\n \\n \\n \\n   Figure 6-3 Shell-type transformers. \\n \\n \\n \\nFigure 6-4 Flux plot: shell-type transformer \\n \\n \\nToroidal transformers exploit the remarkable properties of toroidal coils described in section 3.6. \\nAlthough they are more expensive than shell-type transformers, the performance is better. They are used \\nin high -quality electronic equipment and for instrument transformers (see section 6.3) where \\nmeasurement accuracy is important. Typical toroidal transformers are shown in figure 6-5. \\n \\nFigure 6-5 Toroidal transformers.\\uf020\\n \\n \\n \\n6.2 Transformer Principle: \\nThe action of a transformer is most easily understood if the two coils are wound on opposite sides of a \\nmagnetic core, as shown in the model of figure 6 -6. This form is used for some low -cost transformers, \\nbut the magnetic coupling is not as good as with the shell-type construction. \\n \\n \\nFigure 6-6  Core-type transformer \\n \\n \\n \\nFigure 6 -7 is a schematic representation of the transformer. It will be assumed that the coupling is \\nperfect: the same magnetic flux \\uf066 passes through each turn of each coil. The coil connected to the source \\nis termed the primary, and the coil connected to the load is termed the secondary. It is usual to refer to \\nthe coils as windings.'),\n",
       " Document(id='988f9b8b-64b0-44e2-9099-4989d74734e4', metadata={'producer': 'Microsoft® Word 2013', 'creator': 'Microsoft® Word 2013', 'creationdate': '2019-07-27T15:04:48+08:00', 'author': 'Ali Kharrazi', 'moddate': '2019-07-27T15:04:48+08:00', 'source': 'ENSC3016_Course_Notes_Part_1_Electromagnetism_Transformers.pdf', 'total_pages': 76, 'page': 50, 'page_label': '51'}, page_content='51 Electrical Machines and Systems                                                                                                            \\n \\n6 Transformer \\n6.1 Introduction: \\nA transformer is a practical application of magnetically coupled coils. Usually the purpose is to transfer \\nenergy from one coil to the other, as in figure 6-1 where energy is transferred from the AC source to the \\nlamp through the space between the coils. \\n \\nFigure 6-1 Transformer principle \\nTransformers are essentially AC devices, because there has to be a change of flux to give an induced \\nvoltage in a coil. There are two main reasons for transferring energy in this way: \\n\\uf0b7 To provide electrical isolation between the source and the load. \\n\\uf0b7 To change the voltage and current levels. \\nThe coils are usually placed on a common magnetic core to improve the coupling. Figure 6-2 shows the \\nflux plots for two coupled coils (a) without a core, (b) with an open core, (c) with a closed core \\n \\nFigure 6-2 Effect of a magnetic core: \\n6.1.2 Practical aspects: \\nThe cores for high -frequency transformers are often made from magnetically soft ferrites, which are \\nelectrical insulators. For power frequencies, the cores are made from an iron alloy such as silicon steel.'),\n",
       " Document(id='47fe573d-ecb4-40bc-ac2e-424820c13ece', metadata={'producer': 'Microsoft® Word 2013', 'creator': 'Microsoft® Word 2013', 'creationdate': '2019-07-27T15:04:48+08:00', 'author': 'Ali Kharrazi', 'moddate': '2019-07-27T15:04:48+08:00', 'source': 'ENSC3016_Course_Notes_Part_1_Electromagnetism_Transformers.pdf', 'total_pages': 76, 'page': 52, 'page_label': '53'}, page_content='𝑑𝜙\\n𝑑𝑡        (6 − 3) \\n𝑣2 = 𝑅2𝑖2 + 𝑁2\\n𝑑𝜙\\n𝑑𝑡                               (6 − 4) \\nThe sign difference arises from the reference directions for current in the two windings. \\nIf the resistances R1 and R2 are negligible, then equations 6-3 and 6-4 become: \\n𝑣1 ≈ 𝑁1\\n𝑑𝜙\\n𝑑𝑡          (6 − 5) \\n𝑣2 ≈ 𝑁2\\n𝑑𝜙\\n𝑑𝑡         (6 − 6) \\nDividing these equations gives the important result: \\n𝑣1\\n𝑣2\\n≈ 𝑁1\\n𝑁2\\n        (6 − 7) \\nThus, the secondary voltage can be made larger or smaller than the primary voltage by changing the \\nratio of the numbers of turns on the two windings. Voltage transformation is one of the most common \\nuses of transformers, on a large scale in electrical power transmission and distribution, and on a small \\nscale in the power supplies for electronic equipment. \\n6.2.2 Sinusoidal operation: \\nIf the voltage source is sinusoidal, then the core flux will also be sinusoidal, so we may put:'),\n",
       " Document(id='f16f6f5f-4ff2-4447-b7ad-c49a2671fce2', metadata={'producer': 'Microsoft® Word 2013', 'creator': 'Microsoft® Word 2013', 'creationdate': '2019-07-27T15:04:48+08:00', 'author': 'Ali Kharrazi', 'moddate': '2019-07-27T15:04:48+08:00', 'source': 'ENSC3016_Course_Notes_Part_1_Electromagnetism_Transformers.pdf', 'total_pages': 76, 'page': 55, 'page_label': '56'}, page_content='𝑽𝒔 = 𝑽𝟏 + 𝑽𝟐 = 𝟐𝑽𝟐 = 𝟐𝑽𝑳        (6 − 22) \\n𝑰𝑳 = 𝑰𝟏 + 𝑰𝟐 = 𝟐𝑰𝟏 = 𝟐𝑰𝑳            (6 − 23) \\nWhere VL is the voltage across the load and IS is the current supplied by the source. This auto-wound \\ntransformer behaves as a step-down transformer with a ratio of 2:1, and the current in each winding is \\nequal to half of the load current. \\nAn elegant application of the auto-wound transformer principle is the variable transformer, which has a \\nsingle-layer coil wound on a toroidal core. The output is taken from a carbon brush that makes contact \\nwith the surface of the coil; the brush can be moved smoothly from one end of the coil to the other, thus \\nvarying the output voltage. Examples of variable transformers are shown in figure 6-10. \\n \\n     \\n      Figure 6-10 Variable transformers. \\n \\n \\n \\n6.3.2 3 Phase Transformer: \\nIn 3 -phase systems, it is common practice to use sets of three single -phase transformers. It is also \\npossible, however, to make 3 -phase transformers with three sets of windings on three limbs of a core, \\nas shown in figure 6-11. \\n \\nFigure 6-11 3-phase transformer model'),\n",
       " Document(metadata={'producer': 'Microsoft® Word 2013', 'creator': 'Microsoft® Word 2013', 'creationdate': '2019-07-27T15:04:48+08:00', 'author': 'Ali Kharrazi', 'moddate': '2019-07-27T15:04:48+08:00', 'source': 'ENSC3016_Course_Notes_Part_1_Electromagnetism_Transformers.pdf', 'total_pages': 76, 'page': 64, 'page_label': '65'}, page_content='65 Electrical Machines and Systems                                                                                                            \\n6.8 Current Transformers \\nInstrument transformers are special transformers for extending the range of measur ing instruments. \\nThere are two basic types: voltage transformers for measuring high voltages, and current transformers \\nfor measuring high currents. Using transformers for voltage measurement is similar in principle to the \\nordinary use of transformers to ch ange voltage levels, so it will not be considered further. Current \\ntransformers, on the other hand, need special consideration. These are usually toroidal transformers with \\nhigh-quality core material. \\nFigure 6-25 shows a load connected to a source. The primary of a current transformer is in series with \\nthe load, and the secondary is connected to a meter \\n  \\nFigure 6-25 Use of a current transformer \\n \\n \\nEquation 6-19 gives: \\n𝐼𝑀 ≈ 𝑁1\\n𝑁2\\n𝐼𝐿     𝑜𝑟  𝐼𝐿 ≈ 𝑁1\\n𝑁2\\n𝐼𝑀           (6 − 53)'),\n",
       " Document(metadata={'producer': 'Microsoft® Word 2013', 'creator': 'Microsoft® Word 2013', 'creationdate': '2019-07-27T15:04:48+08:00', 'author': 'Ali Kharrazi', 'moddate': '2019-07-27T15:04:48+08:00', 'source': 'ENSC3016_Course_Notes_Part_1_Electromagnetism_Transformers.pdf', 'total_pages': 76, 'page': 68, 'page_label': '69'}, page_content='31. \\n \\n \\n \\n \\nFigure 6-31 E I laminations \\nThe center limb is twice the width of the outer limbs because it carries twice the flux, as shown by \\nthe flux plot in figure 6-32. \\n \\nFigure 6-32  Flux Plot: Shell type transformer \\nThe coils are wound on a bobbin that fits the center limb of the core, and the core is assembled \\nby inserting E laminations alternately from each side and adding matching I laminations. \\nDimensions are chosen so that two E and two I laminations can be punched from a rectangular steel \\nsheet without any waste. Current flowing in the resistance of the transformer windings will produce \\nheat, which must escape through the surface of the windings. In addition, there will be power loss in \\nthe core, which also appears as heat. \\nThe power output from a given size of transformer is governed by the rate at which heat can be \\nremoved. Large transformers are usually cooled by circulating oil, but small transformers rely on')]"
      ]
     },
     "execution_count": 28,
     "metadata": {},
     "output_type": "execute_result"
    }
   ],
   "source": [
    "result_list"
   ]
  },
  {
   "cell_type": "code",
   "execution_count": 42,
   "id": "43fa1280",
   "metadata": {},
   "outputs": [],
   "source": [
    "input_template = \"\"\"You are an expert assistant answering based only on the provided context.\n",
    "\n",
    "    The retrieved documents have been joined togeter separated by \"Chunk_n\", where n is the chunk number. Here is the context provided:\n",
    "\n",
    "    context:\n",
    "    {context}\n",
    "    \n",
    "    Use all relevant information above to answer the question below. If the answer isn't found in the chunks, say:\n",
    "    \"I cannot answer this question because the necessary information was not found in the provided documents.\"\n",
    "\n",
    "    When answering, cite the **source file name** and **slide/page number** if available. Only state each **source file name** once at the end of your\n",
    "    answer, along with the pages used in that file in your answer\", using the metadata supplied:\n",
    "    \n",
    "    Metadata:\n",
    "    {metadata}\n",
    "\n",
    "    Siimilarly, the metadata is provided a dictionary separated by metadata_n, where n is the metadata corresponding to each chunk_n.\n",
    "    \"\"\""
   ]
  },
  {
   "cell_type": "code",
   "execution_count": 30,
   "id": "9486440b",
   "metadata": {},
   "outputs": [],
   "source": [
    "from langchain_core.prompts import ChatPromptTemplate, MessagesPlaceholder\n",
    "from langchain_core.runnables import RunnableLambda, RunnableParallel\n",
    "\n",
    "def content_parser(results):\n",
    "    context_string = \"\"\n",
    "    for i in range(len(results)):\n",
    "\n",
    "        context_string += f\"\\nChunk_{i+1}:\\n\\n{results[i].page_content}\\n\\n\\n\"\n",
    "\n",
    "    metadata_files = [[results[0].metadata[\"source\"], results[0].metadata[\"page_label\"]]]\n",
    "    for i in range(1, len(results)):\n",
    "\n",
    "        metadata_files.append([results[i].metadata[\"source\"], results[i].metadata[\"page_label\"]])\n",
    "\n",
    "    metadata_string = \"\"\n",
    "    for i in range(len(metadata_files)):\n",
    "\n",
    "        metadata_string += f\"metadata_{i+1}:\\n\\n Information source corresponding to chunk_{i+1} is {metadata_files[i][0]} page number {metadata_files[i][1]}\\n\\n\"\n",
    "\n",
    "    return context_string, metadata_string\n",
    "\n",
    "chunks, metadata = content_parser(result_list)"
   ]
  },
  {
   "cell_type": "code",
   "execution_count": 31,
   "id": "e2f5ca90",
   "metadata": {},
   "outputs": [
    {
     "name": "stdout",
     "output_type": "stream",
     "text": [
      "\n",
      "Chunk_1:\n",
      "\n",
      "Transformer 52 \n",
      " \n",
      " \n",
      " \n",
      "   Figure 6-3 Shell-type transformers. \n",
      " \n",
      " \n",
      " \n",
      "Figure 6-4 Flux plot: shell-type transformer \n",
      " \n",
      " \n",
      "Toroidal transformers exploit the remarkable properties of toroidal coils described in section 3.6. \n",
      "Although they are more expensive than shell-type transformers, the performance is better. They are used \n",
      "in high -quality electronic equipment and for instrument transformers (see section 6.3) where \n",
      "measurement accuracy is important. Typical toroidal transformers are shown in figure 6-5. \n",
      " \n",
      "Figure 6-5 Toroidal transformers.\n",
      " \n",
      " \n",
      " \n",
      "6.2 Transformer Principle: \n",
      "The action of a transformer is most easily understood if the two coils are wound on opposite sides of a \n",
      "magnetic core, as shown in the model of figure 6 -6. This form is used for some low -cost transformers, \n",
      "but the magnetic coupling is not as good as with the shell-type construction. \n",
      " \n",
      " \n",
      "Figure 6-6  Core-type transformer \n",
      " \n",
      " \n",
      " \n",
      "Figure 6 -7 is a schematic representation of the transformer. It will be assumed that the coupling is \n",
      "perfect: the same magnetic flux  passes through each turn of each coil. The coil connected to the source \n",
      "is termed the primary, and the coil connected to the load is termed the secondary. It is usual to refer to \n",
      "the coils as windings.\n",
      "\n",
      "\n",
      "\n",
      "Chunk_2:\n",
      "\n",
      "51 Electrical Machines and Systems                                                                                                            \n",
      " \n",
      "6 Transformer \n",
      "6.1 Introduction: \n",
      "A transformer is a practical application of magnetically coupled coils. Usually the purpose is to transfer \n",
      "energy from one coil to the other, as in figure 6-1 where energy is transferred from the AC source to the \n",
      "lamp through the space between the coils. \n",
      " \n",
      "Figure 6-1 Transformer principle \n",
      "Transformers are essentially AC devices, because there has to be a change of flux to give an induced \n",
      "voltage in a coil. There are two main reasons for transferring energy in this way: \n",
      " To provide electrical isolation between the source and the load. \n",
      " To change the voltage and current levels. \n",
      "The coils are usually placed on a common magnetic core to improve the coupling. Figure 6-2 shows the \n",
      "flux plots for two coupled coils (a) without a core, (b) with an open core, (c) with a closed core \n",
      " \n",
      "Figure 6-2 Effect of a magnetic core: \n",
      "6.1.2 Practical aspects: \n",
      "The cores for high -frequency transformers are often made from magnetically soft ferrites, which are \n",
      "electrical insulators. For power frequencies, the cores are made from an iron alloy such as silicon steel.\n",
      "\n",
      "\n",
      "\n",
      "Chunk_3:\n",
      "\n",
      "𝑑𝜙\n",
      "𝑑𝑡        (6 − 3) \n",
      "𝑣2 = 𝑅2𝑖2 + 𝑁2\n",
      "𝑑𝜙\n",
      "𝑑𝑡                               (6 − 4) \n",
      "The sign difference arises from the reference directions for current in the two windings. \n",
      "If the resistances R1 and R2 are negligible, then equations 6-3 and 6-4 become: \n",
      "𝑣1 ≈ 𝑁1\n",
      "𝑑𝜙\n",
      "𝑑𝑡          (6 − 5) \n",
      "𝑣2 ≈ 𝑁2\n",
      "𝑑𝜙\n",
      "𝑑𝑡         (6 − 6) \n",
      "Dividing these equations gives the important result: \n",
      "𝑣1\n",
      "𝑣2\n",
      "≈ 𝑁1\n",
      "𝑁2\n",
      "        (6 − 7) \n",
      "Thus, the secondary voltage can be made larger or smaller than the primary voltage by changing the \n",
      "ratio of the numbers of turns on the two windings. Voltage transformation is one of the most common \n",
      "uses of transformers, on a large scale in electrical power transmission and distribution, and on a small \n",
      "scale in the power supplies for electronic equipment. \n",
      "6.2.2 Sinusoidal operation: \n",
      "If the voltage source is sinusoidal, then the core flux will also be sinusoidal, so we may put:\n",
      "\n",
      "\n",
      "\n",
      "Chunk_4:\n",
      "\n",
      "𝑽𝒔 = 𝑽𝟏 + 𝑽𝟐 = 𝟐𝑽𝟐 = 𝟐𝑽𝑳        (6 − 22) \n",
      "𝑰𝑳 = 𝑰𝟏 + 𝑰𝟐 = 𝟐𝑰𝟏 = 𝟐𝑰𝑳            (6 − 23) \n",
      "Where VL is the voltage across the load and IS is the current supplied by the source. This auto-wound \n",
      "transformer behaves as a step-down transformer with a ratio of 2:1, and the current in each winding is \n",
      "equal to half of the load current. \n",
      "An elegant application of the auto-wound transformer principle is the variable transformer, which has a \n",
      "single-layer coil wound on a toroidal core. The output is taken from a carbon brush that makes contact \n",
      "with the surface of the coil; the brush can be moved smoothly from one end of the coil to the other, thus \n",
      "varying the output voltage. Examples of variable transformers are shown in figure 6-10. \n",
      " \n",
      "     \n",
      "      Figure 6-10 Variable transformers. \n",
      " \n",
      " \n",
      " \n",
      "6.3.2 3 Phase Transformer: \n",
      "In 3 -phase systems, it is common practice to use sets of three single -phase transformers. It is also \n",
      "possible, however, to make 3 -phase transformers with three sets of windings on three limbs of a core, \n",
      "as shown in figure 6-11. \n",
      " \n",
      "Figure 6-11 3-phase transformer model\n",
      "\n",
      "\n",
      "\n",
      "Chunk_5:\n",
      "\n",
      "65 Electrical Machines and Systems                                                                                                            \n",
      "6.8 Current Transformers \n",
      "Instrument transformers are special transformers for extending the range of measur ing instruments. \n",
      "There are two basic types: voltage transformers for measuring high voltages, and current transformers \n",
      "for measuring high currents. Using transformers for voltage measurement is similar in principle to the \n",
      "ordinary use of transformers to ch ange voltage levels, so it will not be considered further. Current \n",
      "transformers, on the other hand, need special consideration. These are usually toroidal transformers with \n",
      "high-quality core material. \n",
      "Figure 6-25 shows a load connected to a source. The primary of a current transformer is in series with \n",
      "the load, and the secondary is connected to a meter \n",
      "  \n",
      "Figure 6-25 Use of a current transformer \n",
      " \n",
      " \n",
      "Equation 6-19 gives: \n",
      "𝐼𝑀 ≈ 𝑁1\n",
      "𝑁2\n",
      "𝐼𝐿     𝑜𝑟  𝐼𝐿 ≈ 𝑁1\n",
      "𝑁2\n",
      "𝐼𝑀           (6 − 53)\n",
      "\n",
      "\n",
      "\n",
      "Chunk_6:\n",
      "\n",
      "31. \n",
      " \n",
      " \n",
      " \n",
      " \n",
      "Figure 6-31 E I laminations \n",
      "The center limb is twice the width of the outer limbs because it carries twice the flux, as shown by \n",
      "the flux plot in figure 6-32. \n",
      " \n",
      "Figure 6-32  Flux Plot: Shell type transformer \n",
      "The coils are wound on a bobbin that fits the center limb of the core, and the core is assembled \n",
      "by inserting E laminations alternately from each side and adding matching I laminations. \n",
      "Dimensions are chosen so that two E and two I laminations can be punched from a rectangular steel \n",
      "sheet without any waste. Current flowing in the resistance of the transformer windings will produce \n",
      "heat, which must escape through the surface of the windings. In addition, there will be power loss in \n",
      "the core, which also appears as heat. \n",
      "The power output from a given size of transformer is governed by the rate at which heat can be \n",
      "removed. Large transformers are usually cooled by circulating oil, but small transformers rely on\n",
      "\n",
      "\n",
      "\n",
      "metadata_1:\n",
      "\n",
      " Information source corresponding to chunk_1 is ENSC3016_Course_Notes_Part_1_Electromagnetism_Transformers.pdf page number 52\n",
      "\n",
      "metadata_2:\n",
      "\n",
      " Information source corresponding to chunk_2 is ENSC3016_Course_Notes_Part_1_Electromagnetism_Transformers.pdf page number 51\n",
      "\n",
      "metadata_3:\n",
      "\n",
      " Information source corresponding to chunk_3 is ENSC3016_Course_Notes_Part_1_Electromagnetism_Transformers.pdf page number 53\n",
      "\n",
      "metadata_4:\n",
      "\n",
      " Information source corresponding to chunk_4 is ENSC3016_Course_Notes_Part_1_Electromagnetism_Transformers.pdf page number 56\n",
      "\n",
      "metadata_5:\n",
      "\n",
      " Information source corresponding to chunk_5 is ENSC3016_Course_Notes_Part_1_Electromagnetism_Transformers.pdf page number 65\n",
      "\n",
      "metadata_6:\n",
      "\n",
      " Information source corresponding to chunk_6 is ENSC3016_Course_Notes_Part_1_Electromagnetism_Transformers.pdf page number 69\n",
      "\n",
      "\n"
     ]
    }
   ],
   "source": [
    "print(chunks)\n",
    "print(metadata)"
   ]
  },
  {
   "cell_type": "code",
   "execution_count": 32,
   "id": "ae0c3b11",
   "metadata": {},
   "outputs": [
    {
     "data": {
      "text/plain": [
       "RunnableLambda(content_parser)"
      ]
     },
     "execution_count": 32,
     "metadata": {},
     "output_type": "execute_result"
    }
   ],
   "source": [
    "runnable_context = RunnableLambda(content_parser)\n",
    "runnable_context"
   ]
  },
  {
   "cell_type": "code",
   "execution_count": 43,
   "id": "011abd53",
   "metadata": {},
   "outputs": [],
   "source": [
    "prompt_template = ChatPromptTemplate(\n",
    "    [\n",
    "        (\"system\", input_template),\n",
    "        MessagesPlaceholder(\"chat_history\"),\n",
    "        (\"human\", \"{input}\"),\n",
    "    ]\n",
    ")\n"
   ]
  },
  {
   "cell_type": "code",
   "execution_count": 34,
   "id": "8799d8ee",
   "metadata": {},
   "outputs": [],
   "source": [
    "template = ChatPromptTemplate(\n",
    "    [\n",
    "        (\"system\", \"You are a helpful AI assistant. Your name is {name}.\"),\n",
    "        (\"human\", \"Hello, how are you doing?\"),\n",
    "        (\"ai\", \"I'm doing well thanks\"),\n",
    "        (\"human\", \"{user_input}\")\n",
    "    ]\n",
    ")"
   ]
  },
  {
   "cell_type": "code",
   "execution_count": 35,
   "id": "f789369d",
   "metadata": {},
   "outputs": [],
   "source": [
    "prompt_value = template.invoke(\n",
    "    {\"name\": \"Bob\",\n",
    "    \"user_input\": \"What is your name\"}\n",
    ")"
   ]
  },
  {
   "cell_type": "code",
   "execution_count": 44,
   "id": "8adc3429",
   "metadata": {},
   "outputs": [],
   "source": [
    "chain = prompt_template | llm"
   ]
  },
  {
   "cell_type": "code",
   "execution_count": 45,
   "id": "e4babaf6",
   "metadata": {},
   "outputs": [
    {
     "data": {
      "text/plain": [
       "'Transformers are electrical devices that transfer electrical energy from one circuit or system to another through electromagnetic induction. They consist of two coils of wire, known as the primary and secondary coils, which are wrapped around a common core.\\n\\nThe primary coil receives an alternating current (AC) input, which induces a magnetic field in the core. This magnetic field then induces a voltage in the secondary coil, causing electrical energy to be transferred from the primary circuit to the secondary circuit.\\n\\nTransformers can operate as either step-up or step-down devices, depending on the ratio of turns between the primary and secondary coils. A higher ratio of turns results in a step-down transformation, while a lower ratio results in a step-up transformation.\\n\\nThe core material used in transformers can affect their performance. High-quality core materials are often used to minimize energy losses and improve efficiency.\\n\\nIn instrument transformers, such as current transformers, transformers are used to measure high currents or voltages by isolating the measurement circuit from the main power circuit.\\n\\nTransformers have a wide range of applications in electrical power systems, including voltage regulation, power transmission, and distribution.\\n\\nAccording to metadata_3 (ENSC3016_Course_Notes_Part_1_Electromagnetism_Transformers.pdf page number 53), equation 6-19 gives: I_M ≈ N1 / N2 or I_L ≈ N1 / N2 (I_M is the measured current and I_L is the load current). \\n\\nAccording to metadata_4 (ENSC3016_Course_Notes_Part_1_Electromagnetism_Transformers.pdf page number 56), an elegant application of the auto-wound transformer principle is the variable transformer, which has a single-layer coil wound on a toroidal core.\\n\\nAccording to metadata_5 (ENSC3016_Course_Notes_Part_1_Electromagnetism_Transformers.pdf page number 65) and metadata_6 (ENSC3016_Course_Notes_Part_1_Electromagnetism_Transformers.pdf page number 69), information source corresponding to chunk 5 and chunk 6 respectively.\\n\\nThe use of transformers in electrical power systems is crucial for efficient transmission, distribution, and measurement of electrical energy.'"
      ]
     },
     "execution_count": 45,
     "metadata": {},
     "output_type": "execute_result"
    }
   ],
   "source": [
    "chain.invoke(\n",
    "\n",
    "    {\"context\": chunks,\n",
    "    \"chat_history\": [],\n",
    "    \"metadata\": metadata,\n",
    "    \"input\": \"Explain transformers\"}\n",
    "    \n",
    ")"
   ]
  },
  {
   "cell_type": "code",
   "execution_count": 39,
   "id": "43a4eb0d",
   "metadata": {},
   "outputs": [
    {
     "data": {
      "text/plain": [
       "ChatPromptTemplate(input_variables=['chat_history', 'context', 'input', 'metadata'], input_types={'chat_history': list[typing.Annotated[typing.Union[typing.Annotated[langchain_core.messages.ai.AIMessage, Tag(tag='ai')], typing.Annotated[langchain_core.messages.human.HumanMessage, Tag(tag='human')], typing.Annotated[langchain_core.messages.chat.ChatMessage, Tag(tag='chat')], typing.Annotated[langchain_core.messages.system.SystemMessage, Tag(tag='system')], typing.Annotated[langchain_core.messages.function.FunctionMessage, Tag(tag='function')], typing.Annotated[langchain_core.messages.tool.ToolMessage, Tag(tag='tool')], typing.Annotated[langchain_core.messages.ai.AIMessageChunk, Tag(tag='AIMessageChunk')], typing.Annotated[langchain_core.messages.human.HumanMessageChunk, Tag(tag='HumanMessageChunk')], typing.Annotated[langchain_core.messages.chat.ChatMessageChunk, Tag(tag='ChatMessageChunk')], typing.Annotated[langchain_core.messages.system.SystemMessageChunk, Tag(tag='SystemMessageChunk')], typing.Annotated[langchain_core.messages.function.FunctionMessageChunk, Tag(tag='FunctionMessageChunk')], typing.Annotated[langchain_core.messages.tool.ToolMessageChunk, Tag(tag='ToolMessageChunk')]], FieldInfo(annotation=NoneType, required=True, discriminator=Discriminator(discriminator=<function _get_type at 0x743ee2f5ad40>, custom_error_type=None, custom_error_message=None, custom_error_context=None))]]}, partial_variables={}, messages=[SystemMessagePromptTemplate(prompt=PromptTemplate(input_variables=['context', 'metadata'], input_types={}, partial_variables={}, template='You are an expert assistant answering based only on the provided context.\\n\\n    The retrieved documents have been joined togeter separated by \"Chunk_n\", where n is the chunk number. Here is the context provided:\\n\\n    context:\\n    {context}\\n\\n    Use all relevant information above to answer the question below. If the answer isn\\'t found in the chunks, say:\\n    \"I cannot answer this question because the necessary information was not found in the provided documents.\"\\n\\n    When answering, cite the **source file name** and **slide/page number** if available, using the metadata supplied at the end of your answer.\\n\\n    Metadata:\\n    {metadata}\\n\\n    Siimilarly, the metadata is provided a dictionary separated by metadata_n, where n is the metadata corresponding to each chunk_n.\\n    '), additional_kwargs={}), MessagesPlaceholder(variable_name='chat_history'), HumanMessagePromptTemplate(prompt=PromptTemplate(input_variables=['input'], input_types={}, partial_variables={}, template='{input}'), additional_kwargs={})])\n",
       "| OllamaLLM(model='llama3.2')"
      ]
     },
     "execution_count": 39,
     "metadata": {},
     "output_type": "execute_result"
    }
   ],
   "source": [
    "chain"
   ]
  },
  {
   "cell_type": "code",
   "execution_count": null,
   "id": "bed33f67",
   "metadata": {},
   "outputs": [],
   "source": [
    "prompt_template"
   ]
  },
  {
   "cell_type": "code",
   "execution_count": null,
   "id": "f01c3999",
   "metadata": {},
   "outputs": [],
   "source": [
    "chain = (\n",
    "    context_parser(input) | runnable_context\n",
    "    metadata_parser(input) | runnable_metadata,\n",
    "    prompt_template |\n",
    "    llm\n",
    ")"
   ]
  },
  {
   "cell_type": "code",
   "execution_count": null,
   "id": "abacee55",
   "metadata": {},
   "outputs": [],
   "source": [
    "answer1 = chain.invoke(\"Explain transformers\")"
   ]
  }
 ],
 "metadata": {
  "kernelspec": {
   "display_name": "RAG_Project",
   "language": "python",
   "name": "python3"
  },
  "language_info": {
   "codemirror_mode": {
    "name": "ipython",
    "version": 3
   },
   "file_extension": ".py",
   "mimetype": "text/x-python",
   "name": "python",
   "nbconvert_exporter": "python",
   "pygments_lexer": "ipython3",
   "version": "3.11.11"
  }
 },
 "nbformat": 4,
 "nbformat_minor": 5
}
