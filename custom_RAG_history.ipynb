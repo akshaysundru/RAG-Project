{
 "cells": [
  {
   "cell_type": "markdown",
   "id": "71b6ac85",
   "metadata": {},
   "source": [
    "# Custom RAG Pipeline w/ History Implementation\n",
    "\n",
    "This program will be adding history to our RAG pipeline, modifying history from built in RAG history retrievers to creating custom chains with the \"|\" operator. Creating a custom retriever allows us better control over context injection, injecting in smaller chunks with metadata chunks."
   ]
  },
  {
   "cell_type": "code",
   "execution_count": 1,
   "id": "30a0a6a9",
   "metadata": {},
   "outputs": [],
   "source": [
    "import os\n",
    "import faiss\n",
    "from langchain_community.document_loaders import PyPDFLoader\n",
    "from langchain.text_splitter import RecursiveCharacterTextSplitter\n",
    "from langchain_huggingface import HuggingFaceEmbeddings\n",
    "from langchain_ollama import OllamaLLM"
   ]
  },
  {
   "cell_type": "code",
   "execution_count": 2,
   "id": "286d887d",
   "metadata": {},
   "outputs": [],
   "source": [
    "MODEL_NAME = \"llama3.2\"\n",
    "llm = OllamaLLM(model= MODEL_NAME)"
   ]
  },
  {
   "cell_type": "code",
   "execution_count": 3,
   "id": "36260e4e",
   "metadata": {},
   "outputs": [],
   "source": [
    "def load_docs():\n",
    "    \n",
    "    document_loader = []\n",
    "\n",
    "    for root, dirs, files in os.walk(\".\"):\n",
    "        # Skip chroma_db folder\n",
    "        if \"faiss\" in root or \"git\" in root:\n",
    "            continue\n",
    "        for file in files:\n",
    "            if file.endswith(\".pdf\"):\n",
    "                document_loader.append(file)\n",
    "\n",
    "    return document_loader"
   ]
  },
  {
   "cell_type": "code",
   "execution_count": 4,
   "id": "37c51dc0",
   "metadata": {},
   "outputs": [
    {
     "data": {
      "text/plain": [
       "['ENSC3016_Course_Notes_Part_1_Electromagnetism_Transformers.pdf',\n",
       " 'ENSC3016_Course_Notes_Part_2_Electric_Machines.pdf',\n",
       " 'Electric Machinery Fundamentals Textbook -- Chapman.pdf',\n",
       " 'ENSC3016 Study Guide 1-Review of Circuit Fundamentals.pdf',\n",
       " 'Three Phase Power System Fundamentals.pdf']"
      ]
     },
     "execution_count": 4,
     "metadata": {},
     "output_type": "execute_result"
    }
   ],
   "source": [
    "document_loader = load_docs()\n",
    "document_loader"
   ]
  },
  {
   "cell_type": "code",
   "execution_count": 11,
   "id": "30d0ecce",
   "metadata": {},
   "outputs": [],
   "source": [
    "from sentence_transformers import SentenceTransformer\n",
    "\n",
    "model = SentenceTransformer(\"sentence-transformers/all-MiniLM-L6-v2\")\n",
    "model.save(\"./local_models/all-MiniLM-L6-v2\")"
   ]
  },
  {
   "cell_type": "code",
   "execution_count": 12,
   "id": "87f1f5c8",
   "metadata": {},
   "outputs": [],
   "source": [
    "embedding_model =\"./local_models/all-MiniLM-L6-v2\" #embedding matrix model\n",
    "\n",
    "def embed_splitting(document_loader, embedding_model):\n",
    "    embeddings = HuggingFaceEmbeddings(model = embedding_model, encode_kwargs={'normalize_embeddings': True})\n",
    "\n",
    "    doc_store = []\n",
    "    for file in document_loader:\n",
    "        loader = PyPDFLoader(file)\n",
    "        doc = loader.load()\n",
    "        doc_store += doc\n",
    "\n",
    "    text_splitter = RecursiveCharacterTextSplitter.from_tiktoken_encoder(\n",
    "        chunk_size = 400,\n",
    "        chunk_overlap = 64\n",
    "        )\n",
    "    \n",
    "    #Make splits\n",
    "    splits = text_splitter.split_documents(doc_store)\n",
    "\n",
    "    return embeddings, splits"
   ]
  },
  {
   "cell_type": "code",
   "execution_count": 13,
   "id": "0bbd9095",
   "metadata": {},
   "outputs": [],
   "source": [
    "embeddings, splits = embed_splitting(document_loader, embedding_model)"
   ]
  },
  {
   "cell_type": "code",
   "execution_count": 14,
   "id": "6dc8a2ce",
   "metadata": {},
   "outputs": [
    {
     "data": {
      "text/plain": [
       "Document(metadata={'producer': 'Microsoft® Word 2013', 'creator': 'Microsoft® Word 2013', 'creationdate': '2019-07-27T15:04:48+08:00', 'author': 'Ali Kharrazi', 'moddate': '2019-07-27T15:04:48+08:00', 'source': 'ENSC3016_Course_Notes_Part_1_Electromagnetism_Transformers.pdf', 'total_pages': 76, 'page': 51, 'page_label': '52'}, page_content='Transformer 52 \\n \\n \\n \\n   Figure 6-3 Shell-type transformers. \\n \\n \\n \\nFigure 6-4 Flux plot: shell-type transformer \\n \\n \\nToroidal transformers exploit the remarkable properties of toroidal coils described in section 3.6. \\nAlthough they are more expensive than shell-type transformers, the performance is better. They are used \\nin high -quality electronic equipment and for instrument transformers (see section 6.3) where \\nmeasurement accuracy is important. Typical toroidal transformers are shown in figure 6-5. \\n \\nFigure 6-5 Toroidal transformers.\\uf020\\n \\n \\n \\n6.2 Transformer Principle: \\nThe action of a transformer is most easily understood if the two coils are wound on opposite sides of a \\nmagnetic core, as shown in the model of figure 6 -6. This form is used for some low -cost transformers, \\nbut the magnetic coupling is not as good as with the shell-type construction. \\n \\n \\nFigure 6-6  Core-type transformer \\n \\n \\n \\nFigure 6 -7 is a schematic representation of the transformer. It will be assumed that the coupling is \\nperfect: the same magnetic flux \\uf066 passes through each turn of each coil. The coil connected to the source \\nis termed the primary, and the coil connected to the load is termed the secondary. It is usual to refer to \\nthe coils as windings.')"
      ]
     },
     "execution_count": 14,
     "metadata": {},
     "output_type": "execute_result"
    }
   ],
   "source": [
    "example_split = splits[106]\n",
    "example_split"
   ]
  },
  {
   "cell_type": "code",
   "execution_count": 16,
   "id": "e0a021f5",
   "metadata": {},
   "outputs": [
    {
     "name": "stdout",
     "output_type": "stream",
     "text": [
      "producer: Microsoft® Word 2013\n",
      "creator: Microsoft® Word 2013\n",
      "creationdate: 2019-07-27T15:04:48+08:00\n",
      "author: Ali Kharrazi\n",
      "moddate: 2019-07-27T15:04:48+08:00\n",
      "source: ENSC3016_Course_Notes_Part_1_Electromagnetism_Transformers.pdf\n",
      "total_pages: 76\n",
      "page: 51\n",
      "page_label: 52\n"
     ]
    }
   ],
   "source": [
    "metadata = example_split.metadata\n",
    "for key in metadata:\n",
    "    print(f\"{key}: {metadata[key]}\")"
   ]
  },
  {
   "cell_type": "code",
   "execution_count": 17,
   "id": "07b21538",
   "metadata": {},
   "outputs": [
    {
     "data": {
      "text/plain": [
       "HuggingFaceEmbeddings(model_name='./local_models/all-MiniLM-L6-v2', cache_folder=None, model_kwargs={}, encode_kwargs={'normalize_embeddings': True}, query_encode_kwargs={}, multi_process=False, show_progress=False)"
      ]
     },
     "execution_count": 17,
     "metadata": {},
     "output_type": "execute_result"
    }
   ],
   "source": [
    "embeddings"
   ]
  },
  {
   "cell_type": "code",
   "execution_count": 18,
   "id": "3df2dfc2",
   "metadata": {},
   "outputs": [
    {
     "data": {
      "text/plain": [
       "402"
      ]
     },
     "execution_count": 18,
     "metadata": {},
     "output_type": "execute_result"
    }
   ],
   "source": [
    "len(splits)"
   ]
  },
  {
   "cell_type": "code",
   "execution_count": 19,
   "id": "9c6e45e1",
   "metadata": {},
   "outputs": [],
   "source": [
    "from langchain_community.docstore.in_memory import InMemoryDocstore\n",
    "from langchain_community.vectorstores import FAISS"
   ]
  },
  {
   "cell_type": "code",
   "execution_count": 20,
   "id": "ea441e76",
   "metadata": {},
   "outputs": [
    {
     "name": "stdout",
     "output_type": "stream",
     "text": [
      "Loading FAISS index from disk...\n"
     ]
    }
   ],
   "source": [
    "dim = len(embeddings.embed_query(\"test sentence\"))\n",
    "index = faiss.IndexFlatL2(dim)\n",
    "\n",
    "if os.path.exists(\"faiss_index\"):\n",
    "    print(\"Loading FAISS index from disk...\")\n",
    "    vector_store = FAISS.load_local(\"faiss_index\", embeddings=embeddings, allow_dangerous_deserialization=True)\n",
    "else:\n",
    "    print(\"Building FAISS index from scratch...\")\n",
    "    vector_store = FAISS(\n",
    "        embedding_function=embeddings,\n",
    "        index=index,\n",
    "        docstore=InMemoryDocstore(),\n",
    "        index_to_docstore_id={},\n",
    "    )\n",
    "    vector_store.add_documents(splits)\n",
    "    vector_store.save_local(\"faiss_index\")"
   ]
  },
  {
   "cell_type": "code",
   "execution_count": 21,
   "id": "896f7f79",
   "metadata": {},
   "outputs": [],
   "source": [
    "# create the retriever object once\n",
    "semantic_retriever = vector_store.as_retriever(search_kwargs={'k': 4})\n",
    "\n",
    "# define your function to query it\n",
    "def semantic_search(retriever_obj, input_context: str):\n",
    "    return retriever_obj.invoke(input_context)\n",
    "\n",
    "# call the function with retriever and query string\n",
    "results = semantic_search(semantic_retriever, \"Explain transformers\")"
   ]
  },
  {
   "cell_type": "code",
   "execution_count": 22,
   "id": "e81ae1a0",
   "metadata": {},
   "outputs": [
    {
     "data": {
      "text/plain": [
       "{'producer': 'Microsoft® Word 2013',\n",
       " 'creator': 'Microsoft® Word 2013',\n",
       " 'creationdate': '2019-07-27T15:04:48+08:00',\n",
       " 'author': 'Ali Kharrazi',\n",
       " 'moddate': '2019-07-27T15:04:48+08:00',\n",
       " 'source': 'ENSC3016_Course_Notes_Part_1_Electromagnetism_Transformers.pdf',\n",
       " 'total_pages': 76,\n",
       " 'page': 51,\n",
       " 'page_label': '52'}"
      ]
     },
     "execution_count": 22,
     "metadata": {},
     "output_type": "execute_result"
    }
   ],
   "source": [
    "results[0].metadata"
   ]
  },
  {
   "cell_type": "code",
   "execution_count": 23,
   "id": "8ea5ffde",
   "metadata": {},
   "outputs": [
    {
     "name": "stdout",
     "output_type": "stream",
     "text": [
      "This is chunk number 1.\n",
      "\n",
      " The source is ENSC3016_Course_Notes_Part_1_Electromagnetism_Transformers.pdf, found on page number 51. \n",
      "\n",
      " The page content is Transformer 52 \n",
      " \n",
      " \n",
      " \n",
      "   Figure 6-3 Shell-type transformers. \n",
      " \n",
      " \n",
      " \n",
      "Figure 6-4 Flux plot: shell-type transformer \n",
      " \n",
      " \n",
      "Toroidal transformers exploit the remarkable properties of toroidal coils described in section 3.6. \n",
      "Although they are more expensive than shell-type transformers, the performance is better. They are used \n",
      "in high -quality electronic equipment and for instrument transformers (see section 6.3) where \n",
      "measurement accuracy is important. Typical toroidal transformers are shown in figure 6-5. \n",
      " \n",
      "Figure 6-5 Toroidal transformers.\n",
      " \n",
      " \n",
      " \n",
      "6.2 Transformer Principle: \n",
      "The action of a transformer is most easily understood if the two coils are wound on opposite sides of a \n",
      "magnetic core, as shown in the model of figure 6 -6. This form is used for some low -cost transformers, \n",
      "but the magnetic coupling is not as good as with the shell-type construction. \n",
      " \n",
      " \n",
      "Figure 6-6  Core-type transformer \n",
      " \n",
      " \n",
      " \n",
      "Figure 6 -7 is a schematic representation of the transformer. It will be assumed that the coupling is \n",
      "perfect: the same magnetic flux  passes through each turn of each coil. The coil connected to the source \n",
      "is termed the primary, and the coil connected to the load is termed the secondary. It is usual to refer to \n",
      "the coils as windings. \n",
      "\n",
      "This is chunk number 2.\n",
      "\n",
      " The source is ENSC3016_Course_Notes_Part_1_Electromagnetism_Transformers.pdf, found on page number 50. \n",
      "\n",
      " The page content is 51 Electrical Machines and Systems                                                                                                            \n",
      " \n",
      "6 Transformer \n",
      "6.1 Introduction: \n",
      "A transformer is a practical application of magnetically coupled coils. Usually the purpose is to transfer \n",
      "energy from one coil to the other, as in figure 6-1 where energy is transferred from the AC source to the \n",
      "lamp through the space between the coils. \n",
      " \n",
      "Figure 6-1 Transformer principle \n",
      "Transformers are essentially AC devices, because there has to be a change of flux to give an induced \n",
      "voltage in a coil. There are two main reasons for transferring energy in this way: \n",
      " To provide electrical isolation between the source and the load. \n",
      " To change the voltage and current levels. \n",
      "The coils are usually placed on a common magnetic core to improve the coupling. Figure 6-2 shows the \n",
      "flux plots for two coupled coils (a) without a core, (b) with an open core, (c) with a closed core \n",
      " \n",
      "Figure 6-2 Effect of a magnetic core: \n",
      "6.1.2 Practical aspects: \n",
      "The cores for high -frequency transformers are often made from magnetically soft ferrites, which are \n",
      "electrical insulators. For power frequencies, the cores are made from an iron alloy such as silicon steel. \n",
      "\n",
      "This is chunk number 3.\n",
      "\n",
      " The source is ENSC3016_Course_Notes_Part_1_Electromagnetism_Transformers.pdf, found on page number 52. \n",
      "\n",
      " The page content is 𝑑𝜙\n",
      "𝑑𝑡        (6 − 3) \n",
      "𝑣2 = 𝑅2𝑖2 + 𝑁2\n",
      "𝑑𝜙\n",
      "𝑑𝑡                               (6 − 4) \n",
      "The sign difference arises from the reference directions for current in the two windings. \n",
      "If the resistances R1 and R2 are negligible, then equations 6-3 and 6-4 become: \n",
      "𝑣1 ≈ 𝑁1\n",
      "𝑑𝜙\n",
      "𝑑𝑡          (6 − 5) \n",
      "𝑣2 ≈ 𝑁2\n",
      "𝑑𝜙\n",
      "𝑑𝑡         (6 − 6) \n",
      "Dividing these equations gives the important result: \n",
      "𝑣1\n",
      "𝑣2\n",
      "≈ 𝑁1\n",
      "𝑁2\n",
      "        (6 − 7) \n",
      "Thus, the secondary voltage can be made larger or smaller than the primary voltage by changing the \n",
      "ratio of the numbers of turns on the two windings. Voltage transformation is one of the most common \n",
      "uses of transformers, on a large scale in electrical power transmission and distribution, and on a small \n",
      "scale in the power supplies for electronic equipment. \n",
      "6.2.2 Sinusoidal operation: \n",
      "If the voltage source is sinusoidal, then the core flux will also be sinusoidal, so we may put: \n",
      "\n",
      "This is chunk number 4.\n",
      "\n",
      " The source is ENSC3016_Course_Notes_Part_1_Electromagnetism_Transformers.pdf, found on page number 55. \n",
      "\n",
      " The page content is 𝑽𝒔 = 𝑽𝟏 + 𝑽𝟐 = 𝟐𝑽𝟐 = 𝟐𝑽𝑳        (6 − 22) \n",
      "𝑰𝑳 = 𝑰𝟏 + 𝑰𝟐 = 𝟐𝑰𝟏 = 𝟐𝑰𝑳            (6 − 23) \n",
      "Where VL is the voltage across the load and IS is the current supplied by the source. This auto-wound \n",
      "transformer behaves as a step-down transformer with a ratio of 2:1, and the current in each winding is \n",
      "equal to half of the load current. \n",
      "An elegant application of the auto-wound transformer principle is the variable transformer, which has a \n",
      "single-layer coil wound on a toroidal core. The output is taken from a carbon brush that makes contact \n",
      "with the surface of the coil; the brush can be moved smoothly from one end of the coil to the other, thus \n",
      "varying the output voltage. Examples of variable transformers are shown in figure 6-10. \n",
      " \n",
      "     \n",
      "      Figure 6-10 Variable transformers. \n",
      " \n",
      " \n",
      " \n",
      "6.3.2 3 Phase Transformer: \n",
      "In 3 -phase systems, it is common practice to use sets of three single -phase transformers. It is also \n",
      "possible, however, to make 3 -phase transformers with three sets of windings on three limbs of a core, \n",
      "as shown in figure 6-11. \n",
      " \n",
      "Figure 6-11 3-phase transformer model \n",
      "\n"
     ]
    }
   ],
   "source": [
    "for i in range(len(results)):\n",
    "    source_data = results[i].metadata[\"source\"]\n",
    "    page = results[i].metadata[\"page\"]\n",
    "    page_content = results[i].page_content\n",
    "\n",
    "    print(f\"This is chunk number {i+1}.\\n\\n The source is {source_data}, found on page number {page}. \\n\\n The page content is {page_content} \\n\")"
   ]
  },
  {
   "cell_type": "code",
   "execution_count": 24,
   "id": "7801f122",
   "metadata": {},
   "outputs": [],
   "source": [
    "from langchain_community.retrievers import BM25Retriever\n",
    "\n",
    "bm25_retriever = BM25Retriever.from_documents(splits)\n",
    "bm25_retriever.k = 4\n",
    "\n",
    "def keyword_search(retriever_obj, input_context: str):\n",
    "    return retriever_obj.invoke(input_context)"
   ]
  },
  {
   "cell_type": "code",
   "execution_count": 25,
   "id": "ba165384",
   "metadata": {},
   "outputs": [],
   "source": [
    "keyword_results = keyword_search(bm25_retriever, \"Explain transformers\")"
   ]
  },
  {
   "cell_type": "code",
   "execution_count": 26,
   "id": "e460773a",
   "metadata": {},
   "outputs": [
    {
     "data": {
      "text/plain": [
       "[Document(metadata={'producer': 'Microsoft® Word 2013', 'creator': 'Microsoft® Word 2013', 'creationdate': '2019-07-27T15:04:48+08:00', 'author': 'Ali Kharrazi', 'moddate': '2019-07-27T15:04:48+08:00', 'source': 'ENSC3016_Course_Notes_Part_1_Electromagnetism_Transformers.pdf', 'total_pages': 76, 'page': 64, 'page_label': '65'}, page_content='65 Electrical Machines and Systems                                                                                                            \\n6.8 Current Transformers \\nInstrument transformers are special transformers for extending the range of measur ing instruments. \\nThere are two basic types: voltage transformers for measuring high voltages, and current transformers \\nfor measuring high currents. Using transformers for voltage measurement is similar in principle to the \\nordinary use of transformers to ch ange voltage levels, so it will not be considered further. Current \\ntransformers, on the other hand, need special consideration. These are usually toroidal transformers with \\nhigh-quality core material. \\nFigure 6-25 shows a load connected to a source. The primary of a current transformer is in series with \\nthe load, and the secondary is connected to a meter \\n  \\nFigure 6-25 Use of a current transformer \\n \\n \\nEquation 6-19 gives: \\n𝐼𝑀 ≈ 𝑁1\\n𝑁2\\n𝐼𝐿     𝑜𝑟  𝐼𝐿 ≈ 𝑁1\\n𝑁2\\n𝐼𝑀           (6 − 53)'),\n",
       " Document(metadata={'producer': 'Microsoft® Word 2013', 'creator': 'Microsoft® Word 2013', 'creationdate': '2019-07-27T15:04:48+08:00', 'author': 'Ali Kharrazi', 'moddate': '2019-07-27T15:04:48+08:00', 'source': 'ENSC3016_Course_Notes_Part_1_Electromagnetism_Transformers.pdf', 'total_pages': 76, 'page': 51, 'page_label': '52'}, page_content='Transformer 52 \\n \\n \\n \\n   Figure 6-3 Shell-type transformers. \\n \\n \\n \\nFigure 6-4 Flux plot: shell-type transformer \\n \\n \\nToroidal transformers exploit the remarkable properties of toroidal coils described in section 3.6. \\nAlthough they are more expensive than shell-type transformers, the performance is better. They are used \\nin high -quality electronic equipment and for instrument transformers (see section 6.3) where \\nmeasurement accuracy is important. Typical toroidal transformers are shown in figure 6-5. \\n \\nFigure 6-5 Toroidal transformers.\\uf020\\n \\n \\n \\n6.2 Transformer Principle: \\nThe action of a transformer is most easily understood if the two coils are wound on opposite sides of a \\nmagnetic core, as shown in the model of figure 6 -6. This form is used for some low -cost transformers, \\nbut the magnetic coupling is not as good as with the shell-type construction. \\n \\n \\nFigure 6-6  Core-type transformer \\n \\n \\n \\nFigure 6 -7 is a schematic representation of the transformer. It will be assumed that the coupling is \\nperfect: the same magnetic flux \\uf066 passes through each turn of each coil. The coil connected to the source \\nis termed the primary, and the coil connected to the load is termed the secondary. It is usual to refer to \\nthe coils as windings.'),\n",
       " Document(metadata={'producer': 'Microsoft® Word 2013', 'creator': 'Microsoft® Word 2013', 'creationdate': '2019-07-27T15:04:48+08:00', 'author': 'Ali Kharrazi', 'moddate': '2019-07-27T15:04:48+08:00', 'source': 'ENSC3016_Course_Notes_Part_1_Electromagnetism_Transformers.pdf', 'total_pages': 76, 'page': 50, 'page_label': '51'}, page_content='6.1.2 Practical aspects: \\nThe cores for high -frequency transformers are often made from magnetically soft ferrites, which are \\nelectrical insulators. For power frequencies, the cores are made from an iron alloy such as silicon steel. \\nThese materials have better magnetic properties than ferrites, but they are also electrical conductors. If \\nthe core were made of solid steel, currents – known as eddy currents – would be induced in the core by \\nthe alternating magnetic flux.  Steel transformer cores are therefore made from thin laminations, \\ninsulated from one another, to minimise eddy currents [1, 6]. \\nSmall power transformers are commonly made with the shell -type construction shown in figure 6 -3, \\nwhere the coils are wound on the central limb of the core, and the two outer limbs provide symmetrical \\nflux return paths. The centre limb is twice the width of the outer limbs because it carries twice the flux, \\nas shown by the flux plot in figure 6-4.'),\n",
       " Document(metadata={'producer': 'Microsoft® Word 2013', 'creator': 'Microsoft® Word 2013', 'creationdate': '2019-07-27T15:04:48+08:00', 'author': 'Ali Kharrazi', 'moddate': '2019-07-27T15:04:48+08:00', 'source': 'ENSC3016_Course_Notes_Part_1_Electromagnetism_Transformers.pdf', 'total_pages': 76, 'page': 68, 'page_label': '69'}, page_content='31. \\n \\n \\n \\n \\nFigure 6-31 E I laminations \\nThe center limb is twice the width of the outer limbs because it carries twice the flux, as shown by \\nthe flux plot in figure 6-32. \\n \\nFigure 6-32  Flux Plot: Shell type transformer \\nThe coils are wound on a bobbin that fits the center limb of the core, and the core is assembled \\nby inserting E laminations alternately from each side and adding matching I laminations. \\nDimensions are chosen so that two E and two I laminations can be punched from a rectangular steel \\nsheet without any waste. Current flowing in the resistance of the transformer windings will produce \\nheat, which must escape through the surface of the windings. In addition, there will be power loss in \\nthe core, which also appears as heat. \\nThe power output from a given size of transformer is governed by the rate at which heat can be \\nremoved. Large transformers are usually cooled by circulating oil, but small transformers rely on')]"
      ]
     },
     "execution_count": 26,
     "metadata": {},
     "output_type": "execute_result"
    }
   ],
   "source": [
    "keyword_results"
   ]
  },
  {
   "cell_type": "code",
   "execution_count": 27,
   "id": "06891a8d",
   "metadata": {},
   "outputs": [
    {
     "name": "stdout",
     "output_type": "stream",
     "text": [
      "This is chunk number 1.\n",
      "\n",
      " The source is ENSC3016_Course_Notes_Part_1_Electromagnetism_Transformers.pdf, found on page number 64. \n",
      "\n",
      " The page content is 65 Electrical Machines and Systems                                                                                                            \n",
      "6.8 Current Transformers \n",
      "Instrument transformers are special transformers for extending the range of measur ing instruments. \n",
      "There are two basic types: voltage transformers for measuring high voltages, and current transformers \n",
      "for measuring high currents. Using transformers for voltage measurement is similar in principle to the \n",
      "ordinary use of transformers to ch ange voltage levels, so it will not be considered further. Current \n",
      "transformers, on the other hand, need special consideration. These are usually toroidal transformers with \n",
      "high-quality core material. \n",
      "Figure 6-25 shows a load connected to a source. The primary of a current transformer is in series with \n",
      "the load, and the secondary is connected to a meter \n",
      "  \n",
      "Figure 6-25 Use of a current transformer \n",
      " \n",
      " \n",
      "Equation 6-19 gives: \n",
      "𝐼𝑀 ≈ 𝑁1\n",
      "𝑁2\n",
      "𝐼𝐿     𝑜𝑟  𝐼𝐿 ≈ 𝑁1\n",
      "𝑁2\n",
      "𝐼𝑀           (6 − 53) \n",
      "\n",
      "This is chunk number 2.\n",
      "\n",
      " The source is ENSC3016_Course_Notes_Part_1_Electromagnetism_Transformers.pdf, found on page number 51. \n",
      "\n",
      " The page content is Transformer 52 \n",
      " \n",
      " \n",
      " \n",
      "   Figure 6-3 Shell-type transformers. \n",
      " \n",
      " \n",
      " \n",
      "Figure 6-4 Flux plot: shell-type transformer \n",
      " \n",
      " \n",
      "Toroidal transformers exploit the remarkable properties of toroidal coils described in section 3.6. \n",
      "Although they are more expensive than shell-type transformers, the performance is better. They are used \n",
      "in high -quality electronic equipment and for instrument transformers (see section 6.3) where \n",
      "measurement accuracy is important. Typical toroidal transformers are shown in figure 6-5. \n",
      " \n",
      "Figure 6-5 Toroidal transformers.\n",
      " \n",
      " \n",
      " \n",
      "6.2 Transformer Principle: \n",
      "The action of a transformer is most easily understood if the two coils are wound on opposite sides of a \n",
      "magnetic core, as shown in the model of figure 6 -6. This form is used for some low -cost transformers, \n",
      "but the magnetic coupling is not as good as with the shell-type construction. \n",
      " \n",
      " \n",
      "Figure 6-6  Core-type transformer \n",
      " \n",
      " \n",
      " \n",
      "Figure 6 -7 is a schematic representation of the transformer. It will be assumed that the coupling is \n",
      "perfect: the same magnetic flux  passes through each turn of each coil. The coil connected to the source \n",
      "is termed the primary, and the coil connected to the load is termed the secondary. It is usual to refer to \n",
      "the coils as windings. \n",
      "\n",
      "This is chunk number 3.\n",
      "\n",
      " The source is ENSC3016_Course_Notes_Part_1_Electromagnetism_Transformers.pdf, found on page number 50. \n",
      "\n",
      " The page content is 6.1.2 Practical aspects: \n",
      "The cores for high -frequency transformers are often made from magnetically soft ferrites, which are \n",
      "electrical insulators. For power frequencies, the cores are made from an iron alloy such as silicon steel. \n",
      "These materials have better magnetic properties than ferrites, but they are also electrical conductors. If \n",
      "the core were made of solid steel, currents – known as eddy currents – would be induced in the core by \n",
      "the alternating magnetic flux.  Steel transformer cores are therefore made from thin laminations, \n",
      "insulated from one another, to minimise eddy currents [1, 6]. \n",
      "Small power transformers are commonly made with the shell -type construction shown in figure 6 -3, \n",
      "where the coils are wound on the central limb of the core, and the two outer limbs provide symmetrical \n",
      "flux return paths. The centre limb is twice the width of the outer limbs because it carries twice the flux, \n",
      "as shown by the flux plot in figure 6-4. \n",
      "\n",
      "This is chunk number 4.\n",
      "\n",
      " The source is ENSC3016_Course_Notes_Part_1_Electromagnetism_Transformers.pdf, found on page number 68. \n",
      "\n",
      " The page content is 31. \n",
      " \n",
      " \n",
      " \n",
      " \n",
      "Figure 6-31 E I laminations \n",
      "The center limb is twice the width of the outer limbs because it carries twice the flux, as shown by \n",
      "the flux plot in figure 6-32. \n",
      " \n",
      "Figure 6-32  Flux Plot: Shell type transformer \n",
      "The coils are wound on a bobbin that fits the center limb of the core, and the core is assembled \n",
      "by inserting E laminations alternately from each side and adding matching I laminations. \n",
      "Dimensions are chosen so that two E and two I laminations can be punched from a rectangular steel \n",
      "sheet without any waste. Current flowing in the resistance of the transformer windings will produce \n",
      "heat, which must escape through the surface of the windings. In addition, there will be power loss in \n",
      "the core, which also appears as heat. \n",
      "The power output from a given size of transformer is governed by the rate at which heat can be \n",
      "removed. Large transformers are usually cooled by circulating oil, but small transformers rely on \n",
      "\n"
     ]
    }
   ],
   "source": [
    "for i in range(len(keyword_results)):\n",
    "    source_data = keyword_results[i].metadata[\"source\"]\n",
    "    page = keyword_results[i].metadata[\"page\"]\n",
    "    page_content = keyword_results[i].page_content\n",
    "\n",
    "    print(f\"This is chunk number {i+1}.\\n\\n The source is {source_data}, found on page number {page}. \\n\\n The page content is {page_content} \\n\")"
   ]
  },
  {
   "cell_type": "code",
   "execution_count": 28,
   "id": "d0611271",
   "metadata": {},
   "outputs": [],
   "source": [
    "from langchain.retrievers import EnsembleRetriever\n",
    "\n",
    "ensemble_retriever = EnsembleRetriever(retrievers= [semantic_retriever, bm25_retriever], weights = [0.6, 0.4])"
   ]
  },
  {
   "cell_type": "code",
   "execution_count": 29,
   "id": "559d2a17",
   "metadata": {},
   "outputs": [],
   "source": [
    "combined_results = ensemble_retriever.invoke(\"Explain transformers\")"
   ]
  },
  {
   "cell_type": "code",
   "execution_count": 30,
   "id": "8d923f78",
   "metadata": {},
   "outputs": [
    {
     "data": {
      "text/plain": [
       "[Document(id='edb5304c-c167-48dc-b7e2-e01bb20967fe', metadata={'producer': 'Microsoft® Word 2013', 'creator': 'Microsoft® Word 2013', 'creationdate': '2019-07-27T15:04:48+08:00', 'author': 'Ali Kharrazi', 'moddate': '2019-07-27T15:04:48+08:00', 'source': 'ENSC3016_Course_Notes_Part_1_Electromagnetism_Transformers.pdf', 'total_pages': 76, 'page': 51, 'page_label': '52'}, page_content='Transformer 52 \\n \\n \\n \\n   Figure 6-3 Shell-type transformers. \\n \\n \\n \\nFigure 6-4 Flux plot: shell-type transformer \\n \\n \\nToroidal transformers exploit the remarkable properties of toroidal coils described in section 3.6. \\nAlthough they are more expensive than shell-type transformers, the performance is better. They are used \\nin high -quality electronic equipment and for instrument transformers (see section 6.3) where \\nmeasurement accuracy is important. Typical toroidal transformers are shown in figure 6-5. \\n \\nFigure 6-5 Toroidal transformers.\\uf020\\n \\n \\n \\n6.2 Transformer Principle: \\nThe action of a transformer is most easily understood if the two coils are wound on opposite sides of a \\nmagnetic core, as shown in the model of figure 6 -6. This form is used for some low -cost transformers, \\nbut the magnetic coupling is not as good as with the shell-type construction. \\n \\n \\nFigure 6-6  Core-type transformer \\n \\n \\n \\nFigure 6 -7 is a schematic representation of the transformer. It will be assumed that the coupling is \\nperfect: the same magnetic flux \\uf066 passes through each turn of each coil. The coil connected to the source \\nis termed the primary, and the coil connected to the load is termed the secondary. It is usual to refer to \\nthe coils as windings.'),\n",
       " Document(id='ce9a4a3f-166e-4209-80e8-df82a9dcf147', metadata={'producer': 'Microsoft® Word 2013', 'creator': 'Microsoft® Word 2013', 'creationdate': '2019-07-27T15:04:48+08:00', 'author': 'Ali Kharrazi', 'moddate': '2019-07-27T15:04:48+08:00', 'source': 'ENSC3016_Course_Notes_Part_1_Electromagnetism_Transformers.pdf', 'total_pages': 76, 'page': 50, 'page_label': '51'}, page_content='51 Electrical Machines and Systems                                                                                                            \\n \\n6 Transformer \\n6.1 Introduction: \\nA transformer is a practical application of magnetically coupled coils. Usually the purpose is to transfer \\nenergy from one coil to the other, as in figure 6-1 where energy is transferred from the AC source to the \\nlamp through the space between the coils. \\n \\nFigure 6-1 Transformer principle \\nTransformers are essentially AC devices, because there has to be a change of flux to give an induced \\nvoltage in a coil. There are two main reasons for transferring energy in this way: \\n\\uf0b7 To provide electrical isolation between the source and the load. \\n\\uf0b7 To change the voltage and current levels. \\nThe coils are usually placed on a common magnetic core to improve the coupling. Figure 6-2 shows the \\nflux plots for two coupled coils (a) without a core, (b) with an open core, (c) with a closed core \\n \\nFigure 6-2 Effect of a magnetic core: \\n6.1.2 Practical aspects: \\nThe cores for high -frequency transformers are often made from magnetically soft ferrites, which are \\nelectrical insulators. For power frequencies, the cores are made from an iron alloy such as silicon steel.'),\n",
       " Document(id='0d6ddbf9-9858-4f9e-8db4-05e50dd53753', metadata={'producer': 'Microsoft® Word 2013', 'creator': 'Microsoft® Word 2013', 'creationdate': '2019-07-27T15:04:48+08:00', 'author': 'Ali Kharrazi', 'moddate': '2019-07-27T15:04:48+08:00', 'source': 'ENSC3016_Course_Notes_Part_1_Electromagnetism_Transformers.pdf', 'total_pages': 76, 'page': 52, 'page_label': '53'}, page_content='𝑑𝜙\\n𝑑𝑡        (6 − 3) \\n𝑣2 = 𝑅2𝑖2 + 𝑁2\\n𝑑𝜙\\n𝑑𝑡                               (6 − 4) \\nThe sign difference arises from the reference directions for current in the two windings. \\nIf the resistances R1 and R2 are negligible, then equations 6-3 and 6-4 become: \\n𝑣1 ≈ 𝑁1\\n𝑑𝜙\\n𝑑𝑡          (6 − 5) \\n𝑣2 ≈ 𝑁2\\n𝑑𝜙\\n𝑑𝑡         (6 − 6) \\nDividing these equations gives the important result: \\n𝑣1\\n𝑣2\\n≈ 𝑁1\\n𝑁2\\n        (6 − 7) \\nThus, the secondary voltage can be made larger or smaller than the primary voltage by changing the \\nratio of the numbers of turns on the two windings. Voltage transformation is one of the most common \\nuses of transformers, on a large scale in electrical power transmission and distribution, and on a small \\nscale in the power supplies for electronic equipment. \\n6.2.2 Sinusoidal operation: \\nIf the voltage source is sinusoidal, then the core flux will also be sinusoidal, so we may put:'),\n",
       " Document(id='fba5a6ed-7b85-4b48-9f69-1141493721d7', metadata={'producer': 'Microsoft® Word 2013', 'creator': 'Microsoft® Word 2013', 'creationdate': '2019-07-27T15:04:48+08:00', 'author': 'Ali Kharrazi', 'moddate': '2019-07-27T15:04:48+08:00', 'source': 'ENSC3016_Course_Notes_Part_1_Electromagnetism_Transformers.pdf', 'total_pages': 76, 'page': 55, 'page_label': '56'}, page_content='𝑽𝒔 = 𝑽𝟏 + 𝑽𝟐 = 𝟐𝑽𝟐 = 𝟐𝑽𝑳        (6 − 22) \\n𝑰𝑳 = 𝑰𝟏 + 𝑰𝟐 = 𝟐𝑰𝟏 = 𝟐𝑰𝑳            (6 − 23) \\nWhere VL is the voltage across the load and IS is the current supplied by the source. This auto-wound \\ntransformer behaves as a step-down transformer with a ratio of 2:1, and the current in each winding is \\nequal to half of the load current. \\nAn elegant application of the auto-wound transformer principle is the variable transformer, which has a \\nsingle-layer coil wound on a toroidal core. The output is taken from a carbon brush that makes contact \\nwith the surface of the coil; the brush can be moved smoothly from one end of the coil to the other, thus \\nvarying the output voltage. Examples of variable transformers are shown in figure 6-10. \\n \\n     \\n      Figure 6-10 Variable transformers. \\n \\n \\n \\n6.3.2 3 Phase Transformer: \\nIn 3 -phase systems, it is common practice to use sets of three single -phase transformers. It is also \\npossible, however, to make 3 -phase transformers with three sets of windings on three limbs of a core, \\nas shown in figure 6-11. \\n \\nFigure 6-11 3-phase transformer model'),\n",
       " Document(metadata={'producer': 'Microsoft® Word 2013', 'creator': 'Microsoft® Word 2013', 'creationdate': '2019-07-27T15:04:48+08:00', 'author': 'Ali Kharrazi', 'moddate': '2019-07-27T15:04:48+08:00', 'source': 'ENSC3016_Course_Notes_Part_1_Electromagnetism_Transformers.pdf', 'total_pages': 76, 'page': 64, 'page_label': '65'}, page_content='65 Electrical Machines and Systems                                                                                                            \\n6.8 Current Transformers \\nInstrument transformers are special transformers for extending the range of measur ing instruments. \\nThere are two basic types: voltage transformers for measuring high voltages, and current transformers \\nfor measuring high currents. Using transformers for voltage measurement is similar in principle to the \\nordinary use of transformers to ch ange voltage levels, so it will not be considered further. Current \\ntransformers, on the other hand, need special consideration. These are usually toroidal transformers with \\nhigh-quality core material. \\nFigure 6-25 shows a load connected to a source. The primary of a current transformer is in series with \\nthe load, and the secondary is connected to a meter \\n  \\nFigure 6-25 Use of a current transformer \\n \\n \\nEquation 6-19 gives: \\n𝐼𝑀 ≈ 𝑁1\\n𝑁2\\n𝐼𝐿     𝑜𝑟  𝐼𝐿 ≈ 𝑁1\\n𝑁2\\n𝐼𝑀           (6 − 53)'),\n",
       " Document(metadata={'producer': 'Microsoft® Word 2013', 'creator': 'Microsoft® Word 2013', 'creationdate': '2019-07-27T15:04:48+08:00', 'author': 'Ali Kharrazi', 'moddate': '2019-07-27T15:04:48+08:00', 'source': 'ENSC3016_Course_Notes_Part_1_Electromagnetism_Transformers.pdf', 'total_pages': 76, 'page': 50, 'page_label': '51'}, page_content='6.1.2 Practical aspects: \\nThe cores for high -frequency transformers are often made from magnetically soft ferrites, which are \\nelectrical insulators. For power frequencies, the cores are made from an iron alloy such as silicon steel. \\nThese materials have better magnetic properties than ferrites, but they are also electrical conductors. If \\nthe core were made of solid steel, currents – known as eddy currents – would be induced in the core by \\nthe alternating magnetic flux.  Steel transformer cores are therefore made from thin laminations, \\ninsulated from one another, to minimise eddy currents [1, 6]. \\nSmall power transformers are commonly made with the shell -type construction shown in figure 6 -3, \\nwhere the coils are wound on the central limb of the core, and the two outer limbs provide symmetrical \\nflux return paths. The centre limb is twice the width of the outer limbs because it carries twice the flux, \\nas shown by the flux plot in figure 6-4.'),\n",
       " Document(metadata={'producer': 'Microsoft® Word 2013', 'creator': 'Microsoft® Word 2013', 'creationdate': '2019-07-27T15:04:48+08:00', 'author': 'Ali Kharrazi', 'moddate': '2019-07-27T15:04:48+08:00', 'source': 'ENSC3016_Course_Notes_Part_1_Electromagnetism_Transformers.pdf', 'total_pages': 76, 'page': 68, 'page_label': '69'}, page_content='31. \\n \\n \\n \\n \\nFigure 6-31 E I laminations \\nThe center limb is twice the width of the outer limbs because it carries twice the flux, as shown by \\nthe flux plot in figure 6-32. \\n \\nFigure 6-32  Flux Plot: Shell type transformer \\nThe coils are wound on a bobbin that fits the center limb of the core, and the core is assembled \\nby inserting E laminations alternately from each side and adding matching I laminations. \\nDimensions are chosen so that two E and two I laminations can be punched from a rectangular steel \\nsheet without any waste. Current flowing in the resistance of the transformer windings will produce \\nheat, which must escape through the surface of the windings. In addition, there will be power loss in \\nthe core, which also appears as heat. \\nThe power output from a given size of transformer is governed by the rate at which heat can be \\nremoved. Large transformers are usually cooled by circulating oil, but small transformers rely on')]"
      ]
     },
     "execution_count": 30,
     "metadata": {},
     "output_type": "execute_result"
    }
   ],
   "source": [
    "combined_results"
   ]
  },
  {
   "cell_type": "code",
   "execution_count": 31,
   "id": "1a2f6cff",
   "metadata": {},
   "outputs": [
    {
     "name": "stdout",
     "output_type": "stream",
     "text": [
      "{'producer': 'Microsoft® Word 2013', 'creator': 'Microsoft® Word 2013', 'creationdate': '2019-07-27T15:04:48+08:00', 'author': 'Ali Kharrazi', 'moddate': '2019-07-27T15:04:48+08:00', 'source': 'ENSC3016_Course_Notes_Part_1_Electromagnetism_Transformers.pdf', 'total_pages': 76, 'page': 51, 'page_label': '52'}\n",
      "{'producer': 'Microsoft® Word 2013', 'creator': 'Microsoft® Word 2013', 'creationdate': '2019-07-27T15:04:48+08:00', 'author': 'Ali Kharrazi', 'moddate': '2019-07-27T15:04:48+08:00', 'source': 'ENSC3016_Course_Notes_Part_1_Electromagnetism_Transformers.pdf', 'total_pages': 76, 'page': 50, 'page_label': '51'}\n",
      "{'producer': 'Microsoft® Word 2013', 'creator': 'Microsoft® Word 2013', 'creationdate': '2019-07-27T15:04:48+08:00', 'author': 'Ali Kharrazi', 'moddate': '2019-07-27T15:04:48+08:00', 'source': 'ENSC3016_Course_Notes_Part_1_Electromagnetism_Transformers.pdf', 'total_pages': 76, 'page': 52, 'page_label': '53'}\n",
      "{'producer': 'Microsoft® Word 2013', 'creator': 'Microsoft® Word 2013', 'creationdate': '2019-07-27T15:04:48+08:00', 'author': 'Ali Kharrazi', 'moddate': '2019-07-27T15:04:48+08:00', 'source': 'ENSC3016_Course_Notes_Part_1_Electromagnetism_Transformers.pdf', 'total_pages': 76, 'page': 55, 'page_label': '56'}\n",
      "{'producer': 'Microsoft® Word 2013', 'creator': 'Microsoft® Word 2013', 'creationdate': '2019-07-27T15:04:48+08:00', 'author': 'Ali Kharrazi', 'moddate': '2019-07-27T15:04:48+08:00', 'source': 'ENSC3016_Course_Notes_Part_1_Electromagnetism_Transformers.pdf', 'total_pages': 76, 'page': 64, 'page_label': '65'}\n",
      "{'producer': 'Microsoft® Word 2013', 'creator': 'Microsoft® Word 2013', 'creationdate': '2019-07-27T15:04:48+08:00', 'author': 'Ali Kharrazi', 'moddate': '2019-07-27T15:04:48+08:00', 'source': 'ENSC3016_Course_Notes_Part_1_Electromagnetism_Transformers.pdf', 'total_pages': 76, 'page': 50, 'page_label': '51'}\n",
      "{'producer': 'Microsoft® Word 2013', 'creator': 'Microsoft® Word 2013', 'creationdate': '2019-07-27T15:04:48+08:00', 'author': 'Ali Kharrazi', 'moddate': '2019-07-27T15:04:48+08:00', 'source': 'ENSC3016_Course_Notes_Part_1_Electromagnetism_Transformers.pdf', 'total_pages': 76, 'page': 68, 'page_label': '69'}\n"
     ]
    }
   ],
   "source": [
    "for i in combined_results:\n",
    "\n",
    "    print(i.metadata)"
   ]
  },
  {
   "cell_type": "code",
   "execution_count": 32,
   "id": "e24772fa",
   "metadata": {},
   "outputs": [],
   "source": [
    "i = 1\n",
    "result_list = [combined_results[0]]\n",
    "seen_pages = {combined_results[0].metadata[\"page_label\"]}\n",
    "\n",
    "while i < len(combined_results):\n",
    "    metadata = combined_results[i].metadata\n",
    "    page_label = metadata[\"page_label\"]\n",
    "\n",
    "    if page_label in seen_pages:\n",
    "        i += 1  # You MUST increment i here\n",
    "        continue\n",
    "\n",
    "    result_list.append(combined_results[i])\n",
    "    seen_pages.add(page_label)\n",
    "    i += 1"
   ]
  },
  {
   "cell_type": "code",
   "execution_count": 33,
   "id": "83d73bda",
   "metadata": {},
   "outputs": [
    {
     "data": {
      "text/plain": [
       "[Document(id='edb5304c-c167-48dc-b7e2-e01bb20967fe', metadata={'producer': 'Microsoft® Word 2013', 'creator': 'Microsoft® Word 2013', 'creationdate': '2019-07-27T15:04:48+08:00', 'author': 'Ali Kharrazi', 'moddate': '2019-07-27T15:04:48+08:00', 'source': 'ENSC3016_Course_Notes_Part_1_Electromagnetism_Transformers.pdf', 'total_pages': 76, 'page': 51, 'page_label': '52'}, page_content='Transformer 52 \\n \\n \\n \\n   Figure 6-3 Shell-type transformers. \\n \\n \\n \\nFigure 6-4 Flux plot: shell-type transformer \\n \\n \\nToroidal transformers exploit the remarkable properties of toroidal coils described in section 3.6. \\nAlthough they are more expensive than shell-type transformers, the performance is better. They are used \\nin high -quality electronic equipment and for instrument transformers (see section 6.3) where \\nmeasurement accuracy is important. Typical toroidal transformers are shown in figure 6-5. \\n \\nFigure 6-5 Toroidal transformers.\\uf020\\n \\n \\n \\n6.2 Transformer Principle: \\nThe action of a transformer is most easily understood if the two coils are wound on opposite sides of a \\nmagnetic core, as shown in the model of figure 6 -6. This form is used for some low -cost transformers, \\nbut the magnetic coupling is not as good as with the shell-type construction. \\n \\n \\nFigure 6-6  Core-type transformer \\n \\n \\n \\nFigure 6 -7 is a schematic representation of the transformer. It will be assumed that the coupling is \\nperfect: the same magnetic flux \\uf066 passes through each turn of each coil. The coil connected to the source \\nis termed the primary, and the coil connected to the load is termed the secondary. It is usual to refer to \\nthe coils as windings.'),\n",
       " Document(id='ce9a4a3f-166e-4209-80e8-df82a9dcf147', metadata={'producer': 'Microsoft® Word 2013', 'creator': 'Microsoft® Word 2013', 'creationdate': '2019-07-27T15:04:48+08:00', 'author': 'Ali Kharrazi', 'moddate': '2019-07-27T15:04:48+08:00', 'source': 'ENSC3016_Course_Notes_Part_1_Electromagnetism_Transformers.pdf', 'total_pages': 76, 'page': 50, 'page_label': '51'}, page_content='51 Electrical Machines and Systems                                                                                                            \\n \\n6 Transformer \\n6.1 Introduction: \\nA transformer is a practical application of magnetically coupled coils. Usually the purpose is to transfer \\nenergy from one coil to the other, as in figure 6-1 where energy is transferred from the AC source to the \\nlamp through the space between the coils. \\n \\nFigure 6-1 Transformer principle \\nTransformers are essentially AC devices, because there has to be a change of flux to give an induced \\nvoltage in a coil. There are two main reasons for transferring energy in this way: \\n\\uf0b7 To provide electrical isolation between the source and the load. \\n\\uf0b7 To change the voltage and current levels. \\nThe coils are usually placed on a common magnetic core to improve the coupling. Figure 6-2 shows the \\nflux plots for two coupled coils (a) without a core, (b) with an open core, (c) with a closed core \\n \\nFigure 6-2 Effect of a magnetic core: \\n6.1.2 Practical aspects: \\nThe cores for high -frequency transformers are often made from magnetically soft ferrites, which are \\nelectrical insulators. For power frequencies, the cores are made from an iron alloy such as silicon steel.'),\n",
       " Document(id='0d6ddbf9-9858-4f9e-8db4-05e50dd53753', metadata={'producer': 'Microsoft® Word 2013', 'creator': 'Microsoft® Word 2013', 'creationdate': '2019-07-27T15:04:48+08:00', 'author': 'Ali Kharrazi', 'moddate': '2019-07-27T15:04:48+08:00', 'source': 'ENSC3016_Course_Notes_Part_1_Electromagnetism_Transformers.pdf', 'total_pages': 76, 'page': 52, 'page_label': '53'}, page_content='𝑑𝜙\\n𝑑𝑡        (6 − 3) \\n𝑣2 = 𝑅2𝑖2 + 𝑁2\\n𝑑𝜙\\n𝑑𝑡                               (6 − 4) \\nThe sign difference arises from the reference directions for current in the two windings. \\nIf the resistances R1 and R2 are negligible, then equations 6-3 and 6-4 become: \\n𝑣1 ≈ 𝑁1\\n𝑑𝜙\\n𝑑𝑡          (6 − 5) \\n𝑣2 ≈ 𝑁2\\n𝑑𝜙\\n𝑑𝑡         (6 − 6) \\nDividing these equations gives the important result: \\n𝑣1\\n𝑣2\\n≈ 𝑁1\\n𝑁2\\n        (6 − 7) \\nThus, the secondary voltage can be made larger or smaller than the primary voltage by changing the \\nratio of the numbers of turns on the two windings. Voltage transformation is one of the most common \\nuses of transformers, on a large scale in electrical power transmission and distribution, and on a small \\nscale in the power supplies for electronic equipment. \\n6.2.2 Sinusoidal operation: \\nIf the voltage source is sinusoidal, then the core flux will also be sinusoidal, so we may put:'),\n",
       " Document(id='fba5a6ed-7b85-4b48-9f69-1141493721d7', metadata={'producer': 'Microsoft® Word 2013', 'creator': 'Microsoft® Word 2013', 'creationdate': '2019-07-27T15:04:48+08:00', 'author': 'Ali Kharrazi', 'moddate': '2019-07-27T15:04:48+08:00', 'source': 'ENSC3016_Course_Notes_Part_1_Electromagnetism_Transformers.pdf', 'total_pages': 76, 'page': 55, 'page_label': '56'}, page_content='𝑽𝒔 = 𝑽𝟏 + 𝑽𝟐 = 𝟐𝑽𝟐 = 𝟐𝑽𝑳        (6 − 22) \\n𝑰𝑳 = 𝑰𝟏 + 𝑰𝟐 = 𝟐𝑰𝟏 = 𝟐𝑰𝑳            (6 − 23) \\nWhere VL is the voltage across the load and IS is the current supplied by the source. This auto-wound \\ntransformer behaves as a step-down transformer with a ratio of 2:1, and the current in each winding is \\nequal to half of the load current. \\nAn elegant application of the auto-wound transformer principle is the variable transformer, which has a \\nsingle-layer coil wound on a toroidal core. The output is taken from a carbon brush that makes contact \\nwith the surface of the coil; the brush can be moved smoothly from one end of the coil to the other, thus \\nvarying the output voltage. Examples of variable transformers are shown in figure 6-10. \\n \\n     \\n      Figure 6-10 Variable transformers. \\n \\n \\n \\n6.3.2 3 Phase Transformer: \\nIn 3 -phase systems, it is common practice to use sets of three single -phase transformers. It is also \\npossible, however, to make 3 -phase transformers with three sets of windings on three limbs of a core, \\nas shown in figure 6-11. \\n \\nFigure 6-11 3-phase transformer model'),\n",
       " Document(metadata={'producer': 'Microsoft® Word 2013', 'creator': 'Microsoft® Word 2013', 'creationdate': '2019-07-27T15:04:48+08:00', 'author': 'Ali Kharrazi', 'moddate': '2019-07-27T15:04:48+08:00', 'source': 'ENSC3016_Course_Notes_Part_1_Electromagnetism_Transformers.pdf', 'total_pages': 76, 'page': 64, 'page_label': '65'}, page_content='65 Electrical Machines and Systems                                                                                                            \\n6.8 Current Transformers \\nInstrument transformers are special transformers for extending the range of measur ing instruments. \\nThere are two basic types: voltage transformers for measuring high voltages, and current transformers \\nfor measuring high currents. Using transformers for voltage measurement is similar in principle to the \\nordinary use of transformers to ch ange voltage levels, so it will not be considered further. Current \\ntransformers, on the other hand, need special consideration. These are usually toroidal transformers with \\nhigh-quality core material. \\nFigure 6-25 shows a load connected to a source. The primary of a current transformer is in series with \\nthe load, and the secondary is connected to a meter \\n  \\nFigure 6-25 Use of a current transformer \\n \\n \\nEquation 6-19 gives: \\n𝐼𝑀 ≈ 𝑁1\\n𝑁2\\n𝐼𝐿     𝑜𝑟  𝐼𝐿 ≈ 𝑁1\\n𝑁2\\n𝐼𝑀           (6 − 53)'),\n",
       " Document(metadata={'producer': 'Microsoft® Word 2013', 'creator': 'Microsoft® Word 2013', 'creationdate': '2019-07-27T15:04:48+08:00', 'author': 'Ali Kharrazi', 'moddate': '2019-07-27T15:04:48+08:00', 'source': 'ENSC3016_Course_Notes_Part_1_Electromagnetism_Transformers.pdf', 'total_pages': 76, 'page': 68, 'page_label': '69'}, page_content='31. \\n \\n \\n \\n \\nFigure 6-31 E I laminations \\nThe center limb is twice the width of the outer limbs because it carries twice the flux, as shown by \\nthe flux plot in figure 6-32. \\n \\nFigure 6-32  Flux Plot: Shell type transformer \\nThe coils are wound on a bobbin that fits the center limb of the core, and the core is assembled \\nby inserting E laminations alternately from each side and adding matching I laminations. \\nDimensions are chosen so that two E and two I laminations can be punched from a rectangular steel \\nsheet without any waste. Current flowing in the resistance of the transformer windings will produce \\nheat, which must escape through the surface of the windings. In addition, there will be power loss in \\nthe core, which also appears as heat. \\nThe power output from a given size of transformer is governed by the rate at which heat can be \\nremoved. Large transformers are usually cooled by circulating oil, but small transformers rely on')]"
      ]
     },
     "execution_count": 33,
     "metadata": {},
     "output_type": "execute_result"
    }
   ],
   "source": [
    "result_list"
   ]
  },
  {
   "cell_type": "code",
   "execution_count": 34,
   "id": "e3fbbb6b",
   "metadata": {},
   "outputs": [],
   "source": [
    "input_template = \"\"\"You are an expert assistant answering based only on the provided context.\n",
    "\n",
    "The retrieved documents have been joined together and are separated by \"Chunk_n\", where n is the chunk number. Here is the context:\n",
    "\n",
    "{context}\n",
    "\n",
    "Use all relevant information above to answer the question below. If the answer isn't found in the chunks, say:\n",
    "\"I cannot answer this question because the necessary information was not found in the provided documents.\"\n",
    "\n",
    "❗Do not cite or mention any source files or page numbers in the body of your answer.\n",
    "\n",
    "At the end of your answer, add a single line in this format:\n",
    "\n",
    "Information was pulled from: <source_file_1>: pages <comma-separated page numbers>; <source_file_2>: pages <...>; ...\n",
    "\n",
    "Use only one entry per document, listing all unique page numbers where information was pulled from.\n",
    "Do not mention metadata_n, chunk_n, or include references in the main answer.\n",
    "\n",
    "Metadata:\n",
    "{metadata}\n",
    "\n",
    "Question: {question}\n",
    "\"\"\""
   ]
  },
  {
   "cell_type": "code",
   "execution_count": null,
   "id": "9486440b",
   "metadata": {},
   "outputs": [],
   "source": [
    "from langchain_core.prompts import ChatPromptTemplate, MessagesPlaceholder\n",
    "from langchain_core.runnables import RunnableLambda, RunnableParallel\n",
    "\n",
    "def content_parser(results):\n",
    "    context_string = \"\"\n",
    "    for i in range(len(results)):\n",
    "\n",
    "        context_string += f\"\\nChunk_{i+1}:\\n\\n{results[i].page_content}\\n\\n\\n\"\n",
    "\n",
    "    return context_string \n",
    "\n",
    "chunks = content_parser(result_list)"
   ]
  },
  {
   "cell_type": "code",
   "execution_count": null,
   "id": "f9d7ba3b",
   "metadata": {},
   "outputs": [],
   "source": [
    "chunk_runnable = RunnableLambda(content_parser)"
   ]
  },
  {
   "cell_type": "code",
   "execution_count": 36,
   "id": "8a69a088",
   "metadata": {},
   "outputs": [],
   "source": [
    "def metadata_parser(results):\n",
    "    metadata_files = {}\n",
    "\n",
    "    for doc in results:\n",
    "        source = doc.metadata[\"source\"]\n",
    "        page = doc.metadata[\"page_label\"]\n",
    "\n",
    "        if source in metadata_files:\n",
    "            if page not in metadata_files[source]:\n",
    "                metadata_files[source].append(page)\n",
    "        else:\n",
    "            metadata_files[source] = [page]\n",
    "\n",
    "    metadata_string = \"This file uses the following sources:\"\n",
    "\n",
    "    for key in metadata_files:\n",
    "        pages = \", \".join(str(i) for i in metadata_files[key])\n",
    "        metadata_string += f\"\\n\\n{key}, pages {pages}\"\n",
    "        \n",
    "\n",
    "    return metadata_string"
   ]
  },
  {
   "cell_type": "code",
   "execution_count": 50,
   "id": "204f6c42",
   "metadata": {},
   "outputs": [
    {
     "name": "stdout",
     "output_type": "stream",
     "text": [
      "This file uses the following sources:\n",
      "\n",
      "ENSC3016_Course_Notes_Part_1_Electromagnetism_Transformers.pdf, pages 52, 51, 53, 56, 65, 69\n"
     ]
    }
   ],
   "source": [
    "metadata_runnable = RunnableLambda(metadata_parser)\n",
    "print(metadata_runnable.invoke(result_list))"
   ]
  },
  {
   "cell_type": "code",
   "execution_count": 37,
   "id": "10700fca",
   "metadata": {},
   "outputs": [],
   "source": [
    "metadata = metadata_parser(result_list)"
   ]
  },
  {
   "cell_type": "code",
   "execution_count": 38,
   "id": "804e39a1",
   "metadata": {},
   "outputs": [
    {
     "name": "stdout",
     "output_type": "stream",
     "text": [
      "This file uses the following sources:\n",
      "\n",
      "ENSC3016_Course_Notes_Part_1_Electromagnetism_Transformers.pdf, pages 52, 51, 53, 56, 65, 69\n"
     ]
    }
   ],
   "source": [
    "print(metadata)"
   ]
  },
  {
   "cell_type": "code",
   "execution_count": 40,
   "id": "1c196066",
   "metadata": {},
   "outputs": [],
   "source": [
    "prompt_template = ChatPromptTemplate(\n",
    "    [\n",
    "        (\"system\", input_template),\n",
    "        MessagesPlaceholder(\"chat_history\"),\n",
    "        (\"human\", \"{input}\"),\n",
    "    ]\n",
    ")\n",
    "\n",
    "chain = prompt_template | llm"
   ]
  },
  {
   "cell_type": "code",
   "execution_count": null,
   "id": "3c7995f0",
   "metadata": {},
   "outputs": [],
   "source": [
    "contextualize_q_system_prompt = \"\"\"Given a chat history and the latest user question which might reference previous context,\n",
    "reformulate it as a fully standalone question that can be answered without the chat history.\n",
    "If the question is already standalone, return it as-is.\"\"\"\n",
    "\n",
    "contextual_prompt = ChatPromptTemplate(\n",
    "    [\n",
    "        (\"system\", contextualize_q_system_prompt),\n",
    "        MessagesPlaceholder(\"chat_history\"),\n",
    "        (\"human\", \"{input}\"),\n",
    "    ]\n",
    ")\n"
   ]
  },
  {
   "cell_type": "code",
   "execution_count": null,
   "id": "7d01d18f",
   "metadata": {},
   "outputs": [],
   "source": [
    "chain = prompt_template | llm\n",
    "answer1 = chain.invoke(\n",
    "    {'context': chunks,\n",
    "     'metadata': metadata,\n",
    "     'chat_history': [],\n",
    "     'input': \"Explain transformers\",\n",
    "     'question': \"Explain transformers\"}\n",
    ")"
   ]
  },
  {
   "cell_type": "code",
   "execution_count": 101,
   "id": "8ed86482",
   "metadata": {},
   "outputs": [],
   "source": [
    "history = []\n",
    "\n",
    "recontextual_chain = contextual_prompt | llm\n",
    "\n",
    "context_injecter = recontextual_chain | ensemble_retriever | RunnableParallel({'context': chunk_runnable, 'metadata': metadata_runnable})"
   ]
  },
  {
   "cell_type": "code",
   "execution_count": 104,
   "id": "1ca83aeb",
   "metadata": {},
   "outputs": [
    {
     "data": {
      "text/plain": [
       "ChatPromptTemplate(input_variables=['chat_history', 'input'], input_types={'chat_history': list[typing.Annotated[typing.Union[typing.Annotated[langchain_core.messages.ai.AIMessage, Tag(tag='ai')], typing.Annotated[langchain_core.messages.human.HumanMessage, Tag(tag='human')], typing.Annotated[langchain_core.messages.chat.ChatMessage, Tag(tag='chat')], typing.Annotated[langchain_core.messages.system.SystemMessage, Tag(tag='system')], typing.Annotated[langchain_core.messages.function.FunctionMessage, Tag(tag='function')], typing.Annotated[langchain_core.messages.tool.ToolMessage, Tag(tag='tool')], typing.Annotated[langchain_core.messages.ai.AIMessageChunk, Tag(tag='AIMessageChunk')], typing.Annotated[langchain_core.messages.human.HumanMessageChunk, Tag(tag='HumanMessageChunk')], typing.Annotated[langchain_core.messages.chat.ChatMessageChunk, Tag(tag='ChatMessageChunk')], typing.Annotated[langchain_core.messages.system.SystemMessageChunk, Tag(tag='SystemMessageChunk')], typing.Annotated[langchain_core.messages.function.FunctionMessageChunk, Tag(tag='FunctionMessageChunk')], typing.Annotated[langchain_core.messages.tool.ToolMessageChunk, Tag(tag='ToolMessageChunk')]], FieldInfo(annotation=NoneType, required=True, discriminator=Discriminator(discriminator=<function _get_type at 0x10a843a60>, custom_error_type=None, custom_error_message=None, custom_error_context=None))]]}, partial_variables={}, messages=[SystemMessagePromptTemplate(prompt=PromptTemplate(input_variables=[], input_types={}, partial_variables={}, template='Given a chat history and the latest user question which might reference context in the chat history, formulate a standalone question which can be understood without the chat history. Do NOT answer the question, just reformulate it if needed and otherwise return it as is.'), additional_kwargs={}), MessagesPlaceholder(variable_name='chat_history'), HumanMessagePromptTemplate(prompt=PromptTemplate(input_variables=['input'], input_types={}, partial_variables={}, template='{input}'), additional_kwargs={})])\n",
       "| OllamaLLM(model='llama3.2')"
      ]
     },
     "execution_count": 104,
     "metadata": {},
     "output_type": "execute_result"
    }
   ],
   "source": [
    "recontextual_chain"
   ]
  },
  {
   "cell_type": "code",
   "execution_count": 102,
   "id": "2e6368e8",
   "metadata": {},
   "outputs": [],
   "source": [
    "a = RunnableParallel({'context': chunk_runnable, 'metadata': metadata_runnable})\n",
    "b = a.invoke(result_list)"
   ]
  },
  {
   "cell_type": "code",
   "execution_count": 106,
   "id": "73a4020c",
   "metadata": {},
   "outputs": [],
   "source": [
    "history = []\n",
    "\n",
    "recontextual_chain = contextual_prompt | llm"
   ]
  },
  {
   "cell_type": "code",
   "execution_count": 95,
   "id": "e40d2572",
   "metadata": {},
   "outputs": [],
   "source": [
    "inputs = ({\n",
    "    **b,\n",
    "    'chat_history': history,\n",
    "    'input': 'Explain transformers',\n",
    "    'question': 'Explain transformers'\n",
    "})"
   ]
  },
  {
   "cell_type": "code",
   "execution_count": 96,
   "id": "444d77a5",
   "metadata": {},
   "outputs": [
    {
     "data": {
      "text/plain": [
       "{'context': '\\nChunk_1:\\n\\nTransformer 52 \\n \\n \\n \\n   Figure 6-3 Shell-type transformers. \\n \\n \\n \\nFigure 6-4 Flux plot: shell-type transformer \\n \\n \\nToroidal transformers exploit the remarkable properties of toroidal coils described in section 3.6. \\nAlthough they are more expensive than shell-type transformers, the performance is better. They are used \\nin high -quality electronic equipment and for instrument transformers (see section 6.3) where \\nmeasurement accuracy is important. Typical toroidal transformers are shown in figure 6-5. \\n \\nFigure 6-5 Toroidal transformers.\\uf020\\n \\n \\n \\n6.2 Transformer Principle: \\nThe action of a transformer is most easily understood if the two coils are wound on opposite sides of a \\nmagnetic core, as shown in the model of figure 6 -6. This form is used for some low -cost transformers, \\nbut the magnetic coupling is not as good as with the shell-type construction. \\n \\n \\nFigure 6-6  Core-type transformer \\n \\n \\n \\nFigure 6 -7 is a schematic representation of the transformer. It will be assumed that the coupling is \\nperfect: the same magnetic flux \\uf066 passes through each turn of each coil. The coil connected to the source \\nis termed the primary, and the coil connected to the load is termed the secondary. It is usual to refer to \\nthe coils as windings.\\n\\n\\n\\nChunk_2:\\n\\n51 Electrical Machines and Systems                                                                                                            \\n \\n6 Transformer \\n6.1 Introduction: \\nA transformer is a practical application of magnetically coupled coils. Usually the purpose is to transfer \\nenergy from one coil to the other, as in figure 6-1 where energy is transferred from the AC source to the \\nlamp through the space between the coils. \\n \\nFigure 6-1 Transformer principle \\nTransformers are essentially AC devices, because there has to be a change of flux to give an induced \\nvoltage in a coil. There are two main reasons for transferring energy in this way: \\n\\uf0b7 To provide electrical isolation between the source and the load. \\n\\uf0b7 To change the voltage and current levels. \\nThe coils are usually placed on a common magnetic core to improve the coupling. Figure 6-2 shows the \\nflux plots for two coupled coils (a) without a core, (b) with an open core, (c) with a closed core \\n \\nFigure 6-2 Effect of a magnetic core: \\n6.1.2 Practical aspects: \\nThe cores for high -frequency transformers are often made from magnetically soft ferrites, which are \\nelectrical insulators. For power frequencies, the cores are made from an iron alloy such as silicon steel.\\n\\n\\n\\nChunk_3:\\n\\n𝑑𝜙\\n𝑑𝑡        (6 − 3) \\n𝑣2 = 𝑅2𝑖2 + 𝑁2\\n𝑑𝜙\\n𝑑𝑡                               (6 − 4) \\nThe sign difference arises from the reference directions for current in the two windings. \\nIf the resistances R1 and R2 are negligible, then equations 6-3 and 6-4 become: \\n𝑣1 ≈ 𝑁1\\n𝑑𝜙\\n𝑑𝑡          (6 − 5) \\n𝑣2 ≈ 𝑁2\\n𝑑𝜙\\n𝑑𝑡         (6 − 6) \\nDividing these equations gives the important result: \\n𝑣1\\n𝑣2\\n≈ 𝑁1\\n𝑁2\\n        (6 − 7) \\nThus, the secondary voltage can be made larger or smaller than the primary voltage by changing the \\nratio of the numbers of turns on the two windings. Voltage transformation is one of the most common \\nuses of transformers, on a large scale in electrical power transmission and distribution, and on a small \\nscale in the power supplies for electronic equipment. \\n6.2.2 Sinusoidal operation: \\nIf the voltage source is sinusoidal, then the core flux will also be sinusoidal, so we may put:\\n\\n\\n\\nChunk_4:\\n\\n𝑽𝒔 = 𝑽𝟏 + 𝑽𝟐 = 𝟐𝑽𝟐 = 𝟐𝑽𝑳        (6 − 22) \\n𝑰𝑳 = 𝑰𝟏 + 𝑰𝟐 = 𝟐𝑰𝟏 = 𝟐𝑰𝑳            (6 − 23) \\nWhere VL is the voltage across the load and IS is the current supplied by the source. This auto-wound \\ntransformer behaves as a step-down transformer with a ratio of 2:1, and the current in each winding is \\nequal to half of the load current. \\nAn elegant application of the auto-wound transformer principle is the variable transformer, which has a \\nsingle-layer coil wound on a toroidal core. The output is taken from a carbon brush that makes contact \\nwith the surface of the coil; the brush can be moved smoothly from one end of the coil to the other, thus \\nvarying the output voltage. Examples of variable transformers are shown in figure 6-10. \\n \\n     \\n      Figure 6-10 Variable transformers. \\n \\n \\n \\n6.3.2 3 Phase Transformer: \\nIn 3 -phase systems, it is common practice to use sets of three single -phase transformers. It is also \\npossible, however, to make 3 -phase transformers with three sets of windings on three limbs of a core, \\nas shown in figure 6-11. \\n \\nFigure 6-11 3-phase transformer model\\n\\n\\n\\nChunk_5:\\n\\n65 Electrical Machines and Systems                                                                                                            \\n6.8 Current Transformers \\nInstrument transformers are special transformers for extending the range of measur ing instruments. \\nThere are two basic types: voltage transformers for measuring high voltages, and current transformers \\nfor measuring high currents. Using transformers for voltage measurement is similar in principle to the \\nordinary use of transformers to ch ange voltage levels, so it will not be considered further. Current \\ntransformers, on the other hand, need special consideration. These are usually toroidal transformers with \\nhigh-quality core material. \\nFigure 6-25 shows a load connected to a source. The primary of a current transformer is in series with \\nthe load, and the secondary is connected to a meter \\n  \\nFigure 6-25 Use of a current transformer \\n \\n \\nEquation 6-19 gives: \\n𝐼𝑀 ≈ 𝑁1\\n𝑁2\\n𝐼𝐿     𝑜𝑟  𝐼𝐿 ≈ 𝑁1\\n𝑁2\\n𝐼𝑀           (6 − 53)\\n\\n\\n\\nChunk_6:\\n\\n31. \\n \\n \\n \\n \\nFigure 6-31 E I laminations \\nThe center limb is twice the width of the outer limbs because it carries twice the flux, as shown by \\nthe flux plot in figure 6-32. \\n \\nFigure 6-32  Flux Plot: Shell type transformer \\nThe coils are wound on a bobbin that fits the center limb of the core, and the core is assembled \\nby inserting E laminations alternately from each side and adding matching I laminations. \\nDimensions are chosen so that two E and two I laminations can be punched from a rectangular steel \\nsheet without any waste. Current flowing in the resistance of the transformer windings will produce \\nheat, which must escape through the surface of the windings. In addition, there will be power loss in \\nthe core, which also appears as heat. \\nThe power output from a given size of transformer is governed by the rate at which heat can be \\nremoved. Large transformers are usually cooled by circulating oil, but small transformers rely on\\n\\n\\n',\n",
       " 'metadata': 'This file uses the following sources:\\n\\nENSC3016_Course_Notes_Part_1_Electromagnetism_Transformers.pdf, pages 52, 51, 53, 56, 65, 69',\n",
       " 'chat_history': [],\n",
       " 'input': 'Explain transformers',\n",
       " 'question': 'Explain transformers'}"
      ]
     },
     "execution_count": 96,
     "metadata": {},
     "output_type": "execute_result"
    }
   ],
   "source": [
    "inputs"
   ]
  },
  {
   "cell_type": "code",
   "execution_count": 109,
   "id": "85dbf73d",
   "metadata": {},
   "outputs": [
    {
     "data": {
      "text/plain": [
       "[HumanMessage(content='Explain transformersz', additional_kwargs={}, response_metadata={}),\n",
       " AIMessage(content='Transformers are practical applications of magnetically coupled coils used to transfer energy from one coil to another. They essentially work as AC devices, transferring energy through a change in flux to induce voltage in a coil. The main reasons for using transformers are to provide electrical isolation between the source and load, as well as to change voltage and current levels.\\n\\nTransformers use a magnetic core to improve coupling between the coils. The cores can be made from materials like magnetically soft ferrites or iron alloys, depending on the frequency of the transformer. High-frequency transformers often use ferrites, while power frequencies use iron alloys.\\n\\nThere are different types of transformers, including shell-type and toroidal transformers. Shell-type transformers have a central limb that carries twice the flux as the outer limbs and are used for small power transformers. Toroidal transformers, on the other hand, are more expensive but offer better performance and are often used in high-quality electronic equipment and instrument transformers.\\n\\nTransformers can be represented schematically with a model showing the primary and secondary coils connected to a magnetic core, where the same flux passes through each turn of each coil. The coils are usually referred to as windings.\\n\\nInformation was pulled from: ENSC3016_Course_Notes_Part_1_Electromagnetism_Transformers.pdf: pages 51, 52;', additional_kwargs={}, response_metadata={}),\n",
       " HumanMessage(content='What materials are they made of?', additional_kwargs={}, response_metadata={}),\n",
       " AIMessage(content='Transformers use magnetically soft ferrites or iron alloys for their magnetic core, depending on the frequency of the transformer. High-frequency transformers often use ferrites, while power frequencies use iron alloys.\\n\\nInformation was pulled from: ENSC3016_Course_Notes_Part_1_Electromagnetism_Transformers.pdf: pages 51;', additional_kwargs={}, response_metadata={}),\n",
       " HumanMessage(content='What practical considerations should I keep in mind?', additional_kwargs={}, response_metadata={}),\n",
       " AIMessage(content='Transformers are practical applications of magnetically coupled coils used to transfer energy from one coil to another. They essentially work as AC devices, transferring energy through a change in flux to induce voltage in a coil. The main reasons for using transformers are to provide electrical isolation between the source and load, as well as to change voltage and current levels.\\n\\nTransformers use a magnetic core to improve coupling between the coils. The cores can be made from materials like magnetically soft ferrites or iron alloys, depending on the frequency of the transformer. High-frequency transformers often use ferrites, while power frequencies use iron alloys.\\n\\nThere are different types of transformers, including shell-type and toroidal transformers. Shell-type transformers have a central limb that carries twice the flux as the outer limbs and are used for small power transformers. Toroidal transformers, on the other hand, are more expensive but offer better performance and are often used in high-quality electronic equipment and instrument transformers.\\n\\nTransformers can be represented schematically with a model showing the primary and secondary coils connected to a magnetic core, where the same flux passes through each turn of each coil. The coils are usually referred to as windings.\\n\\nInformation was pulled from: ENSC3016_Course_Notes_Part_1_Electromagnetism_Transformers.pdf: pages 51, 52;', additional_kwargs={}, response_metadata={}),\n",
       " HumanMessage(content='How do AC machines work?', additional_kwargs={}, response_metadata={}),\n",
       " AIMessage(content='Transformers are practical applications of magnetically coupled coils used to transfer energy from one coil to another. They essentially work as AC devices, transferring energy through a change in flux to induce voltage in a coil.\\n\\nThe main reasons for using transformers are to provide electrical isolation between the source and load, as well as to change voltage and current levels.\\n\\nTransformers use a magnetic core to improve coupling between the coils. The cores can be made from materials like magnetically soft ferrites or iron alloys, depending on the frequency of the transformer. High-frequency transformers often use ferrites, while power frequencies use iron alloys.\\n\\nThere are different types of transformers, including shell-type and toroidal transformers. Shell-type transformers have a central limb that carries twice the flux as the outer limbs and are used for small power transformers. Toroidal transformers, on the other hand, are more expensive but offer better performance and are often used in high-quality electronic equipment and instrument transformers.\\n\\nTransformers can be represented schematically with a model showing the primary and secondary coils connected to a magnetic core, where the same flux passes through each turn of each coil. The coils are usually referred to as windings.\\n\\nInformation was pulled from: ENSC3016_Course_Notes_Part_1_Electromagnetism_Transformers.pdf: pages 51, 52;', additional_kwargs={}, response_metadata={}),\n",
       " HumanMessage(content='No how do AC machines work?', additional_kwargs={}, response_metadata={}),\n",
       " AIMessage(content='I cannot answer this question because the necessary information was not found in the provided documents.\\n\\nInformation was pulled from: ENSC3016_Course_Notes_Part_2_Electric_Machines.pdf: pages 4, 49;', additional_kwargs={}, response_metadata={}),\n",
       " HumanMessage(content='How do DC machines work?', additional_kwargs={}, response_metadata={}),\n",
       " AIMessage(content='1. What materials are transformers made of?\\nTransformers use magnetically soft ferrites or iron alloys for their magnetic core.\\n\\n2. Practical considerations when using transformers:\\nThe main reasons for using transformers are to provide electrical isolation between the source and load, as well as to change voltage and current levels.\\n\\n3. How do AC machines work?\\nAC machines transfer energy through a change in flux to induce voltage in a coil.\\n\\n4. How do DC machines work? \\nNo information was found on this topic in the provided documents.\\n\\nInformation was pulled from: ENSC3016_Course_Notes_Part_1_Electromagnetism_Transformers.pdf: pages 51, 52;', additional_kwargs={}, response_metadata={})]"
      ]
     },
     "execution_count": 109,
     "metadata": {},
     "output_type": "execute_result"
    }
   ],
   "source": [
    "history"
   ]
  },
  {
   "cell_type": "code",
   "execution_count": 42,
   "id": "6f0bf884",
   "metadata": {},
   "outputs": [],
   "source": [
    "from langchain_core.chat_history import BaseChatMessageHistory\n",
    "from langchain_community.chat_message_histories import ChatMessageHistory\n",
    "from langchain_core.runnables.history import RunnableWithMessageHistory\n",
    "\n",
    "store = {}\n",
    "\n",
    "def get_session_history(session_id: str) -> BaseChatMessageHistory:\n",
    "    if session_id not in store:\n",
    "        store[session_id] = ChatMessageHistory()\n",
    "    return store[session_id]"
   ]
  },
  {
   "cell_type": "code",
   "execution_count": 110,
   "id": "3b79c041",
   "metadata": {},
   "outputs": [],
   "source": [
    "history_aware_chain = RunnableWithMessageHistory(\n",
    "    chain,\n",
    "    get_session_history=get_session_history,\n",
    "    input_messages_key=\"input\",\n",
    "    history_messages_key=\"chat_history\"\n",
    ")"
   ]
  },
  {
   "cell_type": "code",
   "execution_count": 116,
   "id": "48cde28e",
   "metadata": {},
   "outputs": [
    {
     "data": {
      "text/plain": [
       "[]"
      ]
     },
     "execution_count": 116,
     "metadata": {},
     "output_type": "execute_result"
    }
   ],
   "source": [
    "get_session_history('17egw2737').messages"
   ]
  },
  {
   "cell_type": "code",
   "execution_count": null,
   "id": "c7519c19",
   "metadata": {},
   "outputs": [],
   "source": [
    "import uuid\n",
    "\n",
    "def temp_pipeline():\n",
    "\n",
    "    session_id = str(uuid.uuid4())[:8]\n",
    "    print(f\"Session ID: {session_id}\")\n",
    "    \n",
    "    history = get_session_history(session_id)\n",
    "\n",
    "    print(f\"\\nModel {MODEL_NAME} has been initiated with memory. Please feel free to ask questions or type 'exit' to quit.\")\n",
    "    while True:\n",
    "\n",
    "        user_input = input(\"You: \")\n",
    "        if user_input.lower() in [\"exit\", \"quit\"]:\n",
    "            print(\"Session ended. Have a good day.\")\n",
    "            break\n",
    "        \n",
    "        recontextual_chain = contextual_prompt | llm\n",
    "        rephrased_question = recontextual_chain.invoke(\n",
    "            {'chat_history': history.messages,\n",
    "             'input': user_input})\n",
    "        \n",
    "        print(rephrased_question)\n",
    "\n",
    "        context_injection = (ensemble_retriever | RunnableParallel({'context': chunk_runnable, 'metadata': metadata_runnable})).invoke(rephrased_question)\n",
    "\n",
    "        print(\"Context:\\n\", context_injection['context'])  # Preview the first 500 chars\n",
    "        print(\"Metadata:\\n\", context_injection['metadata'])\n",
    "        \n",
    "        response = history_aware_chain.invoke(\n",
    "            {**context_injection,\n",
    "            'input': user_input,\n",
    "            'question': rephrased_question},\n",
    "            config={\"configurable\": {\"session_id\": session_id}}\n",
    "        )\n",
    "        \n",
    "        print(f\"LLM: {response}\\n\")"
   ]
  },
  {
   "cell_type": "code",
   "execution_count": 126,
   "id": "0653b7f0",
   "metadata": {},
   "outputs": [
    {
     "name": "stdout",
     "output_type": "stream",
     "text": [
      "Session ID: 3253ba96\n",
      "\n",
      "Model llama3.2 has been initiated with memory. Please feel free to ask questions or type 'exit' to quit.\n",
      "Here's a reformulated version of the question:\n",
      "\n",
      "What are transformers?\n",
      "Context:\n",
      " \n",
      "Chunk_1:\n",
      "\n",
      "6.1.2 Practical aspects: \n",
      "The cores for high -frequency transformers are often made from magnetically soft ferrites, which are \n",
      "electrical insulators. For power frequencies, the cores are made from an iron alloy such as silicon steel. \n",
      "These materials have better magnetic properties than ferrites, but they are also electrical conductors. If \n",
      "the core were made of solid steel, currents – known as eddy currents – would be induced in the core by \n",
      "the alternating magnetic flux.  Steel tra\n",
      "Metadata:\n",
      " This file uses the following sources:\n",
      "\n",
      "ENSC3016_Course_Notes_Part_1_Electromagnetism_Transformers.pdf, pages 51, 52, 1\n",
      "\n",
      "ENSC3016 Study Guide 1-Review of Circuit Fundamentals.pdf, pages 15, 14, 13\n",
      "\n",
      "ENSC3016_Course_Notes_Part_2_Electric_Machines.pdf, pages 12\n",
      "LLM: Transformers are practical applications of magnetically coupled coils that transfer energy from one coil to another. The primary purpose of a transformer is to provide electrical isolation between the source and the load, as well as to change the voltage and current levels.\n",
      "\n",
      "In a transformer, two coils are wound on opposite sides of a magnetic core, with the same magnetic flux passing through each turn of each coil. The coil connected to the source is termed the primary, while the coil connected to the load is termed the secondary. Transformers can be classified into different types, including shell-type transformers and toroidal transformers.\n",
      "\n",
      "The action of a transformer can be understood using a model where the two coils are wound on opposite sides of a magnetic core. This form is used for some low-cost transformers, but it results in less efficient magnetic coupling compared to other forms.\n",
      "\n",
      "Transformers have several key features that make them useful in electrical systems. They allow for the transfer of energy between circuits while maintaining electrical isolation, and they can also be used to change the voltage and current levels. The design and construction of transformers can vary depending on the specific application and requirements.\n",
      "\n",
      "In summary, transformers are devices that use magnetically coupled coils to transfer energy from one coil to another, providing electrical isolation and allowing for changes in voltage and current levels.\n",
      "\n",
      "Information was pulled from: ENSC3016_Course_Notes_Part_1_Electromagnetism_Transformers.pdf: pages 51, 52;\n",
      "\n",
      "Session ended. Have a good day.\n"
     ]
    }
   ],
   "source": [
    "temp_pipeline()"
   ]
  },
  {
   "cell_type": "code",
   "execution_count": 43,
   "id": "0ea87155",
   "metadata": {},
   "outputs": [],
   "source": [
    "recontextualiser_chain = contextual_prompt | llm\n",
    "recontextualizer = RunnableWithMessageHistory(recontextualiser_chain, get_session_history)"
   ]
  },
  {
   "cell_type": "code",
   "execution_count": 44,
   "id": "984746ac",
   "metadata": {},
   "outputs": [
    {
     "data": {
      "text/plain": [
       "langchain_core.runnables.history.RunnableWithMessageHistory"
      ]
     },
     "execution_count": 44,
     "metadata": {},
     "output_type": "execute_result"
    }
   ],
   "source": [
    "type(recontextualizer)"
   ]
  },
  {
   "cell_type": "code",
   "execution_count": 51,
   "id": "75e00e07",
   "metadata": {},
   "outputs": [],
   "source": [
    "from langchain_core.output_parsers import StrOutputParser\n",
    "\n",
    "rephrase_chain = contextual_prompt | llm | StrOutputParser()"
   ]
  },
  {
   "cell_type": "code",
   "execution_count": null,
   "id": "20c3a5ec",
   "metadata": {},
   "outputs": [
    {
     "data": {
      "text/plain": [
       "'No rephrasing is needed; the question remains:\\n\\nWhat materials are transformers made of?'"
      ]
     },
     "execution_count": 57,
     "metadata": {},
     "output_type": "execute_result"
    }
   ],
   "source": [
    "rephrase_chain.invoke(\n",
    "    {'chat_history': [answer1],\n",
    "     'input': \"What materials are they made of?\"}\n",
    ")"
   ]
  },
  {
   "cell_type": "code",
   "execution_count": 58,
   "id": "611d6c1a",
   "metadata": {},
   "outputs": [
    {
     "data": {
      "text/plain": [
       "str"
      ]
     },
     "execution_count": 58,
     "metadata": {},
     "output_type": "execute_result"
    }
   ],
   "source": [
    "type(answer1)"
   ]
  },
  {
   "cell_type": "code",
   "execution_count": null,
   "id": "da887c74",
   "metadata": {},
   "outputs": [],
   "source": [
    "import uuid\n",
    "\n",
    "def pipeline(llm = llm):\n",
    "\n",
    "    session_id = uuid.uuid4()[:8]\n",
    "    print(f\"\\nModel {MODEL_NAME} with {session_id} has been initiated with memory. Please feel free to ask questions or type 'exit' to quit.\")\n",
    "\n",
    "    while True:\n",
    "\n",
    "        user_input = input(\"You: \")\n",
    "        if user_input.lower() in [\"exit\", \"quit\"]:\n",
    "            print(\"Session ended. Have a good day.\")\n",
    "            break\n",
    "\n",
    "        reframed_question = recontextualizer.invoke(user_input, session_id)\n",
    "        retrieved_docs = ensemble_retriever.invoke(reframed_question)\n",
    "        context = content_parser(retrieved_docs)\n",
    "        assoc_metadata = metadata_parser(retrieved_docs)\n",
    "\n",
    "        chain.invoke(\n",
    "            {\"context\": context,\n",
    "            \"metadata\": assoc_metadata,\n",
    "            \"input\": reframed_question,\n",
    "            \"question\": reframed_question}\n",
    "        )"
   ]
  },
  {
   "cell_type": "code",
   "execution_count": null,
   "id": "60970420",
   "metadata": {},
   "outputs": [],
   "source": [
    "type(chain)"
   ]
  },
  {
   "cell_type": "code",
   "execution_count": null,
   "id": "3f193656",
   "metadata": {},
   "outputs": [],
   "source": [
    "pipeline()"
   ]
  }
 ],
 "metadata": {
  "kernelspec": {
   "display_name": "RAG_Project",
   "language": "python",
   "name": "python3"
  },
  "language_info": {
   "codemirror_mode": {
    "name": "ipython",
    "version": 3
   },
   "file_extension": ".py",
   "mimetype": "text/x-python",
   "name": "python",
   "nbconvert_exporter": "python",
   "pygments_lexer": "ipython3",
   "version": "3.11.11"
  }
 },
 "nbformat": 4,
 "nbformat_minor": 5
}
